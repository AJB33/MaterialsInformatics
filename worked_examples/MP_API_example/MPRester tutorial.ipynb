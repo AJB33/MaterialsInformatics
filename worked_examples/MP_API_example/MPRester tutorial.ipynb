{
 "cells": [
  {
   "cell_type": "markdown",
   "id": "9009686e",
   "metadata": {},
   "source": [
    "Reminder, when running this example I need to open cmd line for miniconda since that's where I installed pymatgen module. From cmd line the following command \"conda activate my_pymatgen\" will open the environment followed by \"Jupyter Notebook\" to open the Jupyter platform."
   ]
  },
  {
   "cell_type": "code",
   "execution_count": 1,
   "id": "2eebaf36",
   "metadata": {},
   "outputs": [],
   "source": [
    "Sparks_API = 'XXXXX' #put your API here"
   ]
  },
  {
   "cell_type": "code",
   "execution_count": 2,
   "id": "1d77b8fa",
   "metadata": {},
   "outputs": [],
   "source": [
    "import pandas as pd\n",
    "from pymatgen.ext.matproj import MPRester\n",
    "import os\n",
    "\n",
    "filename = r'C:\\Users\\taylo\\Google Drive\\teaching\\5050 Materials Informatics\\apikey.txt'\n",
    "\n",
    "def get_file_contents(filename):\n",
    "    try:\n",
    "        with open(filename, 'r') as f:\n",
    "            # It's assumed our file contains a single line,\n",
    "            # with our API key\n",
    "            return f.read().strip()\n",
    "    except FileNotFoundError:\n",
    "        print(\"'%s' file not found\" % filename)\n",
    "\n",
    "\n",
    "Sparks_API = get_file_contents(filename)"
   ]
  },
  {
   "cell_type": "code",
   "execution_count": 3,
   "id": "196ccba8",
   "metadata": {
    "scrolled": true
   },
   "outputs": [
    {
     "name": "stdout",
     "output_type": "stream",
     "text": [
      "Silicon has atomic mass of: 28.0855 amu\n"
     ]
    }
   ],
   "source": [
    "import pymatgen.core as mg\n",
    "si = mg.Element(\"Si\")\n",
    "print('Silicon has atomic mass of:', si.atomic_mass)"
   ]
  },
  {
   "cell_type": "markdown",
   "id": "2dd82d4d",
   "metadata": {},
   "source": [
    "It's possible to access Materials Project data by using your browser, the mp ID, and your API key just like this https://www.materialsproject.org/rest/v2/materials/mp-2680/vasp?API_KEY=XXXXX\n",
    "returns the following JSON document\n",
    "{\"response\": [{\"energy\": -48.94792879, \"energy_per_atom\": -6.9925612557142856, \"volume\": 71.72632689757516, \"formation_energy_per_atom\": -0.5622244371428563, \"nsites\": 7, \"unit_cell_formula\": {\"La\": 1.0, \"B\": 6.0}, \"pretty_formula\": \"LaB6\", \"is_hubbard\": false, \"elements\": [\"La\", \"B\"], \"nelements\": 2, \"e_above_hull\": 0, \"hubbards\": {}, \"is_compatible\": true, \"spacegroup\": {\"symprec\": 0.1, \"source\": \"spglib\", \"symbol\": \"Pm-3m\", \"number\": 221, \"point_group\": \"m-3m\", \"crystal_system\": \"cubic\", \"hall\": \"-P 4 2 3\"}, \"task_ids\": [\"mp-1000438\", \"mp-1006911\", \"mp-2680\", \"mp-1077871\", \"mp-1440725\", \"mp-1686762\", \"mp-1783571\", \"mp-1011642\", \"mp-1595462\", \"mp-1596563\"], \"band_gap\": 0.0, \"density\": 4.71752146288909, \"icsd_id\": null, \"icsd_ids\": [194636, 152466, 614585, 614606, 602780, 614603, 614594, 614614, 614590, 614595, 614610, 165970, 40947, 614608, 614592, 614601, 614588, 659491, 614615, 614612], \"cif\": \"# generated using pymatgen\\ndata_LaB6\\n_symmetry_space_group_name_H-M   'P 1'\\n_cell_length_a   4.15489000\\n_cell_length_b   4.15489000\\n_cell_length_c   4.15489000\\n_cell_angle_alpha   90.00000000\\n_cell_angle_beta   90.00000000\\n_cell_angle_gamma   90.00000000\\n_symmetry_Int_Tables_number   1\\n_chemical_formula_structural   LaB6\\n_chemical_formula_sum   'La1 B6'\\n_cell_volume   71.72632690\\n_cell_formula_units_Z   1\\nloop_\\n _symmetry_equiv_pos_site_id\\n _symmetry_equiv_pos_as_xyz\\n  1  'x, y, z'\\nloop_\\n _atom_site_type_symbol\\n _atom_site_label\\n _atom_site_symmetry_multiplicity\\n _atom_site_fract_x\\n _atom_site_fract_y\\n _atom_site_fract_z\\n _atom_site_occupancy\\n  La  La0  1  0.00000000  0.00000000  0.00000000  1\\n  B  B1  1  0.80041500  0.50000000  0.50000000  1\\n  B  B2  1  0.19958500  0.50000000  0.50000000  1\\n  B  B3  1  0.50000000  0.50000000  0.80041500  1\\n  B  B4  1  0.50000000  0.50000000  0.19958500  1\\n  B  B5  1  0.50000000  0.19958500  0.50000000  1\\n  B  B6  1  0.50000000  0.80041500  0.50000000  1\\n\", \"total_magnetization\": 0.0007286, \"material_id\": \"mp-2680\", \"oxide_type\": \"None\", \"tags\": [\"Lanhanum octahedro-hexaboride\", \"Lanthanum octahedro-hexaboride\", \"Lanthanum hexaboride\", \"Lanthanum boride (1/6)\"], \"elasticity\": {\"G_Reuss\": 117.0, \"G_VRH\": 130.0, \"G_Voigt\": 143.0, \"G_Voigt_Reuss_Hill\": 130.0, \"K_Reuss\": 174.0, \"K_VRH\": 174.0, \"K_Voigt\": 174.0, \"K_Voigt_Reuss_Hill\": 174.0, \"elastic_anisotropy\": 1.1, \"elastic_tensor\": [[473.0, 24.0, 24.0, 0.0, 0.0, 0.0], [24.0, 473.0, 24.0, 0.0, 0.0, 0.0], [24.0, 24.0, 473.0, 0.0, 0.0, 0.0], [0.0, 0.0, 0.0, 89.0, 0.0, 0.0], [0.0, 0.0, 0.0, 0.0, 89.0, 0.0], [0.0, 0.0, 0.0, 0.0, 0.0, 89.0]], \"homogeneous_poisson\": 0.2, \"poisson_ratio\": 0.2, \"universal_anisotropy\": 1.1, \"elastic_tensor_original\": [[473.07605520320783, 24.20833995274068, 24.20833995274068, 0.0, 0.0, 0.0], [24.33087325516945, 473.2050395896117, 24.33087325516945, 0.0, 0.0, 0.0], [24.20780703602939, 24.20780703602939, 473.0753381803691, 0.0, 0.0, 0.0], [-0.0025398941226581167, 1.9465732977357927e-06, -0.00023406705148199615, 89.00055205298544, 0.0, 0.0], [0.00023430375059919198, 0.0003406539862257426, 0.0002107137478070126, 0.0, 88.99810634561159, 0.0], [0.0006773776839176731, 0.0008217978341671053, 0.0006836276102592942, 0.0, 0.0, 88.99842157309028]], \"compliance_tensor\": [[2.1, -0.1, -0.1, 0.0, 0.0, 0.0], [-0.1, 2.1, -0.1, 0.0, -0.0, 0.0], [-0.1, -0.1, 2.1, 0.0, -0.0, -0.0], [0.0, 0.0, 0.0, 11.2, 0.0, 0.0], [0.0, -0.0, -0.0, 0.0, 11.2, 0.0], [0.0, 0.0, -0.0, 0.0, 0.0, 11.2]], \"warnings\": [\"Contains a rare earth element\"], \"nsites\": 7}, \"piezo\": null, \"diel\": null, \"deprecated\": false, \"full_formula\": \"La1B6\"}], \"valid_response\": true, \"created_at\": \"2021-07-13T15:13:41.269481\", \"version\": {\"db\": \"2021_05_13\", \"pymatgen\": \"2022.0.8\", \"rest\": \"2.0\"}, \"copyright\": \"Materials Project, 2021\"}\n",
    "{\"mode\":\"full\",\"isActive\":false}"
   ]
  },
  {
   "cell_type": "code",
   "execution_count": 4,
   "id": "031ee0bf",
   "metadata": {},
   "outputs": [
    {
     "name": "stdout",
     "output_type": "stream",
     "text": [
      "{\"valid_response\": false, \"error\": \"API_KEY is not supplied.\", \"version\": {\"db\": \"2020_09_08\", \"pymatgen\": \"2022.0.8\", \"rest\": \"2.0\"}, \"created_at\": \"2022-06-08T12:16:15.735829\"}\n"
     ]
    }
   ],
   "source": [
    "import requests\n",
    "response = requests.get('https://www.materialsproject.org/rest/v2/materials/mp-2680/vasp', \n",
    "                        {'API_KEY': Sparks_API})\n",
    "\n",
    "print(response.text)"
   ]
  },
  {
   "cell_type": "markdown",
   "id": "1814367f",
   "metadata": {},
   "source": [
    "Great resource for exploring the API architecture is the mapidoc https://github.com/materialsproject/mapidoc\n",
    "You will also need to read up on MPRester to learn how to use API https://pymatgen.org/pymatgen.ext.matproj.html"
   ]
  },
  {
   "cell_type": "code",
   "execution_count": 5,
   "id": "0a53e08d",
   "metadata": {
    "scrolled": true
   },
   "outputs": [
    {
     "name": "stdout",
     "output_type": "stream",
     "text": [
      "All compounds in the Ta-C system are:  ['mp-611448', 'mp-1097832', 'mp-1205283', 'mp-24', 'mp-1078845', 'mp-1244913', 'mp-1008374', 'mp-579909', 'mp-1181996', 'mp-1194362', 'mp-1188817', 'mp-1182684', 'mp-1197903', 'mp-568286', 'mp-683919', 'mp-1008395', 'mp-569416', 'mp-568806', 'mp-606949', 'mp-611426', 'mp-1147718', 'mp-570002', 'mp-616440', 'mp-1018088', 'mp-1040425', 'mp-937760', 'mp-990448', 'mp-1096869', 'mp-568028', 'mp-66', 'mp-997182', 'mp-1080826', 'mp-1203645', 'mp-1182029', 'mp-998866', 'mp-47', 'mp-630227', 'mp-1205417', 'mp-1244964', 'mp-569517', 'mp-1095534', 'mp-1196583', 'mp-680372', 'mp-169', 'mp-624889', 'mp-1245190', 'mp-667273', 'mp-568363', 'mp-1056957', 'mp-569304', 'mp-568410', 'mp-569567', 'mp-48', 'mp-1095633', 'mp-632329', 'mp-990424', 'mp-1190171', 'mp-1192619', 'mp-1009835', 'mp-1025192', 'mp-1009832', 'mp-1218120', 'mp-1218000', 'mp-1086', 'mp-7088', 'mp-1009817', 'mp-1187218', 'mp-6986', 'mp-569794', 'mp-42', 'mp-1076923', 'mp-50', 'mp-697196', 'mp-1217756', 'mp-1095086']\n"
     ]
    }
   ],
   "source": [
    "from pymatgen.ext.matproj import MPRester\n",
    "\n",
    "with MPRester(Sparks_API) as mpr:\n",
    "    list_ids = mpr.get_materials_ids(\"TaC\")\n",
    "    print('All compounds in the Ta-C system are: ', mpr.get_materials_ids('Ta-C'))"
   ]
  },
  {
   "cell_type": "markdown",
   "id": "9eda7269",
   "metadata": {},
   "source": [
    "Or we can pull data from a specific materials project id"
   ]
  },
  {
   "cell_type": "code",
   "execution_count": 6,
   "id": "e18bf54d",
   "metadata": {},
   "outputs": [
    {
     "name": "stdout",
     "output_type": "stream",
     "text": [
      "Full Formula (Ta1 C1)\n",
      "Reduced Formula: TaC\n",
      "abc   :   2.797247   2.797247   2.797247\n",
      "angles:  90.000000  90.000000  90.000000\n",
      "Sites (2)\n",
      "  #  SP      a    b    c    magmom\n",
      "---  ----  ---  ---  ---  --------\n",
      "  0  Ta    0    0    0       0.001\n",
      "  1  C     0.5  0.5  0.5    -0.001\n",
      "Full Formula (Ta1 C1)\n",
      "Reduced Formula: TaC\n",
      "abc   :   3.421388   3.421388   3.421388\n",
      "angles:  60.000000  60.000000  60.000000\n",
      "Sites (2)\n",
      "  #  SP       a     b     c    magmom\n",
      "---  ----  ----  ----  ----  --------\n",
      "  0  Ta    0     0     0            0\n",
      "  1  C     0.25  0.25  0.25        -0\n",
      "Full Formula (Ta1 C1)\n",
      "Reduced Formula: TaC\n",
      "abc   :   3.169306   3.169306   3.169306\n",
      "angles:  60.000000  60.000000  60.000000\n",
      "Sites (2)\n",
      "  #  SP      a    b    c    magmom\n",
      "---  ----  ---  ---  ---  --------\n",
      "  0  Ta    0    0    0          -0\n",
      "  1  C     0.5  0.5  0.5         0\n",
      "Full Formula (Ta1 C1)\n",
      "Reduced Formula: TaC\n",
      "abc   :   3.057398   3.057398   2.880879\n",
      "angles:  90.000000  90.000000 119.999994\n",
      "Sites (2)\n",
      "  #  SP           a         b    c    magmom\n",
      "---  ----  --------  --------  ---  --------\n",
      "  0  Ta    0.666667  0.333333  0       0.016\n",
      "  1  C     0         0         0.5    -0\n",
      "Full Formula (Ta1 C1)\n",
      "Reduced Formula: TaC\n",
      "abc   :   3.169306   3.169306   3.169306\n",
      "angles:  60.000000  60.000000  60.000000\n",
      "Sites (2)\n",
      "  #  SP      a    b    c    magmom\n",
      "---  ----  ---  ---  ---  --------\n",
      "  0  Ta    0    0    0          -0\n",
      "  1  C     0.5  0.5  0.5         0\n",
      "17.55140979\n"
     ]
    }
   ],
   "source": [
    "for i_d in list_ids:\n",
    "    with MPRester(Sparks_API) as mpr:\n",
    "        structure = mpr.get_structure_by_material_id(i_d)\n",
    "        print(structure)\n",
    "\n",
    "\n",
    "with MPRester(Sparks_API) as mpr:\n",
    "    structure = mpr.get_structure_by_material_id('mp-1086')\n",
    "    print(structure)\n",
    "    cohesive_energy = mpr.get_cohesive_energy('mp-1086')\n",
    "    print(cohesive_energy)\n"
   ]
  },
  {
   "cell_type": "markdown",
   "id": "dd8281c3",
   "metadata": {},
   "source": [
    "We can search for a materials project entry using a cif card"
   ]
  },
  {
   "cell_type": "code",
   "execution_count": 7,
   "id": "94a62b76",
   "metadata": {},
   "outputs": [
    {
     "name": "stdout",
     "output_type": "stream",
     "text": [
      "['mp-2680']\n"
     ]
    }
   ],
   "source": [
    "import os\n",
    "mpr = MPRester(Sparks_API)\n",
    "ciffile = os.path.join('lab6.cif')\n",
    "data1 = mpr.find_structure(ciffile)\n",
    "print(data1)"
   ]
  },
  {
   "cell_type": "markdown",
   "id": "0960cfb1",
   "metadata": {},
   "source": [
    "How do we do queries though? What if we want to find all carbides having either Ta, Nb, or W?\n",
    "We need to use the MPRester.query method!\n",
    "This uses MongoDB's query syntax  --> mpr.query(criteria, properties)"
   ]
  },
  {
   "cell_type": "code",
   "execution_count": 8,
   "id": "0b791e6b",
   "metadata": {},
   "outputs": [
    {
     "data": {
      "text/plain": [
       "[{'material_id': 'mp-557591'},\n",
       " {'material_id': 'mp-557653'},\n",
       " {'material_id': 'mp-639733'},\n",
       " {'material_id': 'mp-1249090'},\n",
       " {'material_id': 'mp-554151'},\n",
       " {'material_id': 'mp-560809'},\n",
       " {'material_id': 'mp-600068'},\n",
       " {'material_id': 'mp-560973'},\n",
       " {'material_id': 'mp-1204057'},\n",
       " {'material_id': 'mp-639478'},\n",
       " {'material_id': 'mp-554267'},\n",
       " {'material_id': 'mp-1256499'},\n",
       " {'material_id': 'mp-559273'},\n",
       " {'material_id': 'mp-600045'},\n",
       " {'material_id': 'mp-600054'},\n",
       " {'material_id': 'mp-600063'},\n",
       " {'material_id': 'mp-667368'},\n",
       " {'material_id': 'mp-6930'},\n",
       " {'material_id': 'mp-559550'},\n",
       " {'material_id': 'mp-562490'},\n",
       " {'material_id': 'mp-639705'},\n",
       " {'material_id': 'mp-1194828'},\n",
       " {'material_id': 'mp-559605'},\n",
       " {'material_id': 'mp-558947'},\n",
       " {'material_id': 'mp-600051'},\n",
       " {'material_id': 'mp-557873'},\n",
       " {'material_id': 'mp-561291'},\n",
       " {'material_id': 'mp-667383'},\n",
       " {'material_id': 'mp-554089'},\n",
       " {'material_id': 'mp-555823'},\n",
       " {'material_id': 'mp-600018'},\n",
       " {'material_id': 'mp-600026'},\n",
       " {'material_id': 'mp-556464'},\n",
       " {'material_id': 'mp-560155'},\n",
       " {'material_id': 'mp-600096'},\n",
       " {'material_id': 'mp-1257168'},\n",
       " {'material_id': 'mp-530027'},\n",
       " {'material_id': 'mp-1195265'},\n",
       " {'material_id': 'mp-7905'},\n",
       " {'material_id': 'mp-600041'},\n",
       " {'material_id': 'mp-556376'},\n",
       " {'material_id': 'mp-667371'},\n",
       " {'material_id': 'mp-1179529'},\n",
       " {'material_id': 'mp-600005'},\n",
       " {'material_id': 'mp-558025'},\n",
       " {'material_id': 'mp-554682'},\n",
       " {'material_id': 'mp-1265115'},\n",
       " {'material_id': 'mp-639558'},\n",
       " {'material_id': 'mp-553945'},\n",
       " {'material_id': 'mp-558598'},\n",
       " {'material_id': 'mp-557024'},\n",
       " {'material_id': 'mp-557211'},\n",
       " {'material_id': 'mp-1063118'},\n",
       " {'material_id': 'mp-558351'},\n",
       " {'material_id': 'mp-1021503'},\n",
       " {'material_id': 'mp-558115'},\n",
       " {'material_id': 'mp-667377'},\n",
       " {'material_id': 'mp-1179488'},\n",
       " {'material_id': 'mp-556068'},\n",
       " {'material_id': 'mp-557465'},\n",
       " {'material_id': 'mp-560131'},\n",
       " {'material_id': 'mp-680222'},\n",
       " {'material_id': 'mp-638035'},\n",
       " {'material_id': 'mp-18280'},\n",
       " {'material_id': 'mp-685184'},\n",
       " {'material_id': 'mp-667373'},\n",
       " {'material_id': 'mp-559860'},\n",
       " {'material_id': 'mp-561301'},\n",
       " {'material_id': 'mp-558733'},\n",
       " {'material_id': 'mp-600024'},\n",
       " {'material_id': 'mp-10064'},\n",
       " {'material_id': 'mp-667448'},\n",
       " {'material_id': 'mp-555544'},\n",
       " {'material_id': 'mp-546546'},\n",
       " {'material_id': 'mp-556812'},\n",
       " {'material_id': 'mp-600078'},\n",
       " {'material_id': 'mp-638033'},\n",
       " {'material_id': 'mp-6945'},\n",
       " {'material_id': 'mp-1258196'},\n",
       " {'material_id': 'mp-1268079'},\n",
       " {'material_id': 'mp-600080'},\n",
       " {'material_id': 'mp-7000'},\n",
       " {'material_id': 'mp-1179454'},\n",
       " {'material_id': 'mp-985590'},\n",
       " {'material_id': 'mp-556469'},\n",
       " {'material_id': 'mp-600001'},\n",
       " {'material_id': 'mp-600028'},\n",
       " {'material_id': 'mp-600111'},\n",
       " {'material_id': 'mp-9258'},\n",
       " {'material_id': 'mp-644923'},\n",
       " {'material_id': 'mp-1244965'},\n",
       " {'material_id': 'mp-559360'},\n",
       " {'material_id': 'mp-667376'},\n",
       " {'material_id': 'mp-32667'},\n",
       " {'material_id': 'mp-557814'},\n",
       " {'material_id': 'mp-16964'},\n",
       " {'material_id': 'mp-685105'},\n",
       " {'material_id': 'mp-558564'},\n",
       " {'material_id': 'mp-639748'},\n",
       " {'material_id': 'mp-8602'},\n",
       " {'material_id': 'mp-10948'},\n",
       " {'material_id': 'mp-558891'},\n",
       " {'material_id': 'mp-600084'},\n",
       " {'material_id': 'mp-558931'},\n",
       " {'material_id': 'mp-640917'},\n",
       " {'material_id': 'mp-555165'},\n",
       " {'material_id': 'mp-17909'},\n",
       " {'material_id': 'mp-559962'},\n",
       " {'material_id': 'mp-683970'},\n",
       " {'material_id': 'mp-7648'},\n",
       " {'material_id': 'mp-1205213'},\n",
       " {'material_id': 'mp-558366'},\n",
       " {'material_id': 'mp-600049'},\n",
       " {'material_id': 'mp-556985'},\n",
       " {'material_id': 'mp-557894'},\n",
       " {'material_id': 'mp-651707'},\n",
       " {'material_id': 'mp-556088'},\n",
       " {'material_id': 'mp-1199711'},\n",
       " {'material_id': 'mp-557134'},\n",
       " {'material_id': 'mp-1249969'},\n",
       " {'material_id': 'mp-555483'},\n",
       " {'material_id': 'mp-683947'},\n",
       " {'material_id': 'mp-559347'},\n",
       " {'material_id': 'mp-559928'},\n",
       " {'material_id': 'mp-557881'},\n",
       " {'material_id': 'mp-600007'},\n",
       " {'material_id': 'mp-639506'},\n",
       " {'material_id': 'mp-17279'},\n",
       " {'material_id': 'mp-32761'},\n",
       " {'material_id': 'mp-559872'},\n",
       " {'material_id': 'mp-600057'},\n",
       " {'material_id': 'mp-639512'},\n",
       " {'material_id': 'mp-1208867'},\n",
       " {'material_id': 'mp-1250551'},\n",
       " {'material_id': 'mp-1071820'},\n",
       " {'material_id': 'mp-600072'},\n",
       " {'material_id': 'mp-600060'},\n",
       " {'material_id': 'mp-639695'},\n",
       " {'material_id': 'mp-600055'},\n",
       " {'material_id': 'mp-646895'},\n",
       " {'material_id': 'mp-600031'},\n",
       " {'material_id': 'mp-545488'},\n",
       " {'material_id': 'mp-615993'},\n",
       " {'material_id': 'mp-556218'},\n",
       " {'material_id': 'mp-600067'},\n",
       " {'material_id': 'mp-32881'},\n",
       " {'material_id': 'mp-558326'},\n",
       " {'material_id': 'mp-555791'},\n",
       " {'material_id': 'mp-561181'},\n",
       " {'material_id': 'mp-600016'},\n",
       " {'material_id': 'mp-600109'},\n",
       " {'material_id': 'mp-1248957'},\n",
       " {'material_id': 'mp-555891'},\n",
       " {'material_id': 'mp-560941'},\n",
       " {'material_id': 'mp-1200292'},\n",
       " {'material_id': 'mp-559829'},\n",
       " {'material_id': 'mp-7087'},\n",
       " {'material_id': 'mp-1245026'},\n",
       " {'material_id': 'mp-1256614'},\n",
       " {'material_id': 'mp-554665'},\n",
       " {'material_id': 'mp-559389'},\n",
       " {'material_id': 'mp-600015'},\n",
       " {'material_id': 'mp-557194'},\n",
       " {'material_id': 'mp-985570'},\n",
       " {'material_id': 'mp-557017'},\n",
       " {'material_id': 'mp-600038'},\n",
       " {'material_id': 'mp-1249332'},\n",
       " {'material_id': 'mp-555235'},\n",
       " {'material_id': 'mp-554543'},\n",
       " {'material_id': 'mp-558569'},\n",
       " {'material_id': 'mp-600033'},\n",
       " {'material_id': 'mp-556961'},\n",
       " {'material_id': 'mp-530546'},\n",
       " {'material_id': 'mp-558200'},\n",
       " {'material_id': 'mp-639734'},\n",
       " {'material_id': 'mp-555497'},\n",
       " {'material_id': 'mp-600091'},\n",
       " {'material_id': 'mp-560203'},\n",
       " {'material_id': 'mp-11684'},\n",
       " {'material_id': 'mp-556319'},\n",
       " {'material_id': 'mp-560826'},\n",
       " {'material_id': 'mp-553993'},\n",
       " {'material_id': 'mp-553881'},\n",
       " {'material_id': 'mp-561090'},\n",
       " {'material_id': 'mp-600002'},\n",
       " {'material_id': 'mp-557771'},\n",
       " {'material_id': 'mp-639463'},\n",
       " {'material_id': 'mp-556257'},\n",
       " {'material_id': 'mp-600006'},\n",
       " {'material_id': 'mp-600023'},\n",
       " {'material_id': 'mp-653763'},\n",
       " {'material_id': 'mp-680204'},\n",
       " {'material_id': 'mp-867933'},\n",
       " {'material_id': 'mp-15078'},\n",
       " {'material_id': 'mp-556882'},\n",
       " {'material_id': 'mp-600053'},\n",
       " {'material_id': 'mp-972808'},\n",
       " {'material_id': 'mp-554243'},\n",
       " {'material_id': 'mp-554498'},\n",
       " {'material_id': 'mp-556044'},\n",
       " {'material_id': 'mp-600022'},\n",
       " {'material_id': 'mp-600037'},\n",
       " {'material_id': 'mp-32566'},\n",
       " {'material_id': 'mp-542814'},\n",
       " {'material_id': 'mp-600050'},\n",
       " {'material_id': 'mp-683952'},\n",
       " {'material_id': 'mp-1249637'},\n",
       " {'material_id': 'mp-638049'},\n",
       " {'material_id': 'mp-560527'},\n",
       " {'material_id': 'mp-1250261'},\n",
       " {'material_id': 'mp-1250639'},\n",
       " {'material_id': 'mp-600004'},\n",
       " {'material_id': 'mp-556588'},\n",
       " {'material_id': 'mp-558301'},\n",
       " {'material_id': 'mp-572283'},\n",
       " {'material_id': 'mp-673168'},\n",
       " {'material_id': 'mp-556553'},\n",
       " {'material_id': 'mp-604717'},\n",
       " {'material_id': 'mp-561488'},\n",
       " {'material_id': 'mp-559091'},\n",
       " {'material_id': 'mp-662706'},\n",
       " {'material_id': 'mp-600083'},\n",
       " {'material_id': 'mp-1201738'},\n",
       " {'material_id': 'mp-555355'},\n",
       " {'material_id': 'mp-557244'},\n",
       " {'material_id': 'mp-600076'},\n",
       " {'material_id': 'mp-640556'},\n",
       " {'material_id': 'mp-600000'},\n",
       " {'material_id': 'mp-600070'},\n",
       " {'material_id': 'mp-559313'},\n",
       " {'material_id': 'mp-555147'},\n",
       " {'material_id': 'mp-638038'},\n",
       " {'material_id': 'mp-1188220'},\n",
       " {'material_id': 'mp-556662'},\n",
       " {'material_id': 'mp-1200685'},\n",
       " {'material_id': 'mp-683953'},\n",
       " {'material_id': 'mp-555411'},\n",
       " {'material_id': 'mp-556591'},\n",
       " {'material_id': 'mp-32895'},\n",
       " {'material_id': 'mp-558374'},\n",
       " {'material_id': 'mp-638900'},\n",
       " {'material_id': 'mp-557723'},\n",
       " {'material_id': 'mp-560336'},\n",
       " {'material_id': 'mp-600098'},\n",
       " {'material_id': 'mp-12350'},\n",
       " {'material_id': 'mp-1244968'},\n",
       " {'material_id': 'mp-556454'},\n",
       " {'material_id': 'mp-561351'},\n",
       " {'material_id': 'mp-554175'},\n",
       " {'material_id': 'mp-639480'},\n",
       " {'material_id': 'mp-1204070'},\n",
       " {'material_id': 'mp-560836'},\n",
       " {'material_id': 'mp-12787'},\n",
       " {'material_id': 'mp-1204026'},\n",
       " {'material_id': 'mp-545719'},\n",
       " {'material_id': 'mp-600014'},\n",
       " {'material_id': 'mp-1203099'},\n",
       " {'material_id': 'mp-1179195'},\n",
       " {'material_id': 'mp-556654'},\n",
       " {'material_id': 'mp-600032'},\n",
       " {'material_id': 'mp-6947'},\n",
       " {'material_id': 'mp-556564'},\n",
       " {'material_id': 'mp-600061'},\n",
       " {'material_id': 'mp-1244945'},\n",
       " {'material_id': 'mp-600039'},\n",
       " {'material_id': 'mp-1173536'},\n",
       " {'material_id': 'mp-557837'},\n",
       " {'material_id': 'mp-560064'},\n",
       " {'material_id': 'mp-34150'},\n",
       " {'material_id': 'mp-557004'},\n",
       " {'material_id': 'mp-556132'},\n",
       " {'material_id': 'mp-560998'},\n",
       " {'material_id': 'mp-10851'},\n",
       " {'material_id': 'mp-555556'},\n",
       " {'material_id': 'mp-556537'},\n",
       " {'material_id': 'mp-559740'},\n",
       " {'material_id': 'mp-600052'},\n",
       " {'material_id': 'mp-554755'},\n",
       " {'material_id': 'mp-555676'},\n",
       " {'material_id': 'mp-1179275'},\n",
       " {'material_id': 'mp-546794'},\n",
       " {'material_id': 'mp-639724'},\n",
       " {'material_id': 'mp-639741'},\n",
       " {'material_id': 'mp-639682'},\n",
       " {'material_id': 'mp-600027'},\n",
       " {'material_id': 'mp-555394'},\n",
       " {'material_id': 'mp-557930'},\n",
       " {'material_id': 'mp-558203'},\n",
       " {'material_id': 'mp-555700'},\n",
       " {'material_id': 'mp-560708'},\n",
       " {'material_id': 'mp-639511'},\n",
       " {'material_id': 'mp-554258'},\n",
       " {'material_id': 'mp-669426'},\n",
       " {'material_id': 'mp-600059'},\n",
       " {'material_id': 'mp-554397'},\n",
       " {'material_id': 'mp-560954'},\n",
       " {'material_id': 'mp-555521'},\n",
       " {'material_id': 'mp-733790'},\n",
       " {'material_id': 'mp-555251'},\n",
       " {'material_id': 'mp-560754'},\n",
       " {'material_id': 'mp-1179447'},\n",
       " {'material_id': 'mp-555740'},\n",
       " {'material_id': 'mp-557076'},\n",
       " {'material_id': 'mp-556963'},\n",
       " {'material_id': 'mp-600029'},\n",
       " {'material_id': 'mp-600003'},\n",
       " {'material_id': 'mp-554946'},\n",
       " {'material_id': 'mp-557118'},\n",
       " {'material_id': 'mp-560920'},\n",
       " {'material_id': 'mp-1203655'},\n",
       " {'material_id': 'mp-555960'},\n",
       " {'material_id': 'mp-556788'},\n",
       " {'material_id': 'mp-600085'},\n",
       " {'material_id': 'mp-556880'},\n",
       " {'material_id': 'mp-556994'},\n",
       " {'material_id': 'mp-8352'},\n",
       " {'material_id': 'mp-532105'},\n",
       " {'material_id': 'mp-555211'},\n",
       " {'material_id': 'mp-673849'},\n",
       " {'material_id': 'mp-557264'},\n",
       " {'material_id': 'mp-600065'},\n",
       " {'material_id': 'mp-8059'},\n",
       " {'material_id': 'mp-6922'},\n",
       " {'material_id': 'mp-556262'},\n",
       " {'material_id': 'mp-556027'},\n",
       " {'material_id': 'mp-1221354'},\n",
       " {'material_id': 'mp-554573'},\n",
       " {'material_id': 'mp-557933'},\n",
       " {'material_id': 'mp-560152'},\n",
       " {'material_id': 'mp-7029'},\n",
       " {'material_id': 'mp-600071'}]"
      ]
     },
     "execution_count": 8,
     "metadata": {},
     "output_type": "execute_result"
    }
   ],
   "source": [
    "mpr = MPRester(Sparks_API)\n",
    "#mpr.query('SiO2',['material_id','density'])\n",
    "#mpr.query('**O3',['pretty_formula','material_id'])\n",
    "mpr.query({'chemsys':'O-Si'},['material_id'])"
   ]
  },
  {
   "cell_type": "code",
   "execution_count": 9,
   "id": "d0b4973b",
   "metadata": {},
   "outputs": [
    {
     "data": {
      "image/png": "[encoded data removed]",
      "text/plain": [
       "<Figure size 432x288 with 1 Axes>"
      ]
     },
     "metadata": {
      "needs_background": "light"
     },
     "output_type": "display_data"
    }
   ],
   "source": [
    "#example from John Dagdelen 2019 MP Workshop https://youtu.be/dsDOa_fgE7A\n",
    "import matplotlib.pyplot as plt\n",
    "%matplotlib inline\n",
    "with MPRester(Sparks_API) as mpr:\n",
    "    entries = mpr.query('Ta-C',['material_id','spacegroup.crystal_system'])\n",
    "    systems = [entry['spacegroup.crystal_system'] for entry in entries]\n",
    "    counts = {}\n",
    "    \n",
    "    for system in systems:\n",
    "        if system in counts:\n",
    "            counts[system] += 1\n",
    "        else:\n",
    "            counts[system] = 1    \n",
    "    plt.bar(range(len(counts)), counts.values())\n",
    "    plt.xticks(range(len(counts)), [key[0:7] for key in counts.keys()])\n",
    "    "
   ]
  },
  {
   "cell_type": "code",
   "execution_count": 11,
   "id": "d90805c8",
   "metadata": {
    "scrolled": false
   },
   "outputs": [
    {
     "data": {
      "application/vnd.plotly.v1+json": {
       "config": {
        "plotlyServerURL": "https://plotly.com"
       },
       "data": [
        {
         "hoverinfo": "none",
         "line": {
          "color": "rgba(0,0,0,1.0)",
          "width": 7
         },
         "mode": "lines",
         "showlegend": false,
         "type": "scatter3d",
         "x": [
          0.5196152422706631,
          0.5673959542035977,
          null,
          0.5773502691896257,
          0.4330127018922193,
          null,
          0.4330127018922193,
          0.8660254037844386,
          null,
          0.4330127018922193,
          0,
          null,
          0,
          0,
          null,
          0.4330127018922193,
          0.5196152422706631,
          null,
          0.5773502691896257,
          0.5673959542035977,
          null,
          0.5773502691896257,
          0.8660254037844386,
          null,
          0.4330127018922193,
          0,
          null,
          0.5673959542035977,
          0.4330127018922193,
          null,
          0.4330127018922193,
          0.4330127018922193,
          null,
          0.4330127018922193,
          0,
          null,
          0.5196152422706631,
          0.4330127018922193,
          null
         ],
         "y": [
          0.7,
          0.6724137931034483,
          null,
          0.6666666666666666,
          0.25,
          null,
          0.25,
          0.5,
          null,
          0.75,
          0,
          null,
          1,
          0,
          null,
          0.75,
          0.7,
          null,
          0.6666666666666666,
          0.6724137931034483,
          null,
          0.6666666666666666,
          0.5,
          null,
          0.25,
          0,
          null,
          0.6724137931034483,
          0.25,
          null,
          0.75,
          0.25,
          null,
          0.75,
          1,
          null,
          0.7,
          0.25,
          null
         ],
         "z": [
          -2.4942834448749998,
          -2.2504768003232747,
          null,
          -2.1982971287500006,
          -2.4029849490625,
          null,
          -2.4029849490625,
          0,
          null,
          -2.4146084840625006,
          0,
          null,
          0,
          0,
          null,
          -2.4146084840625006,
          -2.4942834448749998,
          null,
          -2.1982971287500006,
          -2.2504768003232747,
          null,
          -2.1982971287500006,
          0,
          null,
          -2.4029849490625,
          0,
          null,
          -2.2504768003232747,
          -2.4029849490625,
          null,
          -2.4146084840625006,
          -2.4029849490625,
          null,
          -2.4146084840625006,
          0,
          null,
          -2.4942834448749998,
          -2.4029849490625,
          null
         ]
        },
        {
         "hoverinfo": "none",
         "line": {
          "color": "rgba (0, 0, 0, 0.4)",
          "dash": "solid",
          "width": 1
         },
         "mode": "lines",
         "showlegend": false,
         "type": "scatter3d",
         "x": [
          0.8660254037844386,
          0,
          null,
          0.8660254037844386,
          0,
          null,
          0.8660254037844386,
          0,
          null,
          0.8660254037844386,
          0,
          null,
          0,
          0,
          null,
          0,
          0,
          null,
          0.8660254037844386,
          0.8660254037844386,
          null,
          0,
          0,
          null,
          0,
          0,
          null
         ],
         "y": [
          0.5,
          1,
          null,
          0.5,
          1,
          null,
          0.5,
          0,
          null,
          0.5,
          0,
          null,
          1,
          0,
          null,
          1,
          0,
          null,
          0.5,
          0.5,
          null,
          1,
          1,
          null,
          0,
          0,
          null
         ],
         "z": [
          0,
          0,
          null,
          -2.4942834448749998,
          -2.4942834448749998,
          null,
          0,
          0,
          null,
          -2.4942834448749998,
          -2.4942834448749998,
          null,
          0,
          0,
          null,
          -2.4942834448749998,
          -2.4942834448749998,
          null,
          0,
          -2.4942834448749998,
          null,
          0,
          -2.4942834448749998,
          null,
          0,
          -2.4942834448749998,
          null
         ]
        },
        {
         "colorbar": {
          "len": 0.75,
          "title": {
           "text": "Formation energy<br>(eV/atom)"
          },
          "x": 0.9
         },
         "colorscale": [
          [
           0,
           "#0c8c00"
          ],
          [
           0.5,
           "#d8ffd4"
          ],
          [
           1,
           "#ffffff"
          ]
         ],
         "flatshading": true,
         "hoverinfo": "none",
         "i": [
          2,
          12,
          12,
          10,
          2,
          1
         ],
         "intensity": [
          -2.4146084840625006,
          -2.1982971287500006,
          -2.4942834448749998,
          -2.4488226753571425,
          -2.2533449792613633,
          -2.230346713906249,
          -2.3307452507692306,
          -2.2504768003232747,
          -2.4029849490625,
          -2.4554362289285714,
          0,
          0,
          0
         ],
         "j": [
          0,
          0,
          0,
          1,
          7,
          7
         ],
         "k": [
          8,
          8,
          11,
          8,
          8,
          8
         ],
         "lighting": {
          "ambient": 1,
          "diffuse": 0
         },
         "name": "Convex Hull (shading)",
         "opacity": 0.8,
         "showlegend": true,
         "type": "mesh3d",
         "x": [
          0.4330127018922193,
          0.5773502691896257,
          0.5196152422706631,
          0.49487165930539345,
          0.5511070751355518,
          0.5051814855409226,
          0.532938710021193,
          0.5673959542035977,
          0.4330127018922193,
          0.49487165930539345,
          0.8660254037844386,
          0,
          0
         ],
         "y": [
          0.75,
          0.6666666666666666,
          0.7,
          0.7142857142857142,
          0.6818181818181819,
          0.7083333333333334,
          0.6923076923076923,
          0.6724137931034483,
          0.25,
          0.5714285714285714,
          0.5,
          1,
          0
         ],
         "z": [
          -2.4146084840625006,
          -2.1982971287500006,
          -2.4942834448749998,
          -2.4488226753571425,
          -2.2533449792613633,
          -2.230346713906249,
          -2.3307452507692306,
          -2.2504768003232747,
          -2.4029849490625,
          -2.4554362289285714,
          0,
          0,
          0
         ]
        },
        {
         "hoverinfo": "skip",
         "mode": "text",
         "name": "Labels (stable)",
         "opacity": 1,
         "showlegend": true,
         "text": [
          "La<sub>2</sub>S<sub>3</sub>",
          "La<sub>10</sub>S<sub>19</sub>",
          "LaS<sub>2</sub>",
          "CaS",
          "LaS"
         ],
         "textposition": [
          "middle center",
          "middle center",
          "middle center",
          "middle center",
          "middle center"
         ],
         "type": "scatter3d",
         "visible": true,
         "x": [
          0.5096152422706631,
          0.5573959542035977,
          0.5673502691896257,
          0.4230127018922193,
          0.4230127018922193
         ],
         "y": [
          0.71,
          0.6824137931034483,
          0.6766666666666666,
          0.24,
          0.76
         ],
         "z": [
          -2.2448551003875,
          -2.001048455835775,
          -1.9488687842625005,
          -2.1535566045750003,
          -2.1651801395750008
         ]
        },
        {
         "hoverinfo": "text",
         "hoverlabel": {
          "font": {
           "size": 14
          }
         },
         "hovertext": [
          "S (mp-557869) <br> 0.001 eV/atom (+0.001 eV/atom)",
          "S (mp-558014) <br> 0.014 eV/atom (+0.014 eV/atom)",
          "S (mp-556269) <br> 0.037 eV/atom (+0.037 eV/atom)",
          "S (mp-77) <br> 0.001 eV/atom (+0.001 eV/atom)",
          "S (mp-561513) <br> 0.019 eV/atom (+0.019 eV/atom)",
          "S (mp-561370) <br> 0.028 eV/atom (+0.028 eV/atom)",
          "S (mp-994911) <br> 0.011 eV/atom (+0.011 eV/atom)",
          "S (mp-557376) <br> 0.032 eV/atom (+0.032 eV/atom)",
          "S (mp-83) <br> 0.038 eV/atom (+0.038 eV/atom)",
          "S (mp-583072) <br> 0.028 eV/atom (+0.028 eV/atom)",
          "S (mp-557031) <br> 0.044 eV/atom (+0.044 eV/atom)",
          "S (mp-557488) <br> 0.017 eV/atom (+0.017 eV/atom)",
          "S (mp-557559) <br> 0.041 eV/atom (+0.041 eV/atom)",
          "S (mp-555760) <br> 0.041 eV/atom (+0.041 eV/atom)",
          "S (mp-7) <br> 0.065 eV/atom (+0.065 eV/atom)",
          "S (mp-555915) <br> 0.021 eV/atom (+0.021 eV/atom)",
          "S (mp-558964) <br> 0.014 eV/atom (+0.014 eV/atom)",
          "S (mp-1196831) <br> 0.011 eV/atom (+0.011 eV/atom)",
          "La (mp-156) <br> 0.001 eV/atom (+0.001 eV/atom)",
          "La (mp-10023) <br> 0.134 eV/atom (+0.134 eV/atom)",
          "LaS<sub>2</sub> (mp-1103658) <br> -2.198 eV/atom (+0.001 eV/atom)",
          "LaS<sub>2</sub> (mp-1018751) <br> -2.102 eV/atom (+0.097 eV/atom)",
          "La<sub>2</sub>S<sub>3</sub> (mp-32906) <br> -2.478 eV/atom (+0.017 eV/atom)",
          "La<sub>3</sub>S<sub>4</sub> (mp-567) <br> -2.449 eV/atom (+0.023 eV/atom)",
          "La<sub>4</sub>S<sub>7</sub> (mp-1223154) <br> -2.253 eV/atom (+0.08 eV/atom)",
          "La<sub>5</sub>S<sub>8</sub> (mp-32640) <br> -2.331 eV/atom (+0.096 eV/atom)",
          "Ca (mp-1183484) <br> 0.0 eV/atom (+0.0 eV/atom)",
          "Ca (mp-166) <br> 0.018 eV/atom (+0.018 eV/atom)",
          "Ca (mp-1064227) <br> 0.001 eV/atom (+0.001 eV/atom)",
          "Ca (mp-45) <br> 0.001 eV/atom (+0.001 eV/atom)",
          "Ca (mp-1183455) <br> 0.012 eV/atom (+0.012 eV/atom)",
          "Ca (mp-1078638) <br> 0.013 eV/atom (+0.013 eV/atom)",
          "Ca (mp-1008498) <br> 0.159 eV/atom (+0.159 eV/atom)",
          "Ca (mp-21) <br> 0.017 eV/atom (+0.017 eV/atom)",
          "CaLa (mp-1183602) <br> 0.073 eV/atom (+0.073 eV/atom)",
          "Ca(LaS<sub>2</sub>)<sub>2</sub> (mp-35421) <br> -2.455 eV/atom (+0.013 eV/atom)"
         ],
         "marker": {
          "color": [
           0.001,
           0.014,
           0.037,
           0.001,
           0.019,
           0.028,
           0.011,
           0.032,
           0.038,
           0.028,
           0.044,
           0.017,
           0.041,
           0.041,
           0.065,
           0.021,
           0.014,
           0.011,
           0.001,
           0.134,
           0.001,
           0.097,
           0.017,
           0.023,
           0.08,
           0.096,
           0,
           0.018,
           0.001,
           0.001,
           0.012,
           0.013,
           0.159,
           0.017,
           0.073,
           0.013
          ],
          "colorbar": {
           "len": 0.75,
           "title": {
            "text": "Energy Above Hull<br>(eV/atom)"
           },
           "x": 0.05
          },
          "colorscale": [
           [
            0,
            "#fad393"
           ],
           [
            0.5,
            "#ff813d"
           ],
           [
            1,
            "#ff0000"
           ]
          ],
          "size": 6,
          "symbol": "diamond"
         },
         "mode": "markers",
         "name": "Above Hull",
         "showlegend": true,
         "type": "scatter3d",
         "x": [
          0.8660254037844386,
          0.8660254037844386,
          0.8660254037844386,
          0.8660254037844386,
          0.8660254037844386,
          0.8660254037844386,
          0.8660254037844386,
          0.8660254037844386,
          0.8660254037844386,
          0.8660254037844386,
          0.8660254037844386,
          0.8660254037844386,
          0.8660254037844386,
          0.8660254037844386,
          0.8660254037844386,
          0.8660254037844386,
          0.8660254037844386,
          0.8660254037844386,
          0,
          0,
          0.5773502691896257,
          0.5773502691896257,
          0.5196152422706631,
          0.49487165930539345,
          0.5511070751355518,
          0.532938710021193,
          0,
          0,
          0,
          0,
          0,
          0,
          0,
          0,
          0,
          0.49487165930539345
         ],
         "y": [
          0.5,
          0.5,
          0.5,
          0.5,
          0.5,
          0.5,
          0.5,
          0.5,
          0.5,
          0.5,
          0.5,
          0.5,
          0.5,
          0.5,
          0.5,
          0.5,
          0.5,
          0.5,
          1,
          1,
          0.6666666666666666,
          0.6666666666666666,
          0.7,
          0.7142857142857142,
          0.6818181818181819,
          0.6923076923076923,
          0,
          0,
          0,
          0,
          0,
          0,
          0,
          0,
          0.5,
          0.5714285714285714
         ],
         "z": [
          0.001,
          0.014,
          0.037,
          0.001,
          0.019,
          0.028,
          0.011,
          0.032,
          0.038,
          0.028,
          0.044,
          0.017,
          0.041,
          0.041,
          0.065,
          0.021,
          0.014,
          0.011,
          0.001,
          0.134,
          -2.198,
          -2.102,
          -2.478,
          -2.449,
          -2.253,
          -2.331,
          0,
          0.018,
          0.001,
          0.001,
          0.012,
          0.013,
          0.159,
          0.017,
          0.073,
          -2.455
         ]
        },
        {
         "error_z": {
          "array": [
           0,
           0,
           0,
           0,
           0,
           0,
           0,
           0
          ],
          "color": "darkgray",
          "thickness": 5,
          "type": "data",
          "width": 10
         },
         "hoverinfo": "text",
         "hoverlabel": {
          "font": {
           "size": 14
          }
         },
         "hovertext": [
          "La<sub>2</sub>S<sub>3</sub> (mp-7475) <br> -2.494 eV/atom",
          "La<sub>10</sub>S<sub>19</sub> (mp-558229) <br> -2.25 eV/atom",
          "LaS<sub>2</sub> (mp-1508) <br> -2.198 eV/atom",
          "CaS (mp-1672) <br> -2.403 eV/atom",
          "S (mp-96) <br> 0.0 eV/atom",
          "LaS (mp-2350) <br> -2.415 eV/atom",
          "Ca (mp-132) <br> 0.0 eV/atom",
          "La (mp-26) <br> 0.0 eV/atom"
         ],
         "marker": {
          "color": "black",
          "line": {
           "color": "black",
           "width": 3
          },
          "opacity": 0.8,
          "size": 12
         },
         "mode": "markers",
         "name": "Stable",
         "showlegend": true,
         "type": "scatter3d",
         "x": [
          0.5196152422706631,
          0.5673959542035977,
          0.5773502691896257,
          0.4330127018922193,
          0.8660254037844386,
          0.4330127018922193,
          0,
          0
         ],
         "y": [
          0.7,
          0.6724137931034483,
          0.6666666666666666,
          0.25,
          0.5,
          0.75,
          0,
          1
         ],
         "z": [
          -2.494,
          -2.25,
          -2.198,
          -2.403,
          0,
          -2.415,
          0,
          0
         ]
        }
       ],
       "layout": {
        "autosize": true,
        "height": 700,
        "hovermode": "closest",
        "legend": {
         "orientation": "h",
         "traceorder": "reversed",
         "x": 0.5,
         "xanchor": "center",
         "y": 0,
         "yanchor": "top"
        },
        "margin": {
         "b": 10,
         "l": 0,
         "pad": 0,
         "r": 0,
         "t": 0
        },
        "paper_bgcolor": "rgba(0,0,0,0)",
        "plot_bgcolor": "rgba(0,0,0,0)",
        "scene": {
         "annotations": [
          {
           "align": "center",
           "font": {
            "color": "#000000",
            "size": 24
           },
           "opacity": 1,
           "showarrow": false,
           "text": "S",
           "x": 0.8660254037844386,
           "xanchor": "right",
           "xshift": -10,
           "y": 0.5,
           "yanchor": "auto",
           "yshift": -10,
           "z": -2.2448551003875
          },
          {
           "align": "center",
           "font": {
            "color": "#000000",
            "size": 24
           },
           "opacity": 1,
           "showarrow": false,
           "text": "Ca",
           "x": 0,
           "xanchor": "right",
           "xshift": -10,
           "y": 0,
           "yanchor": "auto",
           "yshift": -10,
           "z": -2.2448551003875
          },
          {
           "align": "center",
           "font": {
            "color": "#000000",
            "size": 24
           },
           "opacity": 1,
           "showarrow": false,
           "text": "La",
           "x": 0,
           "xanchor": "right",
           "xshift": -10,
           "y": 1,
           "yanchor": "auto",
           "yshift": -10,
           "z": -2.2448551003875
          },
          {
           "opacity": 0,
           "text": "",
           "x": 1,
           "y": 1,
           "z": 0
          }
         ],
         "aspectratio": {
          "x": 1.7,
          "y": 1.7,
          "z": 1.2
         },
         "camera": {
          "center": {
           "x": -0.1,
           "y": 0,
           "z": -0.15
          },
          "eye": {
           "x": -0.1,
           "y": 0,
           "z": 2.5
          },
          "projection": {
           "type": "orthographic"
          }
         },
         "xaxis": {
          "autorange": true,
          "showaxeslabels": false,
          "showgrid": false,
          "showline": false,
          "showspikes": false,
          "showticklabels": false,
          "ticks": "",
          "visible": false,
          "zeroline": false
         },
         "yaxis": {
          "autorange": true,
          "showaxeslabels": false,
          "showgrid": false,
          "showline": false,
          "showspikes": false,
          "showticklabels": false,
          "ticks": "",
          "visible": false,
          "zeroline": false
         },
         "zaxis": {
          "autorange": true,
          "showaxeslabels": false,
          "showgrid": false,
          "showline": false,
          "showspikes": false,
          "showticklabels": false,
          "ticks": "",
          "visible": false,
          "zeroline": false
         }
        },
        "showlegend": true,
        "template": {
         "data": {
          "bar": [
           {
            "error_x": {
             "color": "#2a3f5f"
            },
            "error_y": {
             "color": "#2a3f5f"
            },
            "marker": {
             "line": {
              "color": "#E5ECF6",
              "width": 0.5
             },
             "pattern": {
              "fillmode": "overlay",
              "size": 10,
              "solidity": 0.2
             }
            },
            "type": "bar"
           }
          ],
          "barpolar": [
           {
            "marker": {
             "line": {
              "color": "#E5ECF6",
              "width": 0.5
             },
             "pattern": {
              "fillmode": "overlay",
              "size": 10,
              "solidity": 0.2
             }
            },
            "type": "barpolar"
           }
          ],
          "carpet": [
           {
            "aaxis": {
             "endlinecolor": "#2a3f5f",
             "gridcolor": "white",
             "linecolor": "white",
             "minorgridcolor": "white",
             "startlinecolor": "#2a3f5f"
            },
            "baxis": {
             "endlinecolor": "#2a3f5f",
             "gridcolor": "white",
             "linecolor": "white",
             "minorgridcolor": "white",
             "startlinecolor": "#2a3f5f"
            },
            "type": "carpet"
           }
          ],
          "choropleth": [
           {
            "colorbar": {
             "outlinewidth": 0,
             "ticks": ""
            },
            "type": "choropleth"
           }
          ],
          "contour": [
           {
            "colorbar": {
             "outlinewidth": 0,
             "ticks": ""
            },
            "colorscale": [
             [
              0,
              "#0d0887"
             ],
             [
              0.1111111111111111,
              "#46039f"
             ],
             [
              0.2222222222222222,
              "#7201a8"
             ],
             [
              0.3333333333333333,
              "#9c179e"
             ],
             [
              0.4444444444444444,
              "#bd3786"
             ],
             [
              0.5555555555555556,
              "#d8576b"
             ],
             [
              0.6666666666666666,
              "#ed7953"
             ],
             [
              0.7777777777777778,
              "#fb9f3a"
             ],
             [
              0.8888888888888888,
              "#fdca26"
             ],
             [
              1,
              "#f0f921"
             ]
            ],
            "type": "contour"
           }
          ],
          "contourcarpet": [
           {
            "colorbar": {
             "outlinewidth": 0,
             "ticks": ""
            },
            "type": "contourcarpet"
           }
          ],
          "heatmap": [
           {
            "colorbar": {
             "outlinewidth": 0,
             "ticks": ""
            },
            "colorscale": [
             [
              0,
              "#0d0887"
             ],
             [
              0.1111111111111111,
              "#46039f"
             ],
             [
              0.2222222222222222,
              "#7201a8"
             ],
             [
              0.3333333333333333,
              "#9c179e"
             ],
             [
              0.4444444444444444,
              "#bd3786"
             ],
             [
              0.5555555555555556,
              "#d8576b"
             ],
             [
              0.6666666666666666,
              "#ed7953"
             ],
             [
              0.7777777777777778,
              "#fb9f3a"
             ],
             [
              0.8888888888888888,
              "#fdca26"
             ],
             [
              1,
              "#f0f921"
             ]
            ],
            "type": "heatmap"
           }
          ],
          "heatmapgl": [
           {
            "colorbar": {
             "outlinewidth": 0,
             "ticks": ""
            },
            "colorscale": [
             [
              0,
              "#0d0887"
             ],
             [
              0.1111111111111111,
              "#46039f"
             ],
             [
              0.2222222222222222,
              "#7201a8"
             ],
             [
              0.3333333333333333,
              "#9c179e"
             ],
             [
              0.4444444444444444,
              "#bd3786"
             ],
             [
              0.5555555555555556,
              "#d8576b"
             ],
             [
              0.6666666666666666,
              "#ed7953"
             ],
             [
              0.7777777777777778,
              "#fb9f3a"
             ],
             [
              0.8888888888888888,
              "#fdca26"
             ],
             [
              1,
              "#f0f921"
             ]
            ],
            "type": "heatmapgl"
           }
          ],
          "histogram": [
           {
            "marker": {
             "pattern": {
              "fillmode": "overlay",
              "size": 10,
              "solidity": 0.2
             }
            },
            "type": "histogram"
           }
          ],
          "histogram2d": [
           {
            "colorbar": {
             "outlinewidth": 0,
             "ticks": ""
            },
            "colorscale": [
             [
              0,
              "#0d0887"
             ],
             [
              0.1111111111111111,
              "#46039f"
             ],
             [
              0.2222222222222222,
              "#7201a8"
             ],
             [
              0.3333333333333333,
              "#9c179e"
             ],
             [
              0.4444444444444444,
              "#bd3786"
             ],
             [
              0.5555555555555556,
              "#d8576b"
             ],
             [
              0.6666666666666666,
              "#ed7953"
             ],
             [
              0.7777777777777778,
              "#fb9f3a"
             ],
             [
              0.8888888888888888,
              "#fdca26"
             ],
             [
              1,
              "#f0f921"
             ]
            ],
            "type": "histogram2d"
           }
          ],
          "histogram2dcontour": [
           {
            "colorbar": {
             "outlinewidth": 0,
             "ticks": ""
            },
            "colorscale": [
             [
              0,
              "#0d0887"
             ],
             [
              0.1111111111111111,
              "#46039f"
             ],
             [
              0.2222222222222222,
              "#7201a8"
             ],
             [
              0.3333333333333333,
              "#9c179e"
             ],
             [
              0.4444444444444444,
              "#bd3786"
             ],
             [
              0.5555555555555556,
              "#d8576b"
             ],
             [
              0.6666666666666666,
              "#ed7953"
             ],
             [
              0.7777777777777778,
              "#fb9f3a"
             ],
             [
              0.8888888888888888,
              "#fdca26"
             ],
             [
              1,
              "#f0f921"
             ]
            ],
            "type": "histogram2dcontour"
           }
          ],
          "mesh3d": [
           {
            "colorbar": {
             "outlinewidth": 0,
             "ticks": ""
            },
            "type": "mesh3d"
           }
          ],
          "parcoords": [
           {
            "line": {
             "colorbar": {
              "outlinewidth": 0,
              "ticks": ""
             }
            },
            "type": "parcoords"
           }
          ],
          "pie": [
           {
            "automargin": true,
            "type": "pie"
           }
          ],
          "scatter": [
           {
            "marker": {
             "colorbar": {
              "outlinewidth": 0,
              "ticks": ""
             }
            },
            "type": "scatter"
           }
          ],
          "scatter3d": [
           {
            "line": {
             "colorbar": {
              "outlinewidth": 0,
              "ticks": ""
             }
            },
            "marker": {
             "colorbar": {
              "outlinewidth": 0,
              "ticks": ""
             }
            },
            "type": "scatter3d"
           }
          ],
          "scattercarpet": [
           {
            "marker": {
             "colorbar": {
              "outlinewidth": 0,
              "ticks": ""
             }
            },
            "type": "scattercarpet"
           }
          ],
          "scattergeo": [
           {
            "marker": {
             "colorbar": {
              "outlinewidth": 0,
              "ticks": ""
             }
            },
            "type": "scattergeo"
           }
          ],
          "scattergl": [
           {
            "marker": {
             "colorbar": {
              "outlinewidth": 0,
              "ticks": ""
             }
            },
            "type": "scattergl"
           }
          ],
          "scattermapbox": [
           {
            "marker": {
             "colorbar": {
              "outlinewidth": 0,
              "ticks": ""
             }
            },
            "type": "scattermapbox"
           }
          ],
          "scatterpolar": [
           {
            "marker": {
             "colorbar": {
              "outlinewidth": 0,
              "ticks": ""
             }
            },
            "type": "scatterpolar"
           }
          ],
          "scatterpolargl": [
           {
            "marker": {
             "colorbar": {
              "outlinewidth": 0,
              "ticks": ""
             }
            },
            "type": "scatterpolargl"
           }
          ],
          "scatterternary": [
           {
            "marker": {
             "colorbar": {
              "outlinewidth": 0,
              "ticks": ""
             }
            },
            "type": "scatterternary"
           }
          ],
          "surface": [
           {
            "colorbar": {
             "outlinewidth": 0,
             "ticks": ""
            },
            "colorscale": [
             [
              0,
              "#0d0887"
             ],
             [
              0.1111111111111111,
              "#46039f"
             ],
             [
              0.2222222222222222,
              "#7201a8"
             ],
             [
              0.3333333333333333,
              "#9c179e"
             ],
             [
              0.4444444444444444,
              "#bd3786"
             ],
             [
              0.5555555555555556,
              "#d8576b"
             ],
             [
              0.6666666666666666,
              "#ed7953"
             ],
             [
              0.7777777777777778,
              "#fb9f3a"
             ],
             [
              0.8888888888888888,
              "#fdca26"
             ],
             [
              1,
              "#f0f921"
             ]
            ],
            "type": "surface"
           }
          ],
          "table": [
           {
            "cells": {
             "fill": {
              "color": "#EBF0F8"
             },
             "line": {
              "color": "white"
             }
            },
            "header": {
             "fill": {
              "color": "#C8D4E3"
             },
             "line": {
              "color": "white"
             }
            },
            "type": "table"
           }
          ]
         },
         "layout": {
          "annotationdefaults": {
           "arrowcolor": "#2a3f5f",
           "arrowhead": 0,
           "arrowwidth": 1
          },
          "autotypenumbers": "strict",
          "coloraxis": {
           "colorbar": {
            "outlinewidth": 0,
            "ticks": ""
           }
          },
          "colorscale": {
           "diverging": [
            [
             0,
             "#8e0152"
            ],
            [
             0.1,
             "#c51b7d"
            ],
            [
             0.2,
             "#de77ae"
            ],
            [
             0.3,
             "#f1b6da"
            ],
            [
             0.4,
             "#fde0ef"
            ],
            [
             0.5,
             "#f7f7f7"
            ],
            [
             0.6,
             "#e6f5d0"
            ],
            [
             0.7,
             "#b8e186"
            ],
            [
             0.8,
             "#7fbc41"
            ],
            [
             0.9,
             "#4d9221"
            ],
            [
             1,
             "#276419"
            ]
           ],
           "sequential": [
            [
             0,
             "#0d0887"
            ],
            [
             0.1111111111111111,
             "#46039f"
            ],
            [
             0.2222222222222222,
             "#7201a8"
            ],
            [
             0.3333333333333333,
             "#9c179e"
            ],
            [
             0.4444444444444444,
             "#bd3786"
            ],
            [
             0.5555555555555556,
             "#d8576b"
            ],
            [
             0.6666666666666666,
             "#ed7953"
            ],
            [
             0.7777777777777778,
             "#fb9f3a"
            ],
            [
             0.8888888888888888,
             "#fdca26"
            ],
            [
             1,
             "#f0f921"
            ]
           ],
           "sequentialminus": [
            [
             0,
             "#0d0887"
            ],
            [
             0.1111111111111111,
             "#46039f"
            ],
            [
             0.2222222222222222,
             "#7201a8"
            ],
            [
             0.3333333333333333,
             "#9c179e"
            ],
            [
             0.4444444444444444,
             "#bd3786"
            ],
            [
             0.5555555555555556,
             "#d8576b"
            ],
            [
             0.6666666666666666,
             "#ed7953"
            ],
            [
             0.7777777777777778,
             "#fb9f3a"
            ],
            [
             0.8888888888888888,
             "#fdca26"
            ],
            [
             1,
             "#f0f921"
            ]
           ]
          },
          "colorway": [
           "#636efa",
           "#EF553B",
           "#00cc96",
           "#ab63fa",
           "#FFA15A",
           "#19d3f3",
           "#FF6692",
           "#B6E880",
           "#FF97FF",
           "#FECB52"
          ],
          "font": {
           "color": "#2a3f5f"
          },
          "geo": {
           "bgcolor": "white",
           "lakecolor": "white",
           "landcolor": "#E5ECF6",
           "showlakes": true,
           "showland": true,
           "subunitcolor": "white"
          },
          "hoverlabel": {
           "align": "left"
          },
          "hovermode": "closest",
          "mapbox": {
           "style": "light"
          },
          "paper_bgcolor": "white",
          "plot_bgcolor": "#E5ECF6",
          "polar": {
           "angularaxis": {
            "gridcolor": "white",
            "linecolor": "white",
            "ticks": ""
           },
           "bgcolor": "#E5ECF6",
           "radialaxis": {
            "gridcolor": "white",
            "linecolor": "white",
            "ticks": ""
           }
          },
          "scene": {
           "xaxis": {
            "backgroundcolor": "#E5ECF6",
            "gridcolor": "white",
            "gridwidth": 2,
            "linecolor": "white",
            "showbackground": true,
            "ticks": "",
            "zerolinecolor": "white"
           },
           "yaxis": {
            "backgroundcolor": "#E5ECF6",
            "gridcolor": "white",
            "gridwidth": 2,
            "linecolor": "white",
            "showbackground": true,
            "ticks": "",
            "zerolinecolor": "white"
           },
           "zaxis": {
            "backgroundcolor": "#E5ECF6",
            "gridcolor": "white",
            "gridwidth": 2,
            "linecolor": "white",
            "showbackground": true,
            "ticks": "",
            "zerolinecolor": "white"
           }
          },
          "shapedefaults": {
           "line": {
            "color": "#2a3f5f"
           }
          },
          "ternary": {
           "aaxis": {
            "gridcolor": "white",
            "linecolor": "white",
            "ticks": ""
           },
           "baxis": {
            "gridcolor": "white",
            "linecolor": "white",
            "ticks": ""
           },
           "bgcolor": "#E5ECF6",
           "caxis": {
            "gridcolor": "white",
            "linecolor": "white",
            "ticks": ""
           }
          },
          "title": {
           "x": 0.05
          },
          "xaxis": {
           "automargin": true,
           "gridcolor": "white",
           "linecolor": "white",
           "ticks": "",
           "title": {
            "standoff": 15
           },
           "zerolinecolor": "white",
           "zerolinewidth": 2
          },
          "yaxis": {
           "automargin": true,
           "gridcolor": "white",
           "linecolor": "white",
           "ticks": "",
           "title": {
            "standoff": 15
           },
           "zerolinecolor": "white",
           "zerolinewidth": 2
          }
         }
        }
       }
      },
      "text/html": [
       "<div>                            <div id=\"f37bebd5-227f-49ea-acb5-cd43f59b5598\" class=\"plotly-graph-div\" style=\"height:700px; width:100%;\"></div>            <script type=\"text/javascript\">                require([\"plotly\"], function(Plotly) {                    window.PLOTLYENV=window.PLOTLYENV || {};                                    if (document.getElementById(\"f37bebd5-227f-49ea-acb5-cd43f59b5598\")) {                    Plotly.newPlot(                        \"f37bebd5-227f-49ea-acb5-cd43f59b5598\",                        [{\"hoverinfo\":\"none\",\"line\":{\"color\":\"rgba(0,0,0,1.0)\",\"width\":7.0},\"mode\":\"lines\",\"showlegend\":false,\"type\":\"scatter3d\",\"x\":[0.5196152422706631,0.5673959542035977,null,0.5773502691896257,0.4330127018922193,null,0.4330127018922193,0.8660254037844386,null,0.4330127018922193,0.0,null,0.0,0.0,null,0.4330127018922193,0.5196152422706631,null,0.5773502691896257,0.5673959542035977,null,0.5773502691896257,0.8660254037844386,null,0.4330127018922193,0.0,null,0.5673959542035977,0.4330127018922193,null,0.4330127018922193,0.4330127018922193,null,0.4330127018922193,0.0,null,0.5196152422706631,0.4330127018922193,null],\"y\":[0.7,0.6724137931034483,null,0.6666666666666666,0.25,null,0.25,0.5,null,0.75,0.0,null,1.0,0.0,null,0.75,0.7,null,0.6666666666666666,0.6724137931034483,null,0.6666666666666666,0.5,null,0.25,0.0,null,0.6724137931034483,0.25,null,0.75,0.25,null,0.75,1.0,null,0.7,0.25,null],\"z\":[-2.4942834448749998,-2.2504768003232747,null,-2.1982971287500006,-2.4029849490625,null,-2.4029849490625,0.0,null,-2.4146084840625006,0.0,null,0.0,0.0,null,-2.4146084840625006,-2.4942834448749998,null,-2.1982971287500006,-2.2504768003232747,null,-2.1982971287500006,0.0,null,-2.4029849490625,0.0,null,-2.2504768003232747,-2.4029849490625,null,-2.4146084840625006,-2.4029849490625,null,-2.4146084840625006,0.0,null,-2.4942834448749998,-2.4029849490625,null]},{\"hoverinfo\":\"none\",\"line\":{\"color\":\"rgba (0, 0, 0, 0.4)\",\"dash\":\"solid\",\"width\":1.0},\"mode\":\"lines\",\"showlegend\":false,\"type\":\"scatter3d\",\"x\":[0.8660254037844386,0.0,null,0.8660254037844386,0.0,null,0.8660254037844386,0.0,null,0.8660254037844386,0.0,null,0.0,0.0,null,0.0,0.0,null,0.8660254037844386,0.8660254037844386,null,0.0,0.0,null,0.0,0.0,null],\"y\":[0.5,1.0,null,0.5,1.0,null,0.5,0.0,null,0.5,0.0,null,1.0,0.0,null,1.0,0.0,null,0.5,0.5,null,1.0,1.0,null,0.0,0.0,null],\"z\":[0,0,null,-2.4942834448749998,-2.4942834448749998,null,0,0,null,-2.4942834448749998,-2.4942834448749998,null,0,0,null,-2.4942834448749998,-2.4942834448749998,null,0,-2.4942834448749998,null,0,-2.4942834448749998,null,0,-2.4942834448749998,null]},{\"colorbar\":{\"len\":0.75,\"title\":{\"text\":\"Formation energy<br>(eV/atom)\"},\"x\":0.9},\"colorscale\":[[0.0,\"#0c8c00\"],[0.5,\"#d8ffd4\"],[1.0,\"#ffffff\"]],\"flatshading\":true,\"hoverinfo\":\"none\",\"i\":[2,12,12,10,2,1],\"intensity\":[-2.4146084840625006,-2.1982971287500006,-2.4942834448749998,-2.4488226753571425,-2.2533449792613633,-2.230346713906249,-2.3307452507692306,-2.2504768003232747,-2.4029849490625,-2.4554362289285714,0.0,0.0,0.0],\"j\":[0,0,0,1,7,7],\"k\":[8,8,11,8,8,8],\"lighting\":{\"ambient\":1.0,\"diffuse\":0.0},\"name\":\"Convex Hull (shading)\",\"opacity\":0.8,\"showlegend\":true,\"type\":\"mesh3d\",\"x\":[0.4330127018922193,0.5773502691896257,0.5196152422706631,0.49487165930539345,0.5511070751355518,0.5051814855409226,0.532938710021193,0.5673959542035977,0.4330127018922193,0.49487165930539345,0.8660254037844386,0.0,0.0],\"y\":[0.75,0.6666666666666666,0.7,0.7142857142857142,0.6818181818181819,0.7083333333333334,0.6923076923076923,0.6724137931034483,0.25,0.5714285714285714,0.5,1.0,0.0],\"z\":[-2.4146084840625006,-2.1982971287500006,-2.4942834448749998,-2.4488226753571425,-2.2533449792613633,-2.230346713906249,-2.3307452507692306,-2.2504768003232747,-2.4029849490625,-2.4554362289285714,0.0,0.0,0.0]},{\"hoverinfo\":\"skip\",\"mode\":\"text\",\"name\":\"Labels (stable)\",\"opacity\":1.0,\"showlegend\":true,\"text\":[\"La<sub>2</sub>S<sub>3</sub>\",\"La<sub>10</sub>S<sub>19</sub>\",\"LaS<sub>2</sub>\",\"CaS\",\"LaS\"],\"textposition\":[\"middle center\",\"middle center\",\"middle center\",\"middle center\",\"middle center\"],\"type\":\"scatter3d\",\"visible\":true,\"x\":[0.5096152422706631,0.5573959542035977,0.5673502691896257,0.4230127018922193,0.4230127018922193],\"y\":[0.71,0.6824137931034483,0.6766666666666666,0.24,0.76],\"z\":[-2.2448551003875,-2.001048455835775,-1.9488687842625005,-2.1535566045750003,-2.1651801395750008]},{\"hoverinfo\":\"text\",\"hoverlabel\":{\"font\":{\"size\":14}},\"hovertext\":[\"S (mp-557869) <br> 0.001 eV/atom (+0.001 eV/atom)\",\"S (mp-558014) <br> 0.014 eV/atom (+0.014 eV/atom)\",\"S (mp-556269) <br> 0.037 eV/atom (+0.037 eV/atom)\",\"S (mp-77) <br> 0.001 eV/atom (+0.001 eV/atom)\",\"S (mp-561513) <br> 0.019 eV/atom (+0.019 eV/atom)\",\"S (mp-561370) <br> 0.028 eV/atom (+0.028 eV/atom)\",\"S (mp-994911) <br> 0.011 eV/atom (+0.011 eV/atom)\",\"S (mp-557376) <br> 0.032 eV/atom (+0.032 eV/atom)\",\"S (mp-83) <br> 0.038 eV/atom (+0.038 eV/atom)\",\"S (mp-583072) <br> 0.028 eV/atom (+0.028 eV/atom)\",\"S (mp-557031) <br> 0.044 eV/atom (+0.044 eV/atom)\",\"S (mp-557488) <br> 0.017 eV/atom (+0.017 eV/atom)\",\"S (mp-557559) <br> 0.041 eV/atom (+0.041 eV/atom)\",\"S (mp-555760) <br> 0.041 eV/atom (+0.041 eV/atom)\",\"S (mp-7) <br> 0.065 eV/atom (+0.065 eV/atom)\",\"S (mp-555915) <br> 0.021 eV/atom (+0.021 eV/atom)\",\"S (mp-558964) <br> 0.014 eV/atom (+0.014 eV/atom)\",\"S (mp-1196831) <br> 0.011 eV/atom (+0.011 eV/atom)\",\"La (mp-156) <br> 0.001 eV/atom (+0.001 eV/atom)\",\"La (mp-10023) <br> 0.134 eV/atom (+0.134 eV/atom)\",\"LaS<sub>2</sub> (mp-1103658) <br> -2.198 eV/atom (+0.001 eV/atom)\",\"LaS<sub>2</sub> (mp-1018751) <br> -2.102 eV/atom (+0.097 eV/atom)\",\"La<sub>2</sub>S<sub>3</sub> (mp-32906) <br> -2.478 eV/atom (+0.017 eV/atom)\",\"La<sub>3</sub>S<sub>4</sub> (mp-567) <br> -2.449 eV/atom (+0.023 eV/atom)\",\"La<sub>4</sub>S<sub>7</sub> (mp-1223154) <br> -2.253 eV/atom (+0.08 eV/atom)\",\"La<sub>5</sub>S<sub>8</sub> (mp-32640) <br> -2.331 eV/atom (+0.096 eV/atom)\",\"Ca (mp-1183484) <br> 0.0 eV/atom (+0.0 eV/atom)\",\"Ca (mp-166) <br> 0.018 eV/atom (+0.018 eV/atom)\",\"Ca (mp-1064227) <br> 0.001 eV/atom (+0.001 eV/atom)\",\"Ca (mp-45) <br> 0.001 eV/atom (+0.001 eV/atom)\",\"Ca (mp-1183455) <br> 0.012 eV/atom (+0.012 eV/atom)\",\"Ca (mp-1078638) <br> 0.013 eV/atom (+0.013 eV/atom)\",\"Ca (mp-1008498) <br> 0.159 eV/atom (+0.159 eV/atom)\",\"Ca (mp-21) <br> 0.017 eV/atom (+0.017 eV/atom)\",\"CaLa (mp-1183602) <br> 0.073 eV/atom (+0.073 eV/atom)\",\"Ca(LaS<sub>2</sub>)<sub>2</sub> (mp-35421) <br> -2.455 eV/atom (+0.013 eV/atom)\"],\"marker\":{\"color\":[0.001,0.014,0.037,0.001,0.019,0.028,0.011,0.032,0.038,0.028,0.044,0.017,0.041,0.041,0.065,0.021,0.014,0.011,0.001,0.134,0.001,0.097,0.017,0.023,0.08,0.096,0.0,0.018,0.001,0.001,0.012,0.013,0.159,0.017,0.073,0.013],\"colorbar\":{\"len\":0.75,\"title\":{\"text\":\"Energy Above Hull<br>(eV/atom)\"},\"x\":0.05},\"colorscale\":[[0.0,\"#fad393\"],[0.5,\"#ff813d\"],[1.0,\"#ff0000\"]],\"size\":6,\"symbol\":\"diamond\"},\"mode\":\"markers\",\"name\":\"Above Hull\",\"showlegend\":true,\"type\":\"scatter3d\",\"x\":[0.8660254037844386,0.8660254037844386,0.8660254037844386,0.8660254037844386,0.8660254037844386,0.8660254037844386,0.8660254037844386,0.8660254037844386,0.8660254037844386,0.8660254037844386,0.8660254037844386,0.8660254037844386,0.8660254037844386,0.8660254037844386,0.8660254037844386,0.8660254037844386,0.8660254037844386,0.8660254037844386,0.0,0.0,0.5773502691896257,0.5773502691896257,0.5196152422706631,0.49487165930539345,0.5511070751355518,0.532938710021193,0.0,0.0,0.0,0.0,0.0,0.0,0.0,0.0,0.0,0.49487165930539345],\"y\":[0.5,0.5,0.5,0.5,0.5,0.5,0.5,0.5,0.5,0.5,0.5,0.5,0.5,0.5,0.5,0.5,0.5,0.5,1.0,1.0,0.6666666666666666,0.6666666666666666,0.7,0.7142857142857142,0.6818181818181819,0.6923076923076923,0.0,0.0,0.0,0.0,0.0,0.0,0.0,0.0,0.5,0.5714285714285714],\"z\":[0.001,0.014,0.037,0.001,0.019,0.028,0.011,0.032,0.038,0.028,0.044,0.017,0.041,0.041,0.065,0.021,0.014,0.011,0.001,0.134,-2.198,-2.102,-2.478,-2.449,-2.253,-2.331,0.0,0.018,0.001,0.001,0.012,0.013,0.159,0.017,0.073,-2.455]},{\"error_z\":{\"array\":[0,0,0,0,0,0,0,0],\"color\":\"darkgray\",\"thickness\":5,\"type\":\"data\",\"width\":10},\"hoverinfo\":\"text\",\"hoverlabel\":{\"font\":{\"size\":14}},\"hovertext\":[\"La<sub>2</sub>S<sub>3</sub> (mp-7475) <br> -2.494 eV/atom\",\"La<sub>10</sub>S<sub>19</sub> (mp-558229) <br> -2.25 eV/atom\",\"LaS<sub>2</sub> (mp-1508) <br> -2.198 eV/atom\",\"CaS (mp-1672) <br> -2.403 eV/atom\",\"S (mp-96) <br> 0.0 eV/atom\",\"LaS (mp-2350) <br> -2.415 eV/atom\",\"Ca (mp-132) <br> 0.0 eV/atom\",\"La (mp-26) <br> 0.0 eV/atom\"],\"marker\":{\"color\":\"black\",\"line\":{\"color\":\"black\",\"width\":3},\"opacity\":0.8,\"size\":12},\"mode\":\"markers\",\"name\":\"Stable\",\"showlegend\":true,\"type\":\"scatter3d\",\"x\":[0.5196152422706631,0.5673959542035977,0.5773502691896257,0.4330127018922193,0.8660254037844386,0.4330127018922193,0.0,0.0],\"y\":[0.7,0.6724137931034483,0.6666666666666666,0.25,0.5,0.75,0.0,1.0],\"z\":[-2.494,-2.25,-2.198,-2.403,0.0,-2.415,0.0,0.0]}],                        {\"autosize\":true,\"height\":700,\"hovermode\":\"closest\",\"legend\":{\"orientation\":\"h\",\"traceorder\":\"reversed\",\"x\":0.5,\"xanchor\":\"center\",\"y\":0.0,\"yanchor\":\"top\"},\"margin\":{\"b\":10,\"l\":0,\"pad\":0,\"r\":0,\"t\":0},\"paper_bgcolor\":\"rgba(0,0,0,0)\",\"plot_bgcolor\":\"rgba(0,0,0,0)\",\"scene\":{\"annotations\":[{\"align\":\"center\",\"font\":{\"color\":\"#000000\",\"size\":24.0},\"opacity\":1.0,\"showarrow\":false,\"text\":\"S\",\"x\":0.8660254037844386,\"xanchor\":\"right\",\"xshift\":-10,\"y\":0.5,\"yanchor\":\"auto\",\"yshift\":-10,\"z\":-2.2448551003875},{\"align\":\"center\",\"font\":{\"color\":\"#000000\",\"size\":24.0},\"opacity\":1.0,\"showarrow\":false,\"text\":\"Ca\",\"x\":0.0,\"xanchor\":\"right\",\"xshift\":-10,\"y\":0.0,\"yanchor\":\"auto\",\"yshift\":-10,\"z\":-2.2448551003875},{\"align\":\"center\",\"font\":{\"color\":\"#000000\",\"size\":24.0},\"opacity\":1.0,\"showarrow\":false,\"text\":\"La\",\"x\":0.0,\"xanchor\":\"right\",\"xshift\":-10,\"y\":1.0,\"yanchor\":\"auto\",\"yshift\":-10,\"z\":-2.2448551003875},{\"opacity\":0,\"text\":\"\",\"x\":1,\"y\":1,\"z\":0}],\"aspectratio\":{\"x\":1.7,\"y\":1.7,\"z\":1.2},\"camera\":{\"center\":{\"x\":-0.1,\"y\":0,\"z\":-0.15},\"eye\":{\"x\":-0.1,\"y\":0,\"z\":2.5},\"projection\":{\"type\":\"orthographic\"}},\"xaxis\":{\"autorange\":true,\"showaxeslabels\":false,\"showgrid\":false,\"showline\":false,\"showspikes\":false,\"showticklabels\":false,\"ticks\":\"\",\"visible\":false,\"zeroline\":false},\"yaxis\":{\"autorange\":true,\"showaxeslabels\":false,\"showgrid\":false,\"showline\":false,\"showspikes\":false,\"showticklabels\":false,\"ticks\":\"\",\"visible\":false,\"zeroline\":false},\"zaxis\":{\"autorange\":true,\"showaxeslabels\":false,\"showgrid\":false,\"showline\":false,\"showspikes\":false,\"showticklabels\":false,\"ticks\":\"\",\"visible\":false,\"zeroline\":false}},\"showlegend\":true,\"template\":{\"data\":{\"bar\":[{\"error_x\":{\"color\":\"#2a3f5f\"},\"error_y\":{\"color\":\"#2a3f5f\"},\"marker\":{\"line\":{\"color\":\"#E5ECF6\",\"width\":0.5},\"pattern\":{\"fillmode\":\"overlay\",\"size\":10,\"solidity\":0.2}},\"type\":\"bar\"}],\"barpolar\":[{\"marker\":{\"line\":{\"color\":\"#E5ECF6\",\"width\":0.5},\"pattern\":{\"fillmode\":\"overlay\",\"size\":10,\"solidity\":0.2}},\"type\":\"barpolar\"}],\"carpet\":[{\"aaxis\":{\"endlinecolor\":\"#2a3f5f\",\"gridcolor\":\"white\",\"linecolor\":\"white\",\"minorgridcolor\":\"white\",\"startlinecolor\":\"#2a3f5f\"},\"baxis\":{\"endlinecolor\":\"#2a3f5f\",\"gridcolor\":\"white\",\"linecolor\":\"white\",\"minorgridcolor\":\"white\",\"startlinecolor\":\"#2a3f5f\"},\"type\":\"carpet\"}],\"choropleth\":[{\"colorbar\":{\"outlinewidth\":0,\"ticks\":\"\"},\"type\":\"choropleth\"}],\"contour\":[{\"colorbar\":{\"outlinewidth\":0,\"ticks\":\"\"},\"colorscale\":[[0.0,\"#0d0887\"],[0.1111111111111111,\"#46039f\"],[0.2222222222222222,\"#7201a8\"],[0.3333333333333333,\"#9c179e\"],[0.4444444444444444,\"#bd3786\"],[0.5555555555555556,\"#d8576b\"],[0.6666666666666666,\"#ed7953\"],[0.7777777777777778,\"#fb9f3a\"],[0.8888888888888888,\"#fdca26\"],[1.0,\"#f0f921\"]],\"type\":\"contour\"}],\"contourcarpet\":[{\"colorbar\":{\"outlinewidth\":0,\"ticks\":\"\"},\"type\":\"contourcarpet\"}],\"heatmap\":[{\"colorbar\":{\"outlinewidth\":0,\"ticks\":\"\"},\"colorscale\":[[0.0,\"#0d0887\"],[0.1111111111111111,\"#46039f\"],[0.2222222222222222,\"#7201a8\"],[0.3333333333333333,\"#9c179e\"],[0.4444444444444444,\"#bd3786\"],[0.5555555555555556,\"#d8576b\"],[0.6666666666666666,\"#ed7953\"],[0.7777777777777778,\"#fb9f3a\"],[0.8888888888888888,\"#fdca26\"],[1.0,\"#f0f921\"]],\"type\":\"heatmap\"}],\"heatmapgl\":[{\"colorbar\":{\"outlinewidth\":0,\"ticks\":\"\"},\"colorscale\":[[0.0,\"#0d0887\"],[0.1111111111111111,\"#46039f\"],[0.2222222222222222,\"#7201a8\"],[0.3333333333333333,\"#9c179e\"],[0.4444444444444444,\"#bd3786\"],[0.5555555555555556,\"#d8576b\"],[0.6666666666666666,\"#ed7953\"],[0.7777777777777778,\"#fb9f3a\"],[0.8888888888888888,\"#fdca26\"],[1.0,\"#f0f921\"]],\"type\":\"heatmapgl\"}],\"histogram\":[{\"marker\":{\"pattern\":{\"fillmode\":\"overlay\",\"size\":10,\"solidity\":0.2}},\"type\":\"histogram\"}],\"histogram2d\":[{\"colorbar\":{\"outlinewidth\":0,\"ticks\":\"\"},\"colorscale\":[[0.0,\"#0d0887\"],[0.1111111111111111,\"#46039f\"],[0.2222222222222222,\"#7201a8\"],[0.3333333333333333,\"#9c179e\"],[0.4444444444444444,\"#bd3786\"],[0.5555555555555556,\"#d8576b\"],[0.6666666666666666,\"#ed7953\"],[0.7777777777777778,\"#fb9f3a\"],[0.8888888888888888,\"#fdca26\"],[1.0,\"#f0f921\"]],\"type\":\"histogram2d\"}],\"histogram2dcontour\":[{\"colorbar\":{\"outlinewidth\":0,\"ticks\":\"\"},\"colorscale\":[[0.0,\"#0d0887\"],[0.1111111111111111,\"#46039f\"],[0.2222222222222222,\"#7201a8\"],[0.3333333333333333,\"#9c179e\"],[0.4444444444444444,\"#bd3786\"],[0.5555555555555556,\"#d8576b\"],[0.6666666666666666,\"#ed7953\"],[0.7777777777777778,\"#fb9f3a\"],[0.8888888888888888,\"#fdca26\"],[1.0,\"#f0f921\"]],\"type\":\"histogram2dcontour\"}],\"mesh3d\":[{\"colorbar\":{\"outlinewidth\":0,\"ticks\":\"\"},\"type\":\"mesh3d\"}],\"parcoords\":[{\"line\":{\"colorbar\":{\"outlinewidth\":0,\"ticks\":\"\"}},\"type\":\"parcoords\"}],\"pie\":[{\"automargin\":true,\"type\":\"pie\"}],\"scatter\":[{\"marker\":{\"colorbar\":{\"outlinewidth\":0,\"ticks\":\"\"}},\"type\":\"scatter\"}],\"scatter3d\":[{\"line\":{\"colorbar\":{\"outlinewidth\":0,\"ticks\":\"\"}},\"marker\":{\"colorbar\":{\"outlinewidth\":0,\"ticks\":\"\"}},\"type\":\"scatter3d\"}],\"scattercarpet\":[{\"marker\":{\"colorbar\":{\"outlinewidth\":0,\"ticks\":\"\"}},\"type\":\"scattercarpet\"}],\"scattergeo\":[{\"marker\":{\"colorbar\":{\"outlinewidth\":0,\"ticks\":\"\"}},\"type\":\"scattergeo\"}],\"scattergl\":[{\"marker\":{\"colorbar\":{\"outlinewidth\":0,\"ticks\":\"\"}},\"type\":\"scattergl\"}],\"scattermapbox\":[{\"marker\":{\"colorbar\":{\"outlinewidth\":0,\"ticks\":\"\"}},\"type\":\"scattermapbox\"}],\"scatterpolar\":[{\"marker\":{\"colorbar\":{\"outlinewidth\":0,\"ticks\":\"\"}},\"type\":\"scatterpolar\"}],\"scatterpolargl\":[{\"marker\":{\"colorbar\":{\"outlinewidth\":0,\"ticks\":\"\"}},\"type\":\"scatterpolargl\"}],\"scatterternary\":[{\"marker\":{\"colorbar\":{\"outlinewidth\":0,\"ticks\":\"\"}},\"type\":\"scatterternary\"}],\"surface\":[{\"colorbar\":{\"outlinewidth\":0,\"ticks\":\"\"},\"colorscale\":[[0.0,\"#0d0887\"],[0.1111111111111111,\"#46039f\"],[0.2222222222222222,\"#7201a8\"],[0.3333333333333333,\"#9c179e\"],[0.4444444444444444,\"#bd3786\"],[0.5555555555555556,\"#d8576b\"],[0.6666666666666666,\"#ed7953\"],[0.7777777777777778,\"#fb9f3a\"],[0.8888888888888888,\"#fdca26\"],[1.0,\"#f0f921\"]],\"type\":\"surface\"}],\"table\":[{\"cells\":{\"fill\":{\"color\":\"#EBF0F8\"},\"line\":{\"color\":\"white\"}},\"header\":{\"fill\":{\"color\":\"#C8D4E3\"},\"line\":{\"color\":\"white\"}},\"type\":\"table\"}]},\"layout\":{\"annotationdefaults\":{\"arrowcolor\":\"#2a3f5f\",\"arrowhead\":0,\"arrowwidth\":1},\"autotypenumbers\":\"strict\",\"coloraxis\":{\"colorbar\":{\"outlinewidth\":0,\"ticks\":\"\"}},\"colorscale\":{\"diverging\":[[0,\"#8e0152\"],[0.1,\"#c51b7d\"],[0.2,\"#de77ae\"],[0.3,\"#f1b6da\"],[0.4,\"#fde0ef\"],[0.5,\"#f7f7f7\"],[0.6,\"#e6f5d0\"],[0.7,\"#b8e186\"],[0.8,\"#7fbc41\"],[0.9,\"#4d9221\"],[1,\"#276419\"]],\"sequential\":[[0.0,\"#0d0887\"],[0.1111111111111111,\"#46039f\"],[0.2222222222222222,\"#7201a8\"],[0.3333333333333333,\"#9c179e\"],[0.4444444444444444,\"#bd3786\"],[0.5555555555555556,\"#d8576b\"],[0.6666666666666666,\"#ed7953\"],[0.7777777777777778,\"#fb9f3a\"],[0.8888888888888888,\"#fdca26\"],[1.0,\"#f0f921\"]],\"sequentialminus\":[[0.0,\"#0d0887\"],[0.1111111111111111,\"#46039f\"],[0.2222222222222222,\"#7201a8\"],[0.3333333333333333,\"#9c179e\"],[0.4444444444444444,\"#bd3786\"],[0.5555555555555556,\"#d8576b\"],[0.6666666666666666,\"#ed7953\"],[0.7777777777777778,\"#fb9f3a\"],[0.8888888888888888,\"#fdca26\"],[1.0,\"#f0f921\"]]},\"colorway\":[\"#636efa\",\"#EF553B\",\"#00cc96\",\"#ab63fa\",\"#FFA15A\",\"#19d3f3\",\"#FF6692\",\"#B6E880\",\"#FF97FF\",\"#FECB52\"],\"font\":{\"color\":\"#2a3f5f\"},\"geo\":{\"bgcolor\":\"white\",\"lakecolor\":\"white\",\"landcolor\":\"#E5ECF6\",\"showlakes\":true,\"showland\":true,\"subunitcolor\":\"white\"},\"hoverlabel\":{\"align\":\"left\"},\"hovermode\":\"closest\",\"mapbox\":{\"style\":\"light\"},\"paper_bgcolor\":\"white\",\"plot_bgcolor\":\"#E5ECF6\",\"polar\":{\"angularaxis\":{\"gridcolor\":\"white\",\"linecolor\":\"white\",\"ticks\":\"\"},\"bgcolor\":\"#E5ECF6\",\"radialaxis\":{\"gridcolor\":\"white\",\"linecolor\":\"white\",\"ticks\":\"\"}},\"scene\":{\"xaxis\":{\"backgroundcolor\":\"#E5ECF6\",\"gridcolor\":\"white\",\"gridwidth\":2,\"linecolor\":\"white\",\"showbackground\":true,\"ticks\":\"\",\"zerolinecolor\":\"white\"},\"yaxis\":{\"backgroundcolor\":\"#E5ECF6\",\"gridcolor\":\"white\",\"gridwidth\":2,\"linecolor\":\"white\",\"showbackground\":true,\"ticks\":\"\",\"zerolinecolor\":\"white\"},\"zaxis\":{\"backgroundcolor\":\"#E5ECF6\",\"gridcolor\":\"white\",\"gridwidth\":2,\"linecolor\":\"white\",\"showbackground\":true,\"ticks\":\"\",\"zerolinecolor\":\"white\"}},\"shapedefaults\":{\"line\":{\"color\":\"#2a3f5f\"}},\"ternary\":{\"aaxis\":{\"gridcolor\":\"white\",\"linecolor\":\"white\",\"ticks\":\"\"},\"baxis\":{\"gridcolor\":\"white\",\"linecolor\":\"white\",\"ticks\":\"\"},\"bgcolor\":\"#E5ECF6\",\"caxis\":{\"gridcolor\":\"white\",\"linecolor\":\"white\",\"ticks\":\"\"}},\"title\":{\"x\":0.05},\"xaxis\":{\"automargin\":true,\"gridcolor\":\"white\",\"linecolor\":\"white\",\"ticks\":\"\",\"title\":{\"standoff\":15},\"zerolinecolor\":\"white\",\"zerolinewidth\":2},\"yaxis\":{\"automargin\":true,\"gridcolor\":\"white\",\"linecolor\":\"white\",\"ticks\":\"\",\"title\":{\"standoff\":15},\"zerolinecolor\":\"white\",\"zerolinewidth\":2}}}},                        {\"responsive\": true}                    ).then(function(){\n",
       "                            \n",
       "var gd = document.getElementById('f37bebd5-227f-49ea-acb5-cd43f59b5598');\n",
       "var x = new MutationObserver(function (mutations, observer) {{\n",
       "        var display = window.getComputedStyle(gd).display;\n",
       "        if (!display || display === 'none') {{\n",
       "            console.log([gd, 'removed!']);\n",
       "            Plotly.purge(gd);\n",
       "            observer.disconnect();\n",
       "        }}\n",
       "}});\n",
       "\n",
       "// Listen for the removal of the full notebook cells\n",
       "var notebookContainer = gd.closest('#notebook-container');\n",
       "if (notebookContainer) {{\n",
       "    x.observe(notebookContainer, {childList: true});\n",
       "}}\n",
       "\n",
       "// Listen for the clearing of the current output cell\n",
       "var outputEl = gd.closest('.output');\n",
       "if (outputEl) {{\n",
       "    x.observe(outputEl, {childList: true});\n",
       "}}\n",
       "\n",
       "                        })                };                });            </script>        </div>"
      ]
     },
     "metadata": {},
     "output_type": "display_data"
    }
   ],
   "source": [
    "#example from Wenhao Sun https://wenhaosun.github.io/docs/MSE593/\n",
    "from pymatgen.analysis.phase_diagram import PhaseDiagram, PDPlotter\n",
    "import math\n",
    "#This initializes the REST adaptor. Put your own API key in.\n",
    "mpr = MPRester(Sparks_API)\n",
    " \n",
    "#Entries are the basic unit for thermodynamic and other analyses in pymatgen.\n",
    "#This gets all entries belonging to the Ca-O system.\n",
    "entries = mpr.get_entries_in_chemsys(['Ca', 'La', 'S'])\n",
    "\n",
    "#With entries, you can do many sophisticated analyses, \n",
    "#like creating phase diagrams.\n",
    "pd = PhaseDiagram(entries)\n",
    "plotter = PDPlotter(pd)\n",
    "plotter.show()"
   ]
  },
  {
   "cell_type": "code",
   "execution_count": 13,
   "id": "052e087e",
   "metadata": {},
   "outputs": [
    {
     "data": {
      "application/vnd.plotly.v1+json": {
       "config": {
        "plotlyServerURL": "https://plotly.com"
       },
       "data": [
        {
         "hoverinfo": "none",
         "line": {
          "color": "rgba(0,0,0,1.0)",
          "width": 7
         },
         "mode": "lines",
         "showlegend": false,
         "type": "scatter3d",
         "x": [
          0.28867513459481287,
          0.8660254037844386,
          null,
          0.28867513459481287,
          0,
          null,
          0.11547005383792515,
          0,
          null,
          0,
          0,
          null,
          0,
          0,
          null,
          0,
          0.11547005383792515,
          null,
          0.28867513459481287,
          0,
          null,
          0,
          0.8660254037844386,
          null,
          0,
          0,
          null,
          0.11547005383792515,
          0.8660254037844386,
          null,
          0,
          0.8660254037844386,
          null
         ],
         "y": [
          0.8333333333333333,
          0.5,
          null,
          0.8333333333333333,
          0.5,
          null,
          0.06666666666666667,
          0,
          null,
          0.3333333333333333,
          0,
          null,
          0.5,
          1,
          null,
          0.3333333333333333,
          0.06666666666666667,
          null,
          0.8333333333333333,
          1,
          null,
          0.5,
          0.5,
          null,
          0.5,
          0.3333333333333333,
          null,
          0.06666666666666667,
          0.5,
          null,
          0.3333333333333333,
          0.5,
          null
         ],
         "z": [
          -0.1131892033333332,
          0,
          null,
          -0.1131892033333332,
          -0.5020930416666669,
          null,
          -0.07104006522222145,
          0,
          null,
          -0.43172504388888794,
          0,
          null,
          -0.5020930416666669,
          0,
          null,
          -0.43172504388888794,
          -0.07104006522222145,
          null,
          -0.1131892033333332,
          0,
          null,
          -0.5020930416666669,
          0,
          null,
          -0.5020930416666669,
          -0.43172504388888794,
          null,
          -0.07104006522222145,
          0,
          null,
          -0.43172504388888794,
          0,
          null
         ]
        },
        {
         "hoverinfo": "none",
         "line": {
          "color": "rgba (0, 0, 0, 0.4)",
          "dash": "solid",
          "width": 1
         },
         "mode": "lines",
         "showlegend": false,
         "type": "scatter3d",
         "x": [
          0.8660254037844386,
          0,
          null,
          0.8660254037844386,
          0,
          null,
          0.8660254037844386,
          0,
          null,
          0.8660254037844386,
          0,
          null,
          0,
          0,
          null,
          0,
          0,
          null,
          0.8660254037844386,
          0.8660254037844386,
          null,
          0,
          0,
          null,
          0,
          0,
          null
         ],
         "y": [
          0.5,
          1,
          null,
          0.5,
          1,
          null,
          0.5,
          0,
          null,
          0.5,
          0,
          null,
          1,
          0,
          null,
          1,
          0,
          null,
          0.5,
          0.5,
          null,
          1,
          1,
          null,
          0,
          0,
          null
         ],
         "z": [
          0,
          0,
          null,
          -0.5020930416666669,
          -0.5020930416666669,
          null,
          0,
          0,
          null,
          -0.5020930416666669,
          -0.5020930416666669,
          null,
          0,
          0,
          null,
          -0.5020930416666669,
          -0.5020930416666669,
          null,
          0,
          -0.5020930416666669,
          null,
          0,
          -0.5020930416666669,
          null,
          0,
          -0.5020930416666669,
          null
         ]
        },
        {
         "colorbar": {
          "len": 0.75,
          "title": {
           "text": "Formation energy<br>(eV/atom)"
          },
          "x": 0.9
         },
         "colorscale": [
          [
           0,
           "#0c8c00"
          ],
          [
           0.5,
           "#d8ffd4"
          ],
          [
           1,
           "#ffffff"
          ]
         ],
         "flatshading": true,
         "hoverinfo": "none",
         "i": [
          2,
          2,
          2,
          5,
          5
         ],
         "intensity": [
          -0.08383734999999959,
          -0.1131892033333332,
          -0.5020930416666669,
          -0.31650928944444345,
          -0.2454596933333324,
          -0.43172504388888794,
          -0.37032241333333216,
          -0.3137324737500009,
          -0.02938754200000062,
          -0.001066041333332161,
          -0.07104006522222145,
          -0.14038873322580653,
          0,
          0,
          0
         ],
         "j": [
          1,
          1,
          5,
          10,
          10
         ],
         "k": [
          13,
          12,
          12,
          14,
          12
         ],
         "lighting": {
          "ambient": 1,
          "diffuse": 0
         },
         "name": "Convex Hull (shading)",
         "opacity": 0.8,
         "showlegend": true,
         "type": "mesh3d",
         "x": [
          0.4330127018922193,
          0.28867513459481287,
          0,
          0,
          0.21650635094610965,
          0,
          0,
          0,
          0.17320508075688773,
          0,
          0.11547005383792515,
          0,
          0.8660254037844386,
          0,
          0
         ],
         "y": [
          0.75,
          0.8333333333333333,
          0.5,
          0.6666666666666666,
          0.625,
          0.3333333333333333,
          0.6,
          0.25,
          0.1,
          0.2,
          0.06666666666666667,
          0.22580645161290322,
          0.5,
          1,
          0
         ],
         "z": [
          -0.08383734999999959,
          -0.1131892033333332,
          -0.5020930416666669,
          -0.31650928944444345,
          -0.2454596933333324,
          -0.43172504388888794,
          -0.37032241333333216,
          -0.3137324737500009,
          -0.02938754200000062,
          -0.001066041333332161,
          -0.07104006522222145,
          -0.14038873322580653,
          0,
          0,
          0
         ]
        },
        {
         "hoverinfo": "skip",
         "mode": "text",
         "name": "Labels (stable)",
         "opacity": 1,
         "showlegend": true,
         "text": [
          "Mo<sub>2</sub>C",
          "BMo",
          "B<sub>1</sub><sub>3</sub>C<sub>2</sub>",
          "B<sub>2</sub>Mo"
         ],
         "textposition": [
          "middle center",
          "middle center",
          "middle center",
          "middle center"
         ],
         "type": "scatter3d",
         "visible": true,
         "x": [
          0.2986751345948129,
          0.01,
          0.12547005383792514,
          0.01
         ],
         "y": [
          0.8433333333333333,
          0.49,
          0.056666666666666664,
          0.3233333333333333
         ],
         "z": [
          -0.0629798991666665,
          -0.4518837375000002,
          -0.02083076105555476,
          -0.38151573972222125
         ]
        },
        {
         "hoverinfo": "text",
         "hoverlabel": {
          "font": {
           "size": 14
          }
         },
         "hovertext": [
          "C (mp-611448) <br> 0.143 eV/atom (+0.143 eV/atom)",
          "C (mp-568286) <br> 0.006 eV/atom (+0.006 eV/atom)",
          "C (mp-569416) <br> 0.029 eV/atom (+0.029 eV/atom)",
          "C (mp-568806) <br> 0.01 eV/atom (+0.01 eV/atom)",
          "C (mp-606949) <br> 0.008 eV/atom (+0.008 eV/atom)",
          "C (mp-611426) <br> 0.146 eV/atom (+0.146 eV/atom)",
          "C (mp-616440) <br> 0.141 eV/atom (+0.141 eV/atom)",
          "C (mp-1040425) <br> 0.008 eV/atom (+0.008 eV/atom)",
          "C (mp-937760) <br> 0.004 eV/atom (+0.004 eV/atom)",
          "C (mp-990448) <br> 0.008 eV/atom (+0.008 eV/atom)",
          "C (mp-1096869) <br> 0.116 eV/atom (+0.116 eV/atom)",
          "C (mp-66) <br> 0.136 eV/atom (+0.136 eV/atom)",
          "C (mp-997182) <br> 0.008 eV/atom (+0.008 eV/atom)",
          "C (mp-47) <br> 0.162 eV/atom (+0.162 eV/atom)",
          "C (mp-569517) <br> 0.145 eV/atom (+0.145 eV/atom)",
          "C (mp-169) <br> 0.001 eV/atom (+0.001 eV/atom)",
          "C (mp-568363) <br> 0.006 eV/atom (+0.006 eV/atom)",
          "C (mp-569567) <br> 0.144 eV/atom (+0.144 eV/atom)",
          "C (mp-48) <br> 0.006 eV/atom (+0.006 eV/atom)",
          "C (mp-632329) <br> 0.012 eV/atom (+0.012 eV/atom)",
          "C (mp-990424) <br> 0.008 eV/atom (+0.008 eV/atom)",
          "MoC (mp-2305) <br> -0.084 eV/atom (+0.001 eV/atom)",
          "Mo<sub>2</sub>C (mp-1221498) <br> -0.047 eV/atom (+0.067 eV/atom)",
          "Mo<sub>3</sub>C<sub>2</sub> (mp-1221489) <br> 0.061 eV/atom (+0.163 eV/atom)",
          "Mo<sub>3</sub>C<sub>2</sub> (mp-1221473) <br> 0.031 eV/atom (+0.133 eV/atom)",
          "Mo<sub>4</sub>C<sub>3</sub> (mp-1221488) <br> 0.097 eV/atom (+0.194 eV/atom)",
          "B (mp-1193675) <br> 0.027 eV/atom (+0.027 eV/atom)",
          "B (mp-161) <br> 0.027 eV/atom (+0.027 eV/atom)",
          "B (mp-1228790) <br> 0.191 eV/atom (+0.191 eV/atom)",
          "B (mp-22046) <br> 0.098 eV/atom (+0.098 eV/atom)",
          "B (mp-570316) <br> 0.155 eV/atom (+0.155 eV/atom)",
          "BMo (mp-999198) <br> -0.492 eV/atom (+0.01 eV/atom)",
          "BMo<sub>2</sub> (mp-2501) <br> -0.317 eV/atom (+0.018 eV/atom)",
          "BMo<sub>2</sub>C (mp-4472) <br> -0.245 eV/atom (+0.048 eV/atom)",
          "B<sub>2</sub>Mo (mp-960) <br> -0.276 eV/atom (+0.156 eV/atom)",
          "B<sub>2</sub>Mo<sub>3</sub> (mp-1079053) <br> -0.37 eV/atom (+0.031 eV/atom)",
          "B<sub>3</sub>Mo (mp-1080111) <br> -0.314 eV/atom (+0.01 eV/atom)",
          "B<sub>4</sub>C (mp-530074) <br> -0.003 eV/atom (+0.063 eV/atom)",
          "B<sub>4</sub>C (mp-696746) <br> -0.029 eV/atom (+0.036 eV/atom)",
          "B<sub>2</sub><sub>4</sub>Mo<sub>7</sub> (mp-1228730) <br> -0.14 eV/atom (+0.152 eV/atom)"
         ],
         "marker": {
          "color": [
           0.143,
           0.006,
           0.029,
           0.01,
           0.008,
           0.146,
           0.141,
           0.008,
           0.004,
           0.008,
           0.116,
           0.136,
           0.008,
           0.162,
           0.145,
           0.001,
           0.006,
           0.144,
           0.006,
           0.012,
           0.008,
           0.001,
           0.067,
           0.163,
           0.133,
           0.194,
           0.027,
           0.027,
           0.191,
           0.098,
           0.155,
           0.01,
           0.018,
           0.048,
           0.156,
           0.031,
           0.01,
           0.063,
           0.036,
           0.152
          ],
          "colorbar": {
           "len": 0.75,
           "title": {
            "text": "Energy Above Hull<br>(eV/atom)"
           },
           "x": 0.05
          },
          "colorscale": [
           [
            0,
            "#fad393"
           ],
           [
            0.5,
            "#ff813d"
           ],
           [
            1,
            "#ff0000"
           ]
          ],
          "size": 6,
          "symbol": "diamond"
         },
         "mode": "markers",
         "name": "Above Hull",
         "showlegend": true,
         "type": "scatter3d",
         "x": [
          0.8660254037844386,
          0.8660254037844386,
          0.8660254037844386,
          0.8660254037844386,
          0.8660254037844386,
          0.8660254037844386,
          0.8660254037844386,
          0.8660254037844386,
          0.8660254037844386,
          0.8660254037844386,
          0.8660254037844386,
          0.8660254037844386,
          0.8660254037844386,
          0.8660254037844386,
          0.8660254037844386,
          0.8660254037844386,
          0.8660254037844386,
          0.8660254037844386,
          0.8660254037844386,
          0.8660254037844386,
          0.8660254037844386,
          0.4330127018922193,
          0.28867513459481287,
          0.34641016151377546,
          0.34641016151377546,
          0.3711537444790451,
          0,
          0,
          0,
          0,
          0,
          0,
          0,
          0.21650635094610965,
          0,
          0,
          0,
          0.17320508075688773,
          0.17320508075688773,
          0
         ],
         "y": [
          0.5,
          0.5,
          0.5,
          0.5,
          0.5,
          0.5,
          0.5,
          0.5,
          0.5,
          0.5,
          0.5,
          0.5,
          0.5,
          0.5,
          0.5,
          0.5,
          0.5,
          0.5,
          0.5,
          0.5,
          0.5,
          0.75,
          0.8333333333333333,
          0.8,
          0.8,
          0.7857142857142857,
          0,
          0,
          0,
          0,
          0,
          0.5,
          0.6666666666666666,
          0.625,
          0.3333333333333333,
          0.6,
          0.25,
          0.1,
          0.1,
          0.22580645161290322
         ],
         "z": [
          0.143,
          0.006,
          0.029,
          0.01,
          0.008,
          0.146,
          0.141,
          0.008,
          0.004,
          0.008,
          0.116,
          0.136,
          0.008,
          0.162,
          0.145,
          0.001,
          0.006,
          0.144,
          0.006,
          0.012,
          0.008,
          -0.084,
          -0.047,
          0.061,
          0.031,
          0.097,
          0.027,
          0.027,
          0.191,
          0.098,
          0.155,
          -0.492,
          -0.317,
          -0.245,
          -0.276,
          -0.37,
          -0.314,
          -0.003,
          -0.029,
          -0.14
         ]
        },
        {
         "error_z": {
          "array": [
           0,
           0,
           0,
           0,
           0,
           0,
           0
          ],
          "color": "darkgray",
          "thickness": 5,
          "type": "data",
          "width": 10
         },
         "hoverinfo": "text",
         "hoverlabel": {
          "font": {
           "size": 14
          }
         },
         "hovertext": [
          "Mo<sub>2</sub>C (mp-1552) <br> -0.113 eV/atom",
          "C (mp-569304) <br> 0.0 eV/atom",
          "BMo (mp-1890) <br> -0.502 eV/atom",
          "B<sub>1</sub><sub>3</sub>C<sub>2</sub> (mp-576) <br> -0.071 eV/atom",
          "B (mp-160) <br> 0.0 eV/atom",
          "B<sub>2</sub>Mo (mp-2331) <br> -0.432 eV/atom",
          "Mo (mp-129) <br> 0.0 eV/atom"
         ],
         "marker": {
          "color": "black",
          "line": {
           "color": "black",
           "width": 3
          },
          "opacity": 0.8,
          "size": 12
         },
         "mode": "markers",
         "name": "Stable",
         "showlegend": true,
         "type": "scatter3d",
         "x": [
          0.28867513459481287,
          0.8660254037844386,
          0,
          0.11547005383792515,
          0,
          0,
          0
         ],
         "y": [
          0.8333333333333333,
          0.5,
          0.5,
          0.06666666666666667,
          0,
          0.3333333333333333,
          1
         ],
         "z": [
          -0.113,
          0,
          -0.502,
          -0.071,
          0,
          -0.432,
          0
         ]
        }
       ],
       "layout": {
        "autosize": true,
        "height": 700,
        "hovermode": "closest",
        "legend": {
         "orientation": "h",
         "traceorder": "reversed",
         "x": 0.5,
         "xanchor": "center",
         "y": 0,
         "yanchor": "top"
        },
        "margin": {
         "b": 10,
         "l": 0,
         "pad": 0,
         "r": 0,
         "t": 0
        },
        "paper_bgcolor": "rgba(0,0,0,0)",
        "plot_bgcolor": "rgba(0,0,0,0)",
        "scene": {
         "annotations": [
          {
           "align": "center",
           "font": {
            "color": "#000000",
            "size": 24
           },
           "opacity": 1,
           "showarrow": false,
           "text": "C",
           "x": 0.8660254037844386,
           "xanchor": "right",
           "xshift": -10,
           "y": 0.5,
           "yanchor": "auto",
           "yshift": -10,
           "z": -0.4518837375000002
          },
          {
           "align": "center",
           "font": {
            "color": "#000000",
            "size": 24
           },
           "opacity": 1,
           "showarrow": false,
           "text": "B",
           "x": 0,
           "xanchor": "right",
           "xshift": -10,
           "y": 0,
           "yanchor": "auto",
           "yshift": -10,
           "z": -0.4518837375000002
          },
          {
           "align": "center",
           "font": {
            "color": "#000000",
            "size": 24
           },
           "opacity": 1,
           "showarrow": false,
           "text": "Mo",
           "x": 0,
           "xanchor": "right",
           "xshift": -10,
           "y": 1,
           "yanchor": "auto",
           "yshift": -10,
           "z": -0.4518837375000002
          },
          {
           "opacity": 0,
           "text": "",
           "x": 1,
           "y": 1,
           "z": 0
          }
         ],
         "aspectratio": {
          "x": 1.7,
          "y": 1.7,
          "z": 1.2
         },
         "camera": {
          "center": {
           "x": -0.1,
           "y": 0,
           "z": -0.15
          },
          "eye": {
           "x": -0.1,
           "y": 0,
           "z": 2.5
          },
          "projection": {
           "type": "orthographic"
          }
         },
         "xaxis": {
          "autorange": true,
          "showaxeslabels": false,
          "showgrid": false,
          "showline": false,
          "showspikes": false,
          "showticklabels": false,
          "ticks": "",
          "visible": false,
          "zeroline": false
         },
         "yaxis": {
          "autorange": true,
          "showaxeslabels": false,
          "showgrid": false,
          "showline": false,
          "showspikes": false,
          "showticklabels": false,
          "ticks": "",
          "visible": false,
          "zeroline": false
         },
         "zaxis": {
          "autorange": true,
          "showaxeslabels": false,
          "showgrid": false,
          "showline": false,
          "showspikes": false,
          "showticklabels": false,
          "ticks": "",
          "visible": false,
          "zeroline": false
         }
        },
        "showlegend": true,
        "template": {
         "data": {
          "bar": [
           {
            "error_x": {
             "color": "#2a3f5f"
            },
            "error_y": {
             "color": "#2a3f5f"
            },
            "marker": {
             "line": {
              "color": "#E5ECF6",
              "width": 0.5
             },
             "pattern": {
              "fillmode": "overlay",
              "size": 10,
              "solidity": 0.2
             }
            },
            "type": "bar"
           }
          ],
          "barpolar": [
           {
            "marker": {
             "line": {
              "color": "#E5ECF6",
              "width": 0.5
             },
             "pattern": {
              "fillmode": "overlay",
              "size": 10,
              "solidity": 0.2
             }
            },
            "type": "barpolar"
           }
          ],
          "carpet": [
           {
            "aaxis": {
             "endlinecolor": "#2a3f5f",
             "gridcolor": "white",
             "linecolor": "white",
             "minorgridcolor": "white",
             "startlinecolor": "#2a3f5f"
            },
            "baxis": {
             "endlinecolor": "#2a3f5f",
             "gridcolor": "white",
             "linecolor": "white",
             "minorgridcolor": "white",
             "startlinecolor": "#2a3f5f"
            },
            "type": "carpet"
           }
          ],
          "choropleth": [
           {
            "colorbar": {
             "outlinewidth": 0,
             "ticks": ""
            },
            "type": "choropleth"
           }
          ],
          "contour": [
           {
            "colorbar": {
             "outlinewidth": 0,
             "ticks": ""
            },
            "colorscale": [
             [
              0,
              "#0d0887"
             ],
             [
              0.1111111111111111,
              "#46039f"
             ],
             [
              0.2222222222222222,
              "#7201a8"
             ],
             [
              0.3333333333333333,
              "#9c179e"
             ],
             [
              0.4444444444444444,
              "#bd3786"
             ],
             [
              0.5555555555555556,
              "#d8576b"
             ],
             [
              0.6666666666666666,
              "#ed7953"
             ],
             [
              0.7777777777777778,
              "#fb9f3a"
             ],
             [
              0.8888888888888888,
              "#fdca26"
             ],
             [
              1,
              "#f0f921"
             ]
            ],
            "type": "contour"
           }
          ],
          "contourcarpet": [
           {
            "colorbar": {
             "outlinewidth": 0,
             "ticks": ""
            },
            "type": "contourcarpet"
           }
          ],
          "heatmap": [
           {
            "colorbar": {
             "outlinewidth": 0,
             "ticks": ""
            },
            "colorscale": [
             [
              0,
              "#0d0887"
             ],
             [
              0.1111111111111111,
              "#46039f"
             ],
             [
              0.2222222222222222,
              "#7201a8"
             ],
             [
              0.3333333333333333,
              "#9c179e"
             ],
             [
              0.4444444444444444,
              "#bd3786"
             ],
             [
              0.5555555555555556,
              "#d8576b"
             ],
             [
              0.6666666666666666,
              "#ed7953"
             ],
             [
              0.7777777777777778,
              "#fb9f3a"
             ],
             [
              0.8888888888888888,
              "#fdca26"
             ],
             [
              1,
              "#f0f921"
             ]
            ],
            "type": "heatmap"
           }
          ],
          "heatmapgl": [
           {
            "colorbar": {
             "outlinewidth": 0,
             "ticks": ""
            },
            "colorscale": [
             [
              0,
              "#0d0887"
             ],
             [
              0.1111111111111111,
              "#46039f"
             ],
             [
              0.2222222222222222,
              "#7201a8"
             ],
             [
              0.3333333333333333,
              "#9c179e"
             ],
             [
              0.4444444444444444,
              "#bd3786"
             ],
             [
              0.5555555555555556,
              "#d8576b"
             ],
             [
              0.6666666666666666,
              "#ed7953"
             ],
             [
              0.7777777777777778,
              "#fb9f3a"
             ],
             [
              0.8888888888888888,
              "#fdca26"
             ],
             [
              1,
              "#f0f921"
             ]
            ],
            "type": "heatmapgl"
           }
          ],
          "histogram": [
           {
            "marker": {
             "pattern": {
              "fillmode": "overlay",
              "size": 10,
              "solidity": 0.2
             }
            },
            "type": "histogram"
           }
          ],
          "histogram2d": [
           {
            "colorbar": {
             "outlinewidth": 0,
             "ticks": ""
            },
            "colorscale": [
             [
              0,
              "#0d0887"
             ],
             [
              0.1111111111111111,
              "#46039f"
             ],
             [
              0.2222222222222222,
              "#7201a8"
             ],
             [
              0.3333333333333333,
              "#9c179e"
             ],
             [
              0.4444444444444444,
              "#bd3786"
             ],
             [
              0.5555555555555556,
              "#d8576b"
             ],
             [
              0.6666666666666666,
              "#ed7953"
             ],
             [
              0.7777777777777778,
              "#fb9f3a"
             ],
             [
              0.8888888888888888,
              "#fdca26"
             ],
             [
              1,
              "#f0f921"
             ]
            ],
            "type": "histogram2d"
           }
          ],
          "histogram2dcontour": [
           {
            "colorbar": {
             "outlinewidth": 0,
             "ticks": ""
            },
            "colorscale": [
             [
              0,
              "#0d0887"
             ],
             [
              0.1111111111111111,
              "#46039f"
             ],
             [
              0.2222222222222222,
              "#7201a8"
             ],
             [
              0.3333333333333333,
              "#9c179e"
             ],
             [
              0.4444444444444444,
              "#bd3786"
             ],
             [
              0.5555555555555556,
              "#d8576b"
             ],
             [
              0.6666666666666666,
              "#ed7953"
             ],
             [
              0.7777777777777778,
              "#fb9f3a"
             ],
             [
              0.8888888888888888,
              "#fdca26"
             ],
             [
              1,
              "#f0f921"
             ]
            ],
            "type": "histogram2dcontour"
           }
          ],
          "mesh3d": [
           {
            "colorbar": {
             "outlinewidth": 0,
             "ticks": ""
            },
            "type": "mesh3d"
           }
          ],
          "parcoords": [
           {
            "line": {
             "colorbar": {
              "outlinewidth": 0,
              "ticks": ""
             }
            },
            "type": "parcoords"
           }
          ],
          "pie": [
           {
            "automargin": true,
            "type": "pie"
           }
          ],
          "scatter": [
           {
            "marker": {
             "colorbar": {
              "outlinewidth": 0,
              "ticks": ""
             }
            },
            "type": "scatter"
           }
          ],
          "scatter3d": [
           {
            "line": {
             "colorbar": {
              "outlinewidth": 0,
              "ticks": ""
             }
            },
            "marker": {
             "colorbar": {
              "outlinewidth": 0,
              "ticks": ""
             }
            },
            "type": "scatter3d"
           }
          ],
          "scattercarpet": [
           {
            "marker": {
             "colorbar": {
              "outlinewidth": 0,
              "ticks": ""
             }
            },
            "type": "scattercarpet"
           }
          ],
          "scattergeo": [
           {
            "marker": {
             "colorbar": {
              "outlinewidth": 0,
              "ticks": ""
             }
            },
            "type": "scattergeo"
           }
          ],
          "scattergl": [
           {
            "marker": {
             "colorbar": {
              "outlinewidth": 0,
              "ticks": ""
             }
            },
            "type": "scattergl"
           }
          ],
          "scattermapbox": [
           {
            "marker": {
             "colorbar": {
              "outlinewidth": 0,
              "ticks": ""
             }
            },
            "type": "scattermapbox"
           }
          ],
          "scatterpolar": [
           {
            "marker": {
             "colorbar": {
              "outlinewidth": 0,
              "ticks": ""
             }
            },
            "type": "scatterpolar"
           }
          ],
          "scatterpolargl": [
           {
            "marker": {
             "colorbar": {
              "outlinewidth": 0,
              "ticks": ""
             }
            },
            "type": "scatterpolargl"
           }
          ],
          "scatterternary": [
           {
            "marker": {
             "colorbar": {
              "outlinewidth": 0,
              "ticks": ""
             }
            },
            "type": "scatterternary"
           }
          ],
          "surface": [
           {
            "colorbar": {
             "outlinewidth": 0,
             "ticks": ""
            },
            "colorscale": [
             [
              0,
              "#0d0887"
             ],
             [
              0.1111111111111111,
              "#46039f"
             ],
             [
              0.2222222222222222,
              "#7201a8"
             ],
             [
              0.3333333333333333,
              "#9c179e"
             ],
             [
              0.4444444444444444,
              "#bd3786"
             ],
             [
              0.5555555555555556,
              "#d8576b"
             ],
             [
              0.6666666666666666,
              "#ed7953"
             ],
             [
              0.7777777777777778,
              "#fb9f3a"
             ],
             [
              0.8888888888888888,
              "#fdca26"
             ],
             [
              1,
              "#f0f921"
             ]
            ],
            "type": "surface"
           }
          ],
          "table": [
           {
            "cells": {
             "fill": {
              "color": "#EBF0F8"
             },
             "line": {
              "color": "white"
             }
            },
            "header": {
             "fill": {
              "color": "#C8D4E3"
             },
             "line": {
              "color": "white"
             }
            },
            "type": "table"
           }
          ]
         },
         "layout": {
          "annotationdefaults": {
           "arrowcolor": "#2a3f5f",
           "arrowhead": 0,
           "arrowwidth": 1
          },
          "autotypenumbers": "strict",
          "coloraxis": {
           "colorbar": {
            "outlinewidth": 0,
            "ticks": ""
           }
          },
          "colorscale": {
           "diverging": [
            [
             0,
             "#8e0152"
            ],
            [
             0.1,
             "#c51b7d"
            ],
            [
             0.2,
             "#de77ae"
            ],
            [
             0.3,
             "#f1b6da"
            ],
            [
             0.4,
             "#fde0ef"
            ],
            [
             0.5,
             "#f7f7f7"
            ],
            [
             0.6,
             "#e6f5d0"
            ],
            [
             0.7,
             "#b8e186"
            ],
            [
             0.8,
             "#7fbc41"
            ],
            [
             0.9,
             "#4d9221"
            ],
            [
             1,
             "#276419"
            ]
           ],
           "sequential": [
            [
             0,
             "#0d0887"
            ],
            [
             0.1111111111111111,
             "#46039f"
            ],
            [
             0.2222222222222222,
             "#7201a8"
            ],
            [
             0.3333333333333333,
             "#9c179e"
            ],
            [
             0.4444444444444444,
             "#bd3786"
            ],
            [
             0.5555555555555556,
             "#d8576b"
            ],
            [
             0.6666666666666666,
             "#ed7953"
            ],
            [
             0.7777777777777778,
             "#fb9f3a"
            ],
            [
             0.8888888888888888,
             "#fdca26"
            ],
            [
             1,
             "#f0f921"
            ]
           ],
           "sequentialminus": [
            [
             0,
             "#0d0887"
            ],
            [
             0.1111111111111111,
             "#46039f"
            ],
            [
             0.2222222222222222,
             "#7201a8"
            ],
            [
             0.3333333333333333,
             "#9c179e"
            ],
            [
             0.4444444444444444,
             "#bd3786"
            ],
            [
             0.5555555555555556,
             "#d8576b"
            ],
            [
             0.6666666666666666,
             "#ed7953"
            ],
            [
             0.7777777777777778,
             "#fb9f3a"
            ],
            [
             0.8888888888888888,
             "#fdca26"
            ],
            [
             1,
             "#f0f921"
            ]
           ]
          },
          "colorway": [
           "#636efa",
           "#EF553B",
           "#00cc96",
           "#ab63fa",
           "#FFA15A",
           "#19d3f3",
           "#FF6692",
           "#B6E880",
           "#FF97FF",
           "#FECB52"
          ],
          "font": {
           "color": "#2a3f5f"
          },
          "geo": {
           "bgcolor": "white",
           "lakecolor": "white",
           "landcolor": "#E5ECF6",
           "showlakes": true,
           "showland": true,
           "subunitcolor": "white"
          },
          "hoverlabel": {
           "align": "left"
          },
          "hovermode": "closest",
          "mapbox": {
           "style": "light"
          },
          "paper_bgcolor": "white",
          "plot_bgcolor": "#E5ECF6",
          "polar": {
           "angularaxis": {
            "gridcolor": "white",
            "linecolor": "white",
            "ticks": ""
           },
           "bgcolor": "#E5ECF6",
           "radialaxis": {
            "gridcolor": "white",
            "linecolor": "white",
            "ticks": ""
           }
          },
          "scene": {
           "xaxis": {
            "backgroundcolor": "#E5ECF6",
            "gridcolor": "white",
            "gridwidth": 2,
            "linecolor": "white",
            "showbackground": true,
            "ticks": "",
            "zerolinecolor": "white"
           },
           "yaxis": {
            "backgroundcolor": "#E5ECF6",
            "gridcolor": "white",
            "gridwidth": 2,
            "linecolor": "white",
            "showbackground": true,
            "ticks": "",
            "zerolinecolor": "white"
           },
           "zaxis": {
            "backgroundcolor": "#E5ECF6",
            "gridcolor": "white",
            "gridwidth": 2,
            "linecolor": "white",
            "showbackground": true,
            "ticks": "",
            "zerolinecolor": "white"
           }
          },
          "shapedefaults": {
           "line": {
            "color": "#2a3f5f"
           }
          },
          "ternary": {
           "aaxis": {
            "gridcolor": "white",
            "linecolor": "white",
            "ticks": ""
           },
           "baxis": {
            "gridcolor": "white",
            "linecolor": "white",
            "ticks": ""
           },
           "bgcolor": "#E5ECF6",
           "caxis": {
            "gridcolor": "white",
            "linecolor": "white",
            "ticks": ""
           }
          },
          "title": {
           "x": 0.05
          },
          "xaxis": {
           "automargin": true,
           "gridcolor": "white",
           "linecolor": "white",
           "ticks": "",
           "title": {
            "standoff": 15
           },
           "zerolinecolor": "white",
           "zerolinewidth": 2
          },
          "yaxis": {
           "automargin": true,
           "gridcolor": "white",
           "linecolor": "white",
           "ticks": "",
           "title": {
            "standoff": 15
           },
           "zerolinecolor": "white",
           "zerolinewidth": 2
          }
         }
        }
       }
      },
      "text/html": [
       "<div>                            <div id=\"f959e01e-3e05-4573-b31e-1697de45af71\" class=\"plotly-graph-div\" style=\"height:700px; width:100%;\"></div>            <script type=\"text/javascript\">                require([\"plotly\"], function(Plotly) {                    window.PLOTLYENV=window.PLOTLYENV || {};                                    if (document.getElementById(\"f959e01e-3e05-4573-b31e-1697de45af71\")) {                    Plotly.newPlot(                        \"f959e01e-3e05-4573-b31e-1697de45af71\",                        [{\"hoverinfo\":\"none\",\"line\":{\"color\":\"rgba(0,0,0,1.0)\",\"width\":7.0},\"mode\":\"lines\",\"showlegend\":false,\"type\":\"scatter3d\",\"x\":[0.28867513459481287,0.8660254037844386,null,0.28867513459481287,0.0,null,0.11547005383792515,0.0,null,0.0,0.0,null,0.0,0.0,null,0.0,0.11547005383792515,null,0.28867513459481287,0.0,null,0.0,0.8660254037844386,null,0.0,0.0,null,0.11547005383792515,0.8660254037844386,null,0.0,0.8660254037844386,null],\"y\":[0.8333333333333333,0.5,null,0.8333333333333333,0.5,null,0.06666666666666667,0.0,null,0.3333333333333333,0.0,null,0.5,1.0,null,0.3333333333333333,0.06666666666666667,null,0.8333333333333333,1.0,null,0.5,0.5,null,0.5,0.3333333333333333,null,0.06666666666666667,0.5,null,0.3333333333333333,0.5,null],\"z\":[-0.1131892033333332,0.0,null,-0.1131892033333332,-0.5020930416666669,null,-0.07104006522222145,0.0,null,-0.43172504388888794,0.0,null,-0.5020930416666669,0.0,null,-0.43172504388888794,-0.07104006522222145,null,-0.1131892033333332,0.0,null,-0.5020930416666669,0.0,null,-0.5020930416666669,-0.43172504388888794,null,-0.07104006522222145,0.0,null,-0.43172504388888794,0.0,null]},{\"hoverinfo\":\"none\",\"line\":{\"color\":\"rgba (0, 0, 0, 0.4)\",\"dash\":\"solid\",\"width\":1.0},\"mode\":\"lines\",\"showlegend\":false,\"type\":\"scatter3d\",\"x\":[0.8660254037844386,0.0,null,0.8660254037844386,0.0,null,0.8660254037844386,0.0,null,0.8660254037844386,0.0,null,0.0,0.0,null,0.0,0.0,null,0.8660254037844386,0.8660254037844386,null,0.0,0.0,null,0.0,0.0,null],\"y\":[0.5,1.0,null,0.5,1.0,null,0.5,0.0,null,0.5,0.0,null,1.0,0.0,null,1.0,0.0,null,0.5,0.5,null,1.0,1.0,null,0.0,0.0,null],\"z\":[0,0,null,-0.5020930416666669,-0.5020930416666669,null,0,0,null,-0.5020930416666669,-0.5020930416666669,null,0,0,null,-0.5020930416666669,-0.5020930416666669,null,0,-0.5020930416666669,null,0,-0.5020930416666669,null,0,-0.5020930416666669,null]},{\"colorbar\":{\"len\":0.75,\"title\":{\"text\":\"Formation energy<br>(eV/atom)\"},\"x\":0.9},\"colorscale\":[[0.0,\"#0c8c00\"],[0.5,\"#d8ffd4\"],[1.0,\"#ffffff\"]],\"flatshading\":true,\"hoverinfo\":\"none\",\"i\":[2,2,2,5,5],\"intensity\":[-0.08383734999999959,-0.1131892033333332,-0.5020930416666669,-0.31650928944444345,-0.2454596933333324,-0.43172504388888794,-0.37032241333333216,-0.3137324737500009,-0.02938754200000062,-0.001066041333332161,-0.07104006522222145,-0.14038873322580653,0.0,0.0,0.0],\"j\":[1,1,5,10,10],\"k\":[13,12,12,14,12],\"lighting\":{\"ambient\":1.0,\"diffuse\":0.0},\"name\":\"Convex Hull (shading)\",\"opacity\":0.8,\"showlegend\":true,\"type\":\"mesh3d\",\"x\":[0.4330127018922193,0.28867513459481287,0.0,0.0,0.21650635094610965,0.0,0.0,0.0,0.17320508075688773,0.0,0.11547005383792515,0.0,0.8660254037844386,0.0,0.0],\"y\":[0.75,0.8333333333333333,0.5,0.6666666666666666,0.625,0.3333333333333333,0.6,0.25,0.1,0.2,0.06666666666666667,0.22580645161290322,0.5,1.0,0.0],\"z\":[-0.08383734999999959,-0.1131892033333332,-0.5020930416666669,-0.31650928944444345,-0.2454596933333324,-0.43172504388888794,-0.37032241333333216,-0.3137324737500009,-0.02938754200000062,-0.001066041333332161,-0.07104006522222145,-0.14038873322580653,0.0,0.0,0.0]},{\"hoverinfo\":\"skip\",\"mode\":\"text\",\"name\":\"Labels (stable)\",\"opacity\":1.0,\"showlegend\":true,\"text\":[\"Mo<sub>2</sub>C\",\"BMo\",\"B<sub>1</sub><sub>3</sub>C<sub>2</sub>\",\"B<sub>2</sub>Mo\"],\"textposition\":[\"middle center\",\"middle center\",\"middle center\",\"middle center\"],\"type\":\"scatter3d\",\"visible\":true,\"x\":[0.2986751345948129,0.01,0.12547005383792514,0.01],\"y\":[0.8433333333333333,0.49,0.056666666666666664,0.3233333333333333],\"z\":[-0.0629798991666665,-0.4518837375000002,-0.02083076105555476,-0.38151573972222125]},{\"hoverinfo\":\"text\",\"hoverlabel\":{\"font\":{\"size\":14}},\"hovertext\":[\"C (mp-611448) <br> 0.143 eV/atom (+0.143 eV/atom)\",\"C (mp-568286) <br> 0.006 eV/atom (+0.006 eV/atom)\",\"C (mp-569416) <br> 0.029 eV/atom (+0.029 eV/atom)\",\"C (mp-568806) <br> 0.01 eV/atom (+0.01 eV/atom)\",\"C (mp-606949) <br> 0.008 eV/atom (+0.008 eV/atom)\",\"C (mp-611426) <br> 0.146 eV/atom (+0.146 eV/atom)\",\"C (mp-616440) <br> 0.141 eV/atom (+0.141 eV/atom)\",\"C (mp-1040425) <br> 0.008 eV/atom (+0.008 eV/atom)\",\"C (mp-937760) <br> 0.004 eV/atom (+0.004 eV/atom)\",\"C (mp-990448) <br> 0.008 eV/atom (+0.008 eV/atom)\",\"C (mp-1096869) <br> 0.116 eV/atom (+0.116 eV/atom)\",\"C (mp-66) <br> 0.136 eV/atom (+0.136 eV/atom)\",\"C (mp-997182) <br> 0.008 eV/atom (+0.008 eV/atom)\",\"C (mp-47) <br> 0.162 eV/atom (+0.162 eV/atom)\",\"C (mp-569517) <br> 0.145 eV/atom (+0.145 eV/atom)\",\"C (mp-169) <br> 0.001 eV/atom (+0.001 eV/atom)\",\"C (mp-568363) <br> 0.006 eV/atom (+0.006 eV/atom)\",\"C (mp-569567) <br> 0.144 eV/atom (+0.144 eV/atom)\",\"C (mp-48) <br> 0.006 eV/atom (+0.006 eV/atom)\",\"C (mp-632329) <br> 0.012 eV/atom (+0.012 eV/atom)\",\"C (mp-990424) <br> 0.008 eV/atom (+0.008 eV/atom)\",\"MoC (mp-2305) <br> -0.084 eV/atom (+0.001 eV/atom)\",\"Mo<sub>2</sub>C (mp-1221498) <br> -0.047 eV/atom (+0.067 eV/atom)\",\"Mo<sub>3</sub>C<sub>2</sub> (mp-1221489) <br> 0.061 eV/atom (+0.163 eV/atom)\",\"Mo<sub>3</sub>C<sub>2</sub> (mp-1221473) <br> 0.031 eV/atom (+0.133 eV/atom)\",\"Mo<sub>4</sub>C<sub>3</sub> (mp-1221488) <br> 0.097 eV/atom (+0.194 eV/atom)\",\"B (mp-1193675) <br> 0.027 eV/atom (+0.027 eV/atom)\",\"B (mp-161) <br> 0.027 eV/atom (+0.027 eV/atom)\",\"B (mp-1228790) <br> 0.191 eV/atom (+0.191 eV/atom)\",\"B (mp-22046) <br> 0.098 eV/atom (+0.098 eV/atom)\",\"B (mp-570316) <br> 0.155 eV/atom (+0.155 eV/atom)\",\"BMo (mp-999198) <br> -0.492 eV/atom (+0.01 eV/atom)\",\"BMo<sub>2</sub> (mp-2501) <br> -0.317 eV/atom (+0.018 eV/atom)\",\"BMo<sub>2</sub>C (mp-4472) <br> -0.245 eV/atom (+0.048 eV/atom)\",\"B<sub>2</sub>Mo (mp-960) <br> -0.276 eV/atom (+0.156 eV/atom)\",\"B<sub>2</sub>Mo<sub>3</sub> (mp-1079053) <br> -0.37 eV/atom (+0.031 eV/atom)\",\"B<sub>3</sub>Mo (mp-1080111) <br> -0.314 eV/atom (+0.01 eV/atom)\",\"B<sub>4</sub>C (mp-530074) <br> -0.003 eV/atom (+0.063 eV/atom)\",\"B<sub>4</sub>C (mp-696746) <br> -0.029 eV/atom (+0.036 eV/atom)\",\"B<sub>2</sub><sub>4</sub>Mo<sub>7</sub> (mp-1228730) <br> -0.14 eV/atom (+0.152 eV/atom)\"],\"marker\":{\"color\":[0.143,0.006,0.029,0.01,0.008,0.146,0.141,0.008,0.004,0.008,0.116,0.136,0.008,0.162,0.145,0.001,0.006,0.144,0.006,0.012,0.008,0.001,0.067,0.163,0.133,0.194,0.027,0.027,0.191,0.098,0.155,0.01,0.018,0.048,0.156,0.031,0.01,0.063,0.036,0.152],\"colorbar\":{\"len\":0.75,\"title\":{\"text\":\"Energy Above Hull<br>(eV/atom)\"},\"x\":0.05},\"colorscale\":[[0.0,\"#fad393\"],[0.5,\"#ff813d\"],[1.0,\"#ff0000\"]],\"size\":6,\"symbol\":\"diamond\"},\"mode\":\"markers\",\"name\":\"Above Hull\",\"showlegend\":true,\"type\":\"scatter3d\",\"x\":[0.8660254037844386,0.8660254037844386,0.8660254037844386,0.8660254037844386,0.8660254037844386,0.8660254037844386,0.8660254037844386,0.8660254037844386,0.8660254037844386,0.8660254037844386,0.8660254037844386,0.8660254037844386,0.8660254037844386,0.8660254037844386,0.8660254037844386,0.8660254037844386,0.8660254037844386,0.8660254037844386,0.8660254037844386,0.8660254037844386,0.8660254037844386,0.4330127018922193,0.28867513459481287,0.34641016151377546,0.34641016151377546,0.3711537444790451,0.0,0.0,0.0,0.0,0.0,0.0,0.0,0.21650635094610965,0.0,0.0,0.0,0.17320508075688773,0.17320508075688773,0.0],\"y\":[0.5,0.5,0.5,0.5,0.5,0.5,0.5,0.5,0.5,0.5,0.5,0.5,0.5,0.5,0.5,0.5,0.5,0.5,0.5,0.5,0.5,0.75,0.8333333333333333,0.8,0.8,0.7857142857142857,0.0,0.0,0.0,0.0,0.0,0.5,0.6666666666666666,0.625,0.3333333333333333,0.6,0.25,0.1,0.1,0.22580645161290322],\"z\":[0.143,0.006,0.029,0.01,0.008,0.146,0.141,0.008,0.004,0.008,0.116,0.136,0.008,0.162,0.145,0.001,0.006,0.144,0.006,0.012,0.008,-0.084,-0.047,0.061,0.031,0.097,0.027,0.027,0.191,0.098,0.155,-0.492,-0.317,-0.245,-0.276,-0.37,-0.314,-0.003,-0.029,-0.14]},{\"error_z\":{\"array\":[0,0,0,0,0,0,0],\"color\":\"darkgray\",\"thickness\":5,\"type\":\"data\",\"width\":10},\"hoverinfo\":\"text\",\"hoverlabel\":{\"font\":{\"size\":14}},\"hovertext\":[\"Mo<sub>2</sub>C (mp-1552) <br> -0.113 eV/atom\",\"C (mp-569304) <br> 0.0 eV/atom\",\"BMo (mp-1890) <br> -0.502 eV/atom\",\"B<sub>1</sub><sub>3</sub>C<sub>2</sub> (mp-576) <br> -0.071 eV/atom\",\"B (mp-160) <br> 0.0 eV/atom\",\"B<sub>2</sub>Mo (mp-2331) <br> -0.432 eV/atom\",\"Mo (mp-129) <br> 0.0 eV/atom\"],\"marker\":{\"color\":\"black\",\"line\":{\"color\":\"black\",\"width\":3},\"opacity\":0.8,\"size\":12},\"mode\":\"markers\",\"name\":\"Stable\",\"showlegend\":true,\"type\":\"scatter3d\",\"x\":[0.28867513459481287,0.8660254037844386,0.0,0.11547005383792515,0.0,0.0,0.0],\"y\":[0.8333333333333333,0.5,0.5,0.06666666666666667,0.0,0.3333333333333333,1.0],\"z\":[-0.113,0.0,-0.502,-0.071,0.0,-0.432,0.0]}],                        {\"autosize\":true,\"height\":700,\"hovermode\":\"closest\",\"legend\":{\"orientation\":\"h\",\"traceorder\":\"reversed\",\"x\":0.5,\"xanchor\":\"center\",\"y\":0.0,\"yanchor\":\"top\"},\"margin\":{\"b\":10,\"l\":0,\"pad\":0,\"r\":0,\"t\":0},\"paper_bgcolor\":\"rgba(0,0,0,0)\",\"plot_bgcolor\":\"rgba(0,0,0,0)\",\"scene\":{\"annotations\":[{\"align\":\"center\",\"font\":{\"color\":\"#000000\",\"size\":24.0},\"opacity\":1.0,\"showarrow\":false,\"text\":\"C\",\"x\":0.8660254037844386,\"xanchor\":\"right\",\"xshift\":-10,\"y\":0.5,\"yanchor\":\"auto\",\"yshift\":-10,\"z\":-0.4518837375000002},{\"align\":\"center\",\"font\":{\"color\":\"#000000\",\"size\":24.0},\"opacity\":1.0,\"showarrow\":false,\"text\":\"B\",\"x\":0.0,\"xanchor\":\"right\",\"xshift\":-10,\"y\":0.0,\"yanchor\":\"auto\",\"yshift\":-10,\"z\":-0.4518837375000002},{\"align\":\"center\",\"font\":{\"color\":\"#000000\",\"size\":24.0},\"opacity\":1.0,\"showarrow\":false,\"text\":\"Mo\",\"x\":0.0,\"xanchor\":\"right\",\"xshift\":-10,\"y\":1.0,\"yanchor\":\"auto\",\"yshift\":-10,\"z\":-0.4518837375000002},{\"opacity\":0,\"text\":\"\",\"x\":1,\"y\":1,\"z\":0}],\"aspectratio\":{\"x\":1.7,\"y\":1.7,\"z\":1.2},\"camera\":{\"center\":{\"x\":-0.1,\"y\":0,\"z\":-0.15},\"eye\":{\"x\":-0.1,\"y\":0,\"z\":2.5},\"projection\":{\"type\":\"orthographic\"}},\"xaxis\":{\"autorange\":true,\"showaxeslabels\":false,\"showgrid\":false,\"showline\":false,\"showspikes\":false,\"showticklabels\":false,\"ticks\":\"\",\"visible\":false,\"zeroline\":false},\"yaxis\":{\"autorange\":true,\"showaxeslabels\":false,\"showgrid\":false,\"showline\":false,\"showspikes\":false,\"showticklabels\":false,\"ticks\":\"\",\"visible\":false,\"zeroline\":false},\"zaxis\":{\"autorange\":true,\"showaxeslabels\":false,\"showgrid\":false,\"showline\":false,\"showspikes\":false,\"showticklabels\":false,\"ticks\":\"\",\"visible\":false,\"zeroline\":false}},\"showlegend\":true,\"template\":{\"data\":{\"bar\":[{\"error_x\":{\"color\":\"#2a3f5f\"},\"error_y\":{\"color\":\"#2a3f5f\"},\"marker\":{\"line\":{\"color\":\"#E5ECF6\",\"width\":0.5},\"pattern\":{\"fillmode\":\"overlay\",\"size\":10,\"solidity\":0.2}},\"type\":\"bar\"}],\"barpolar\":[{\"marker\":{\"line\":{\"color\":\"#E5ECF6\",\"width\":0.5},\"pattern\":{\"fillmode\":\"overlay\",\"size\":10,\"solidity\":0.2}},\"type\":\"barpolar\"}],\"carpet\":[{\"aaxis\":{\"endlinecolor\":\"#2a3f5f\",\"gridcolor\":\"white\",\"linecolor\":\"white\",\"minorgridcolor\":\"white\",\"startlinecolor\":\"#2a3f5f\"},\"baxis\":{\"endlinecolor\":\"#2a3f5f\",\"gridcolor\":\"white\",\"linecolor\":\"white\",\"minorgridcolor\":\"white\",\"startlinecolor\":\"#2a3f5f\"},\"type\":\"carpet\"}],\"choropleth\":[{\"colorbar\":{\"outlinewidth\":0,\"ticks\":\"\"},\"type\":\"choropleth\"}],\"contour\":[{\"colorbar\":{\"outlinewidth\":0,\"ticks\":\"\"},\"colorscale\":[[0.0,\"#0d0887\"],[0.1111111111111111,\"#46039f\"],[0.2222222222222222,\"#7201a8\"],[0.3333333333333333,\"#9c179e\"],[0.4444444444444444,\"#bd3786\"],[0.5555555555555556,\"#d8576b\"],[0.6666666666666666,\"#ed7953\"],[0.7777777777777778,\"#fb9f3a\"],[0.8888888888888888,\"#fdca26\"],[1.0,\"#f0f921\"]],\"type\":\"contour\"}],\"contourcarpet\":[{\"colorbar\":{\"outlinewidth\":0,\"ticks\":\"\"},\"type\":\"contourcarpet\"}],\"heatmap\":[{\"colorbar\":{\"outlinewidth\":0,\"ticks\":\"\"},\"colorscale\":[[0.0,\"#0d0887\"],[0.1111111111111111,\"#46039f\"],[0.2222222222222222,\"#7201a8\"],[0.3333333333333333,\"#9c179e\"],[0.4444444444444444,\"#bd3786\"],[0.5555555555555556,\"#d8576b\"],[0.6666666666666666,\"#ed7953\"],[0.7777777777777778,\"#fb9f3a\"],[0.8888888888888888,\"#fdca26\"],[1.0,\"#f0f921\"]],\"type\":\"heatmap\"}],\"heatmapgl\":[{\"colorbar\":{\"outlinewidth\":0,\"ticks\":\"\"},\"colorscale\":[[0.0,\"#0d0887\"],[0.1111111111111111,\"#46039f\"],[0.2222222222222222,\"#7201a8\"],[0.3333333333333333,\"#9c179e\"],[0.4444444444444444,\"#bd3786\"],[0.5555555555555556,\"#d8576b\"],[0.6666666666666666,\"#ed7953\"],[0.7777777777777778,\"#fb9f3a\"],[0.8888888888888888,\"#fdca26\"],[1.0,\"#f0f921\"]],\"type\":\"heatmapgl\"}],\"histogram\":[{\"marker\":{\"pattern\":{\"fillmode\":\"overlay\",\"size\":10,\"solidity\":0.2}},\"type\":\"histogram\"}],\"histogram2d\":[{\"colorbar\":{\"outlinewidth\":0,\"ticks\":\"\"},\"colorscale\":[[0.0,\"#0d0887\"],[0.1111111111111111,\"#46039f\"],[0.2222222222222222,\"#7201a8\"],[0.3333333333333333,\"#9c179e\"],[0.4444444444444444,\"#bd3786\"],[0.5555555555555556,\"#d8576b\"],[0.6666666666666666,\"#ed7953\"],[0.7777777777777778,\"#fb9f3a\"],[0.8888888888888888,\"#fdca26\"],[1.0,\"#f0f921\"]],\"type\":\"histogram2d\"}],\"histogram2dcontour\":[{\"colorbar\":{\"outlinewidth\":0,\"ticks\":\"\"},\"colorscale\":[[0.0,\"#0d0887\"],[0.1111111111111111,\"#46039f\"],[0.2222222222222222,\"#7201a8\"],[0.3333333333333333,\"#9c179e\"],[0.4444444444444444,\"#bd3786\"],[0.5555555555555556,\"#d8576b\"],[0.6666666666666666,\"#ed7953\"],[0.7777777777777778,\"#fb9f3a\"],[0.8888888888888888,\"#fdca26\"],[1.0,\"#f0f921\"]],\"type\":\"histogram2dcontour\"}],\"mesh3d\":[{\"colorbar\":{\"outlinewidth\":0,\"ticks\":\"\"},\"type\":\"mesh3d\"}],\"parcoords\":[{\"line\":{\"colorbar\":{\"outlinewidth\":0,\"ticks\":\"\"}},\"type\":\"parcoords\"}],\"pie\":[{\"automargin\":true,\"type\":\"pie\"}],\"scatter\":[{\"marker\":{\"colorbar\":{\"outlinewidth\":0,\"ticks\":\"\"}},\"type\":\"scatter\"}],\"scatter3d\":[{\"line\":{\"colorbar\":{\"outlinewidth\":0,\"ticks\":\"\"}},\"marker\":{\"colorbar\":{\"outlinewidth\":0,\"ticks\":\"\"}},\"type\":\"scatter3d\"}],\"scattercarpet\":[{\"marker\":{\"colorbar\":{\"outlinewidth\":0,\"ticks\":\"\"}},\"type\":\"scattercarpet\"}],\"scattergeo\":[{\"marker\":{\"colorbar\":{\"outlinewidth\":0,\"ticks\":\"\"}},\"type\":\"scattergeo\"}],\"scattergl\":[{\"marker\":{\"colorbar\":{\"outlinewidth\":0,\"ticks\":\"\"}},\"type\":\"scattergl\"}],\"scattermapbox\":[{\"marker\":{\"colorbar\":{\"outlinewidth\":0,\"ticks\":\"\"}},\"type\":\"scattermapbox\"}],\"scatterpolar\":[{\"marker\":{\"colorbar\":{\"outlinewidth\":0,\"ticks\":\"\"}},\"type\":\"scatterpolar\"}],\"scatterpolargl\":[{\"marker\":{\"colorbar\":{\"outlinewidth\":0,\"ticks\":\"\"}},\"type\":\"scatterpolargl\"}],\"scatterternary\":[{\"marker\":{\"colorbar\":{\"outlinewidth\":0,\"ticks\":\"\"}},\"type\":\"scatterternary\"}],\"surface\":[{\"colorbar\":{\"outlinewidth\":0,\"ticks\":\"\"},\"colorscale\":[[0.0,\"#0d0887\"],[0.1111111111111111,\"#46039f\"],[0.2222222222222222,\"#7201a8\"],[0.3333333333333333,\"#9c179e\"],[0.4444444444444444,\"#bd3786\"],[0.5555555555555556,\"#d8576b\"],[0.6666666666666666,\"#ed7953\"],[0.7777777777777778,\"#fb9f3a\"],[0.8888888888888888,\"#fdca26\"],[1.0,\"#f0f921\"]],\"type\":\"surface\"}],\"table\":[{\"cells\":{\"fill\":{\"color\":\"#EBF0F8\"},\"line\":{\"color\":\"white\"}},\"header\":{\"fill\":{\"color\":\"#C8D4E3\"},\"line\":{\"color\":\"white\"}},\"type\":\"table\"}]},\"layout\":{\"annotationdefaults\":{\"arrowcolor\":\"#2a3f5f\",\"arrowhead\":0,\"arrowwidth\":1},\"autotypenumbers\":\"strict\",\"coloraxis\":{\"colorbar\":{\"outlinewidth\":0,\"ticks\":\"\"}},\"colorscale\":{\"diverging\":[[0,\"#8e0152\"],[0.1,\"#c51b7d\"],[0.2,\"#de77ae\"],[0.3,\"#f1b6da\"],[0.4,\"#fde0ef\"],[0.5,\"#f7f7f7\"],[0.6,\"#e6f5d0\"],[0.7,\"#b8e186\"],[0.8,\"#7fbc41\"],[0.9,\"#4d9221\"],[1,\"#276419\"]],\"sequential\":[[0.0,\"#0d0887\"],[0.1111111111111111,\"#46039f\"],[0.2222222222222222,\"#7201a8\"],[0.3333333333333333,\"#9c179e\"],[0.4444444444444444,\"#bd3786\"],[0.5555555555555556,\"#d8576b\"],[0.6666666666666666,\"#ed7953\"],[0.7777777777777778,\"#fb9f3a\"],[0.8888888888888888,\"#fdca26\"],[1.0,\"#f0f921\"]],\"sequentialminus\":[[0.0,\"#0d0887\"],[0.1111111111111111,\"#46039f\"],[0.2222222222222222,\"#7201a8\"],[0.3333333333333333,\"#9c179e\"],[0.4444444444444444,\"#bd3786\"],[0.5555555555555556,\"#d8576b\"],[0.6666666666666666,\"#ed7953\"],[0.7777777777777778,\"#fb9f3a\"],[0.8888888888888888,\"#fdca26\"],[1.0,\"#f0f921\"]]},\"colorway\":[\"#636efa\",\"#EF553B\",\"#00cc96\",\"#ab63fa\",\"#FFA15A\",\"#19d3f3\",\"#FF6692\",\"#B6E880\",\"#FF97FF\",\"#FECB52\"],\"font\":{\"color\":\"#2a3f5f\"},\"geo\":{\"bgcolor\":\"white\",\"lakecolor\":\"white\",\"landcolor\":\"#E5ECF6\",\"showlakes\":true,\"showland\":true,\"subunitcolor\":\"white\"},\"hoverlabel\":{\"align\":\"left\"},\"hovermode\":\"closest\",\"mapbox\":{\"style\":\"light\"},\"paper_bgcolor\":\"white\",\"plot_bgcolor\":\"#E5ECF6\",\"polar\":{\"angularaxis\":{\"gridcolor\":\"white\",\"linecolor\":\"white\",\"ticks\":\"\"},\"bgcolor\":\"#E5ECF6\",\"radialaxis\":{\"gridcolor\":\"white\",\"linecolor\":\"white\",\"ticks\":\"\"}},\"scene\":{\"xaxis\":{\"backgroundcolor\":\"#E5ECF6\",\"gridcolor\":\"white\",\"gridwidth\":2,\"linecolor\":\"white\",\"showbackground\":true,\"ticks\":\"\",\"zerolinecolor\":\"white\"},\"yaxis\":{\"backgroundcolor\":\"#E5ECF6\",\"gridcolor\":\"white\",\"gridwidth\":2,\"linecolor\":\"white\",\"showbackground\":true,\"ticks\":\"\",\"zerolinecolor\":\"white\"},\"zaxis\":{\"backgroundcolor\":\"#E5ECF6\",\"gridcolor\":\"white\",\"gridwidth\":2,\"linecolor\":\"white\",\"showbackground\":true,\"ticks\":\"\",\"zerolinecolor\":\"white\"}},\"shapedefaults\":{\"line\":{\"color\":\"#2a3f5f\"}},\"ternary\":{\"aaxis\":{\"gridcolor\":\"white\",\"linecolor\":\"white\",\"ticks\":\"\"},\"baxis\":{\"gridcolor\":\"white\",\"linecolor\":\"white\",\"ticks\":\"\"},\"bgcolor\":\"#E5ECF6\",\"caxis\":{\"gridcolor\":\"white\",\"linecolor\":\"white\",\"ticks\":\"\"}},\"title\":{\"x\":0.05},\"xaxis\":{\"automargin\":true,\"gridcolor\":\"white\",\"linecolor\":\"white\",\"ticks\":\"\",\"title\":{\"standoff\":15},\"zerolinecolor\":\"white\",\"zerolinewidth\":2},\"yaxis\":{\"automargin\":true,\"gridcolor\":\"white\",\"linecolor\":\"white\",\"ticks\":\"\",\"title\":{\"standoff\":15},\"zerolinecolor\":\"white\",\"zerolinewidth\":2}}}},                        {\"responsive\": true}                    ).then(function(){\n",
       "                            \n",
       "var gd = document.getElementById('f959e01e-3e05-4573-b31e-1697de45af71');\n",
       "var x = new MutationObserver(function (mutations, observer) {{\n",
       "        var display = window.getComputedStyle(gd).display;\n",
       "        if (!display || display === 'none') {{\n",
       "            console.log([gd, 'removed!']);\n",
       "            Plotly.purge(gd);\n",
       "            observer.disconnect();\n",
       "        }}\n",
       "}});\n",
       "\n",
       "// Listen for the removal of the full notebook cells\n",
       "var notebookContainer = gd.closest('#notebook-container');\n",
       "if (notebookContainer) {{\n",
       "    x.observe(notebookContainer, {childList: true});\n",
       "}}\n",
       "\n",
       "// Listen for the clearing of the current output cell\n",
       "var outputEl = gd.closest('.output');\n",
       "if (outputEl) {{\n",
       "    x.observe(outputEl, {childList: true});\n",
       "}}\n",
       "\n",
       "                        })                };                });            </script>        </div>"
      ]
     },
     "metadata": {},
     "output_type": "display_data"
    }
   ],
   "source": [
    "entries = mpr.get_entries_in_chemsys(['Mo', 'B', 'C'])\n",
    "\n",
    "#With entries, you can do many sophisticated analyses, \n",
    "#like creating phase diagrams.\n",
    "pd = PhaseDiagram(entries)\n",
    "plotter = PDPlotter(pd)\n",
    "plotter.show()"
   ]
  },
  {
   "cell_type": "code",
   "execution_count": 14,
   "id": "fb924e42",
   "metadata": {},
   "outputs": [
    {
     "name": "stdout",
     "output_type": "stream",
     "text": [
      "53\n",
      "KPO3\n",
      "5.0422\n",
      "{'structure': Structure Summary\n",
      "Lattice\n",
      "    abc : 4.622368 10.532778 14.283612732012022\n",
      " angles : 78.68805047946931 90.0 90.0\n",
      " volume : 681.9080032992589\n",
      "      A : 4.622368 0.0 0.0\n",
      "      B : 0.0 10.532778 0.0\n",
      "      C : 0.0 2.80174 14.006136\n",
      "PeriodicSite: K (1.2899, 11.7096, 9.3958) [0.2791, 0.9333, 0.6708]\n",
      "PeriodicSite: K (3.6011, 3.0258, 11.6134) [0.7791, 0.0667, 0.8292]\n",
      "PeriodicSite: K (3.3324, 1.6249, 4.6104) [0.7209, 0.0667, 0.3292]\n",
      "PeriodicSite: K (1.0213, 10.3087, 2.3927) [0.2209, 0.9333, 0.1708]\n",
      "PeriodicSite: K (3.4028, 8.1106, 8.8415) [0.7361, 0.6021, 0.6313]\n",
      "PeriodicSite: K (1.0916, 6.6248, 12.1677) [0.2361, 0.3979, 0.8687]\n",
      "PeriodicSite: K (1.2196, 5.2240, 5.1647) [0.2639, 0.3979, 0.3687]\n",
      "PeriodicSite: K (3.5308, 6.7097, 1.8384) [0.7639, 0.6021, 0.1313]\n",
      "PeriodicSite: P (3.6775, 3.8259, 7.7787) [0.7956, 0.2155, 0.5554]\n",
      "PeriodicSite: P (1.3663, 10.9095, 13.2305) [0.2956, 0.7845, 0.9446]\n",
      "PeriodicSite: P (0.9449, 9.5086, 6.2274) [0.2044, 0.7845, 0.4446]\n",
      "PeriodicSite: P (3.2561, 2.4251, 0.7757) [0.7044, 0.2155, 0.0554]\n",
      "PeriodicSite: P (1.3730, 5.0912, 9.1465) [0.2970, 0.3097, 0.6530]\n",
      "PeriodicSite: P (3.6842, 9.6442, 11.8627) [0.7970, 0.6903, 0.8470]\n",
      "PeriodicSite: P (3.2494, 8.2434, 4.8597) [0.7030, 0.6903, 0.3470]\n",
      "PeriodicSite: P (0.9382, 3.6903, 2.1434) [0.2030, 0.3097, 0.1530]\n",
      "PeriodicSite: O (0.5451, 4.4896, 7.8664) [0.1179, 0.2769, 0.5616]\n",
      "PeriodicSite: O (2.8563, 10.2458, 13.1428) [0.6179, 0.7231, 0.9384]\n",
      "PeriodicSite: O (4.0773, 8.8449, 6.1397) [0.8821, 0.7231, 0.4384]\n",
      "PeriodicSite: O (1.7661, 3.0887, 0.8634) [0.3821, 0.2769, 0.0616]\n",
      "PeriodicSite: O (2.8519, 5.0735, 8.4653) [0.6170, 0.3209, 0.6044]\n",
      "PeriodicSite: O (0.5407, 9.6619, 12.5439) [0.1170, 0.6791, 0.8956]\n",
      "PeriodicSite: O (1.7705, 8.2610, 5.5409) [0.3830, 0.6791, 0.3956]\n",
      "PeriodicSite: O (4.0817, 3.6726, 1.4622) [0.8830, 0.3209, 0.1044]\n",
      "PeriodicSite: O (1.2898, 4.1565, 10.3188) [0.2790, 0.1987, 0.7367]\n",
      "PeriodicSite: O (3.6009, 10.5789, 10.6904) [0.7790, 0.8013, 0.7633]\n",
      "PeriodicSite: O (3.3326, 9.1780, 3.6873) [0.7210, 0.8013, 0.2633]\n",
      "PeriodicSite: O (1.0214, 2.7556, 3.3158) [0.2210, 0.1987, 0.2367]\n",
      "PeriodicSite: O (1.0453, 6.5408, 9.3477) [0.2261, 0.4435, 0.6674]\n",
      "PeriodicSite: O (3.3564, 8.1946, 11.6615) [0.7261, 0.5565, 0.8326]\n",
      "PeriodicSite: O (3.5771, 6.7938, 4.6584) [0.7739, 0.5565, 0.3326]\n",
      "PeriodicSite: O (1.2659, 5.1399, 2.3447) [0.2739, 0.4435, 0.1674]\n",
      "PeriodicSite: O (3.3503, 1.2092, 1.6459) [0.7248, 0.0835, 0.1175]\n",
      "PeriodicSite: O (1.0392, 10.7245, 5.3572) [0.2248, 0.9165, 0.3825]\n",
      "PeriodicSite: O (1.2720, 12.1254, 12.3603) [0.2752, 0.9165, 0.8825]\n",
      "PeriodicSite: O (3.5832, 2.6100, 8.6489) [0.7752, 0.0835, 0.6175]\n",
      "PeriodicSite: O (1.0516, 8.1759, 0.6872) [0.2275, 0.7632, 0.0491]\n",
      "PeriodicSite: O (3.3627, 3.7577, 6.3158) [0.7275, 0.2368, 0.4509]\n",
      "PeriodicSite: O (3.5708, 5.1586, 13.3189) [0.7725, 0.2368, 0.9509]\n",
      "PeriodicSite: O (1.2596, 9.5768, 7.6903) [0.2725, 0.7632, 0.5491], 'material_id': 'mp-5039', 'pretty_formula': 'KPO3', 'e_above_hull': 0, 'band_gap': 5.0422, 'band_structure': None}\n"
     ]
    }
   ],
   "source": [
    "#example from Wenhao Sun https://wenhaosun.github.io/docs/MSE593/\n",
    "from pymatgen.ext.matproj import MPRester\n",
    "\n",
    "mpr = MPRester(Sparks_API)\n",
    "\n",
    "criteria = {'elements':{\"$in\":[\"Li\", \"Na\", \"K\"], \"$all\": [\"O\"]}, #All compounds contain O, and must have Li or Na or K\n",
    "\t\t\t'nelements':3,\n",
    "            'icsd_ids': {'$gte': 0},\n",
    "            'e_above_hull': {'$lte': 0.01},\n",
    "            'anonymous_formula': {\"A\": 1, \"B\": 1, \"C\": 3},\n",
    "            \"band_gap\": {\"$gt\": 1}\n",
    "            }\n",
    "\n",
    "        # The properties and the criteria use MaterialsProject features \n",
    "        # You can see what is queryable from the MP API documentation: \n",
    "        # https://github.com/materialsproject/mapidoc/tree/master/materials\n",
    "        \n",
    "        # The criteria uses mongodb query language. See here \n",
    "        # for more details: https://docs.mongodb.com/manual/reference/operator/query/\n",
    "\n",
    "props = ['structure', \"material_id\",'pretty_formula','e_above_hull',\"band_gap\",\"band_structure\"]\n",
    "entries = mpr.query(criteria=criteria, properties=props)\n",
    "\n",
    "print(len(entries))\n",
    "\n",
    "for e in entries:\n",
    "    print(e['pretty_formula'])\n",
    "    print(e['band_gap'])\n",
    "    print(e)\n",
    "    break"
   ]
  },
  {
   "cell_type": "code",
   "execution_count": null,
   "id": "ebe11d2c",
   "metadata": {},
   "outputs": [],
   "source": []
  },
  {
   "cell_type": "code",
   "execution_count": null,
   "id": "1b1306e3",
   "metadata": {},
   "outputs": [],
   "source": []
  },
  {
   "cell_type": "code",
   "execution_count": null,
   "id": "84824ef5",
   "metadata": {},
   "outputs": [],
   "source": []
  }
 ],
 "metadata": {
  "kernelspec": {
   "display_name": "Python 3 (ipykernel)",
   "language": "python",
   "name": "python3"
  },
  "language_info": {
   "codemirror_mode": {
    "name": "ipython",
    "version": 3
   },
   "file_extension": ".py",
   "mimetype": "text/x-python",
   "name": "python",
   "nbconvert_exporter": "python",
   "pygments_lexer": "ipython3",
   "version": "3.9.5"
  }
 },
 "nbformat": 4,
 "nbformat_minor": 5
}
