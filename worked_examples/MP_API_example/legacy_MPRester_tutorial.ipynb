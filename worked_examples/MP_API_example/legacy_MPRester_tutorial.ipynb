{
 "cells": [
  {
   "cell_type": "markdown",
   "id": "9009686e",
   "metadata": {},
   "source": [
    "Reminder, when running this example I need to open cmd line for miniconda since that's where I installed pymatgen module. From cmd line the following command \"conda activate my_pymatgen\" will open the environment followed by \"Jupyter Notebook\" to open the Jupyter platform."
   ]
  },
  {
   "cell_type": "code",
   "execution_count": 11,
   "id": "2eebaf36",
   "metadata": {},
   "outputs": [],
   "source": [
    "#Sparks_API = 'XXXXX' #put your API here"
   ]
  },
  {
   "cell_type": "code",
<<<<<<< HEAD
   "execution_count": 12,
=======
   "execution_count": 1,
>>>>>>> 79a284788438488f3eba80e4314ac774d759d6f2
   "id": "1d77b8fa",
   "metadata": {},
   "outputs": [],
   "source": [
    "import pandas as pd\n",
    "from pymatgen.ext.matproj import MPRester\n",
    "import os\n",
    "\n",
    "filename = r'C:\\Users\\Aidan Belanger\\OneDrive\\Desktop\\Materials Informatics\\MyMatProjApiKey.txt'\n",
    "\n",
    "def get_file_contents(filename):\n",
    "    try:\n",
    "        with open(filename, 'r') as f:\n",
    "            # It's assumed our file contains a single line,\n",
    "            # with our API key\n",
    "            return f.read().strip()\n",
    "    except FileNotFoundError:\n",
    "        print(\"'%s' file not found\" % filename)\n",
    "\n",
    "\n",
    "Sparks_API = get_file_contents(filename)"
   ]
  },
  {
   "cell_type": "code",
   "execution_count": 13,
   "id": "196ccba8",
   "metadata": {
    "scrolled": true
   },
   "outputs": [
    {
     "name": "stdout",
     "output_type": "stream",
     "text": [
      "Silicon has atomic mass of: 28.0855 amu\n"
     ]
    }
   ],
   "source": [
    "import pymatgen.core as mg\n",
    "si = mg.Element(\"Si\")\n",
    "print('Silicon has atomic mass of:', si.atomic_mass)"
   ]
  },
  {
   "cell_type": "markdown",
   "id": "1814367f",
   "metadata": {},
   "source": [
    "The API for Materials Project recently (2022) was updated. You can read about the differences between new and old with API Key and install instructions for each.\n",
    "https://docs.materialsproject.org/downloading-data/differences-between-new-and-legacy-api\n",
    "\n",
    "For this class, let's use the new API which you can read about here https://api.materialsproject.org/docs\n",
    "\n",
    "To install, in miniconda in your My_Pymatgen environment run the command 'pip install mp-api'\n",
    "\n",
    "First, I had to update pydantic with the following code 'pip install pydantic==2.0'\n",
    "\n"
   ]
  },
  {
   "cell_type": "code",
<<<<<<< HEAD
   "execution_count": 15,
=======
   "execution_count": 3,
>>>>>>> 79a284788438488f3eba80e4314ac774d759d6f2
   "id": "0a53e08d",
   "metadata": {
    "scrolled": true
   },
   "outputs": [
    {
     "ename": "MPRestError",
     "evalue": "'data'. Content: b'{\"detail\":\"Problem processing one or more provided formulas.\"}'",
     "output_type": "error",
     "traceback": [
      "\u001b[1;31m---------------------------------------------------------------------------\u001b[0m",
      "\u001b[1;31mKeyError\u001b[0m                                  Traceback (most recent call last)",
      "File \u001b[1;32mc:\\Miniconda3\\envs\\MatInformaticsLegacy\\lib\\site-packages\\pymatgen\\ext\\matproj.py:124\u001b[0m, in \u001b[0;36m_MPResterBasic.request\u001b[1;34m(self, sub_url, payload, method, mp_decode)\u001b[0m\n\u001b[0;32m    123\u001b[0m     \u001b[38;5;28;01mraise\u001b[39;00m MPRestError(\u001b[38;5;124mf\u001b[39m\u001b[38;5;124m\"\u001b[39m\u001b[38;5;124mREST query returned with error status code \u001b[39m\u001b[38;5;132;01m{\u001b[39;00mresponse\u001b[38;5;241m.\u001b[39mstatus_code\u001b[38;5;132;01m}\u001b[39;00m\u001b[38;5;124m\"\u001b[39m)\n\u001b[1;32m--> 124\u001b[0m all_data\u001b[38;5;241m.\u001b[39mextend(\u001b[43mdata\u001b[49m\u001b[43m[\u001b[49m\u001b[38;5;124;43m\"\u001b[39;49m\u001b[38;5;124;43mdata\u001b[39;49m\u001b[38;5;124;43m\"\u001b[39;49m\u001b[43m]\u001b[49m)\n\u001b[0;32m    125\u001b[0m \u001b[38;5;28;01mif\u001b[39;00m \u001b[38;5;28mlen\u001b[39m(data[\u001b[38;5;124m\"\u001b[39m\u001b[38;5;124mdata\u001b[39m\u001b[38;5;124m\"\u001b[39m]) \u001b[38;5;241m<\u001b[39m per_page:\n",
      "\u001b[1;31mKeyError\u001b[0m: 'data'",
      "\nDuring handling of the above exception, another exception occurred:\n",
      "\u001b[1;31mMPRestError\u001b[0m                               Traceback (most recent call last)",
      "Cell \u001b[1;32mIn[15], line 6\u001b[0m\n\u001b[0;32m      4\u001b[0m \u001b[38;5;28;01mwith\u001b[39;00m MPRester(Sparks_API) \u001b[38;5;28;01mas\u001b[39;00m mpr:\n\u001b[0;32m      5\u001b[0m     list_ids \u001b[38;5;241m=\u001b[39m mpr\u001b[38;5;241m.\u001b[39mget_materials_ids(\u001b[38;5;124m\"\u001b[39m\u001b[38;5;124mTaC\u001b[39m\u001b[38;5;124m\"\u001b[39m)\n\u001b[1;32m----> 6\u001b[0m     \u001b[38;5;28mprint\u001b[39m(\u001b[38;5;124m'\u001b[39m\u001b[38;5;124mAll compounds in the Ta-C system are: \u001b[39m\u001b[38;5;124m'\u001b[39m, \u001b[43mmpr\u001b[49m\u001b[38;5;241;43m.\u001b[39;49m\u001b[43mget_materials_ids\u001b[49m\u001b[43m(\u001b[49m\u001b[38;5;124;43m'\u001b[39;49m\u001b[38;5;124;43mTa-C\u001b[39;49m\u001b[38;5;124;43m'\u001b[39;49m\u001b[43m)\u001b[49m)\n",
      "File \u001b[1;32mc:\\Miniconda3\\envs\\MatInformaticsLegacy\\lib\\site-packages\\pymatgen\\ext\\matproj.py:192\u001b[0m, in \u001b[0;36m_MPResterBasic.get_material_ids\u001b[1;34m(self, formula)\u001b[0m\n\u001b[0;32m    182\u001b[0m \u001b[38;5;28;01mdef\u001b[39;00m \u001b[38;5;21mget_material_ids\u001b[39m(\u001b[38;5;28mself\u001b[39m, formula):\n\u001b[0;32m    183\u001b[0m \u001b[38;5;250m    \u001b[39m\u001b[38;5;124;03m\"\"\"\u001b[39;00m\n\u001b[0;32m    184\u001b[0m \u001b[38;5;124;03m    Get all materials ids for a formula.\u001b[39;00m\n\u001b[0;32m    185\u001b[0m \n\u001b[1;32m   (...)\u001b[0m\n\u001b[0;32m    190\u001b[0m \u001b[38;5;124;03m        list[str]: all materials ids.\u001b[39;00m\n\u001b[0;32m    191\u001b[0m \u001b[38;5;124;03m    \"\"\"\u001b[39;00m\n\u001b[1;32m--> 192\u001b[0m     \u001b[38;5;28;01mreturn\u001b[39;00m [d[\u001b[38;5;124m\"\u001b[39m\u001b[38;5;124mmaterial_id\u001b[39m\u001b[38;5;124m\"\u001b[39m] \u001b[38;5;28;01mfor\u001b[39;00m d \u001b[38;5;129;01min\u001b[39;00m \u001b[38;5;28;43mself\u001b[39;49m\u001b[38;5;241;43m.\u001b[39;49m\u001b[43mget_summary\u001b[49m\u001b[43m(\u001b[49m\u001b[43m{\u001b[49m\u001b[38;5;124;43m\"\u001b[39;49m\u001b[38;5;124;43mformula\u001b[39;49m\u001b[38;5;124;43m\"\u001b[39;49m\u001b[43m:\u001b[49m\u001b[43m \u001b[49m\u001b[43mformula\u001b[49m\u001b[43m}\u001b[49m\u001b[43m,\u001b[49m\u001b[43m \u001b[49m\u001b[43mfields\u001b[49m\u001b[38;5;241;43m=\u001b[39;49m\u001b[43m[\u001b[49m\u001b[38;5;124;43m\"\u001b[39;49m\u001b[38;5;124;43mmaterial_id\u001b[39;49m\u001b[38;5;124;43m\"\u001b[39;49m\u001b[43m]\u001b[49m\u001b[43m)\u001b[49m]\n",
      "File \u001b[1;32mc:\\Miniconda3\\envs\\MatInformaticsLegacy\\lib\\site-packages\\pymatgen\\ext\\matproj.py:164\u001b[0m, in \u001b[0;36m_MPResterBasic.get_summary\u001b[1;34m(self, criteria, fields)\u001b[0m\n\u001b[0;32m    153\u001b[0m \u001b[38;5;250m\u001b[39m\u001b[38;5;124;03m\"\"\"\u001b[39;00m\n\u001b[0;32m    154\u001b[0m \u001b[38;5;124;03mGet a data corresponding to a criteria.\u001b[39;00m\n\u001b[0;32m    155\u001b[0m \n\u001b[1;32m   (...)\u001b[0m\n\u001b[0;32m    161\u001b[0m \u001b[38;5;124;03m    List of dict of summary docs.\u001b[39;00m\n\u001b[0;32m    162\u001b[0m \u001b[38;5;124;03m\"\"\"\u001b[39;00m\n\u001b[0;32m    163\u001b[0m get \u001b[38;5;241m=\u001b[39m \u001b[38;5;124m\"\u001b[39m\u001b[38;5;124m_all_fields=True\u001b[39m\u001b[38;5;124m\"\u001b[39m \u001b[38;5;28;01mif\u001b[39;00m fields \u001b[38;5;129;01mis\u001b[39;00m \u001b[38;5;28;01mNone\u001b[39;00m \u001b[38;5;28;01melse\u001b[39;00m \u001b[38;5;124m\"\u001b[39m\u001b[38;5;124m_fields=\u001b[39m\u001b[38;5;124m\"\u001b[39m \u001b[38;5;241m+\u001b[39m \u001b[38;5;124m\"\u001b[39m\u001b[38;5;124m,\u001b[39m\u001b[38;5;124m\"\u001b[39m\u001b[38;5;241m.\u001b[39mjoin(fields)\n\u001b[1;32m--> 164\u001b[0m \u001b[38;5;28;01mreturn\u001b[39;00m \u001b[38;5;28;43mself\u001b[39;49m\u001b[38;5;241;43m.\u001b[39;49m\u001b[43mrequest\u001b[49m\u001b[43m(\u001b[49m\u001b[38;5;124;43mf\u001b[39;49m\u001b[38;5;124;43m\"\u001b[39;49m\u001b[38;5;124;43mmaterials/summary/?\u001b[39;49m\u001b[38;5;132;43;01m{\u001b[39;49;00m\u001b[43mget\u001b[49m\u001b[38;5;132;43;01m}\u001b[39;49;00m\u001b[38;5;124;43m\"\u001b[39;49m\u001b[43m,\u001b[49m\u001b[43m \u001b[49m\u001b[43mpayload\u001b[49m\u001b[38;5;241;43m=\u001b[39;49m\u001b[43mcriteria\u001b[49m\u001b[43m)\u001b[49m\n",
      "File \u001b[1;32mc:\\Miniconda3\\envs\\MatInformaticsLegacy\\lib\\site-packages\\pymatgen\\ext\\matproj.py:130\u001b[0m, in \u001b[0;36m_MPResterBasic.request\u001b[1;34m(self, sub_url, payload, method, mp_decode)\u001b[0m\n\u001b[0;32m    128\u001b[0m     \u001b[38;5;28;01mexcept\u001b[39;00m \u001b[38;5;167;01mException\u001b[39;00m \u001b[38;5;28;01mas\u001b[39;00m ex:\n\u001b[0;32m    129\u001b[0m         msg \u001b[38;5;241m=\u001b[39m \u001b[38;5;124mf\u001b[39m\u001b[38;5;124m\"\u001b[39m\u001b[38;5;132;01m{\u001b[39;00mex\u001b[38;5;132;01m}\u001b[39;00m\u001b[38;5;124m. Content: \u001b[39m\u001b[38;5;132;01m{\u001b[39;00mresponse\u001b[38;5;241m.\u001b[39mcontent\u001b[38;5;132;01m}\u001b[39;00m\u001b[38;5;124m\"\u001b[39m \u001b[38;5;28;01mif\u001b[39;00m \u001b[38;5;28mhasattr\u001b[39m(response, \u001b[38;5;124m\"\u001b[39m\u001b[38;5;124mcontent\u001b[39m\u001b[38;5;124m\"\u001b[39m) \u001b[38;5;28;01melse\u001b[39;00m \u001b[38;5;28mstr\u001b[39m(ex)\n\u001b[1;32m--> 130\u001b[0m         \u001b[38;5;28;01mraise\u001b[39;00m MPRestError(msg)\n\u001b[0;32m    131\u001b[0m \u001b[38;5;28;01mreturn\u001b[39;00m all_data\n",
      "\u001b[1;31mMPRestError\u001b[0m: 'data'. Content: b'{\"detail\":\"Problem processing one or more provided formulas.\"}'"
     ]
    }
   ],
   "source": [
    "#this works with the old legacy MPRester\n",
    "from pymatgen.ext.matproj import MPRester\n",
    "\n",
    "with MPRester(Sparks_API) as mpr:\n",
    "    list_ids = mpr.get_materials_ids(\"TaC\")\n",
    "    print('All compounds in the Ta-C system are: ', mpr.get_materials_ids('Ta-C'))"
   ]
  },
  {
   "cell_type": "markdown",
   "id": "9eda7269",
   "metadata": {},
   "source": [
    "Or we can pull data from a specific materials project id"
   ]
  },
  {
   "cell_type": "code",
<<<<<<< HEAD
   "execution_count": 16,
=======
   "execution_count": 4,
>>>>>>> 79a284788438488f3eba80e4314ac774d759d6f2
   "id": "e18bf54d",
   "metadata": {},
   "outputs": [
    {
     "name": "stdout",
     "output_type": "stream",
     "text": [
      "Full Formula (Ta1 C1)\n",
      "Reduced Formula: TaC\n",
      "abc   :   3.159209   3.159208   3.159208\n",
      "angles:  60.000001  60.000008  59.999999\n",
      "pbc   :       True       True       True\n",
      "Sites (2)\n",
      "  #  SP       a    b    c    magmom\n",
      "---  ----  ----  ---  ---  --------\n",
      "  0  Ta    -0    0    0          -0\n",
      "  1  C      0.5  0.5  0.5         0\n",
      "Full Formula (Ta1 C1)\n",
      "Reduced Formula: TaC\n",
      "abc   :   2.797247   2.797247   2.797247\n",
      "angles:  90.000000  90.000000  90.000000\n",
      "pbc   :       True       True       True\n",
      "Sites (2)\n",
      "  #  SP      a    b    c    magmom\n",
      "---  ----  ---  ---  ---  --------\n",
      "  0  Ta    0    0    0           0\n",
      "  1  C     0.5  0.5  0.5        -0\n",
      "Full Formula (Ta1 C1)\n",
      "Reduced Formula: TaC\n",
      "abc   :   3.421388   3.421388   3.421388\n",
      "angles:  60.000000  60.000000  60.000000\n",
      "pbc   :       True       True       True\n",
      "Sites (2)\n",
      "  #  SP       a     b     c    magmom\n",
      "---  ----  ----  ----  ----  --------\n",
      "  0  Ta    0     0     0            0\n",
      "  1  C     0.25  0.25  0.25        -0\n",
      "Full Formula (Ta1 C1)\n",
      "Reduced Formula: TaC\n",
      "abc   :   3.057398   3.057398   2.880879\n",
      "angles:  90.000000  90.000000 119.999994\n",
      "pbc   :       True       True       True\n",
      "Sites (2)\n",
      "  #  SP           a         b    c    magmom\n",
      "---  ----  --------  --------  ---  --------\n",
      "  0  Ta    0.666667  0.333333  0       0.011\n",
      "  1  C     0         0         0.5    -0\n",
      "Full Formula (Ta1 C1)\n",
      "Reduced Formula: TaC\n",
      "abc   :   3.159209   3.159208   3.159208\n",
      "angles:  60.000001  60.000008  59.999999\n",
      "pbc   :       True       True       True\n",
      "Sites (2)\n",
      "  #  SP       a    b    c    magmom\n",
      "---  ----  ----  ---  ---  --------\n",
      "  0  Ta    -0    0    0          -0\n",
      "  1  C      0.5  0.5  0.5         0\n"
     ]
    },
    {
     "ename": "TypeError",
     "evalue": "'NoneType' object is not callable",
     "output_type": "error",
     "traceback": [
      "\u001b[1;31m---------------------------------------------------------------------------\u001b[0m",
      "\u001b[1;31mTypeError\u001b[0m                                 Traceback (most recent call last)",
      "Cell \u001b[1;32mIn[16], line 10\u001b[0m\n\u001b[0;32m      8\u001b[0m structure \u001b[38;5;241m=\u001b[39m mpr\u001b[38;5;241m.\u001b[39mget_structure_by_material_id(\u001b[38;5;124m'\u001b[39m\u001b[38;5;124mmp-1086\u001b[39m\u001b[38;5;124m'\u001b[39m)\n\u001b[0;32m      9\u001b[0m \u001b[38;5;28mprint\u001b[39m(structure)\n\u001b[1;32m---> 10\u001b[0m cohesive_energy \u001b[38;5;241m=\u001b[39m \u001b[43mmpr\u001b[49m\u001b[38;5;241;43m.\u001b[39;49m\u001b[43mget_cohesive_energy\u001b[49m\u001b[43m(\u001b[49m\u001b[38;5;124;43m'\u001b[39;49m\u001b[38;5;124;43mmp-1086\u001b[39;49m\u001b[38;5;124;43m'\u001b[39;49m\u001b[43m)\u001b[49m\n\u001b[0;32m     11\u001b[0m \u001b[38;5;28mprint\u001b[39m(cohesive_energy)\n",
      "\u001b[1;31mTypeError\u001b[0m: 'NoneType' object is not callable"
     ]
    }
   ],
   "source": [
    "for i_d in list_ids:\n",
    "    with MPRester(Sparks_API) as mpr:\n",
    "        structure = mpr.get_structure_by_material_id(i_d)\n",
    "        print(structure)\n",
    "\n",
    "\n",
    "with MPRester(Sparks_API) as mpr:\n",
    "    structure = mpr.get_structure_by_material_id('mp-1086')\n",
    "    print(structure)\n",
    "    cohesive_energy = mpr.get_cohesive_energy('mp-1086')\n",
    "    print(cohesive_energy)\n"
   ]
  },
  {
   "cell_type": "markdown",
   "id": "dd8281c3",
   "metadata": {},
   "source": [
    "We can search for a materials project entry using a cif card"
   ]
  },
  {
   "cell_type": "code",
   "execution_count": 17,
   "id": "94a62b76",
   "metadata": {},
   "outputs": [
    {
     "ename": "TypeError",
     "evalue": "'NoneType' object is not callable",
     "output_type": "error",
     "traceback": [
      "\u001b[1;31m---------------------------------------------------------------------------\u001b[0m",
      "\u001b[1;31mTypeError\u001b[0m                                 Traceback (most recent call last)",
      "Cell \u001b[1;32mIn[17], line 4\u001b[0m\n\u001b[0;32m      2\u001b[0m mpr \u001b[38;5;241m=\u001b[39m MPRester(Sparks_API)\n\u001b[0;32m      3\u001b[0m ciffile \u001b[38;5;241m=\u001b[39m os\u001b[38;5;241m.\u001b[39mpath\u001b[38;5;241m.\u001b[39mjoin(\u001b[38;5;124m'\u001b[39m\u001b[38;5;124m9008565.cif\u001b[39m\u001b[38;5;124m'\u001b[39m)\n\u001b[1;32m----> 4\u001b[0m data1 \u001b[38;5;241m=\u001b[39m \u001b[43mmpr\u001b[49m\u001b[38;5;241;43m.\u001b[39;49m\u001b[43mfind_structure\u001b[49m\u001b[43m(\u001b[49m\u001b[43mciffile\u001b[49m\u001b[43m)\u001b[49m\n\u001b[0;32m      5\u001b[0m \u001b[38;5;28mprint\u001b[39m(data1)\n",
      "\u001b[1;31mTypeError\u001b[0m: 'NoneType' object is not callable"
     ]
    }
   ],
   "source": [
    "import os\n",
    "mpr = MPRester(Sparks_API)\n",
    "ciffile = os.path.join('9008565.cif')\n",
    "data1 = mpr.find_structure(ciffile)\n",
    "print(data1)"
   ]
  },
  {
   "cell_type": "markdown",
   "id": "0960cfb1",
   "metadata": {},
   "source": [
    "How do we do queries though? What if we want to find all carbides having either Ta, Nb, or W?\n",
    "We need to use the MPRester.query method!\n",
    "This uses MongoDB's query syntax  --> mpr.query(criteria, properties)"
   ]
  },
  {
   "cell_type": "code",
   "execution_count": 18,
   "id": "0b791e6b",
   "metadata": {},
   "outputs": [
    {
     "ename": "TypeError",
     "evalue": "'NoneType' object is not callable",
     "output_type": "error",
     "traceback": [
      "\u001b[1;31m---------------------------------------------------------------------------\u001b[0m",
      "\u001b[1;31mTypeError\u001b[0m                                 Traceback (most recent call last)",
      "Cell \u001b[1;32mIn[18], line 4\u001b[0m\n\u001b[0;32m      1\u001b[0m mpr \u001b[38;5;241m=\u001b[39m MPRester(Sparks_API)\n\u001b[0;32m      2\u001b[0m \u001b[38;5;66;03m#mpr.query('SiO2',['material_id','density'])\u001b[39;00m\n\u001b[0;32m      3\u001b[0m \u001b[38;5;66;03m#mpr.query('**O3',['pretty_formula','material_id'])\u001b[39;00m\n\u001b[1;32m----> 4\u001b[0m \u001b[43mmpr\u001b[49m\u001b[38;5;241;43m.\u001b[39;49m\u001b[43mquery\u001b[49m\u001b[43m(\u001b[49m\u001b[43m{\u001b[49m\u001b[38;5;124;43m'\u001b[39;49m\u001b[38;5;124;43mchemsys\u001b[39;49m\u001b[38;5;124;43m'\u001b[39;49m\u001b[43m:\u001b[49m\u001b[38;5;124;43m'\u001b[39;49m\u001b[38;5;124;43mO-Si\u001b[39;49m\u001b[38;5;124;43m'\u001b[39;49m\u001b[43m}\u001b[49m\u001b[43m,\u001b[49m\u001b[43m[\u001b[49m\u001b[38;5;124;43m'\u001b[39;49m\u001b[38;5;124;43mmaterial_id\u001b[39;49m\u001b[38;5;124;43m'\u001b[39;49m\u001b[43m]\u001b[49m\u001b[43m)\u001b[49m\n",
      "\u001b[1;31mTypeError\u001b[0m: 'NoneType' object is not callable"
     ]
    }
   ],
   "source": [
    "mpr = MPRester(Sparks_API)\n",
    "#mpr.query('SiO2',['material_id','density'])\n",
    "#mpr.query('**O3',['pretty_formula','material_id'])\n",
    "mpr.query({'chemsys':'O-Si'},['material_id'])"
   ]
  },
  {
   "cell_type": "code",
   "execution_count": 19,
   "id": "d0b4973b",
   "metadata": {},
   "outputs": [
    {
     "ename": "TypeError",
     "evalue": "'NoneType' object is not callable",
     "output_type": "error",
     "traceback": [
      "\u001b[1;31m---------------------------------------------------------------------------\u001b[0m",
      "\u001b[1;31mTypeError\u001b[0m                                 Traceback (most recent call last)",
      "Cell \u001b[1;32mIn[19], line 5\u001b[0m\n\u001b[0;32m      3\u001b[0m get_ipython()\u001b[38;5;241m.\u001b[39mrun_line_magic(\u001b[38;5;124m'\u001b[39m\u001b[38;5;124mmatplotlib\u001b[39m\u001b[38;5;124m'\u001b[39m, \u001b[38;5;124m'\u001b[39m\u001b[38;5;124minline\u001b[39m\u001b[38;5;124m'\u001b[39m)\n\u001b[0;32m      4\u001b[0m \u001b[38;5;28;01mwith\u001b[39;00m MPRester(Sparks_API) \u001b[38;5;28;01mas\u001b[39;00m mpr:\n\u001b[1;32m----> 5\u001b[0m     entries \u001b[38;5;241m=\u001b[39m \u001b[43mmpr\u001b[49m\u001b[38;5;241;43m.\u001b[39;49m\u001b[43mquery\u001b[49m\u001b[43m(\u001b[49m\u001b[38;5;124;43m'\u001b[39;49m\u001b[38;5;124;43mTa-C\u001b[39;49m\u001b[38;5;124;43m'\u001b[39;49m\u001b[43m,\u001b[49m\u001b[43m[\u001b[49m\u001b[38;5;124;43m'\u001b[39;49m\u001b[38;5;124;43mmaterial_id\u001b[39;49m\u001b[38;5;124;43m'\u001b[39;49m\u001b[43m,\u001b[49m\u001b[38;5;124;43m'\u001b[39;49m\u001b[38;5;124;43mspacegroup.crystal_system\u001b[39;49m\u001b[38;5;124;43m'\u001b[39;49m\u001b[43m]\u001b[49m\u001b[43m)\u001b[49m\n\u001b[0;32m      6\u001b[0m     systems \u001b[38;5;241m=\u001b[39m [entry[\u001b[38;5;124m'\u001b[39m\u001b[38;5;124mspacegroup.crystal_system\u001b[39m\u001b[38;5;124m'\u001b[39m] \u001b[38;5;28;01mfor\u001b[39;00m entry \u001b[38;5;129;01min\u001b[39;00m entries]\n\u001b[0;32m      7\u001b[0m     counts \u001b[38;5;241m=\u001b[39m {}\n",
      "\u001b[1;31mTypeError\u001b[0m: 'NoneType' object is not callable"
     ]
    }
   ],
   "source": [
    "#example from John Dagdelen 2019 MP Workshop https://youtu.be/dsDOa_fgE7A\n",
    "import matplotlib.pyplot as plt\n",
    "%matplotlib inline\n",
    "with MPRester(Sparks_API) as mpr:\n",
    "    entries = mpr.query('Ta-C',['material_id','spacegroup.crystal_system'])\n",
    "    systems = [entry['spacegroup.crystal_system'] for entry in entries]\n",
    "    counts = {}\n",
    "    \n",
    "    for system in systems:\n",
    "        if system in counts:\n",
    "            counts[system] += 1\n",
    "        else:\n",
    "            counts[system] = 1    \n",
    "    plt.bar(range(len(counts)), counts.values())\n",
    "    plt.xticks(range(len(counts)), [key[0:7] for key in counts.keys()])\n",
    "    "
   ]
  },
  {
   "cell_type": "code",
   "execution_count": null,
   "id": "d90805c8",
   "metadata": {
    "scrolled": false
   },
   "outputs": [],
   "source": [
    "#example from Wenhao Sun https://wenhaosun.github.io/docs/MSE593/\n",
    "#from pymatgen.analysis.phase_diagram import PhaseDiagram, PDPlotter\n",
    "#import math\n",
    "#This initializes the REST adaptor. Put your own API key in.\n",
    "#mpr = MPRester(Sparks_API)\n",
    " \n",
    "#Entries are the basic unit for thermodynamic and other analyses in pymatgen.\n",
    "#This gets all entries belonging to the Ca-O system.\n",
    "#entries = mpr.get_entries_in_chemsys(['Ca', 'La', 'S'])\n",
    "\n",
    "#With entries, you can do many sophisticated analyses, \n",
    "#like creating phase diagrams.\n",
    "#pd = PhaseDiagram(entries)\n",
    "#plotter = PDPlotter(pd)\n",
    "#plotter.show()"
   ]
  },
  {
   "cell_type": "code",
   "execution_count": null,
   "id": "052e087e",
   "metadata": {},
   "outputs": [],
   "source": [
    "#entries = mpr.get_entries_in_chemsys(['Mo', 'B', 'C'])\n",
    "\n",
    "#With entries, you can do many sophisticated analyses, \n",
    "#like creating phase diagrams.\n",
    "#pd = PhaseDiagram(entries)\n",
    "#plotter = PDPlotter(pd)\n",
    "#plotter.show()"
   ]
  },
  {
   "cell_type": "code",
   "execution_count": null,
   "id": "fb924e42",
   "metadata": {},
   "outputs": [
    {
     "name": "stderr",
     "output_type": "stream",
     "text": [
      "c:\\Users\\taylo\\miniconda3\\envs\\MyPymatgen\\lib\\site-packages\\pymatgen\\ext\\matproj_legacy.py:164: UserWarning: You are using the legacy MPRester. This version of the MPRester will no longer be updated. To access the latest data with the new MPRester, obtain a new API key from https://materialsproject.org/api and consult the docs at https://docs.materialsproject.org/ for more information.\n",
      "  warnings.warn(\n"
     ]
    },
    {
     "name": "stdout",
     "output_type": "stream",
     "text": [
      "53\n",
      "KPO3\n",
      "5.0422\n",
      "{'structure': Structure Summary\n",
      "Lattice\n",
      "    abc : 4.622368 10.532778 14.283612732012022\n",
      " angles : 78.68805047946931 90.0 90.0\n",
      " volume : 681.9080032992589\n",
      "      A : 4.622368 0.0 0.0\n",
      "      B : 0.0 10.532778 0.0\n",
      "      C : 0.0 2.80174 14.006136\n",
      "    pbc : True True True\n",
      "PeriodicSite: K (1.29, 11.71, 9.396) [0.2791, 0.9333, 0.6708]\n",
      "PeriodicSite: K (3.601, 3.026, 11.61) [0.7791, 0.06671, 0.8292]\n",
      "PeriodicSite: K (3.332, 1.625, 4.61) [0.7209, 0.06671, 0.3292]\n",
      "PeriodicSite: K (1.021, 10.31, 2.393) [0.2209, 0.9333, 0.1708]\n",
      "PeriodicSite: K (3.403, 8.111, 8.841) [0.7361, 0.6021, 0.6313]\n",
      "PeriodicSite: K (1.092, 6.625, 12.17) [0.2361, 0.3979, 0.8687]\n",
      "PeriodicSite: K (1.22, 5.224, 5.165) [0.2639, 0.3979, 0.3687]\n",
      "PeriodicSite: K (3.531, 6.71, 1.838) [0.7639, 0.6021, 0.1313]\n",
      "PeriodicSite: P (3.677, 3.826, 7.779) [0.7956, 0.2155, 0.5554]\n",
      "PeriodicSite: P (1.366, 10.91, 13.23) [0.2956, 0.7845, 0.9446]\n",
      "PeriodicSite: P (0.9449, 9.509, 6.227) [0.2044, 0.7845, 0.4446]\n",
      "PeriodicSite: P (3.256, 2.425, 0.7757) [0.7044, 0.2155, 0.05538]\n",
      "PeriodicSite: P (1.373, 5.091, 9.146) [0.297, 0.3097, 0.653]\n",
      "PeriodicSite: P (3.684, 9.644, 11.86) [0.797, 0.6903, 0.847]\n",
      "PeriodicSite: P (3.249, 8.243, 4.86) [0.703, 0.6903, 0.347]\n",
      "PeriodicSite: P (0.9382, 3.69, 2.143) [0.203, 0.3097, 0.153]\n",
      "PeriodicSite: O (0.5451, 4.49, 7.866) [0.1179, 0.2769, 0.5616]\n",
      "PeriodicSite: O (2.856, 10.25, 13.14) [0.6179, 0.7231, 0.9384]\n",
      "PeriodicSite: O (4.077, 8.845, 6.14) [0.8821, 0.7231, 0.4384]\n",
      "PeriodicSite: O (1.766, 3.089, 0.8634) [0.3821, 0.2769, 0.06164]\n",
      "PeriodicSite: O (2.852, 5.073, 8.465) [0.617, 0.3209, 0.6044]\n",
      "PeriodicSite: O (0.5407, 9.662, 12.54) [0.117, 0.6791, 0.8956]\n",
      "PeriodicSite: O (1.77, 8.261, 5.541) [0.383, 0.6791, 0.3956]\n",
      "PeriodicSite: O (4.082, 3.673, 1.462) [0.883, 0.3209, 0.1044]\n",
      "PeriodicSite: O (1.29, 4.157, 10.32) [0.279, 0.1987, 0.7367]\n",
      "PeriodicSite: O (3.601, 10.58, 10.69) [0.779, 0.8013, 0.7633]\n",
      "PeriodicSite: O (3.333, 9.178, 3.687) [0.721, 0.8013, 0.2633]\n",
      "PeriodicSite: O (1.021, 2.756, 3.316) [0.221, 0.1987, 0.2367]\n",
      "PeriodicSite: O (1.045, 6.541, 9.348) [0.2261, 0.4435, 0.6674]\n",
      "PeriodicSite: O (3.356, 8.195, 11.66) [0.7261, 0.5565, 0.8326]\n",
      "PeriodicSite: O (3.577, 6.794, 4.658) [0.7739, 0.5565, 0.3326]\n",
      "PeriodicSite: O (1.266, 5.14, 2.345) [0.2739, 0.4435, 0.1674]\n",
      "PeriodicSite: O (3.35, 1.209, 1.646) [0.7248, 0.08354, 0.1175]\n",
      "PeriodicSite: O (1.039, 10.72, 5.357) [0.2248, 0.9165, 0.3825]\n",
      "PeriodicSite: O (1.272, 12.13, 12.36) [0.2752, 0.9165, 0.8825]\n",
      "PeriodicSite: O (3.583, 2.61, 8.649) [0.7752, 0.08354, 0.6175]\n",
      "PeriodicSite: O (1.052, 8.176, 0.6872) [0.2275, 0.7632, 0.04907]\n",
      "PeriodicSite: O (3.363, 3.758, 6.316) [0.7275, 0.2368, 0.4509]\n",
      "PeriodicSite: O (3.571, 5.159, 13.32) [0.7725, 0.2368, 0.9509]\n",
      "PeriodicSite: O (1.26, 9.577, 7.69) [0.2725, 0.7632, 0.5491], 'material_id': 'mp-5039', 'pretty_formula': 'KPO3', 'e_above_hull': 0, 'band_gap': 5.0422, 'band_structure': None}\n"
     ]
    }
   ],
   "source": [
    "#example from Wenhao Sun https://wenhaosun.github.io/docs/MSE593/\n",
    "from pymatgen.ext.matproj import MPRester\n",
    "\n",
    "mpr = MPRester(Sparks_API)\n",
    "\n",
    "criteria = {'elements':{\"$in\":[\"Li\", \"Na\", \"K\"], \"$all\": [\"O\"]}, #All compounds contain O, and must have Li or Na or K\n",
    "\t\t\t'nelements':3,\n",
    "            'icsd_ids': {'$gte': 0},\n",
    "            'e_above_hull': {'$lte': 0.01},\n",
    "            'anonymous_formula': {\"A\": 1, \"B\": 1, \"C\": 3},\n",
    "            \"band_gap\": {\"$gt\": 1}\n",
    "            }\n",
    "\n",
    "        # The properties and the criteria use MaterialsProject features \n",
    "        # You can see what is queryable from the MP API documentation: \n",
    "        # https://github.com/materialsproject/mapidoc/tree/master/materials\n",
    "        \n",
    "        # The criteria uses mongodb query language. See here \n",
    "        # for more details: https://docs.mongodb.com/manual/reference/operator/query/\n",
    "\n",
    "props = ['structure', \"material_id\",'pretty_formula','e_above_hull',\"band_gap\",\"band_structure\"]\n",
    "entries = mpr.query(criteria=criteria, properties=props)\n",
    "\n",
    "print(len(entries))\n",
    "\n",
    "for e in entries:\n",
    "    print(e['pretty_formula'])\n",
    "    print(e['band_gap'])\n",
    "    print(e)\n",
    "    break"
   ]
  },
  {
   "cell_type": "markdown",
   "id": "f38f7d4d",
   "metadata": {},
   "source": [
    "# Now you try it!"
   ]
  },
  {
   "cell_type": "markdown",
   "id": "801e7177",
   "metadata": {},
   "source": [
    "Let's find your favoreite structure in the Crystallographic Open Database, adn then use MPRester API to find all entries in the Materials Project having the same structure type\n"
   ]
  },
  {
   "cell_type": "code",
   "execution_count": null,
   "id": "51cf055f",
   "metadata": {},
   "outputs": [],
   "source": [
    "#hint! the .get_structure_by_material_id() method is useful here\n",
    "#hint! the .get_space_group_info() method is useful here\n",
    "#hint! the .get_entry_by_material_id() method is useful here\n",
    "#hint! consider using a search criteria that enforces the same space group and the same anonymous formula\n",
    "\n"
   ]
  }
 ],
 "metadata": {
  "kernelspec": {
   "display_name": "Python 3 (ipykernel)",
   "language": "python",
   "name": "python3"
  },
  "language_info": {
   "codemirror_mode": {
    "name": "ipython",
    "version": 3
   },
   "file_extension": ".py",
   "mimetype": "text/x-python",
   "name": "python",
   "nbconvert_exporter": "python",
   "pygments_lexer": "ipython3",
   "version": "3.10.13"
  }
 },
 "nbformat": 4,
 "nbformat_minor": 5
}
