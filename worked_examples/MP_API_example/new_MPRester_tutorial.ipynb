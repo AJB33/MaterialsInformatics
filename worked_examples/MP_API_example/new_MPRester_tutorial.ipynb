{
 "cells": [
  {
   "cell_type": "markdown",
   "id": "9009686e",
   "metadata": {},
   "source": [
    "The python environment I used for this was called My_New_Pymatgen in miniconda\n",
    "\n",
    "Note: The old vs new Materials Project API's have two different API Keys. Use the correct one. https://next-gen.materialsproject.org/api"
   ]
  },
  {
   "cell_type": "code",
   "execution_count": 3,
   "id": "1d77b8fa",
   "metadata": {},
   "outputs": [],
   "source": [
    "import pandas as pd\n",
    "import os\n",
    "\n",
    "filename = r'G:\\My Drive\\teaching\\5540-6640 Materials Informatics\\apikey.txt'\n",
    "\n",
    "def get_file_contents(filename):\n",
    "    try:\n",
    "        with open(filename, 'r') as f:\n",
    "            # It's assumed our file contains a single line,\n",
    "            # with our API key\n",
    "            return f.read().strip()\n",
    "    except FileNotFoundError:\n",
    "        print(\"'%s' file not found\" % filename)\n",
    "\n",
    "\n",
    "Sparks_API = get_file_contents(filename)"
   ]
  },
  {
   "cell_type": "code",
   "execution_count": 4,
   "id": "196ccba8",
   "metadata": {
    "scrolled": true
   },
   "outputs": [
    {
     "name": "stdout",
     "output_type": "stream",
     "text": [
      "Silicon has atomic mass of: 28.0855 amu\n"
     ]
    }
   ],
   "source": [
    "import pymatgen.core as mg\n",
    "si = mg.Element(\"Si\")\n",
    "print('Silicon has atomic mass of:', si.atomic_mass)"
   ]
  },
  {
   "cell_type": "markdown",
   "id": "1814367f",
   "metadata": {},
   "source": [
    "The API for Materials Project recently (2022) was updated. You can read about the differences between new and old with API Key and install instructions for each.\n",
    "https://docs.materialsproject.org/downloading-data/differences-between-new-and-legacy-api\n",
    "\n",
    "For this class, let's use the new API which you can read about here https://api.materialsproject.org/docs\n",
    "\n",
    "To install, in miniconda in your My_Pymatgen environment run the command 'pip install mp-api'\n",
    "\n",
    "First, I had to update pydantic with the following code 'pip install pydantic==2.0'\n",
    "\n"
   ]
  },
  {
   "cell_type": "code",
   "execution_count": 6,
   "id": "0a53e08d",
   "metadata": {
    "scrolled": true
   },
   "outputs": [
    {
     "name": "stderr",
     "output_type": "stream",
     "text": [
      "Retrieving MaterialsDoc documents: 100%|██████████| 4/4 [00:00<?, ?it/s]\n",
      "Retrieving MaterialsDoc documents: 100%|██████████| 10/10 [00:00<?, ?it/s]"
     ]
    },
    {
     "name": "stdout",
     "output_type": "stream",
     "text": [
      "All compounds in the Ta-C system are:  [MPID(mp-1086), MPID(mp-7088), MPID(mp-1009817), MPID(mp-1009832), MPID(mp-1009835), MPID(mp-1025192), MPID(mp-1187218), MPID(mp-1217774), MPID(mp-1218000), MPID(mp-1218120)]\n"
     ]
    },
    {
     "name": "stderr",
     "output_type": "stream",
     "text": [
      "\n"
     ]
    }
   ],
   "source": [
    "#this works with the old legacy MPRester\n",
    "from mp_api.client import MPRester\n",
    "\n",
    "with MPRester(Sparks_API) as mpr:\n",
    "    list_ids = mpr.get_materials_ids(\"TaC\")\n",
    "    print('All compounds in the Ta-C system are: ', mpr.get_materials_ids('Ta-C'))"
   ]
  },
  {
   "cell_type": "markdown",
   "id": "9eda7269",
   "metadata": {},
   "source": [
    "Or we can pull data from a specific materials project id"
   ]
  },
  {
   "cell_type": "code",
   "execution_count": 8,
   "id": "e18bf54d",
   "metadata": {},
   "outputs": [
    {
     "name": "stderr",
     "output_type": "stream",
     "text": [
      "Retrieving MaterialsDoc documents: 100%|██████████| 1/1 [00:00<?, ?it/s]\n"
     ]
    },
    {
     "name": "stdout",
     "output_type": "stream",
     "text": [
      "Full Formula (Ta1 C1)\n",
      "Reduced Formula: TaC\n",
      "abc   :   3.159209   3.159208   3.159208\n",
      "angles:  60.000001  60.000008  59.999999\n",
      "pbc   :       True       True       True\n",
      "Sites (2)\n",
      "  #  SP       a    b    c    magmom\n",
      "---  ----  ----  ---  ---  --------\n",
      "  0  Ta    -0    0    0          -0\n",
      "  1  C      0.5  0.5  0.5         0\n"
     ]
    },
    {
     "name": "stderr",
     "output_type": "stream",
     "text": [
      "Retrieving MaterialsDoc documents: 100%|██████████| 1/1 [00:00<?, ?it/s]\n"
     ]
    },
    {
     "name": "stdout",
     "output_type": "stream",
     "text": [
      "Full Formula (Ta1 C1)\n",
      "Reduced Formula: TaC\n",
      "abc   :   3.057398   3.057398   2.880879\n",
      "angles:  90.000000  90.000000 119.999994\n",
      "pbc   :       True       True       True\n",
      "Sites (2)\n",
      "  #  SP           a         b    c    magmom\n",
      "---  ----  --------  --------  ---  --------\n",
      "  0  Ta    0.666667  0.333333  0       0.011\n",
      "  1  C     0         0         0.5    -0\n"
     ]
    },
    {
     "name": "stderr",
     "output_type": "stream",
     "text": [
      "Retrieving MaterialsDoc documents: 100%|██████████| 1/1 [00:00<?, ?it/s]\n"
     ]
    },
    {
     "name": "stdout",
     "output_type": "stream",
     "text": [
      "Full Formula (Ta1 C1)\n",
      "Reduced Formula: TaC\n",
      "abc   :   3.421388   3.421388   3.421388\n",
      "angles:  60.000000  60.000000  60.000000\n",
      "pbc   :       True       True       True\n",
      "Sites (2)\n",
      "  #  SP       a     b     c    magmom\n",
      "---  ----  ----  ----  ----  --------\n",
      "  0  Ta    0     0     0            0\n",
      "  1  C     0.25  0.25  0.25        -0\n"
     ]
    },
    {
     "name": "stderr",
     "output_type": "stream",
     "text": [
      "Retrieving MaterialsDoc documents: 100%|██████████| 1/1 [00:00<00:00, 1039.22it/s]\n"
     ]
    },
    {
     "name": "stdout",
     "output_type": "stream",
     "text": [
      "Full Formula (Ta1 C1)\n",
      "Reduced Formula: TaC\n",
      "abc   :   2.797247   2.797247   2.797247\n",
      "angles:  90.000000  90.000000  90.000000\n",
      "pbc   :       True       True       True\n",
      "Sites (2)\n",
      "  #  SP      a    b    c    magmom\n",
      "---  ----  ---  ---  ---  --------\n",
      "  0  Ta    0    0    0           0\n",
      "  1  C     0.5  0.5  0.5        -0\n"
     ]
    },
    {
     "name": "stderr",
     "output_type": "stream",
     "text": [
      "Retrieving MaterialsDoc documents: 100%|██████████| 1/1 [00:00<?, ?it/s]"
     ]
    },
    {
     "name": "stdout",
     "output_type": "stream",
     "text": [
      "Full Formula (Ta1 C1)\n",
      "Reduced Formula: TaC\n",
      "abc   :   3.159209   3.159208   3.159208\n",
      "angles:  60.000001  60.000008  59.999999\n",
      "pbc   :       True       True       True\n",
      "Sites (2)\n",
      "  #  SP       a    b    c    magmom\n",
      "---  ----  ----  ---  ---  --------\n",
      "  0  Ta    -0    0    0          -0\n",
      "  1  C      0.5  0.5  0.5         0\n"
     ]
    },
    {
     "name": "stderr",
     "output_type": "stream",
     "text": [
      "\n"
     ]
    }
   ],
   "source": [
    "for i_d in list_ids:\n",
    "    with MPRester(Sparks_API) as mpr:\n",
    "        structure = mpr.get_structure_by_material_id(i_d)\n",
    "        print(structure)\n",
    "\n",
    "\n",
    "with MPRester(Sparks_API) as mpr:\n",
    "    structure = mpr.get_structure_by_material_id('mp-1086')\n",
    "    print(structure)\n",
    "    \n"
   ]
  },
  {
   "cell_type": "markdown",
   "id": "0960cfb1",
   "metadata": {},
   "source": [
    "How do we do queries though? What if we want to find all carbides having either Ta, Nb, or W?\n",
    "We need to use the MPRester.summary.search method!\n",
    "https://docs.materialsproject.org/downloading-data/using-the-api/querying-data\n",
    "\n",
    "By default it grabs ALL the property data available, but you can also tell it to only grab a few specific fields\n"
   ]
  },
  {
   "cell_type": "code",
   "execution_count": 40,
   "id": "0b791e6b",
   "metadata": {},
   "outputs": [
    {
     "name": "stderr",
     "output_type": "stream",
     "text": [
      "C:\\Users\\taylo\\AppData\\Local\\Temp\\ipykernel_21844\\2188705723.py:3: DeprecationWarning: Accessing summary data through MPRester.summary is deprecated. Please use MPRester.materials.summary instead.\n",
      "  docs = mpr.summary.search(elements=['Si','O'],band_gap=(0.85,1))\n",
      "Retrieving SummaryDoc documents: 100%|██████████| 122/122 [00:00<?, ?it/s]\n",
      "C:\\Users\\taylo\\AppData\\Local\\Temp\\ipykernel_21844\\2188705723.py:6: DeprecationWarning: Accessing summary data through MPRester.summary is deprecated. Please use MPRester.materials.summary instead.\n",
      "  docs = mpr.summary.search(elements=['Si','O'],band_gap=(0.85,1),fields=[\"material_id\",\"density\",\"symmetry\"])\n"
     ]
    },
    {
     "name": "stdout",
     "output_type": "stream",
     "text": [
      "\u001b[4m\u001b[1mMPDataDoc<SummaryDoc>\u001b[0;0m\u001b[0;0m\n",
      "\u001b[1mbuilder_meta\u001b[0;0m=EmmetMeta(emmet_version='0.72.20', pymatgen_version='2023.11.12', pull_request=990, database_version='2023.11.1', build_date=datetime.datetime(2023, 11, 22, 19, 38, 22, 478000), license='BY-C'),\n",
      "\u001b[1mnsites\u001b[0;0m=102,\n",
      "\u001b[1melements\u001b[0;0m=[Element Ca, Element Nb, Element O, Element S, Element Si],\n",
      "\u001b[1mnelements\u001b[0;0m=5,\n",
      "\u001b[1mcomposition\u001b[0;0m=Composition('Ca6 Nb6 Si3 S15 O72'),\n",
      "\u001b[1mcomposition_reduced\u001b[0;0m=Composition('Ca2 Nb2 Si1 S5 O24'),\n",
      "\u001b[1mformula_pretty\u001b[0;0m='Ca2Nb2SiS5O24',\n",
      "\u001b[1mformula_anonymous\u001b[0;0m='AB2C2D5E24',\n",
      "\u001b[1mchemsys\u001b[0;0m='Ca-Nb-O-S-Si',\n",
      "\u001b[1mvolume\u001b[0;0m=1675.7584779384497,\n",
      "\u001b[1mdensity\u001b[0;0m=2.4922522316114564,\n",
      "\u001b[1mdensity_atomic\u001b[0;0m=16.429004685671075,\n",
      "\u001b[1msymmetry\u001b[0;0m=SymmetryData(crystal_system=<CrystalSystem.tri: 'Triclinic'>, symbol='P1', number=1, point_group='1', symprec=0.1, version='2.0.2'),\n",
      "\u001b[1mproperty_name\u001b[0;0m='summary',\n",
      "\u001b[1mmaterial_id\u001b[0;0m=MPID(mp-2713035),\n",
      "\u001b[1mdeprecated\u001b[0;0m=False,\n",
      "\u001b[1mdeprecation_reasons\u001b[0;0m=None,\n",
      "\u001b[1mlast_updated\u001b[0;0m=datetime.datetime(2023, 11, 22, 19, 38, 22, 479000),\n",
      "\u001b[1morigins\u001b[0;0m=[PropertyOrigin(name='structure', task_id=MPID(mp-2713035), last_updated=datetime.datetime(2022, 6, 30, 6, 43, 40, 361000)), PropertyOrigin(name='energy', task_id=MPID(mp-2713035), last_updated=datetime.datetime(2023, 8, 3, 21, 27, 14, 734000)), PropertyOrigin(name='electronic_structure', task_id=MPID(mp-2713035), last_updated=datetime.datetime(2022, 6, 30, 6, 43, 40, 361000)), PropertyOrigin(name='magnetism', task_id=MPID(mp-2713035), last_updated=datetime.datetime(2022, 6, 30, 6, 43, 40, 361000))],\n",
      "\u001b[1mwarnings\u001b[0;0m=[],\n",
      "\u001b[1mstructure\u001b[0;0m=Structure Summary\n",
      "Lattice\n",
      "    abc : 9.13153421616752 9.136127032898383 23.211872844389497\n",
      " angles : 89.91187243049414 90.24917170226824 120.07553063506694\n",
      " volume : 1675.7584779384497\n",
      "      A : 9.13150976 -0.00734806 -0.0198154\n",
      "      B : -4.57212178 7.90977053 0.00705357\n",
      "      C : -0.05058259 -0.00869974 23.2118161\n",
      "    pbc : True True True\n",
      "PeriodicSite: Ca (9.099, -0.003701, 8.453) [0.9989, 0.0008616, 0.365]\n",
      "PeriodicSite: Ca (-0.04809, 0.02034, 19.89) [0.001239, 0.003515, 0.8567]\n",
      "PeriodicSite: Ca (9.037, 0.03108, 14.88) [0.996, 0.00556, 0.6417]\n",
      "PeriodicSite: Ca (4.617, 2.643, 15.93) [0.6774, 0.3355, 0.6869]\n",
      "PeriodicSite: Ca (4.539, 2.633, 4.509) [0.6653, 0.3337, 0.1947]\n",
      "PeriodicSite: Ca (-0.01655, 5.258, 0.6271) [0.3313, 0.6651, 0.0271]\n",
      "PeriodicSite: Nb (-0.001792, 0.04563, 3.312) [0.003563, 0.005929, 0.1427]\n",
      "PeriodicSite: Nb (4.418, 2.613, 22.73) [0.6555, 0.332, 0.9796]\n",
      "PeriodicSite: Nb (4.644, 2.558, 11.07) [0.6737, 0.3245, 0.4772]\n",
      "PeriodicSite: Nb (0.01616, 5.298, 12.15) [0.3405, 0.6707, 0.5236]\n",
      "PeriodicSite: Nb (0.01275, 5.348, 7.213) [0.342, 0.6768, 0.3108]\n",
      "PeriodicSite: Nb (-0.07074, 5.217, 18.87) [0.3276, 0.6608, 0.813]\n",
      "PeriodicSite: Si (7.232, 2.655, 13.52) [0.964, 0.3372, 0.583]\n",
      "PeriodicSite: Si (1.944, 2.575, 1.992) [0.3765, 0.326, 0.08606]\n",
      "PeriodicSite: Si (1.169, 7.557, 9.681) [0.6092, 0.9564, 0.4173]\n",
      "PeriodicSite: S (-2.008, 7.729, 5.823) [0.271, 0.9777, 0.2508]\n",
      "PeriodicSite: S (3.139, 5.716, 5.832) [0.7075, 0.7236, 0.2516]\n",
      "PeriodicSite: S (-1.154, 2.299, 5.814) [0.02071, 0.2909, 0.2504]\n",
      "PeriodicSite: S (1.29, 2.374, 17.47) [0.2963, 0.3012, 0.7529]\n",
      "PeriodicSite: S (-3.206, 5.596, 17.5) [0.007753, 0.7084, 0.7536]\n",
      "PeriodicSite: S (1.78, 7.803, 17.49) [0.6938, 0.988, 0.7537]\n",
      "PeriodicSite: S (3.255, 0.3294, 13.42) [0.381, 0.04264, 0.5784]\n",
      "PeriodicSite: S (3.2, 4.839, 13.41) [0.6606, 0.613, 0.578]\n",
      "PeriodicSite: S (5.716, 4.964, 1.939) [0.9411, 0.6285, 0.08414]\n",
      "PeriodicSite: S (5.99, 0.4725, 1.92) [0.6867, 0.06047, 0.08328]\n",
      "PeriodicSite: S (2.582, 5.149, 21.3) [0.6146, 0.6526, 0.918]\n",
      "PeriodicSite: S (-1.504, 3.067, 21.31) [0.03506, 0.3887, 0.918]\n",
      "PeriodicSite: S (-1.249, 7.617, 21.31) [0.3512, 0.9644, 0.9181]\n",
      "PeriodicSite: S (1.363, 3.171, 9.672) [0.3527, 0.4017, 0.4169]\n",
      "PeriodicSite: S (-2.551, 5.132, 9.67) [0.04808, 0.6493, 0.4165]\n",
      "PeriodicSite: O (1.781, 0.04195, 7.005) [0.1996, 0.005821, 0.302]\n",
      "PeriodicSite: O (3.681, 6.326, 7.024) [0.8058, 0.8008, 0.303]\n",
      "PeriodicSite: O (8.196, 1.47, 6.958) [0.9929, 0.1871, 0.3005]\n",
      "PeriodicSite: O (1.045, 1.575, 18.66) [0.2191, 0.2002, 0.804]\n",
      "PeriodicSite: O (5.402, 6.252, 18.66) [0.9927, 0.7922, 0.8044]\n",
      "PeriodicSite: O (7.188, 0.1093, 18.65) [0.7994, 0.01545, 0.8042]\n",
      "PeriodicSite: O (2.525, 7.444, 16.29) [0.7523, 0.9426, 0.702]\n",
      "PeriodicSite: O (0.6152, 1.895, 16.27) [0.1917, 0.2405, 0.7012]\n",
      "PeriodicSite: O (-3.291, 6.388, 16.28) [0.04822, 0.8084, 0.7011]\n",
      "PeriodicSite: O (3.323, 6.572, 4.621) [0.7814, 0.8318, 0.1995]\n",
      "PeriodicSite: O (-0.5255, 1.577, 4.583) [0.0435, 0.1996, 0.1974]\n",
      "PeriodicSite: O (-2.901, 7.497, 4.62) [0.1582, 0.9482, 0.1989]\n",
      "PeriodicSite: O (6.318, 3.077, 14.72) [0.891, 0.3905, 0.6348]\n",
      "PeriodicSite: O (3.881, 0.8423, 14.61) [0.4824, 0.1076, 0.63]\n",
      "PeriodicSite: O (3.262, 4.042, 14.62) [0.6172, 0.5122, 0.63]\n",
      "PeriodicSite: O (5.601, 4.136, 3.11) [0.8765, 0.5238, 0.1346]\n",
      "PeriodicSite: O (5.434, 1.032, 3.119) [0.6615, 0.1313, 0.1349]\n",
      "PeriodicSite: O (2.864, 2.679, 3.241) [0.4843, 0.3393, 0.1399]\n",
      "PeriodicSite: O (3.027, 2.31, 0.6268) [0.4782, 0.2926, 0.02732]\n",
      "PeriodicSite: O (5.069, 4.304, 0.7271) [0.8282, 0.5449, 0.03187]\n",
      "PeriodicSite: O (5.779, 1.383, 0.7174) [0.7209, 0.1756, 0.03147]\n",
      "PeriodicSite: O (3.586, 1.207, 12.22) [0.4725, 0.1536, 0.5267]\n",
      "PeriodicSite: O (3.711, 4.089, 12.21) [0.6688, 0.5181, 0.5265]\n",
      "PeriodicSite: O (6.095, 2.524, 12.14) [0.8308, 0.3204, 0.5238]\n",
      "PeriodicSite: O (1.813, 5.376, 22.5) [0.545, 0.6812, 0.9696]\n",
      "PeriodicSite: O (-0.8912, 3.642, 22.48) [0.1389, 0.4616, 0.9686]\n",
      "PeriodicSite: O (-1.073, 6.856, 22.52) [0.3225, 0.8682, 0.9703]\n",
      "PeriodicSite: O (0.7041, 6.577, 10.89) [0.4965, 0.8324, 0.4692]\n",
      "PeriodicSite: O (0.7424, 3.81, 10.86) [0.3255, 0.4825, 0.4679]\n",
      "PeriodicSite: O (-1.691, 5.26, 10.86) [0.1507, 0.6656, 0.4678]\n",
      "PeriodicSite: O (-1.695, 4.874, 8.45) [0.1252, 0.6167, 0.364]\n",
      "PeriodicSite: O (0.4349, 6.778, 8.32) [0.4791, 0.8578, 0.3586]\n",
      "PeriodicSite: O (1.044, 4.032, 8.448) [0.372, 0.5106, 0.3641]\n",
      "PeriodicSite: O (-1.203, 3.984, 20.11) [0.1258, 0.5047, 0.8663]\n",
      "PeriodicSite: O (-0.5977, 6.943, 20.14) [0.3795, 0.879, 0.8677]\n",
      "PeriodicSite: O (1.684, 4.876, 20.13) [0.4986, 0.6179, 0.8673]\n",
      "PeriodicSite: O (-3.346, 6.327, 9.518) [0.03656, 0.8004, 0.4098]\n",
      "PeriodicSite: O (2.705, 7.712, 9.525) [0.7873, 0.9762, 0.4107]\n",
      "PeriodicSite: O (0.793, 1.856, 9.498) [0.2069, 0.2352, 0.4093]\n",
      "PeriodicSite: O (-1.024, 1.732, 21.01) [0.00302, 0.22, 0.9053]\n",
      "PeriodicSite: O (1.944, 0.0514, 21.03) [0.2217, 0.007701, 0.9061]\n",
      "PeriodicSite: O (3.536, 6.201, 21.02) [0.7857, 0.7857, 0.906]\n",
      "PeriodicSite: O (8.111, 1.354, 13.48) [0.978, 0.1727, 0.5813]\n",
      "PeriodicSite: O (1.82, 0.1608, 13.47) [0.2131, 0.02116, 0.5804]\n",
      "PeriodicSite: O (3.811, 6.146, 13.48) [0.8102, 0.7783, 0.5811]\n",
      "PeriodicSite: O (4.925, 6.273, 2.2) [0.9375, 0.7941, 0.09535]\n",
      "PeriodicSite: O (7.528, 0.3874, 2.125) [0.8499, 0.04987, 0.09227]\n",
      "PeriodicSite: O (1.064, 1.078, 2.264) [0.1854, 0.1366, 0.09766]\n",
      "PeriodicSite: O (5.358, 0.9327, 17.3) [0.6507, 0.1193, 0.7459]\n",
      "PeriodicSite: O (2.686, 2.719, 17.3) [0.471, 0.345, 0.7454]\n",
      "PeriodicSite: O (5.472, 4.219, 17.37) [0.8713, 0.535, 0.749]\n",
      "PeriodicSite: O (3.599, 4.363, 5.645) [0.6721, 0.5525, 0.2436]\n",
      "PeriodicSite: O (6.581, 2.536, 5.512) [0.883, 0.3217, 0.2381]\n",
      "PeriodicSite: O (3.561, 0.837, 5.577) [0.4446, 0.1065, 0.2406]\n",
      "PeriodicSite: O (3.427, 3.852, 21.51) [0.625, 0.4885, 0.9269]\n",
      "PeriodicSite: O (6.125, 3.024, 21.47) [0.8682, 0.3841, 0.9256]\n",
      "PeriodicSite: O (4.092, 1.064, 21.5) [0.5214, 0.1361, 0.9268]\n",
      "PeriodicSite: O (4.963, 1.111, 9.893) [0.6168, 0.1416, 0.4267]\n",
      "PeriodicSite: O (2.831, 3.123, 9.813) [0.5105, 0.3958, 0.4231]\n",
      "PeriodicSite: O (5.678, 3.93, 9.81) [0.8736, 0.4982, 0.4232]\n",
      "PeriodicSite: O (0.8509, 3.62, 1.628) [0.3229, 0.458, 0.07028]\n",
      "PeriodicSite: O (-2.055, 5.358, 1.651) [0.1146, 0.6776, 0.071]\n",
      "PeriodicSite: O (0.961, 7.043, 1.639) [0.5518, 0.8911, 0.07083]\n",
      "PeriodicSite: O (-0.698, 6.862, 13.17) [0.3616, 0.8685, 0.5674]\n",
      "PeriodicSite: O (1.686, 5.052, 13.14) [0.5081, 0.6397, 0.5665]\n",
      "PeriodicSite: O (-0.9761, 3.991, 13.05) [0.1492, 0.5053, 0.5622]\n",
      "PeriodicSite: O (-1.225, 6.387, 6.012) [0.2719, 0.808, 0.259]\n",
      "PeriodicSite: O (1.575, 5.607, 6.037) [0.5292, 0.7097, 0.2603]\n",
      "PeriodicSite: O (-0.4392, 3.62, 5.973) [0.1827, 0.4581, 0.2574]\n",
      "PeriodicSite: O (0.5676, 3.77, 17.81) [0.3056, 0.4778, 0.7673]\n",
      "PeriodicSite: O (-1.631, 5.481, 17.8) [0.1731, 0.694, 0.767]\n",
      "PeriodicSite: O (0.933, 6.504, 17.85) [0.5188, 0.8236, 0.7694],\n",
      "\u001b[1mtask_ids\u001b[0;0m=[MPID(mp-2713035)],\n",
      "\u001b[1muncorrected_energy_per_atom\u001b[0;0m=-6.903896687254902,\n",
      "\u001b[1menergy_per_atom\u001b[0;0m=-7.388837863725492,\n",
      "\u001b[1mformation_energy_per_atom\u001b[0;0m=-2.4128009505637267,\n",
      "\u001b[1menergy_above_hull\u001b[0;0m=0.05326190718138335,\n",
      "\u001b[1mis_stable\u001b[0;0m=False,\n",
      "\u001b[1mequilibrium_reaction_energy_per_atom\u001b[0;0m=None,\n",
      "\u001b[1mdecomposes_to\u001b[0;0m=[DecompositionProduct(material_id=MPID(mp-2715784), formula='Nb12 Si12 S6 O72', amount=0.25), DecompositionProduct(material_id=MPID(mp-2713764), formula='Ca8 Nb4 S18 O72', amount=0.7500000000000018)],\n",
      "\u001b[1mxas\u001b[0;0m=None,\n",
      "\u001b[1mgrain_boundaries\u001b[0;0m=None,\n",
      "\u001b[1mband_gap\u001b[0;0m=0.9383,\n",
      "\u001b[1mcbm\u001b[0;0m=1.2379,\n",
      "\u001b[1mvbm\u001b[0;0m=0.2996,\n",
      "\u001b[1mefermi\u001b[0;0m=0.5834486,\n",
      "\u001b[1mis_gap_direct\u001b[0;0m=True,\n",
      "\u001b[1mis_metal\u001b[0;0m=False,\n",
      "\u001b[1mes_source_calc_id\u001b[0;0m=None,\n",
      "\u001b[1mbandstructure\u001b[0;0m=None,\n",
      "\u001b[1mdos\u001b[0;0m=None,\n",
      "\u001b[1mdos_energy_up\u001b[0;0m=None,\n",
      "\u001b[1mdos_energy_down\u001b[0;0m=None,\n",
      "\u001b[1mis_magnetic\u001b[0;0m=False,\n",
      "\u001b[1mordering\u001b[0;0m='NM',\n",
      "\u001b[1mtotal_magnetization\u001b[0;0m=0.0,\n",
      "\u001b[1mtotal_magnetization_normalized_vol\u001b[0;0m=0.0,\n",
      "\u001b[1mtotal_magnetization_normalized_formula_units\u001b[0;0m=0.0,\n",
      "\u001b[1mnum_magnetic_sites\u001b[0;0m=0,\n",
      "\u001b[1mnum_unique_magnetic_sites\u001b[0;0m=0,\n",
      "\u001b[1mtypes_of_magnetic_species\u001b[0;0m=[],\n",
      "\u001b[1mbulk_modulus\u001b[0;0m=None,\n",
      "\u001b[1mshear_modulus\u001b[0;0m=None,\n",
      "\u001b[1muniversal_anisotropy\u001b[0;0m=None,\n",
      "\u001b[1mhomogeneous_poisson\u001b[0;0m=None,\n",
      "\u001b[1me_total\u001b[0;0m=None,\n",
      "\u001b[1me_ionic\u001b[0;0m=None,\n",
      "\u001b[1me_electronic\u001b[0;0m=None,\n",
      "\u001b[1mn\u001b[0;0m=None,\n",
      "\u001b[1me_ij_max\u001b[0;0m=None,\n",
      "\u001b[1mweighted_surface_energy_EV_PER_ANG2\u001b[0;0m=None,\n",
      "\u001b[1mweighted_surface_energy\u001b[0;0m=None,\n",
      "\u001b[1mweighted_work_function\u001b[0;0m=None,\n",
      "\u001b[1msurface_anisotropy\u001b[0;0m=None,\n",
      "\u001b[1mshape_factor\u001b[0;0m=None,\n",
      "\u001b[1mhas_reconstructed\u001b[0;0m=None,\n",
      "\u001b[1mpossible_species\u001b[0;0m=['S6+', 'Si4+', 'O2-', 'Ca2+', 'Nb5+'],\n",
      "\u001b[1mhas_props\u001b[0;0m={'materials': True, 'thermo': True, 'xas': False, 'grain_boundaries': False, 'chemenv': True, 'electronic_structure': True, 'absorption': False, 'bandstructure': False, 'dos': False, 'magnetism': True, 'elasticity': False, 'dielectric': False, 'piezoelectric': False, 'surface_properties': False, 'oxi_states': True, 'provenance': True, 'charge_density': False, 'eos': False, 'phonon': False, 'insertion_electrodes': False, 'substrates': False},\n",
      "\u001b[1mtheoretical\u001b[0;0m=True,\n",
      "\u001b[1mdatabase_IDs\u001b[0;0m={}\n",
      "\n",
      "\u001b[1mFields not requested:\u001b[0;0m\n",
      "[]\n"
     ]
    },
    {
     "name": "stderr",
     "output_type": "stream",
     "text": [
      "Retrieving SummaryDoc documents: 100%|██████████| 122/122 [00:00<00:00, 117444.36it/s]"
     ]
    },
    {
     "name": "stdout",
     "output_type": "stream",
     "text": [
      "\u001b[4m\u001b[1mMPDataDoc<SummaryDoc>\u001b[0;0m\u001b[0;0m\n",
      "\u001b[1mdensity\u001b[0;0m=2.4922522316114564,\n",
      "\u001b[1msymmetry\u001b[0;0m=SymmetryData(crystal_system=<CrystalSystem.tri: 'Triclinic'>, symbol='P1', number=1, point_group='1', symprec=0.1, version='2.0.2'),\n",
      "\u001b[1mmaterial_id\u001b[0;0m=MPID(mp-2713035)\n",
      "\n",
      "\u001b[1mFields not requested:\u001b[0;0m\n",
      "['builder_meta', 'nsites', 'elements', 'nelements', 'composition', 'composition_reduced', 'formula_pretty', 'formula_anonymous', 'chemsys', 'volume', 'density_atomic', 'property_name', 'deprecated', 'deprecation_reasons', 'last_updated', 'origins', 'warnings', 'structure', 'task_ids', 'uncorrected_energy_per_atom', 'energy_per_atom', 'formation_energy_per_atom', 'energy_above_hull', 'is_stable', 'equilibrium_reaction_energy_per_atom', 'decomposes_to', 'xas', 'grain_boundaries', 'band_gap', 'cbm', 'vbm', 'efermi', 'is_gap_direct', 'is_metal', 'es_source_calc_id', 'bandstructure', 'dos', 'dos_energy_up', 'dos_energy_down', 'is_magnetic', 'ordering', 'total_magnetization', 'total_magnetization_normalized_vol', 'total_magnetization_normalized_formula_units', 'num_magnetic_sites', 'num_unique_magnetic_sites', 'types_of_magnetic_species', 'bulk_modulus', 'shear_modulus', 'universal_anisotropy', 'homogeneous_poisson', 'e_total', 'e_ionic', 'e_electronic', 'n', 'e_ij_max', 'weighted_surface_energy_EV_PER_ANG2', 'weighted_surface_energy', 'weighted_work_function', 'surface_anisotropy', 'shape_factor', 'has_reconstructed', 'possible_species', 'has_props', 'theoretical', 'database_IDs']\n",
      "The chemical system is 2.4922522316114564\n"
     ]
    },
    {
     "name": "stderr",
     "output_type": "stream",
     "text": [
      "\n"
     ]
    }
   ],
   "source": [
    "mpr = MPRester(Sparks_API)\n",
    "#grab all the data\n",
    "docs = mpr.summary.search(elements=['Si','O'],band_gap=(0.85,1))\n",
    "print(docs[0])\n",
    "#just grab a few specific fields\n",
    "docs = mpr.summary.search(elements=['Si','O'],band_gap=(0.85,1),fields=[\"material_id\",\"density\",\"symmetry\"])\n",
    "print(docs[0])\n",
    "#call up a specific field for a entry as follows\n",
    "print('The chemical system is',docs[0].density)\n"
   ]
  },
  {
   "cell_type": "code",
   "execution_count": 51,
   "id": "1e481352",
   "metadata": {},
   "outputs": [
    {
     "name": "stderr",
     "output_type": "stream",
     "text": [
      "C:\\Users\\taylo\\AppData\\Local\\Temp\\ipykernel_21844\\2789331082.py:2: DeprecationWarning: Accessing summary data through MPRester.summary is deprecated. Please use MPRester.materials.summary instead.\n",
      "  docs = mpr.summary.search(material_ids=[\"mp-149\"], fields=[\"symmetry\"])\n",
      "Retrieving SummaryDoc documents: 100%|██████████| 1/1 [00:00<?, ?it/s]\n",
      "Retrieving MaterialsDoc documents: 100%|██████████| 1/1 [00:00<?, ?it/s]"
     ]
    },
    {
     "name": "stdout",
     "output_type": "stream",
     "text": [
      "Full Formula (Si2)\n",
      "Reduced Formula: Si\n",
      "abc   :   3.849278   3.849279   3.849278\n",
      "angles:  60.000012  60.000003  60.000011\n",
      "pbc   :       True       True       True\n",
      "Sites (2)\n",
      "  #  SP        a      b      c    magmom\n",
      "---  ----  -----  -----  -----  --------\n",
      "  0  Si    0.875  0.875  0.875        -0\n",
      "  1  Si    0.125  0.125  0.125        -0\n"
     ]
    },
    {
     "name": "stderr",
     "output_type": "stream",
     "text": [
      "\n"
     ]
    }
   ],
   "source": [
    "with MPRester(Sparks_API) as mpr:\n",
    "    docs = mpr.summary.search(material_ids=[\"mp-149\"], fields=[\"symmetry\"])\n",
    "    structure = docs[0].symmetry\n",
    "    # -- Shortcut for a single Materials Project ID:\n",
    "    structure = mpr.get_structure_by_material_id(\"mp-149\")\n",
    "    print(structure)"
   ]
  },
  {
   "cell_type": "markdown",
   "id": "7cf1a7f6",
   "metadata": {},
   "source": [
    "There are lots of examples that you can peruse here\n",
    "https://docs.materialsproject.org/downloading-data/using-the-api/examples"
   ]
  },
  {
   "cell_type": "code",
   "execution_count": 48,
   "id": "d0b4973b",
   "metadata": {},
   "outputs": [],
   "source": [
    "#example from John Dagdelen 2019 MP Workshop https://youtu.be/dsDOa_fgE7A\n",
    "#import matplotlib.pyplot as plt\n",
    "#%matplotlib inline\n",
    "#with MPRester(Sparks_API) as mpr:\n",
    "#    entries = mpr.summary.search(elements=['Ta','C'],fields=[\"symmetry\"])\n",
    "#    systems = [entry.symmetry for entry in entries]\n",
    "#    counts = {}\n",
    "    \n",
    "#    for system in systems:\n",
    "#        if system in counts:\n",
    "#            counts[system] += 1\n",
    "#        else:\n",
    "#            counts[system] = 1    \n",
    "#    plt.bar(range(len(counts)), counts.values())\n",
    "#    plt.xticks(range(len(counts)), [key[0:7] for key in counts.keys()])\n",
    "    "
   ]
  },
  {
   "cell_type": "code",
   "execution_count": 29,
   "id": "d90805c8",
   "metadata": {
    "scrolled": false
   },
   "outputs": [],
   "source": [
    "#example from Wenhao Sun https://wenhaosun.github.io/docs/MSE593/\n",
    "#from pymatgen.analysis.phase_diagram import PhaseDiagram, PDPlotter\n",
    "#import math\n",
    "#This initializes the REST adaptor. Put your own API key in.\n",
    "#mpr = MPRester(Sparks_API)\n",
    " \n",
    "#Entries are the basic unit for thermodynamic and other analyses in pymatgen.\n",
    "#This gets all entries belonging to the Ca-O system.\n",
    "#entries = mpr.get_entries_in_chemsys(['Ca', 'La', 'S'])\n",
    "\n",
    "#With entries, you can do many sophisticated analyses, \n",
    "#like creating phase diagrams.\n",
    "#pd = PhaseDiagram(entries)\n",
    "#plotter = PDPlotter(pd)\n",
    "#plotter.show()"
   ]
  },
  {
   "cell_type": "code",
   "execution_count": 31,
   "id": "052e087e",
   "metadata": {},
   "outputs": [],
   "source": [
    "#entries = mpr.get_entries_in_chemsys(['Mo', 'B', 'C'])\n",
    "\n",
    "#With entries, you can do many sophisticated analyses, \n",
    "#like creating phase diagrams.\n",
    "#pd = PhaseDiagram(entries)\n",
    "#plotter = PDPlotter(pd)\n",
    "#plotter.show()"
   ]
  }
 ],
 "metadata": {
  "kernelspec": {
   "display_name": "Python 3 (ipykernel)",
   "language": "python",
   "name": "python3"
  },
  "language_info": {
   "codemirror_mode": {
    "name": "ipython",
    "version": 3
   },
   "file_extension": ".py",
   "mimetype": "text/x-python",
   "name": "python",
   "nbconvert_exporter": "python",
   "pygments_lexer": "ipython3",
   "version": "3.10.13"
  }
 },
 "nbformat": 4,
 "nbformat_minor": 5
}
