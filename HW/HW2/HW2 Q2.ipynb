{
 "cells": [
  {
   "cell_type": "markdown",
   "metadata": {},
   "source": [
    "# Question 2: Training and using materials models\n",
    "**2.1 data cleaning and splitting**\n",
    "\n",
    "In a Materials informatics workflow you need to find and clean data, featurize the data, train models, and use models for some task. A few years ago, we put together a nice series of notebooks that describe this process for an example where we train heat capacity data as a function of temperature and composition and then use this model to predict heat capacity as a function of temperature for new materials. The best practices document is a great starting point for you and can be found here `https://github.com/anthony-wang/BestPractices`. I'd like you to go through a similar exercise as the best practices notebook but with a few changes. \n",
    "\n",
    "**<font color='teal'>a)</font>** First, you'll notice that the original notebooks used `pandas-profiling` but this has been deprecated and replaced by ydata-profiling. Try to get ydata-profiling to work and then use it to inspect your data. "
   ]
  },
  {
   "cell_type": "code",
   "execution_count": 1,
   "metadata": {},
   "outputs": [],
   "source": [
    "# It works but the widget it porduces is not scrollable \n",
    "# and my computer slows down like crazy\n",
    "\n",
    "#from ydata_profiling import ProfileReport\n",
    "#import pandas as pd\n",
    "\n",
    "#df=pd.read_csv('svm_df.csv')\n",
    "#profile = ProfileReport(df, title=\"Profiling Report\")\n",
    "#profile.to_widgets()\n",
    "\n",
    "# using the _atomic_environment_features_binary combined with the density data\n",
    "# results in a lot of data that is strongly correlated and redundant\n",
    "\n"
   ]
  },
  {
   "cell_type": "markdown",
   "metadata": {},
   "source": [
    "**<font color='teal'>b)</font>** Second, in the data-splitting notebook, you'll see how we came up with an elaborate way to make sure tha as we split the data, we made sure that all the values corresponding to a formula went to either test, val, or train but would never be randomly split across these groups. We were silly and didn't know about `GroupKFold` in teh scikit-learn library. (`https://scikit-learn.org/stable/modules/generated/sklearn.model_selection.GroupKFold.html`) Redo the splitting process using this much simpler tool. \n"
   ]
  },
  {
   "cell_type": "code",
   "execution_count": 2,
   "metadata": {},
   "outputs": [
    {
     "name": "stdout",
     "output_type": "stream",
     "text": [
      "(97, 28)\n",
      "(97,)\n",
      "Train: [ 0  1  2  3  5  6  7  8 10 11 12 13 15 16 17 18 20 21 23 24 25 26 27 29\n",
      " 30 31 32 34 35 36 37 39 40 41 42 44 45 46 47 48 50 51 52 53 55 56 57 58\n",
      " 61 62 63 65 66 67 68 70 71 72 73 74 75 76 77 79 80 81 82 84 85 86 87 89\n",
      " 90 91 92 94 95] Test: [ 4  9 14 19 22 28 33 38 43 49 54 59 60 64 69 78 83 88 93 96]\n",
      "Train: [ 1  2  3  4  6  7  8  9 12 13 14 16 17 18 19 21 22 23 24 25 26 27 28 30\n",
      " 31 32 33 35 36 37 38 40 41 42 43 45 46 48 49 51 52 53 54 56 57 58 59 60\n",
      " 61 62 63 64 66 67 68 69 71 72 73 75 76 77 78 80 81 82 83 85 86 87 88 90\n",
      " 91 92 93 95 96] Test: [ 0  5 10 11 15 20 29 34 39 44 47 50 55 65 70 74 79 84 89 94]\n",
      "Train: [ 0  2  3  4  5  7  8  9 10 11 12 13 14 15 17 18 19 20 22 23 24 26 27 28\n",
      " 29 31 32 33 34 36 37 38 39 41 42 43 44 47 48 49 50 52 53 54 55 57 58 59\n",
      " 60 62 63 64 65 67 68 69 70 71 72 74 76 77 78 79 81 82 83 84 86 87 88 89\n",
      " 91 92 93 94 95 96] Test: [ 1  6 16 21 25 30 35 40 45 46 51 56 61 66 73 75 80 85 90]\n",
      "Train: [ 0  1  3  4  5  6  8  9 10 11 13 14 15 16 18 19 20 21 22 23 25 27 28 29\n",
      " 30 32 33 34 35 37 38 39 40 42 43 44 45 46 47 49 50 51 53 54 55 56 58 59\n",
      " 60 61 63 64 65 66 68 69 70 71 73 74 75 77 78 79 80 82 83 84 85 87 88 89\n",
      " 90 92 93 94 95 96] Test: [ 2  7 12 17 24 26 31 36 41 48 52 57 62 67 72 76 81 86 91]\n",
      "Train: [ 0  1  2  4  5  6  7  9 10 11 12 14 15 16 17 19 20 21 22 24 25 26 28 29\n",
      " 30 31 33 34 35 36 38 39 40 41 43 44 45 46 47 48 49 50 51 52 54 55 56 57\n",
      " 59 60 61 62 64 65 66 67 69 70 72 73 74 75 76 78 79 80 81 83 84 85 86 88\n",
      " 89 90 91 93 94 96] Test: [ 3  8 13 18 23 27 32 37 42 53 58 63 68 71 77 82 87 92 95]\n"
     ]
    }
   ],
   "source": [
    "#code goes here\n",
    "import pandas as pd\n",
    "from sklearn.model_selection import GroupKFold\n",
    "from sklearn.model_selection import train_test_split\n",
    "from sklearn.metrics import r2_score\n",
    "from sklearn.metrics import mean_absolute_error\n",
    "from sklearn.metrics import mean_squared_error\n",
    "import numpy as np\n",
    "import sys\n",
    "\n",
    "df=pd.read_csv('svm_df.csv')\n",
    "X = df[['A_shortest_dist_count','B_shortest_dist_count','A_avg_shortest_dist_count','B_avg_shortest_dist_count',\n",
    "        'A_shortest_tol_dist_count','B_shortest_tol_dist_count','A_avg_shortest_dist_within_tol_count',\n",
    "        'B_avg_shortest_dist_within_tol_count','A_second_by_first_shortest_dist','B_second_by_first_shortest_dist',\n",
    "        'A_avg_second_by_first_shortest_dist','B_avg_second_by_first_shortest_dist','A_second_shortest_dist_count',\n",
    "        'B_second_shortest_dist_count','A_avg_second_shortest_dist_count','B_avg_second_shortest_dist_count',\n",
    "        'A_homoatomic_dist_by_shortest_dist','B_homoatomic_dist_by_shortest_dist','A_avg_homoatomic_dist_by_shortest_dist',\n",
    "        'B_avg_homoatomic_dist_by_shortest_dist','A_count_at_A_shortest_dist','A_count_at_B_shortest_dist',\t\n",
    "        'A_avg_count_at_A_shortest_dist','A_avg_count_at_B_shortest_dist','B_count_at_A_shortest_dist',\n",
    "        'B_count_at_B_shortest_dist','B_avg_count_at_A_shortest_dist','B_avg_count_at_B_shortest_dist']]\n",
    "y = df['Density']\n",
    "\n",
    "#RNG_SEED = 42\n",
    "#np.random.seed(seed=RNG_SEED)\n",
    "#X_train, X_test, y_train, y_test= train_test_split(X, y, test_size=0.33, random_state=RNG_SEED)\n",
    "#sys.getsizeof(X)\n",
    "print(X.shape)\n",
    "print(y.shape)\n",
    "\n",
    "group = list(range(len(X)))\n",
    "\n",
    "gkf = GroupKFold(n_splits=5)\n",
    "for train_index, test_index in gkf.split(X,groups=group):\n",
    "    print(\"Train:\", train_index, \"Test:\", test_index)\n",
    "    X_train = X.iloc[train_index, :]\n",
    "    y_train = y[train_index]\n",
    "    X_test = X.iloc[test_index, :]\n",
    "    y_test = y[test_index]\n",
    "    \n",
    "\n"
   ]
  },
  {
   "cell_type": "code",
   "execution_count": 3,
   "metadata": {},
   "outputs": [
    {
     "name": "stdout",
     "output_type": "stream",
     "text": [
      "    A_shortest_dist_count  B_shortest_dist_count  A_avg_shortest_dist_count  \\\n",
      "0                       6                      6                        6.0   \n",
      "1                      12                     12                       12.0   \n",
      "2                       2                     12                        2.0   \n",
      "4                      12                     12                       12.0   \n",
      "5                      12                     10                       12.0   \n",
      "..                    ...                    ...                        ...   \n",
      "90                      6                      4                        6.0   \n",
      "91                     12                     12                       12.0   \n",
      "93                     12                     10                       12.0   \n",
      "94                      2                     12                        2.0   \n",
      "96                     12                     12                       12.0   \n",
      "\n",
      "    B_avg_shortest_dist_count  A_shortest_tol_dist_count  \\\n",
      "0                      3.3333                          9   \n",
      "1                     12.0000                         12   \n",
      "2                     12.0000                          2   \n",
      "4                     12.0000                         12   \n",
      "5                     10.0000                         24   \n",
      "..                        ...                        ...   \n",
      "90                     3.0000                         12   \n",
      "91                    12.0000                         12   \n",
      "93                    10.0000                         24   \n",
      "94                    12.0000                          2   \n",
      "96                    12.0000                         12   \n",
      "\n",
      "    B_shortest_tol_dist_count  A_avg_shortest_dist_within_tol_count  \\\n",
      "0                          19                                   7.5   \n",
      "1                          12                                  12.0   \n",
      "2                          12                                   2.0   \n",
      "4                          12                                  12.0   \n",
      "5                          20                                  24.0   \n",
      "..                        ...                                   ...   \n",
      "90                          8                                  12.0   \n",
      "91                         12                                  12.0   \n",
      "93                         20                                  24.0   \n",
      "94                         12                                   2.0   \n",
      "96                         12                                  12.0   \n",
      "\n",
      "    B_avg_shortest_dist_within_tol_count  A_second_by_first_shortest_dist  \\\n",
      "0                                 6.3333                           1.0246   \n",
      "1                                12.0000                           1.4138   \n",
      "2                                12.0000                           1.1205   \n",
      "4                                12.0000                           1.4169   \n",
      "5                                20.0000                           1.0187   \n",
      "..                                   ...                              ...   \n",
      "90                                4.0000                           1.0264   \n",
      "91                               12.0000                           1.4146   \n",
      "93                               20.0000                           1.0079   \n",
      "94                               12.0000                           1.1210   \n",
      "96                               12.0000                           1.4126   \n",
      "\n",
      "    B_second_by_first_shortest_dist  ...  \\\n",
      "0                            1.1774  ...   \n",
      "1                            1.4138  ...   \n",
      "2                            1.5484  ...   \n",
      "4                            1.4169  ...   \n",
      "5                            1.0187  ...   \n",
      "..                              ...  ...   \n",
      "90                           1.0521  ...   \n",
      "91                           1.4146  ...   \n",
      "93                           1.0079  ...   \n",
      "94                           1.5468  ...   \n",
      "96                           1.4126  ...   \n",
      "\n",
      "    A_avg_homoatomic_dist_by_shortest_dist  \\\n",
      "0                                   1.1463   \n",
      "1                                   1.4129   \n",
      "2                                   1.0014   \n",
      "4                                   1.4159   \n",
      "5                                   1.4278   \n",
      "..                                     ...   \n",
      "90                                  1.3947   \n",
      "91                                  1.4153   \n",
      "93                                  1.4204   \n",
      "94                                  1.0019   \n",
      "96                                  1.4140   \n",
      "\n",
      "    B_avg_homoatomic_dist_by_shortest_dist  A_count_at_A_shortest_dist  \\\n",
      "0                                   1.0006                           0   \n",
      "1                                   0.9991                           0   \n",
      "2                                   1.5480                           2   \n",
      "4                                   1.0012                           0   \n",
      "5                                   1.0018                           0   \n",
      "..                                     ...                         ...   \n",
      "90                                  0.9994                           0   \n",
      "91                                  1.0008                           0   \n",
      "93                                  0.9988                           0   \n",
      "94                                  1.5480                           2   \n",
      "96                                  0.9998                           0   \n",
      "\n",
      "    A_count_at_B_shortest_dist  A_avg_count_at_A_shortest_dist  \\\n",
      "0                            0                             0.0   \n",
      "1                            4                             0.0   \n",
      "2                           12                             2.0   \n",
      "4                            4                             0.0   \n",
      "5                            2                             0.0   \n",
      "..                         ...                             ...   \n",
      "90                           0                             0.0   \n",
      "91                           4                             0.0   \n",
      "93                           2                             0.0   \n",
      "94                          12                             2.0   \n",
      "96                           4                             0.0   \n",
      "\n",
      "    A_avg_count_at_B_shortest_dist  B_count_at_A_shortest_dist  \\\n",
      "0                              0.0                           6   \n",
      "1                              4.0                          12   \n",
      "2                             12.0                           0   \n",
      "4                              4.0                          12   \n",
      "5                              2.0                          12   \n",
      "..                             ...                         ...   \n",
      "90                             0.0                           6   \n",
      "91                             4.0                          12   \n",
      "93                             2.0                          12   \n",
      "94                            12.0                           0   \n",
      "96                             4.0                          12   \n",
      "\n",
      "    B_count_at_B_shortest_dist  B_avg_count_at_A_shortest_dist  \\\n",
      "0                           10                             6.0   \n",
      "1                            8                            12.0   \n",
      "2                            0                             0.0   \n",
      "4                            8                            12.0   \n",
      "5                            8                            12.0   \n",
      "..                         ...                             ...   \n",
      "90                           6                             6.0   \n",
      "91                           8                            12.0   \n",
      "93                           8                            12.0   \n",
      "94                           0                             0.0   \n",
      "96                           8                            12.0   \n",
      "\n",
      "    B_avg_count_at_B_shortest_dist  \n",
      "0                           3.3333  \n",
      "1                           8.0000  \n",
      "2                           0.0000  \n",
      "4                           8.0000  \n",
      "5                           8.0000  \n",
      "..                             ...  \n",
      "90                          3.0000  \n",
      "91                          8.0000  \n",
      "93                          8.0000  \n",
      "94                          0.0000  \n",
      "96                          8.0000  \n",
      "\n",
      "[78 rows x 28 columns]\n"
     ]
    }
   ],
   "source": [
    "print(X_train)"
   ]
  },
  {
   "cell_type": "markdown",
   "metadata": {},
   "source": [
    "**2.2 model training and hyper parameter tuning**\n",
    "\n",
    "**<font color='teal'>c)</font>** Next, when we built our classic models, we never performed hyperparameter tuning! We just used them with default parameters. I'd like you to build two models and perform hyperparameter tuning on them. One model should be either `Ridge` or `Lasso` and the other should be `XGBoost`. Compare performance metrics including training time. "
   ]
  },
  {
   "cell_type": "code",
   "execution_count": 18,
   "metadata": {},
   "outputs": [
    {
     "name": "stdout",
     "output_type": "stream",
     "text": [
      "the r2 score is 0.3156109488011992\n",
      "the mean absolute error is 2.8193352016960556\n",
      "\n",
      "\n",
      "Model score :  0.3156109488011992\n"
     ]
    },
    {
     "data": {
      "image/png": "[encoded data removed]",
      "text/plain": [
       "<Figure size 640x480 with 1 Axes>"
      ]
     },
     "metadata": {},
     "output_type": "display_data"
    }
   ],
   "source": [
    "# Ridge\n",
    "from sklearn.linear_model import Ridge\n",
    "import matplotlib.pyplot as plt\n",
    "from sklearn.metrics import r2_score\n",
    "from sklearn.metrics import mean_absolute_error\n",
    "from sklearn.metrics import mean_squared_error\n",
    "\n",
    "  \n",
    "# training model with 0.5 alpha value \n",
    "model = Ridge(alpha = 0.5, tol = 0.001,\n",
    "              solver ='auto', random_state = 42) \n",
    "model.fit(X_train, y_train) \n",
    "  \n",
    "# predicting the y_test \n",
    "y_pred = model.predict(X_test) \n",
    "r2 = r2_score(y_test, y_pred)\n",
    "print('the r2 score is',r2)\n",
    "mae = mean_absolute_error(y_test, y_pred)\n",
    "print('the mean absolute error is',mae)\n",
    "rmse_val = mean_squared_error(y_test, y_pred, squared=False)\n",
    "\n",
    "plt.scatter(y_pred,y_test)\n",
    "  \n",
    "# finding score for our model \n",
    "score = model.score(X_test, y_test) # model score is r^2 value\n",
    "print(\"\\n\\nModel score : \", score) \n",
    "\n"
   ]
  },
  {
   "cell_type": "code",
   "execution_count": 17,
   "metadata": {},
   "outputs": [
    {
     "name": "stderr",
     "output_type": "stream",
     "text": [
      "c:\\Miniconda3\\envs\\MatInformatics\\lib\\site-packages\\xgboost\\core.py:160: UserWarning: [17:07:08] WARNING: C:\\buildkite-agent\\builds\\buildkite-windows-cpu-autoscaling-group-i-0b3782d1791676daf-1\\xgboost\\xgboost-ci-windows\\src\\context.cc:44: No visible GPU is found, setting device to CPU.\n",
      "  warnings.warn(smsg, UserWarning)\n"
     ]
    },
    {
     "name": "stdout",
     "output_type": "stream",
     "text": [
      "the r2 score is 0.14222260853832014\n",
      "the mean absolute error is 3.090598228473416\n",
      "\n",
      "\n",
      "Model score :  0.14222260853832014\n"
     ]
    },
    {
     "data": {
      "image/png": "[encoded data removed]",
      "text/plain": [
       "<Figure size 640x480 with 1 Axes>"
      ]
     },
     "metadata": {},
     "output_type": "display_data"
    }
   ],
   "source": [
    "# XGBoost\n",
    "import xgboost as xgb\n",
    "import matplotlib.pyplot as plt\n",
    "from sklearn.metrics import r2_score\n",
    "from sklearn.metrics import mean_absolute_error\n",
    "from sklearn.metrics import mean_squared_error\n",
    "\n",
    "\n",
    "# Use \"hist\" for training the model.\n",
    "reg = xgb.XGBRegressor(tree_method=\"hist\", device=\"cuda\")\n",
    "# Fit the model using predictor X and response y.\n",
    "reg.fit(X_train, y_train)\n",
    "\n",
    "y_pred=reg.predict(X_test)\n",
    "r2 = r2_score(y_test, y_pred)\n",
    "print('the r2 score is',r2)\n",
    "mae = mean_absolute_error(y_test, y_pred)\n",
    "print('the mean absolute error is',mae)\n",
    "rmse_val = mean_squared_error(y_test, y_pred, squared=False)\n",
    "\n",
    "plt.scatter(y_pred,y_test)\n",
    "\n",
    "score = reg.score(X_test, y_test)\n",
    "print(\"\\n\\nModel score : \", score)\n",
    "\n",
    "# Save model into JSON format.\n",
    "#reg.save_model(\"regressor.json\")\n"
   ]
  },
  {
   "cell_type": "markdown",
   "metadata": {},
   "source": [
    "**2.3 using your model to make predictions**\n",
    "\n",
    "**<font color='teal'>c)</font>** Finally, pick the best model from **2.2** and use it to predict the heat capacity from 1200K to 2000K for ZrN. See how it compares to experiment. \n",
    "\n",
    "![ZrN Cp](https://www.researchgate.net/publication/335403917/figure/fig2/AS:796198449467394@1566839911338/High-temperature-heat-capacity-Cp-of-zirconium-and-hafnium-carbides-and-carbonitrides.png)\n"
   ]
  },
  {
   "cell_type": "code",
   "execution_count": 6,
   "metadata": {},
   "outputs": [],
   "source": [
    "#your code goes here"
   ]
  }
 ],
 "metadata": {
  "kernelspec": {
   "display_name": "Python 3",
   "language": "python",
   "name": "python3"
  },
  "language_info": {
   "codemirror_mode": {
    "name": "ipython",
    "version": 3
   },
   "file_extension": ".py",
   "mimetype": "text/x-python",
   "name": "python",
   "nbconvert_exporter": "python",
   "pygments_lexer": "ipython3",
   "version": "3.10.13"
  }
 },
 "nbformat": 4,
 "nbformat_minor": 2
}
