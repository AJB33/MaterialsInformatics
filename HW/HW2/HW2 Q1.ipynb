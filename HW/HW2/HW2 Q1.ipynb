{
 "cells": [
  {
   "cell_type": "markdown",
   "metadata": {},
   "source": [
    "# Question 1: Structural features\n",
    "**1.1 cif-cn-featurizer**\n",
    "\n",
    "Our friend Anton Oliynyk has recently released a new python script `cif-cn-featurizer`. \n",
    "\n",
    "Here is their description \"A Python script designed to process CIF (Crystallographic Information File) files and extract various features from them. These features include interatomic distances, atomic environment information, and coordination numbers. The script can handle binary and ternary compounds.\"\n",
    "\n",
    "Let's test it out and see how it works! To do so we will need some cifs. Right now the featurizer only works with binaries made up of certain elements shown in this plot. \n",
    "\n",
    "![allowed elements](https://github.com/sp8rks/MaterialsInformatics/blob/main/HW/HW2/cif-cn-featurizer-allowed-elements.png?raw=true)\n",
    "\n",
    "**<font color='teal'>a)</font>** Download the `cif-cn-featurizer` files and run it on the cif files in the `HW\\cn-featurizer\\cifs` folder. \n",
    "\n",
    "Note: in case you can't get it working, you'll also find a csv folder with all the extracted features for these cifs already complete, but try and get it working so you can use it in the future!"
   ]
  },
  {
   "cell_type": "code",
   "execution_count": 1,
   "metadata": {},
   "outputs": [],
   "source": [
    "#you can run this in your miniconda command prompt if you prefer\\\n",
    "\n",
    "# Do i need to import each python code individually that is in the cif-cn-featurizer folder???\n",
    "\n",
    "#from pathlib import Path\n",
    "#import sys\n",
    "#files_dir = Path(\"C:\\MaterialsInformatics\\cn-featurizer\\cifs\")\n",
    "#files = files_dir.iterdir()\n",
    "#sys.path.append( 'C:\\cif-cn-featurizer' )\n",
    "#import main as ccnfeat\n",
    "#features = ccnfeat.main()\n",
    "\n",
    "\n",
    "# I used the miniconda command prompt\n"
   ]
  },
  {
   "cell_type": "markdown",
   "metadata": {},
   "source": [
    "**1.2 Getting labeled data for the cifs**\n",
    "\n",
    "**<font color='teal'>b)</font>** Now that you've got feature vectors in a series of .csv files, let's use them to build a model to predict a property. To get a property let's search for a materials project entry using the cif cards! If you've forgotten how, go back to the `legacy_MPRester_tutorial.ipynb` notebook where we did an example. Once you have the material project id, run a query to extract a property like bulk modulus ([\"elasticity\"][\"K_VRH\"])"
   ]
  },
  {
   "cell_type": "code",
   "execution_count": 2,
   "metadata": {},
   "outputs": [
    {
     "name": "stdout",
     "output_type": "stream",
     "text": [
      "['C:\\\\cif-cn-featurizer\\\\cifs\\\\250022.cif', 'C:\\\\cif-cn-featurizer\\\\cifs\\\\250065.cif', 'C:\\\\cif-cn-featurizer\\\\cifs\\\\250101.cif', 'C:\\\\cif-cn-featurizer\\\\cifs\\\\250125.cif', 'C:\\\\cif-cn-featurizer\\\\cifs\\\\250186.cif', 'C:\\\\cif-cn-featurizer\\\\cifs\\\\250191.cif', 'C:\\\\cif-cn-featurizer\\\\cifs\\\\250223.cif', 'C:\\\\cif-cn-featurizer\\\\cifs\\\\250225.cif', 'C:\\\\cif-cn-featurizer\\\\cifs\\\\250236.cif', 'C:\\\\cif-cn-featurizer\\\\cifs\\\\250328.cif', 'C:\\\\cif-cn-featurizer\\\\cifs\\\\250329.cif', 'C:\\\\cif-cn-featurizer\\\\cifs\\\\250330.cif', 'C:\\\\cif-cn-featurizer\\\\cifs\\\\250331.cif', 'C:\\\\cif-cn-featurizer\\\\cifs\\\\250332.cif', 'C:\\\\cif-cn-featurizer\\\\cifs\\\\250333.cif', 'C:\\\\cif-cn-featurizer\\\\cifs\\\\250334.cif', 'C:\\\\cif-cn-featurizer\\\\cifs\\\\250335.cif', 'C:\\\\cif-cn-featurizer\\\\cifs\\\\250336.cif', 'C:\\\\cif-cn-featurizer\\\\cifs\\\\250337.cif', 'C:\\\\cif-cn-featurizer\\\\cifs\\\\250338.cif', 'C:\\\\cif-cn-featurizer\\\\cifs\\\\250339.cif', 'C:\\\\cif-cn-featurizer\\\\cifs\\\\250340.cif', 'C:\\\\cif-cn-featurizer\\\\cifs\\\\250363.cif', 'C:\\\\cif-cn-featurizer\\\\cifs\\\\250364.cif', 'C:\\\\cif-cn-featurizer\\\\cifs\\\\250365.cif', 'C:\\\\cif-cn-featurizer\\\\cifs\\\\250366.cif', 'C:\\\\cif-cn-featurizer\\\\cifs\\\\250367.cif', 'C:\\\\cif-cn-featurizer\\\\cifs\\\\250368.cif', 'C:\\\\cif-cn-featurizer\\\\cifs\\\\250369.cif', 'C:\\\\cif-cn-featurizer\\\\cifs\\\\250370.cif', 'C:\\\\cif-cn-featurizer\\\\cifs\\\\250372.cif', 'C:\\\\cif-cn-featurizer\\\\cifs\\\\250373.cif', 'C:\\\\cif-cn-featurizer\\\\cifs\\\\250374.cif', 'C:\\\\cif-cn-featurizer\\\\cifs\\\\250375.cif', 'C:\\\\cif-cn-featurizer\\\\cifs\\\\250376.cif', 'C:\\\\cif-cn-featurizer\\\\cifs\\\\250377.cif', 'C:\\\\cif-cn-featurizer\\\\cifs\\\\250378.cif', 'C:\\\\cif-cn-featurizer\\\\cifs\\\\250379.cif', 'C:\\\\cif-cn-featurizer\\\\cifs\\\\250380.cif', 'C:\\\\cif-cn-featurizer\\\\cifs\\\\250381.cif', 'C:\\\\cif-cn-featurizer\\\\cifs\\\\250382.cif', 'C:\\\\cif-cn-featurizer\\\\cifs\\\\250383.cif', 'C:\\\\cif-cn-featurizer\\\\cifs\\\\250384.cif', 'C:\\\\cif-cn-featurizer\\\\cifs\\\\250385.cif', 'C:\\\\cif-cn-featurizer\\\\cifs\\\\250390.cif', 'C:\\\\cif-cn-featurizer\\\\cifs\\\\250394.cif', 'C:\\\\cif-cn-featurizer\\\\cifs\\\\250399.cif', 'C:\\\\cif-cn-featurizer\\\\cifs\\\\250404.cif', 'C:\\\\cif-cn-featurizer\\\\cifs\\\\250410.cif', 'C:\\\\cif-cn-featurizer\\\\cifs\\\\250411.cif', 'C:\\\\cif-cn-featurizer\\\\cifs\\\\250460.cif', 'C:\\\\cif-cn-featurizer\\\\cifs\\\\250461.cif', 'C:\\\\cif-cn-featurizer\\\\cifs\\\\250462.cif', 'C:\\\\cif-cn-featurizer\\\\cifs\\\\250463.cif', 'C:\\\\cif-cn-featurizer\\\\cifs\\\\250464.cif', 'C:\\\\cif-cn-featurizer\\\\cifs\\\\250465.cif', 'C:\\\\cif-cn-featurizer\\\\cifs\\\\250468.cif', 'C:\\\\cif-cn-featurizer\\\\cifs\\\\250469.cif', 'C:\\\\cif-cn-featurizer\\\\cifs\\\\250476.cif', 'C:\\\\cif-cn-featurizer\\\\cifs\\\\250477.cif', 'C:\\\\cif-cn-featurizer\\\\cifs\\\\250502.cif', 'C:\\\\cif-cn-featurizer\\\\cifs\\\\250503.cif', 'C:\\\\cif-cn-featurizer\\\\cifs\\\\250504.cif', 'C:\\\\cif-cn-featurizer\\\\cifs\\\\250505.cif', 'C:\\\\cif-cn-featurizer\\\\cifs\\\\250506.cif', 'C:\\\\cif-cn-featurizer\\\\cifs\\\\250507.cif', 'C:\\\\cif-cn-featurizer\\\\cifs\\\\250508.cif', 'C:\\\\cif-cn-featurizer\\\\cifs\\\\250525.cif', 'C:\\\\cif-cn-featurizer\\\\cifs\\\\250527.cif', 'C:\\\\cif-cn-featurizer\\\\cifs\\\\250530.cif', 'C:\\\\cif-cn-featurizer\\\\cifs\\\\250554.cif', 'C:\\\\cif-cn-featurizer\\\\cifs\\\\250561.cif', 'C:\\\\cif-cn-featurizer\\\\cifs\\\\250562.cif', 'C:\\\\cif-cn-featurizer\\\\cifs\\\\250563.cif', 'C:\\\\cif-cn-featurizer\\\\cifs\\\\250564.cif', 'C:\\\\cif-cn-featurizer\\\\cifs\\\\250615.cif', 'C:\\\\cif-cn-featurizer\\\\cifs\\\\250628.cif', 'C:\\\\cif-cn-featurizer\\\\cifs\\\\250646.cif', 'C:\\\\cif-cn-featurizer\\\\cifs\\\\250647.cif', 'C:\\\\cif-cn-featurizer\\\\cifs\\\\250648.cif', 'C:\\\\cif-cn-featurizer\\\\cifs\\\\250649.cif', 'C:\\\\cif-cn-featurizer\\\\cifs\\\\250650.cif', 'C:\\\\cif-cn-featurizer\\\\cifs\\\\250651.cif', 'C:\\\\cif-cn-featurizer\\\\cifs\\\\250652.cif', 'C:\\\\cif-cn-featurizer\\\\cifs\\\\250653.cif', 'C:\\\\cif-cn-featurizer\\\\cifs\\\\250654.cif', 'C:\\\\cif-cn-featurizer\\\\cifs\\\\250668.cif', 'C:\\\\cif-cn-featurizer\\\\cifs\\\\250679.cif', 'C:\\\\cif-cn-featurizer\\\\cifs\\\\250693.cif', 'C:\\\\cif-cn-featurizer\\\\cifs\\\\250717.cif', 'C:\\\\cif-cn-featurizer\\\\cifs\\\\250718.cif', 'C:\\\\cif-cn-featurizer\\\\cifs\\\\250732.cif', 'C:\\\\cif-cn-featurizer\\\\cifs\\\\250733.cif', 'C:\\\\cif-cn-featurizer\\\\cifs\\\\250735.cif', 'C:\\\\cif-cn-featurizer\\\\cifs\\\\250737.cif', 'C:\\\\cif-cn-featurizer\\\\cifs\\\\250740.cif', 'C:\\\\cif-cn-featurizer\\\\cifs\\\\250742.cif', 'C:\\\\cif-cn-featurizer\\\\cifs\\\\250751.cif', 'C:\\\\cif-cn-featurizer\\\\cifs\\\\250752.cif', 'C:\\\\cif-cn-featurizer\\\\cifs\\\\250753.cif', 'C:\\\\cif-cn-featurizer\\\\cifs\\\\250754.cif', 'C:\\\\cif-cn-featurizer\\\\cifs\\\\250755.cif', 'C:\\\\cif-cn-featurizer\\\\cifs\\\\250763.cif', 'C:\\\\cif-cn-featurizer\\\\cifs\\\\250765.cif', 'C:\\\\cif-cn-featurizer\\\\cifs\\\\250804.cif', 'C:\\\\cif-cn-featurizer\\\\cifs\\\\250805.cif', 'C:\\\\cif-cn-featurizer\\\\cifs\\\\250806.cif', 'C:\\\\cif-cn-featurizer\\\\cifs\\\\250807.cif', 'C:\\\\cif-cn-featurizer\\\\cifs\\\\250808.cif', 'C:\\\\cif-cn-featurizer\\\\cifs\\\\250809.cif', 'C:\\\\cif-cn-featurizer\\\\cifs\\\\250810.cif', 'C:\\\\cif-cn-featurizer\\\\cifs\\\\250811.cif', 'C:\\\\cif-cn-featurizer\\\\cifs\\\\250891.cif', 'C:\\\\cif-cn-featurizer\\\\cifs\\\\250892.cif', 'C:\\\\cif-cn-featurizer\\\\cifs\\\\250893.cif', 'C:\\\\cif-cn-featurizer\\\\cifs\\\\250894.cif', 'C:\\\\cif-cn-featurizer\\\\cifs\\\\250907.cif', 'C:\\\\cif-cn-featurizer\\\\cifs\\\\250910.cif', 'C:\\\\cif-cn-featurizer\\\\cifs\\\\250920.cif', 'C:\\\\cif-cn-featurizer\\\\cifs\\\\250931.cif', 'C:\\\\cif-cn-featurizer\\\\cifs\\\\250934.cif', 'C:\\\\cif-cn-featurizer\\\\cifs\\\\250959.cif', 'C:\\\\cif-cn-featurizer\\\\cifs\\\\250962.cif', 'C:\\\\cif-cn-featurizer\\\\cifs\\\\250963.cif', 'C:\\\\cif-cn-featurizer\\\\cifs\\\\250966.cif', 'C:\\\\cif-cn-featurizer\\\\cifs\\\\250977.cif']\n",
      "['250022', '250065', '250101', '250125', '250186', '250191', '250223', '250225', '250236', '250328', '250329', '250330', '250331', '250332', '250333', '250334', '250335', '250336', '250337', '250338', '250339', '250340', '250363', '250364', '250365', '250366', '250367', '250368', '250369', '250370', '250372', '250373', '250374', '250375', '250376', '250377', '250378', '250379', '250380', '250381', '250382', '250383', '250384', '250385', '250390', '250394', '250399', '250404', '250410', '250411', '250460', '250461', '250462', '250463', '250464', '250465', '250468', '250469', '250476', '250477', '250502', '250503', '250504', '250505', '250506', '250507', '250508', '250525', '250527', '250530', '250554', '250561', '250562', '250563', '250564', '250615', '250628', '250646', '250647', '250648', '250649', '250650', '250651', '250652', '250653', '250654', '250668', '250679', '250693', '250717', '250718', '250732', '250733', '250735', '250737', '250740', '250742', '250751', '250752', '250753', '250754', '250755', '250763', '250765', '250804', '250805', '250806', '250807', '250808', '250809', '250810', '250811', '250891', '250892', '250893', '250894', '250907', '250910', '250920', '250931', '250934', '250959', '250962', '250963', '250966', '250977']\n"
     ]
    }
   ],
   "source": [
    "#your code goes here\n",
    "from mp_api.client import MPRester\n",
    "from pymatgen.io.cif import CifParser\n",
    "import pandas as pd\n",
    "import os\n",
    "from pathlib import Path\n",
    "\n",
    "filename = r'C:\\Users\\Aidan Belanger\\OneDrive\\Desktop\\Materials Informatics\\MyMatProjApiKey.txt'\n",
    "def get_file_contents(filename):\n",
    "    try:\n",
    "        with open(filename, 'r') as f:\n",
    "            # It's assumed our file contains a single line,\n",
    "            # with our API key\n",
    "            return f.read().strip()\n",
    "    except FileNotFoundError:\n",
    "        print(\"'%s' file not found\" % filename)\n",
    "\n",
    "Aidans_API = get_file_contents(filename)\n",
    "\n",
    "\n",
    "directory_in_str = \"C:\\cif-cn-featurizer\\cifs\"\n",
    "directory = os.fsencode(directory_in_str)\n",
    "\n",
    "fpaths = []\n",
    "trackf = []\n",
    "for file in os.listdir(directory):\n",
    "    filename = os.fsdecode(file)\n",
    "    if filename.endswith(\".cif\"): \n",
    "        fpaths.append(os.path.join(directory_in_str, filename))\n",
    "        path = Path(filename)\n",
    "        trackf.append(path.stem)\n",
    "        continue\n",
    "    else:\n",
    "        continue\n",
    "print(fpaths)\n",
    "print(trackf)\n"
   ]
  },
  {
   "cell_type": "code",
   "execution_count": null,
   "metadata": {},
   "outputs": [],
   "source": [
    "# Find MPI files that correspond to the primitive structure of the cif file\n",
    "\n",
    "docs = []\n",
    "ciflabel = []\n",
    "\n",
    "for fpath in fpaths:\n",
    "    with MPRester(Aidans_API) as mpr:\n",
    "        # open cif file with cif parser\n",
    "        parser = CifParser(fpath)\n",
    "        path = Path(fpath)\n",
    "        try:\n",
    "            # get structural composition from the cif file\n",
    "            structure = parser.parse_structures(primitive=True)[0]\n",
    "            # get the compositional formula from the parsed information and remove white space\n",
    "            formula = str(structure.composition.formula).replace(\" \",\"\")\n",
    "            # search materials project for cif files with the compositional formula\n",
    "            summary = mpr.materials.summary._search(formula=formula,fields=[\"material_id\"])\n",
    "\n",
    "            for doc in summary:\n",
    "                print(doc.material_id)\n",
    "                docs.append(doc.material_id)\n",
    "                for x in doc.material_id[0]:\n",
    "                    ciflabel.append(path.stem)\n",
    "                #print(ciflabel)\n",
    "        except:\n",
    "            print(fpath, \" contains an invalid cif\")\n",
    "            "
   ]
  },
  {
   "cell_type": "code",
   "execution_count": 4,
   "metadata": {},
   "outputs": [
    {
     "name": "stdout",
     "output_type": "stream",
     "text": [
      "    Cif_num      MP_num\n",
      "0    250065      mp-801\n",
      "1    250101   mp-979040\n",
      "2    250101      mp-768\n",
      "3    250125     mp-1139\n",
      "4    250125  mp-1008279\n",
      "..      ...         ...\n",
      "131  250934      mp-718\n",
      "132  250934  mp-1218937\n",
      "133  250962    mp-20971\n",
      "134  250963    mp-20516\n",
      "135  250977     mp-1051\n",
      "\n",
      "[136 rows x 2 columns]\n"
     ]
    }
   ],
   "source": [
    "# store cif number and corresponding mp files in a dataframe\n",
    "d = {\"Cif_num\":ciflabel, \"MP_num\":docs}\n",
    "df = pd.DataFrame(data=d)\n",
    "print(df)"
   ]
  },
  {
   "cell_type": "code",
   "execution_count": 5,
   "metadata": {},
   "outputs": [
    {
     "name": "stderr",
     "output_type": "stream",
     "text": [
      "C:\\Users\\Aidan Belanger\\AppData\\Local\\Temp\\ipykernel_16920\\2463373616.py:2: DeprecationWarning: Accessing summary data through MPRester.summary is deprecated. Please use MPRester.materials.summary instead.\n",
      "  material = mpr.summary.search(material_ids=['mp-801'])\n"
     ]
    },
    {
     "data": {
      "application/vnd.jupyter.widget-view+json": {
       "model_id": "66977b35fc3e470ba8d66400951e4356",
       "version_major": 2,
       "version_minor": 0
      },
      "text/plain": [
       "Retrieving SummaryDoc documents:   0%|          | 0/1 [00:00<?, ?it/s]"
      ]
     },
     "metadata": {},
     "output_type": "display_data"
    },
    {
     "name": "stdout",
     "output_type": "stream",
     "text": [
      "12.883572424806513\n"
     ]
    }
   ],
   "source": [
    "# Test looking up the density of a cif\n",
    "\n",
    "with MPRester(Aidans_API) as mpr:\n",
    "    material = mpr.summary.search(material_ids=['mp-801'])\n",
    "    print(material[0].density)"
   ]
  },
  {
   "cell_type": "code",
   "execution_count": null,
   "metadata": {},
   "outputs": [],
   "source": [
    "# Get the density of each mp file\n",
    "# Bulk modulus was giving many NAN values\n",
    "material_ids = []\n",
    "#bulkmod = []\n",
    "density = []\n",
    "for row in df[\"MP_num\"]:\n",
    "    #print(row)\n",
    "    material_id = row\n",
    "    \n",
    "    try:\n",
    "        with MPRester(Aidans_API) as mpr:\n",
    "            material = mpr.summary.search(material_ids=[row])\n",
    "            print(material_id)\n",
    "            print(material[0].density)\n",
    "            #bulkmod.append(material[0].bulk_modulus[\"reuss\"])\n",
    "            density.append(material[0].density)\n",
    "    except:\n",
    "        #bulkmod.append(\"NA\")\n",
    "        density.append(\"NA\")\n",
    "        print(\"fail\")\n",
    "    "
   ]
  },
  {
   "cell_type": "code",
   "execution_count": 7,
   "metadata": {},
   "outputs": [
    {
     "name": "stdout",
     "output_type": "stream",
     "text": [
      "     CIF_id      MP_num    Density\n",
      "0    250065      mp-801  12.883572\n",
      "1    250101   mp-979040   5.527285\n",
      "2    250101      mp-768   5.632610\n",
      "3    250125     mp-1139   9.962997\n",
      "4    250125  mp-1008279  10.015481\n",
      "..      ...         ...        ...\n",
      "131  250934      mp-718  11.303794\n",
      "132  250934  mp-1218937  10.386938\n",
      "133  250962    mp-20971  17.869663\n",
      "134  250963    mp-20516  17.912752\n",
      "135  250977     mp-1051  10.347703\n",
      "\n",
      "[136 rows x 3 columns]\n"
     ]
    }
   ],
   "source": [
    "# store the data in a csv so that I don't need to search MP again\n",
    "d = {\"CIF_id\":ciflabel, \"MP_num\":docs, \"Density\":density}\n",
    "df = pd.DataFrame(data=d)\n",
    "print(df)\n",
    "\n",
    "df.to_csv(\"Density_data.csv\")\n"
   ]
  },
  {
   "cell_type": "code",
   "execution_count": 8,
   "metadata": {},
   "outputs": [
    {
     "name": "stdout",
     "output_type": "stream",
     "text": [
      "     CIF_id      MP_num    Density\n",
      "0    250065      mp-801  12.883572\n",
      "1    250101   mp-979040   5.527285\n",
      "3    250125     mp-1139   9.962997\n",
      "6    250191     mp-1232  12.898261\n",
      "8    250225  mp-1220074   9.257027\n",
      "..      ...         ...        ...\n",
      "130  250920    mp-30634   8.915389\n",
      "131  250934      mp-718  11.303794\n",
      "133  250962    mp-20971  17.869663\n",
      "134  250963    mp-20516  17.912752\n",
      "135  250977     mp-1051  10.347703\n",
      "\n",
      "[97 rows x 3 columns]\n"
     ]
    }
   ],
   "source": [
    "# Delete multiple instances of CIF_id even though the densities and MP numbers are different\n",
    "# this is a quick and hacky way to match data to cif-cn-featurizer data\n",
    "\n",
    "result_df = df.drop_duplicates(subset=['CIF_id'], keep='first')\n",
    "print(result_df)\n",
    "\n"
   ]
  },
  {
   "cell_type": "code",
   "execution_count": 9,
   "metadata": {},
   "outputs": [
    {
     "name": "stdout",
     "output_type": "stream",
     "text": [
      "        CIF      Compound   A   B  Sto_A  Sto_B  A_atomicweight  \\\n",
      "0    250977         ErNi3  Er  Ni   1.00   3.00         167.259   \n",
      "1    250476         EuPb3  Eu  Pb   1.00   3.00         151.965   \n",
      "2    250804  La0.75Pt2.25  La  Pt   0.75   2.25         138.906   \n",
      "3    250191         Mo3Pt  Mo  Pt   3.00   1.00          95.950   \n",
      "4    250966  Pd3.25In9.75  Pd  In   3.25   9.75         106.420   \n",
      "..      ...           ...  ..  ..    ...    ...             ...   \n",
      "119  250125         MoCo3  Mo  Co   1.00   3.00          95.950   \n",
      "120  250390         Mo3Os  Mo  Os   3.00   1.00          95.950   \n",
      "121  250372          YIn3   Y  In   1.00   3.00          88.906   \n",
      "122  250654         YbIn3  Yb  In   1.00   3.00         173.045   \n",
      "123  250646         TmPt3  Tm  Pt   1.00   3.00         168.934   \n",
      "\n",
      "     A_atomicnumber  A_period  A_group  ...  min_martynoven  avg_martynoven  \\\n",
      "0                68         6        3  ...            1.20           1.620   \n",
      "1                63         6        3  ...            1.15           1.728   \n",
      "2                57         6        3  ...            1.35           1.770   \n",
      "3                42         5        6  ...            1.91           1.932   \n",
      "4                46         5       10  ...            1.63           1.742   \n",
      "..              ...       ...      ...  ...             ...             ...   \n",
      "119              42         5        6  ...            1.72           1.775   \n",
      "120              42         5        6  ...            1.85           1.918   \n",
      "121              39         5        3  ...            1.41           1.575   \n",
      "122              70         6        3  ...            1.10           1.498   \n",
      "123              69         6        3  ...            1.20           1.732   \n",
      "\n",
      "     AB_diffdensity  max_density  min_density  avg_density  AB_diffcohesive  \\\n",
      "0              0.17         9.07         8.90        8.942             1.15   \n",
      "1              6.16        11.40         5.24        9.860             0.17   \n",
      "2             15.25        21.40         6.15       17.588             1.37   \n",
      "3             11.20        21.40        10.20       13.000             0.98   \n",
      "4              4.69        12.00         7.31        8.482             1.37   \n",
      "..              ...          ...          ...          ...              ...   \n",
      "119            1.30        10.20         8.90        9.225             2.43   \n",
      "120           12.40        22.60        10.20       13.300             1.35   \n",
      "121            2.84         7.31         4.47        6.600             1.85   \n",
      "122            0.34         7.31         6.97        7.225             0.92   \n",
      "123           12.08        21.40         9.32       18.380             3.42   \n",
      "\n",
      "     max_cohesive  min_cohesive  avg_cohesive  \n",
      "0            4.44          3.29         4.152  \n",
      "1            2.03          1.86         1.988  \n",
      "2            5.84          4.47         5.498  \n",
      "3            6.82          5.84         6.575  \n",
      "4            3.89          2.52         2.862  \n",
      "..            ...           ...           ...  \n",
      "119          6.82          4.39         4.998  \n",
      "120          8.17          6.82         7.158  \n",
      "121          4.37          2.52         2.982  \n",
      "122          2.52          1.60         2.290  \n",
      "123          5.84          2.42         4.985  \n",
      "\n",
      "[124 rows x 69 columns]\n"
     ]
    }
   ],
   "source": [
    "# import csv files generated by cif-cn-featurizer\n",
    "\n",
    "#df_ccnfeat = pd.read_csv(\"./cn-featurizer/csv/_atomic_environment_features_binary.csv\")\n",
    "df_ccnfeat = pd.read_csv(\"./cn-featurizer/csv/binaryDescriptors.csv\")\n",
    "print(df_ccnfeat)"
   ]
  },
  {
   "cell_type": "code",
   "execution_count": 10,
   "metadata": {},
   "outputs": [
    {
     "name": "stdout",
     "output_type": "stream",
     "text": [
      "    CIF_id Compound   A   B  Sto_A  Sto_B  A_atomicweight  A_atomicnumber  \\\n",
      "0   250977    ErNi3  Er  Ni    1.0    3.0         167.259              68   \n",
      "1   250476    EuPb3  Eu  Pb    1.0    3.0         151.965              63   \n",
      "2   250191    Mo3Pt  Mo  Pt    3.0    1.0          95.950              42   \n",
      "3   250368    EuSn3  Eu  Sn    1.0    3.0         151.965              63   \n",
      "4   250367    SmSn3  Sm  Sn    1.0    3.0         150.360              62   \n",
      "..     ...      ...  ..  ..    ...    ...             ...             ...   \n",
      "92  250336    DyPd3  Dy  Pd    1.0    3.0         162.500              66   \n",
      "93  250125    MoCo3  Mo  Co    1.0    3.0          95.950              42   \n",
      "94  250390    Mo3Os  Mo  Os    3.0    1.0          95.950              42   \n",
      "95  250372     YIn3   Y  In    1.0    3.0          88.906              39   \n",
      "96  250646    TmPt3  Tm  Pt    1.0    3.0         168.934              69   \n",
      "\n",
      "    A_period  A_group  ...  AB_diffdensity  max_density  min_density  \\\n",
      "0          6        3  ...            0.17         9.07         8.90   \n",
      "1          6        3  ...            6.16        11.40         5.24   \n",
      "2          5        6  ...           11.20        21.40        10.20   \n",
      "3          6        3  ...            2.07         7.31         5.24   \n",
      "4          6        3  ...            0.21         7.52         7.31   \n",
      "..       ...      ...  ...             ...          ...          ...   \n",
      "92         6        3  ...            3.45        12.00         8.55   \n",
      "93         5        6  ...            1.30        10.20         8.90   \n",
      "94         5        6  ...           12.40        22.60        10.20   \n",
      "95         5        3  ...            2.84         7.31         4.47   \n",
      "96         6        3  ...           12.08        21.40         9.32   \n",
      "\n",
      "    avg_density  AB_diffcohesive  max_cohesive  min_cohesive  avg_cohesive  \\\n",
      "0         8.942             1.15          4.44          3.29         4.152   \n",
      "1         9.860             0.17          2.03          1.86         1.988   \n",
      "2        13.000             0.98          6.82          5.84         6.575   \n",
      "3         6.792             1.28          3.14          1.86         2.820   \n",
      "4         7.362             1.00          3.14          2.14         2.890   \n",
      "..          ...              ...           ...           ...           ...   \n",
      "92       11.138             0.85          3.89          3.04         3.678   \n",
      "93        9.225             2.43          6.82          4.39         4.998   \n",
      "94       13.300             1.35          8.17          6.82         7.158   \n",
      "95        6.600             1.85          4.37          2.52         2.982   \n",
      "96       18.380             3.42          5.84          2.42         4.985   \n",
      "\n",
      "      MP_num    Density  \n",
      "0    mp-1051  10.347703  \n",
      "1   mp-20309  10.671596  \n",
      "2    mp-1232  12.898261  \n",
      "3   mp-20387   7.801257  \n",
      "4    mp-2484   7.930209  \n",
      "..       ...        ...  \n",
      "92    mp-797  11.700858  \n",
      "93   mp-1139   9.962997  \n",
      "94    mp-801  12.883572  \n",
      "95  mp-20131   7.270778  \n",
      "96   mp-2351  18.661532  \n",
      "\n",
      "[97 rows x 71 columns]\n"
     ]
    },
    {
     "name": "stderr",
     "output_type": "stream",
     "text": [
      "C:\\Users\\Aidan Belanger\\AppData\\Local\\Temp\\ipykernel_16920\\2070112130.py:5: SettingWithCopyWarning: \n",
      "A value is trying to be set on a copy of a slice from a DataFrame.\n",
      "Try using .loc[row_indexer,col_indexer] = value instead\n",
      "\n",
      "See the caveats in the documentation: https://pandas.pydata.org/pandas-docs/stable/user_guide/indexing.html#returning-a-view-versus-a-copy\n",
      "  result_df['CIF_id'] = result_df['CIF_id'] .astype(str)\n"
     ]
    }
   ],
   "source": [
    "# merge structurally featurized data with data from Materials Project\n",
    "\n",
    "df_ccnfeat = df_ccnfeat.rename(columns={'CIF': 'CIF_id'})\n",
    "df_ccnfeat['CIF_id'] = df_ccnfeat['CIF_id'].astype(str)\n",
    "result_df['CIF_id'] = result_df['CIF_id'] .astype(str)\n",
    "svm_df=df_ccnfeat.merge(result_df, on='CIF_id')\n",
    "print(svm_df)\n",
    "svm_df.to_csv(\"svm_df_binaryDescriptors.csv\")"
   ]
  },
  {
   "cell_type": "markdown",
   "metadata": {},
   "source": [
    "**1.3 Comparing structural features to compositional features**\n",
    "\n",
    "**<font color='teal'>c)</font>** Now that you've got structural features and you can get compositional features (use CBFV), let's compare them! Build a Support vector machine regressor model with each feature set and determine which works better. "
   ]
  },
  {
   "cell_type": "code",
   "execution_count": 11,
   "metadata": {},
   "outputs": [
    {
     "name": "stdout",
     "output_type": "stream",
     "text": [
      "the r2 score is 0.9488239152557669\n",
      "the mean absolute error is 0.41032528750904634\n"
     ]
    },
    {
     "data": {
      "image/png": "[encoded data removed]",
      "text/plain": [
       "<Figure size 640x480 with 1 Axes>"
      ]
     },
     "metadata": {},
     "output_type": "display_data"
    }
   ],
   "source": [
    "# SVM on Structural Features from cif-cn-featurizer\n",
    "\n",
    "from sklearn.svm import SVR\n",
    "import numpy as np\n",
    "from sklearn.model_selection import train_test_split\n",
    "from sklearn.metrics import r2_score\n",
    "from sklearn.metrics import mean_absolute_error\n",
    "from sklearn.metrics import mean_squared_error\n",
    "import matplotlib.pyplot as plt\n",
    "from sklearn.preprocessing import StandardScaler\n",
    "from sklearn.preprocessing import normalize\n",
    "import pandas as pd\n",
    "\n",
    "# load stored data to save time\n",
    "svm_df=pd.read_csv('svm_df_binaryDescriptors.csv')\n",
    "\n",
    "\n",
    "\n",
    "RNG_SEED = 42\n",
    "np.random.seed(seed=RNG_SEED)\n",
    "\n",
    "X = svm_df.drop(['CIF_id','Compound','A','B','Density','MP_num'],axis=1) # drop all string variables\n",
    "y = svm_df['Density']\n",
    "\n",
    "# Split data into test and train\n",
    "X_train_unscaled, X_test_unscaled, y_train, y_test = train_test_split(X, y, test_size=0.33, random_state=RNG_SEED)\n",
    "# Split test into test and validation\n",
    "#X_val_unscaled, X_test_unscaled, y_val, y_test = train_test_split(X_test_unscaled, y_test_unscaled, test_size=0.33, random_state=RNG_SEED)\n",
    "\n",
    "# Scale the data\n",
    "scaler = StandardScaler()\n",
    "X_train = scaler.fit_transform(X_train_unscaled)\n",
    "#X_val = scaler.transform(X_val_unscaled)\n",
    "X_test = scaler.transform(X_test_unscaled)\n",
    "\n",
    "# Normalize the data\n",
    "X_train = normalize(X_train)\n",
    "#X_val = normalize(X_val)\n",
    "X_test = normalize(X_test)\n",
    "\n",
    "svr = SVR(kernel='rbf', C=1e3, gamma=0.1)\n",
    "svr.fit(X_train, y_train)\n",
    "\n",
    "y_pred = svr.predict(X_test)\n",
    "plt.scatter(y_test,y_pred)\n",
    "r2 = r2_score(y_test, y_pred)\n",
    "print('the r2 score is',r2)\n",
    "mae = mean_absolute_error(y_test, y_pred)\n",
    "print('the mean absolute error is',mae)\n",
    "rmse_val = mean_squared_error(y_test, y_pred, squared=False)\n",
    "\n",
    "# Without scaling the SVR performed terribly! SCALING ABSOLUTELY NECESSARY HERE!!!!\n",
    "\n",
    "\n",
    "\n"
   ]
  },
  {
   "cell_type": "code",
   "execution_count": 12,
   "metadata": {},
   "outputs": [
    {
     "name": "stdout",
     "output_type": "stream",
     "text": [
      "   formula     target\n",
      "0    ErNi3  10.347703\n",
      "1    EuPb3  10.671596\n",
      "2    Mo3Pt  12.898261\n",
      "3    EuSn3   7.801257\n",
      "4    SmSn3   7.930209\n",
      "..     ...        ...\n",
      "92   DyPd3  11.700858\n",
      "93   MoCo3   9.962997\n",
      "94   Mo3Os  12.883572\n",
      "95    YIn3   7.270778\n",
      "96   TmPt3  18.661532\n",
      "\n",
      "[97 rows x 2 columns]\n"
     ]
    },
    {
     "name": "stderr",
     "output_type": "stream",
     "text": [
      "Processing Input Data: 100%|██████████| 97/97 [00:00<00:00, 9709.73it/s]\n"
     ]
    },
    {
     "name": "stdout",
     "output_type": "stream",
     "text": [
      "\tFeaturizing Compositions...\n"
     ]
    },
    {
     "name": "stderr",
     "output_type": "stream",
     "text": [
      "Assigning Features...: 100%|██████████| 97/97 [00:00<00:00, 1363.62it/s]"
     ]
    },
    {
     "name": "stdout",
     "output_type": "stream",
     "text": [
      "\tCreating Pandas Objects...\n"
     ]
    },
    {
     "name": "stderr",
     "output_type": "stream",
     "text": [
      "\n",
      "Processing Input Data: 100%|██████████| 97/97 [00:00<00:00, 9692.85it/s]\n"
     ]
    },
    {
     "name": "stdout",
     "output_type": "stream",
     "text": [
      "\tFeaturizing Compositions...\n"
     ]
    },
    {
     "name": "stderr",
     "output_type": "stream",
     "text": [
      "Assigning Features...: 100%|██████████| 97/97 [00:00<00:00, 1642.55it/s]\n"
     ]
    },
    {
     "name": "stdout",
     "output_type": "stream",
     "text": [
      "\tCreating Pandas Objects...\n",
      "the r2 score is 0.9993457723977782\n",
      "the mean absolute error is 0.09845562750331356\n"
     ]
    },
    {
     "data": {
      "image/png": "[encoded data removed]",
      "text/plain": [
       "<Figure size 640x480 with 1 Axes>"
      ]
     },
     "metadata": {},
     "output_type": "display_data"
    }
   ],
   "source": [
    "# SVM on Compositional Features from CBFV\n",
    "\n",
    "from CBFV import composition\n",
    "\n",
    "svm_df = svm_df.dropna()\n",
    "rename_dict = {'Density': 'target', 'Compound':'formula'}\n",
    "svm_df = svm_df.rename(columns=rename_dict)\n",
    "\n",
    "RNG_SEED = 42\n",
    "np.random.seed(seed=RNG_SEED)\n",
    "\n",
    "X = svm_df[['formula']]\n",
    "y = svm_df['target']\n",
    "\n",
    "new_df = X.join(y)\n",
    "print(new_df)\n",
    "\n",
    "\n",
    "X_train, X_test, y_train, y_test = train_test_split(X, y, test_size=0.33, random_state=RNG_SEED)\n",
    "\n",
    "X_train, y_train, formulae_train, skipped_train = composition.generate_features(new_df, elem_prop='oliynyk', drop_duplicates=False, extend_features=True, sum_feat=True)\n",
    "X_test, y_test, formulae_train, skipped_train = composition.generate_features(new_df, elem_prop='oliynyk', drop_duplicates=False, extend_features=True, sum_feat=True)\n",
    "\n",
    "\n",
    "svr = SVR(kernel='rbf', C=1e3, gamma=0.1)\n",
    "svr.fit(X_train, y_train)\n",
    "\n",
    "y_pred = svr.predict(X_test)\n",
    "plt.scatter(y_test, y_pred)\n",
    "r2 = r2_score(y_test, y_pred)\n",
    "print('the r2 score is',r2)\n",
    "mae = mean_absolute_error(y_test, y_pred)\n",
    "print('the mean absolute error is',mae)\n",
    "rmse_val = mean_squared_error(y_test, y_pred, squared=False)\n",
    "\n",
    "\n"
   ]
  }
 ],
 "metadata": {
  "kernelspec": {
   "display_name": "Python 3",
   "language": "python",
   "name": "python3"
  },
  "language_info": {
   "codemirror_mode": {
    "name": "ipython",
    "version": 3
   },
   "file_extension": ".py",
   "mimetype": "text/x-python",
   "name": "python",
   "nbconvert_exporter": "python",
   "pygments_lexer": "ipython3",
   "version": "3.10.13"
  }
 },
 "nbformat": 4,
 "nbformat_minor": 2
}
