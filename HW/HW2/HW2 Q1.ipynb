{
 "cells": [
  {
   "cell_type": "markdown",
   "metadata": {},
   "source": [
    "# Question 1: Structural features\n",
    "**1.1 cif-cn-featurizer**\n",
    "\n",
    "Our friend Anton Oliynyk has recently released a new python script `cif-cn-featurizer`. \n",
    "\n",
    "Here is their description \"A Python script designed to process CIF (Crystallographic Information File) files and extract various features from them. These features include interatomic distances, atomic environment information, and coordination numbers. The script can handle binary and ternary compounds.\"\n",
    "\n",
    "Let's test it out and see how it works! To do so we will need some cifs. Right now the featurizer only works with binaries made up of certain elements shown in this plot. \n",
    "\n",
    "![allowed elements](https://github.com/sp8rks/MaterialsInformatics/blob/main/HW/HW2/cif-cn-featurizer-allowed-elements.png?raw=true)\n",
    "\n",
    "**<font color='teal'>a)</font>** Download the `cif-cn-featurizer` files and run it on the cif files in the `HW\\cn-featurizer\\cifs` folder. \n",
    "\n",
    "Note: in case you can't get it working, you'll also find a csv folder with all the extracted features for these cifs already complete, but try and get it working so you can use it in the future!"
   ]
  },
  {
   "cell_type": "code",
   "execution_count": 1,
   "metadata": {},
   "outputs": [],
   "source": [
    "#you can run this in your miniconda command prompt if you prefer\\\n",
    "\n",
    "# Do i need to import each python code individually that is in the cif-cn-featurizer folder???\n",
    "\n",
    "#from pathlib import Path\n",
    "#import sys\n",
    "#files_dir = Path(\"C:\\MaterialsInformatics\\cn-featurizer\\cifs\")\n",
    "#files = files_dir.iterdir()\n",
    "#sys.path.append( 'C:\\cif-cn-featurizer' )\n",
    "#import main as ccnfeat\n",
    "#features = ccnfeat.main()\n",
    "\n",
    "\n",
    "# I used the miniconda command prompt\n"
   ]
  },
  {
   "cell_type": "markdown",
   "metadata": {},
   "source": [
    "**1.2 Getting labeled data for the cifs**\n",
    "\n",
    "**<font color='teal'>b)</font>** Now that you've got feature vectors in a series of .csv files, let's use them to build a model to predict a property. To get a property let's search for a materials project entry using the cif cards! If you've forgotten how, go back to the `legacy_MPRester_tutorial.ipynb` notebook where we did an example. Once you have the material project id, run a query to extract a property like bulk modulus ([\"elasticity\"][\"K_VRH\"])"
   ]
  },
  {
   "cell_type": "code",
   "execution_count": 2,
   "metadata": {},
   "outputs": [
    {
     "name": "stderr",
     "output_type": "stream",
     "text": [
      "c:\\Miniconda3\\envs\\MatInformatics\\lib\\site-packages\\tqdm\\auto.py:21: TqdmWarning: IProgress not found. Please update jupyter and ipywidgets. See https://ipywidgets.readthedocs.io/en/stable/user_install.html\n",
      "  from .autonotebook import tqdm as notebook_tqdm\n"
     ]
    },
    {
     "name": "stdout",
     "output_type": "stream",
     "text": [
      "['C:\\\\cif-cn-featurizer\\\\cifs\\\\250022.cif', 'C:\\\\cif-cn-featurizer\\\\cifs\\\\250065.cif', 'C:\\\\cif-cn-featurizer\\\\cifs\\\\250101.cif', 'C:\\\\cif-cn-featurizer\\\\cifs\\\\250125.cif', 'C:\\\\cif-cn-featurizer\\\\cifs\\\\250186.cif', 'C:\\\\cif-cn-featurizer\\\\cifs\\\\250191.cif', 'C:\\\\cif-cn-featurizer\\\\cifs\\\\250223.cif', 'C:\\\\cif-cn-featurizer\\\\cifs\\\\250225.cif', 'C:\\\\cif-cn-featurizer\\\\cifs\\\\250236.cif', 'C:\\\\cif-cn-featurizer\\\\cifs\\\\250328.cif', 'C:\\\\cif-cn-featurizer\\\\cifs\\\\250329.cif', 'C:\\\\cif-cn-featurizer\\\\cifs\\\\250330.cif', 'C:\\\\cif-cn-featurizer\\\\cifs\\\\250331.cif', 'C:\\\\cif-cn-featurizer\\\\cifs\\\\250332.cif', 'C:\\\\cif-cn-featurizer\\\\cifs\\\\250333.cif', 'C:\\\\cif-cn-featurizer\\\\cifs\\\\250334.cif', 'C:\\\\cif-cn-featurizer\\\\cifs\\\\250335.cif', 'C:\\\\cif-cn-featurizer\\\\cifs\\\\250336.cif', 'C:\\\\cif-cn-featurizer\\\\cifs\\\\250337.cif', 'C:\\\\cif-cn-featurizer\\\\cifs\\\\250338.cif', 'C:\\\\cif-cn-featurizer\\\\cifs\\\\250339.cif', 'C:\\\\cif-cn-featurizer\\\\cifs\\\\250340.cif', 'C:\\\\cif-cn-featurizer\\\\cifs\\\\250363.cif', 'C:\\\\cif-cn-featurizer\\\\cifs\\\\250364.cif', 'C:\\\\cif-cn-featurizer\\\\cifs\\\\250365.cif', 'C:\\\\cif-cn-featurizer\\\\cifs\\\\250366.cif', 'C:\\\\cif-cn-featurizer\\\\cifs\\\\250367.cif', 'C:\\\\cif-cn-featurizer\\\\cifs\\\\250368.cif', 'C:\\\\cif-cn-featurizer\\\\cifs\\\\250369.cif', 'C:\\\\cif-cn-featurizer\\\\cifs\\\\250370.cif', 'C:\\\\cif-cn-featurizer\\\\cifs\\\\250372.cif', 'C:\\\\cif-cn-featurizer\\\\cifs\\\\250373.cif', 'C:\\\\cif-cn-featurizer\\\\cifs\\\\250374.cif', 'C:\\\\cif-cn-featurizer\\\\cifs\\\\250375.cif', 'C:\\\\cif-cn-featurizer\\\\cifs\\\\250376.cif', 'C:\\\\cif-cn-featurizer\\\\cifs\\\\250377.cif', 'C:\\\\cif-cn-featurizer\\\\cifs\\\\250378.cif', 'C:\\\\cif-cn-featurizer\\\\cifs\\\\250379.cif', 'C:\\\\cif-cn-featurizer\\\\cifs\\\\250380.cif', 'C:\\\\cif-cn-featurizer\\\\cifs\\\\250381.cif', 'C:\\\\cif-cn-featurizer\\\\cifs\\\\250382.cif', 'C:\\\\cif-cn-featurizer\\\\cifs\\\\250383.cif', 'C:\\\\cif-cn-featurizer\\\\cifs\\\\250384.cif', 'C:\\\\cif-cn-featurizer\\\\cifs\\\\250385.cif', 'C:\\\\cif-cn-featurizer\\\\cifs\\\\250390.cif', 'C:\\\\cif-cn-featurizer\\\\cifs\\\\250394.cif', 'C:\\\\cif-cn-featurizer\\\\cifs\\\\250399.cif', 'C:\\\\cif-cn-featurizer\\\\cifs\\\\250404.cif', 'C:\\\\cif-cn-featurizer\\\\cifs\\\\250410.cif', 'C:\\\\cif-cn-featurizer\\\\cifs\\\\250411.cif', 'C:\\\\cif-cn-featurizer\\\\cifs\\\\250460.cif', 'C:\\\\cif-cn-featurizer\\\\cifs\\\\250461.cif', 'C:\\\\cif-cn-featurizer\\\\cifs\\\\250462.cif', 'C:\\\\cif-cn-featurizer\\\\cifs\\\\250463.cif', 'C:\\\\cif-cn-featurizer\\\\cifs\\\\250464.cif', 'C:\\\\cif-cn-featurizer\\\\cifs\\\\250465.cif', 'C:\\\\cif-cn-featurizer\\\\cifs\\\\250468.cif', 'C:\\\\cif-cn-featurizer\\\\cifs\\\\250469.cif', 'C:\\\\cif-cn-featurizer\\\\cifs\\\\250476.cif', 'C:\\\\cif-cn-featurizer\\\\cifs\\\\250477.cif', 'C:\\\\cif-cn-featurizer\\\\cifs\\\\250502.cif', 'C:\\\\cif-cn-featurizer\\\\cifs\\\\250503.cif', 'C:\\\\cif-cn-featurizer\\\\cifs\\\\250504.cif', 'C:\\\\cif-cn-featurizer\\\\cifs\\\\250505.cif', 'C:\\\\cif-cn-featurizer\\\\cifs\\\\250506.cif', 'C:\\\\cif-cn-featurizer\\\\cifs\\\\250507.cif', 'C:\\\\cif-cn-featurizer\\\\cifs\\\\250508.cif', 'C:\\\\cif-cn-featurizer\\\\cifs\\\\250525.cif', 'C:\\\\cif-cn-featurizer\\\\cifs\\\\250527.cif', 'C:\\\\cif-cn-featurizer\\\\cifs\\\\250530.cif', 'C:\\\\cif-cn-featurizer\\\\cifs\\\\250554.cif', 'C:\\\\cif-cn-featurizer\\\\cifs\\\\250561.cif', 'C:\\\\cif-cn-featurizer\\\\cifs\\\\250562.cif', 'C:\\\\cif-cn-featurizer\\\\cifs\\\\250563.cif', 'C:\\\\cif-cn-featurizer\\\\cifs\\\\250564.cif', 'C:\\\\cif-cn-featurizer\\\\cifs\\\\250615.cif', 'C:\\\\cif-cn-featurizer\\\\cifs\\\\250628.cif', 'C:\\\\cif-cn-featurizer\\\\cifs\\\\250646.cif', 'C:\\\\cif-cn-featurizer\\\\cifs\\\\250647.cif', 'C:\\\\cif-cn-featurizer\\\\cifs\\\\250648.cif', 'C:\\\\cif-cn-featurizer\\\\cifs\\\\250649.cif', 'C:\\\\cif-cn-featurizer\\\\cifs\\\\250650.cif', 'C:\\\\cif-cn-featurizer\\\\cifs\\\\250651.cif', 'C:\\\\cif-cn-featurizer\\\\cifs\\\\250652.cif', 'C:\\\\cif-cn-featurizer\\\\cifs\\\\250653.cif', 'C:\\\\cif-cn-featurizer\\\\cifs\\\\250654.cif', 'C:\\\\cif-cn-featurizer\\\\cifs\\\\250668.cif', 'C:\\\\cif-cn-featurizer\\\\cifs\\\\250679.cif', 'C:\\\\cif-cn-featurizer\\\\cifs\\\\250693.cif', 'C:\\\\cif-cn-featurizer\\\\cifs\\\\250717.cif', 'C:\\\\cif-cn-featurizer\\\\cifs\\\\250718.cif', 'C:\\\\cif-cn-featurizer\\\\cifs\\\\250732.cif', 'C:\\\\cif-cn-featurizer\\\\cifs\\\\250733.cif', 'C:\\\\cif-cn-featurizer\\\\cifs\\\\250735.cif', 'C:\\\\cif-cn-featurizer\\\\cifs\\\\250737.cif', 'C:\\\\cif-cn-featurizer\\\\cifs\\\\250740.cif', 'C:\\\\cif-cn-featurizer\\\\cifs\\\\250742.cif', 'C:\\\\cif-cn-featurizer\\\\cifs\\\\250751.cif', 'C:\\\\cif-cn-featurizer\\\\cifs\\\\250752.cif', 'C:\\\\cif-cn-featurizer\\\\cifs\\\\250753.cif', 'C:\\\\cif-cn-featurizer\\\\cifs\\\\250754.cif', 'C:\\\\cif-cn-featurizer\\\\cifs\\\\250755.cif', 'C:\\\\cif-cn-featurizer\\\\cifs\\\\250763.cif', 'C:\\\\cif-cn-featurizer\\\\cifs\\\\250765.cif', 'C:\\\\cif-cn-featurizer\\\\cifs\\\\250804.cif', 'C:\\\\cif-cn-featurizer\\\\cifs\\\\250805.cif', 'C:\\\\cif-cn-featurizer\\\\cifs\\\\250806.cif', 'C:\\\\cif-cn-featurizer\\\\cifs\\\\250807.cif', 'C:\\\\cif-cn-featurizer\\\\cifs\\\\250808.cif', 'C:\\\\cif-cn-featurizer\\\\cifs\\\\250809.cif', 'C:\\\\cif-cn-featurizer\\\\cifs\\\\250810.cif', 'C:\\\\cif-cn-featurizer\\\\cifs\\\\250811.cif', 'C:\\\\cif-cn-featurizer\\\\cifs\\\\250891.cif', 'C:\\\\cif-cn-featurizer\\\\cifs\\\\250892.cif', 'C:\\\\cif-cn-featurizer\\\\cifs\\\\250893.cif', 'C:\\\\cif-cn-featurizer\\\\cifs\\\\250894.cif', 'C:\\\\cif-cn-featurizer\\\\cifs\\\\250907.cif', 'C:\\\\cif-cn-featurizer\\\\cifs\\\\250910.cif', 'C:\\\\cif-cn-featurizer\\\\cifs\\\\250920.cif', 'C:\\\\cif-cn-featurizer\\\\cifs\\\\250931.cif', 'C:\\\\cif-cn-featurizer\\\\cifs\\\\250934.cif', 'C:\\\\cif-cn-featurizer\\\\cifs\\\\250959.cif', 'C:\\\\cif-cn-featurizer\\\\cifs\\\\250962.cif', 'C:\\\\cif-cn-featurizer\\\\cifs\\\\250963.cif', 'C:\\\\cif-cn-featurizer\\\\cifs\\\\250966.cif', 'C:\\\\cif-cn-featurizer\\\\cifs\\\\250977.cif']\n",
      "['250022', '250065', '250101', '250125', '250186', '250191', '250223', '250225', '250236', '250328', '250329', '250330', '250331', '250332', '250333', '250334', '250335', '250336', '250337', '250338', '250339', '250340', '250363', '250364', '250365', '250366', '250367', '250368', '250369', '250370', '250372', '250373', '250374', '250375', '250376', '250377', '250378', '250379', '250380', '250381', '250382', '250383', '250384', '250385', '250390', '250394', '250399', '250404', '250410', '250411', '250460', '250461', '250462', '250463', '250464', '250465', '250468', '250469', '250476', '250477', '250502', '250503', '250504', '250505', '250506', '250507', '250508', '250525', '250527', '250530', '250554', '250561', '250562', '250563', '250564', '250615', '250628', '250646', '250647', '250648', '250649', '250650', '250651', '250652', '250653', '250654', '250668', '250679', '250693', '250717', '250718', '250732', '250733', '250735', '250737', '250740', '250742', '250751', '250752', '250753', '250754', '250755', '250763', '250765', '250804', '250805', '250806', '250807', '250808', '250809', '250810', '250811', '250891', '250892', '250893', '250894', '250907', '250910', '250920', '250931', '250934', '250959', '250962', '250963', '250966', '250977']\n"
     ]
    }
   ],
   "source": [
    "#your code goes here\n",
    "from mp_api.client import MPRester\n",
    "from pymatgen.io.cif import CifParser\n",
    "import pandas as pd\n",
    "import os\n",
    "from pathlib import Path\n",
    "\n",
    "filename = r'C:\\Users\\Aidan Belanger\\OneDrive\\Desktop\\Materials Informatics\\MyMatProjApiKey.txt'\n",
    "def get_file_contents(filename):\n",
    "    try:\n",
    "        with open(filename, 'r') as f:\n",
    "            # It's assumed our file contains a single line,\n",
    "            # with our API key\n",
    "            return f.read().strip()\n",
    "    except FileNotFoundError:\n",
    "        print(\"'%s' file not found\" % filename)\n",
    "\n",
    "Aidans_API = get_file_contents(filename)\n",
    "\n",
    "\n",
    "directory_in_str = \"C:\\cif-cn-featurizer\\cifs\"\n",
    "directory = os.fsencode(directory_in_str)\n",
    "\n",
    "fpaths = []\n",
    "trackf = []\n",
    "for file in os.listdir(directory):\n",
    "    filename = os.fsdecode(file)\n",
    "    if filename.endswith(\".cif\"): \n",
    "        fpaths.append(os.path.join(directory_in_str, filename))\n",
    "        path = Path(filename)\n",
    "        trackf.append(path.stem)\n",
    "        continue\n",
    "    else:\n",
    "        continue\n",
    "print(fpaths)\n",
    "print(trackf)\n"
   ]
  },
  {
   "cell_type": "code",
   "execution_count": 3,
   "metadata": {},
   "outputs": [
    {
     "name": "stderr",
     "output_type": "stream",
     "text": [
      "Retrieving SummaryDoc documents: 0it [00:00, ?it/s]\n",
      "Retrieving SummaryDoc documents: 100%|██████████| 1/1 [00:00<?, ?it/s]\n",
      "Retrieving SummaryDoc documents: 100%|██████████| 2/2 [00:00<?, ?it/s]\n",
      "c:\\Miniconda3\\envs\\MatInformatics\\lib\\site-packages\\pymatgen\\io\\cif.py:1221: UserWarning: Issues encountered while parsing CIF: 3 fractional coordinates rounded to ideal values to avoid issues with finite precision.\n",
      "  warnings.warn(\"Issues encountered while parsing CIF: \" + \"\\n\".join(self.warnings))\n",
      "Retrieving SummaryDoc documents: 100%|██████████| 3/3 [00:00<00:00, 3010.27it/s]\n",
      "Retrieving SummaryDoc documents: 0it [00:00, ?it/s]\n",
      "Retrieving SummaryDoc documents: 100%|██████████| 2/2 [00:00<00:00, 1999.67it/s]\n",
      "c:\\Miniconda3\\envs\\MatInformatics\\lib\\site-packages\\pymatgen\\io\\cif.py:1221: UserWarning: Issues encountered while parsing CIF: 4 fractional coordinates rounded to ideal values to avoid issues with finite precision.\n",
      "  warnings.warn(\"Issues encountered while parsing CIF: \" + \"\\n\".join(self.warnings))\n",
      "Retrieving SummaryDoc documents: 0it [00:00, ?it/s]\n",
      "Retrieving SummaryDoc documents: 100%|██████████| 2/2 [00:00<?, ?it/s]\n",
      "Retrieving SummaryDoc documents: 100%|██████████| 1/1 [00:00<?, ?it/s]\n",
      "Retrieving SummaryDoc documents: 100%|██████████| 1/1 [00:00<?, ?it/s]\n",
      "Retrieving SummaryDoc documents: 100%|██████████| 1/1 [00:00<?, ?it/s]\n",
      "Retrieving SummaryDoc documents: 100%|██████████| 1/1 [00:00<?, ?it/s]\n",
      "Retrieving SummaryDoc documents: 100%|██████████| 1/1 [00:00<?, ?it/s]\n",
      "Retrieving SummaryDoc documents: 100%|██████████| 1/1 [00:00<?, ?it/s]\n",
      "Retrieving SummaryDoc documents: 100%|██████████| 1/1 [00:00<00:00, 984.81it/s]\n",
      "Retrieving SummaryDoc documents: 100%|██████████| 1/1 [00:00<?, ?it/s]\n",
      "Retrieving SummaryDoc documents: 100%|██████████| 1/1 [00:00<?, ?it/s]\n",
      "Retrieving SummaryDoc documents: 100%|██████████| 1/1 [00:00<?, ?it/s]\n",
      "Retrieving SummaryDoc documents: 100%|██████████| 1/1 [00:00<?, ?it/s]\n",
      "Retrieving SummaryDoc documents: 100%|██████████| 1/1 [00:00<00:00, 999.83it/s]\n",
      "Retrieving SummaryDoc documents: 0it [00:00, ?it/s]\n",
      "Retrieving SummaryDoc documents: 100%|██████████| 1/1 [00:00<00:00, 1041.55it/s]\n",
      "Retrieving SummaryDoc documents: 100%|██████████| 1/1 [00:00<?, ?it/s]\n",
      "Retrieving SummaryDoc documents: 100%|██████████| 1/1 [00:00<?, ?it/s]\n",
      "Retrieving SummaryDoc documents: 100%|██████████| 1/1 [00:00<?, ?it/s]\n",
      "Retrieving SummaryDoc documents: 100%|██████████| 1/1 [00:00<?, ?it/s]\n",
      "Retrieving SummaryDoc documents: 100%|██████████| 1/1 [00:00<?, ?it/s]\n",
      "Retrieving SummaryDoc documents: 100%|██████████| 1/1 [00:00<00:00, 1667.05it/s]\n",
      "Retrieving SummaryDoc documents: 100%|██████████| 2/2 [00:00<?, ?it/s]\n",
      "Retrieving SummaryDoc documents: 0it [00:00, ?it/s]\n",
      "Retrieving SummaryDoc documents: 100%|██████████| 1/1 [00:00<?, ?it/s]\n",
      "Retrieving SummaryDoc documents: 100%|██████████| 1/1 [00:00<?, ?it/s]\n",
      "Retrieving SummaryDoc documents: 100%|██████████| 1/1 [00:00<?, ?it/s]\n",
      "Retrieving SummaryDoc documents: 100%|██████████| 1/1 [00:00<?, ?it/s]\n",
      "Retrieving SummaryDoc documents: 100%|██████████| 1/1 [00:00<00:00, 1001.27it/s]\n",
      "Retrieving SummaryDoc documents: 100%|██████████| 1/1 [00:00<?, ?it/s]\n",
      "Retrieving SummaryDoc documents: 100%|██████████| 1/1 [00:00<?, ?it/s]\n",
      "Retrieving SummaryDoc documents: 100%|██████████| 1/1 [00:00<?, ?it/s]\n",
      "Retrieving SummaryDoc documents: 100%|██████████| 1/1 [00:00<?, ?it/s]\n",
      "Retrieving SummaryDoc documents: 100%|██████████| 1/1 [00:00<?, ?it/s]\n",
      "Retrieving SummaryDoc documents: 100%|██████████| 1/1 [00:00<00:00, 579.16it/s]\n",
      "Retrieving SummaryDoc documents: 100%|██████████| 1/1 [00:00<00:00, 996.75it/s]\n",
      "Retrieving SummaryDoc documents: 0it [00:00, ?it/s]\n",
      "Retrieving SummaryDoc documents: 100%|██████████| 1/1 [00:00<?, ?it/s]\n",
      "Retrieving SummaryDoc documents: 100%|██████████| 1/1 [00:00<?, ?it/s]\n",
      "Retrieving SummaryDoc documents: 100%|██████████| 2/2 [00:00<?, ?it/s]\n",
      "Retrieving SummaryDoc documents: 100%|██████████| 2/2 [00:00<00:00, 1974.72it/s]\n",
      "Retrieving SummaryDoc documents: 100%|██████████| 1/1 [00:00<00:00, 1044.14it/s]\n",
      "Retrieving SummaryDoc documents: 100%|██████████| 1/1 [00:00<?, ?it/s]\n",
      "Retrieving SummaryDoc documents: 100%|██████████| 2/2 [00:00<?, ?it/s]\n",
      "Retrieving SummaryDoc documents: 0it [00:00, ?it/s]\n",
      "Retrieving SummaryDoc documents: 0it [00:00, ?it/s]\n",
      "Retrieving SummaryDoc documents: 100%|██████████| 1/1 [00:00<?, ?it/s]\n",
      "Retrieving SummaryDoc documents: 100%|██████████| 2/2 [00:00<?, ?it/s]\n",
      "Retrieving SummaryDoc documents: 100%|██████████| 2/2 [00:00<00:00, 1997.29it/s]\n",
      "Retrieving SummaryDoc documents: 100%|██████████| 1/1 [00:00<?, ?it/s]\n",
      "Retrieving SummaryDoc documents: 100%|██████████| 1/1 [00:00<?, ?it/s]\n",
      "Retrieving SummaryDoc documents: 0it [00:00, ?it/s]\n",
      "Retrieving SummaryDoc documents: 100%|██████████| 1/1 [00:00<00:00, 1002.22it/s]\n",
      "Retrieving SummaryDoc documents: 0it [00:00, ?it/s]\n",
      "Retrieving SummaryDoc documents: 100%|██████████| 4/4 [00:00<?, ?it/s]\n",
      "Retrieving SummaryDoc documents: 100%|██████████| 1/1 [00:00<?, ?it/s]\n",
      "Retrieving SummaryDoc documents: 100%|██████████| 1/1 [00:00<00:00, 1000.79it/s]\n",
      "Retrieving SummaryDoc documents: 100%|██████████| 2/2 [00:00<00:00, 1998.24it/s]\n",
      "Retrieving SummaryDoc documents: 100%|██████████| 1/1 [00:00<?, ?it/s]\n",
      "Retrieving SummaryDoc documents: 100%|██████████| 1/1 [00:00<00:00, 1001.51it/s]\n",
      "Retrieving SummaryDoc documents: 100%|██████████| 3/3 [00:00<00:00, 2996.64it/s]\n",
      "Retrieving SummaryDoc documents: 100%|██████████| 1/1 [00:00<?, ?it/s]\n",
      "Retrieving SummaryDoc documents: 100%|██████████| 1/1 [00:00<00:00, 991.33it/s]\n",
      "Retrieving SummaryDoc documents: 100%|██████████| 5/5 [00:00<00:00, 4939.12it/s]\n",
      "Retrieving SummaryDoc documents: 100%|██████████| 1/1 [00:00<?, ?it/s]\n",
      "Retrieving SummaryDoc documents: 100%|██████████| 1/1 [00:00<?, ?it/s]\n",
      "Retrieving SummaryDoc documents: 100%|██████████| 2/2 [00:00<?, ?it/s]\n",
      "Retrieving SummaryDoc documents: 100%|██████████| 1/1 [00:00<?, ?it/s]\n",
      "Retrieving SummaryDoc documents: 100%|██████████| 2/2 [00:00<?, ?it/s]\n",
      "c:\\Miniconda3\\envs\\MatInformatics\\lib\\site-packages\\pymatgen\\io\\cif.py:764: UserWarning: No _symmetry_equiv_pos_as_xyz type key found. Defaulting to P1.\n",
      "  warnings.warn(msg)\n",
      "c:\\Miniconda3\\envs\\MatInformatics\\lib\\site-packages\\pymatgen\\io\\cif.py:1215: UserWarning: No structure parsed for section 1 in CIF.\n",
      "'_atom_site_label'\n",
      "  warnings.warn(msg)\n",
      "c:\\Miniconda3\\envs\\MatInformatics\\lib\\site-packages\\pymatgen\\io\\cif.py:1221: UserWarning: Issues encountered while parsing CIF: No _symmetry_equiv_pos_as_xyz type key found. Defaulting to P1.\n",
      "No structure parsed for section 1 in CIF.\n",
      "'_atom_site_label'\n",
      "  warnings.warn(\"Issues encountered while parsing CIF: \" + \"\\n\".join(self.warnings))\n",
      "c:\\Miniconda3\\envs\\MatInformatics\\lib\\site-packages\\pymatgen\\io\\cif.py:1221: UserWarning: Issues encountered while parsing CIF: 6 fractional coordinates rounded to ideal values to avoid issues with finite precision.\n",
      "  warnings.warn(\"Issues encountered while parsing CIF: \" + \"\\n\".join(self.warnings))\n"
     ]
    },
    {
     "name": "stdout",
     "output_type": "stream",
     "text": [
      "C:\\cif-cn-featurizer\\cifs\\250615.cif  contains an invalid cif\n"
     ]
    },
    {
     "name": "stderr",
     "output_type": "stream",
     "text": [
      "Retrieving SummaryDoc documents: 100%|██████████| 4/4 [00:00<?, ?it/s]\n",
      "Retrieving SummaryDoc documents: 100%|██████████| 1/1 [00:00<?, ?it/s]\n",
      "Retrieving SummaryDoc documents: 0it [00:00, ?it/s]\n",
      "Retrieving SummaryDoc documents: 100%|██████████| 1/1 [00:00<00:00, 988.29it/s]\n",
      "Retrieving SummaryDoc documents: 100%|██████████| 1/1 [00:00<?, ?it/s]\n",
      "Retrieving SummaryDoc documents: 100%|██████████| 1/1 [00:00<?, ?it/s]\n",
      "Retrieving SummaryDoc documents: 100%|██████████| 1/1 [00:00<00:00, 986.66it/s]\n",
      "Retrieving SummaryDoc documents: 100%|██████████| 2/2 [00:00<00:00, 2007.32it/s]\n",
      "Retrieving SummaryDoc documents: 0it [00:00, ?it/s]\n",
      "Retrieving SummaryDoc documents: 0it [00:00, ?it/s]\n",
      "Retrieving SummaryDoc documents: 100%|██████████| 1/1 [00:00<?, ?it/s]\n",
      "Retrieving SummaryDoc documents: 100%|██████████| 1/1 [00:00<00:00, 995.56it/s]\n",
      "Retrieving SummaryDoc documents: 100%|██████████| 1/1 [00:00<00:00, 1002.94it/s]\n",
      "Retrieving SummaryDoc documents: 100%|██████████| 4/4 [00:00<?, ?it/s]\n",
      "Retrieving SummaryDoc documents: 100%|██████████| 1/1 [00:00<?, ?it/s]\n",
      "c:\\Miniconda3\\envs\\MatInformatics\\lib\\site-packages\\pymatgen\\io\\cif.py:1221: UserWarning: Issues encountered while parsing CIF: No structure parsed for section 1 in CIF.\n",
      "'_atom_site_label'\n",
      "  warnings.warn(\"Issues encountered while parsing CIF: \" + \"\\n\".join(self.warnings))\n"
     ]
    },
    {
     "name": "stdout",
     "output_type": "stream",
     "text": [
      "C:\\cif-cn-featurizer\\cifs\\250732.cif  contains an invalid cif\n"
     ]
    },
    {
     "name": "stderr",
     "output_type": "stream",
     "text": [
      "Retrieving SummaryDoc documents: 0it [00:00, ?it/s]\n",
      "Retrieving SummaryDoc documents: 100%|██████████| 5/5 [00:00<?, ?it/s]\n",
      "Retrieving SummaryDoc documents: 100%|██████████| 4/4 [00:00<?, ?it/s]\n",
      "Retrieving SummaryDoc documents: 100%|██████████| 2/2 [00:00<?, ?it/s]\n",
      "Retrieving SummaryDoc documents: 100%|██████████| 1/1 [00:00<?, ?it/s]\n",
      "Retrieving SummaryDoc documents: 0it [00:00, ?it/s]\n",
      "Retrieving SummaryDoc documents: 100%|██████████| 1/1 [00:00<00:00, 999.83it/s]\n",
      "Retrieving SummaryDoc documents: 100%|██████████| 1/1 [00:00<00:00, 986.20it/s]\n",
      "Retrieving SummaryDoc documents: 100%|██████████| 1/1 [00:00<?, ?it/s]\n",
      "Retrieving SummaryDoc documents: 0it [00:00, ?it/s]\n",
      "Retrieving SummaryDoc documents: 100%|██████████| 1/1 [00:00<?, ?it/s]\n",
      "Retrieving SummaryDoc documents: 100%|██████████| 1/1 [00:00<00:00, 999.36it/s]\n",
      "Retrieving SummaryDoc documents: 0it [00:00, ?it/s]\n",
      "Retrieving SummaryDoc documents: 0it [00:00, ?it/s]\n",
      "Retrieving SummaryDoc documents: 0it [00:00, ?it/s]\n",
      "Retrieving SummaryDoc documents: 0it [00:00, ?it/s]\n",
      "Retrieving SummaryDoc documents: 0it [00:00, ?it/s]\n",
      "Retrieving SummaryDoc documents: 100%|██████████| 1/1 [00:00<?, ?it/s]\n",
      "Retrieving SummaryDoc documents: 100%|██████████| 1/1 [00:00<?, ?it/s]\n",
      "Retrieving SummaryDoc documents: 0it [00:00, ?it/s]\n",
      "Retrieving SummaryDoc documents: 100%|██████████| 1/1 [00:00<?, ?it/s]\n",
      "Retrieving SummaryDoc documents: 100%|██████████| 1/1 [00:00<?, ?it/s]\n",
      "Retrieving SummaryDoc documents: 100%|██████████| 1/1 [00:00<?, ?it/s]\n",
      "Retrieving SummaryDoc documents: 100%|██████████| 1/1 [00:00<?, ?it/s]\n",
      "Retrieving SummaryDoc documents: 0it [00:00, ?it/s]\n",
      "Retrieving SummaryDoc documents: 0it [00:00, ?it/s]\n",
      "Retrieving SummaryDoc documents: 100%|██████████| 1/1 [00:00<00:00, 995.09it/s]\n",
      "Retrieving SummaryDoc documents: 0it [00:00, ?it/s]\n",
      "Retrieving SummaryDoc documents: 100%|██████████| 2/2 [00:00<?, ?it/s]\n",
      "Retrieving SummaryDoc documents: 0it [00:00, ?it/s]\n",
      "Retrieving SummaryDoc documents: 100%|██████████| 1/1 [00:00<?, ?it/s]\n",
      "Retrieving SummaryDoc documents: 100%|██████████| 1/1 [00:00<?, ?it/s]\n",
      "Retrieving SummaryDoc documents: 0it [00:00, ?it/s]\n",
      "Retrieving SummaryDoc documents: 100%|██████████| 1/1 [00:00<?, ?it/s]\n"
     ]
    }
   ],
   "source": [
    "docs = []\n",
    "ciflabel = []\n",
    "\n",
    "for fpath in fpaths:\n",
    "    with MPRester(Aidans_API) as mpr:\n",
    "        # open cif file with cif parser\n",
    "        parser = CifParser(fpath)\n",
    "        path = Path(fpath)\n",
    "        try:\n",
    "            # get structural composition from the cif file\n",
    "            structure = parser.parse_structures(primitive=True)[0]\n",
    "            # get the compositional formula from the parsed information and remove white space\n",
    "            formula = str(structure.composition.formula).replace(\" \",\"\")\n",
    "            # search materials project for cif files with the compositional formula\n",
    "            summary = mpr.materials.summary._search(formula=formula,fields=[\"material_id\"])\n",
    "\n",
    "            for doc in summary:\n",
    "                print(doc.material_id)\n",
    "                docs.append(doc.material_id)\n",
    "                for x in doc.material_id[0]:\n",
    "                    ciflabel.append(path.stem)\n",
    "                #print(ciflabel)\n",
    "        except:\n",
    "            print(fpath, \" contains an invalid cif\")\n",
    "            "
   ]
  },
  {
   "cell_type": "code",
   "execution_count": 4,
   "metadata": {},
   "outputs": [
    {
     "name": "stdout",
     "output_type": "stream",
     "text": [
      "    Cif_num      MP_num\n",
      "0    250065      mp-801\n",
      "1    250101   mp-979040\n",
      "2    250101      mp-768\n",
      "3    250125     mp-1139\n",
      "4    250125  mp-1008279\n",
      "..      ...         ...\n",
      "131  250934      mp-718\n",
      "132  250934  mp-1218937\n",
      "133  250962    mp-20971\n",
      "134  250963    mp-20516\n",
      "135  250977     mp-1051\n",
      "\n",
      "[136 rows x 2 columns]\n"
     ]
    }
   ],
   "source": [
    "d = {\"Cif_num\":ciflabel, \"MP_num\":docs}\n",
    "df = pd.DataFrame(data=d)\n",
    "print(df)"
   ]
  },
  {
   "cell_type": "code",
   "execution_count": 26,
   "metadata": {},
   "outputs": [
    {
     "name": "stderr",
     "output_type": "stream",
     "text": [
      "C:\\Users\\Aidan Belanger\\AppData\\Local\\Temp\\ipykernel_1576\\2463373616.py:2: DeprecationWarning: Accessing summary data through MPRester.summary is deprecated. Please use MPRester.materials.summary instead.\n",
      "  material = mpr.summary.search(material_ids=['mp-801'])\n",
      "Retrieving SummaryDoc documents: 100%|██████████| 1/1 [00:00<?, ?it/s]"
     ]
    },
    {
     "name": "stdout",
     "output_type": "stream",
     "text": [
      "12.883572424806513\n"
     ]
    },
    {
     "name": "stderr",
     "output_type": "stream",
     "text": [
      "\n"
     ]
    }
   ],
   "source": [
    "with MPRester(Aidans_API) as mpr:\n",
    "    material = mpr.summary.search(material_ids=['mp-801'])\n",
    "    print(material[0].density)"
   ]
  },
  {
   "cell_type": "code",
   "execution_count": 27,
   "metadata": {},
   "outputs": [
    {
     "name": "stdout",
     "output_type": "stream",
     "text": [
      "mp-801\n"
     ]
    },
    {
     "name": "stderr",
     "output_type": "stream",
     "text": [
      "C:\\Users\\Aidan Belanger\\AppData\\Local\\Temp\\ipykernel_1576\\2835915738.py:10: DeprecationWarning: Accessing summary data through MPRester.summary is deprecated. Please use MPRester.materials.summary instead.\n",
      "  material = mpr.summary.search(material_ids=[row])\n",
      "Retrieving SummaryDoc documents: 100%|██████████| 1/1 [00:00<?, ?it/s]\n"
     ]
    },
    {
     "name": "stdout",
     "output_type": "stream",
     "text": [
      "12.883572424806513\n",
      "mp-979040\n"
     ]
    },
    {
     "name": "stderr",
     "output_type": "stream",
     "text": [
      "Retrieving SummaryDoc documents: 100%|██████████| 1/1 [00:00<?, ?it/s]\n"
     ]
    },
    {
     "name": "stdout",
     "output_type": "stream",
     "text": [
      "5.527285146110387\n",
      "mp-768\n"
     ]
    },
    {
     "name": "stderr",
     "output_type": "stream",
     "text": [
      "Retrieving SummaryDoc documents: 100%|██████████| 1/1 [00:00<?, ?it/s]\n"
     ]
    },
    {
     "name": "stdout",
     "output_type": "stream",
     "text": [
      "5.632610075827367\n",
      "mp-1139\n"
     ]
    },
    {
     "name": "stderr",
     "output_type": "stream",
     "text": [
      "Retrieving SummaryDoc documents: 100%|██████████| 1/1 [00:00<00:00, 1005.83it/s]\n"
     ]
    },
    {
     "name": "stdout",
     "output_type": "stream",
     "text": [
      "9.96299728602397\n",
      "mp-1008279\n"
     ]
    },
    {
     "name": "stderr",
     "output_type": "stream",
     "text": [
      "Retrieving SummaryDoc documents: 100%|██████████| 1/1 [00:00<?, ?it/s]\n"
     ]
    },
    {
     "name": "stdout",
     "output_type": "stream",
     "text": [
      "10.015481379001777\n",
      "mp-1226451\n"
     ]
    },
    {
     "name": "stderr",
     "output_type": "stream",
     "text": [
      "Retrieving SummaryDoc documents: 100%|██████████| 1/1 [00:00<?, ?it/s]\n"
     ]
    },
    {
     "name": "stdout",
     "output_type": "stream",
     "text": [
      "9.182845677359099\n",
      "mp-1232\n"
     ]
    },
    {
     "name": "stderr",
     "output_type": "stream",
     "text": [
      "Retrieving SummaryDoc documents: 100%|██████████| 1/1 [00:00<?, ?it/s]\n"
     ]
    },
    {
     "name": "stdout",
     "output_type": "stream",
     "text": [
      "12.898261191603371\n",
      "mp-1186016\n"
     ]
    },
    {
     "name": "stderr",
     "output_type": "stream",
     "text": [
      "Retrieving SummaryDoc documents: 100%|██████████| 1/1 [00:00<?, ?it/s]\n"
     ]
    },
    {
     "name": "stdout",
     "output_type": "stream",
     "text": [
      "12.777078339068995\n",
      "mp-1220074\n"
     ]
    },
    {
     "name": "stderr",
     "output_type": "stream",
     "text": [
      "Retrieving SummaryDoc documents: 100%|██████████| 1/1 [00:00<?, ?it/s]\n"
     ]
    },
    {
     "name": "stdout",
     "output_type": "stream",
     "text": [
      "9.257027075671665\n",
      "mp-11506\n"
     ]
    },
    {
     "name": "stderr",
     "output_type": "stream",
     "text": [
      "Retrieving SummaryDoc documents: 100%|██████████| 1/1 [00:00<?, ?it/s]\n"
     ]
    },
    {
     "name": "stdout",
     "output_type": "stream",
     "text": [
      "9.769613810100632\n",
      "mp-1326\n"
     ]
    },
    {
     "name": "stderr",
     "output_type": "stream",
     "text": [
      "Retrieving SummaryDoc documents: 100%|██████████| 1/1 [00:00<?, ?it/s]\n"
     ]
    },
    {
     "name": "stdout",
     "output_type": "stream",
     "text": [
      "8.743524434942238\n",
      "mp-674\n"
     ]
    },
    {
     "name": "stderr",
     "output_type": "stream",
     "text": [
      "Retrieving SummaryDoc documents: 100%|██████████| 1/1 [00:00<?, ?it/s]\n"
     ]
    },
    {
     "name": "stdout",
     "output_type": "stream",
     "text": [
      "10.24939082494553\n",
      "mp-2092\n"
     ]
    },
    {
     "name": "stderr",
     "output_type": "stream",
     "text": [
      "Retrieving SummaryDoc documents: 100%|██████████| 1/1 [00:00<00:00, 989.69it/s]\n"
     ]
    },
    {
     "name": "stdout",
     "output_type": "stream",
     "text": [
      "10.760259389502755\n",
      "mp-1571\n"
     ]
    },
    {
     "name": "stderr",
     "output_type": "stream",
     "text": [
      "Retrieving SummaryDoc documents: 100%|██████████| 1/1 [00:00<?, ?it/s]\n"
     ]
    },
    {
     "name": "stdout",
     "output_type": "stream",
     "text": [
      "10.397704278275409\n",
      "mp-2333\n"
     ]
    },
    {
     "name": "stderr",
     "output_type": "stream",
     "text": [
      "Retrieving SummaryDoc documents: 100%|██████████| 1/1 [00:00<?, ?it/s]\n"
     ]
    },
    {
     "name": "stdout",
     "output_type": "stream",
     "text": [
      "10.615888317928517\n",
      "mp-357\n"
     ]
    },
    {
     "name": "stderr",
     "output_type": "stream",
     "text": [
      "Retrieving SummaryDoc documents: 100%|██████████| 1/1 [00:00<?, ?it/s]\n"
     ]
    },
    {
     "name": "stdout",
     "output_type": "stream",
     "text": [
      "10.984967698041599\n",
      "mp-636279\n"
     ]
    },
    {
     "name": "stderr",
     "output_type": "stream",
     "text": [
      "Retrieving SummaryDoc documents: 100%|██████████| 1/1 [00:00<00:00, 1004.38it/s]\n"
     ]
    },
    {
     "name": "stdout",
     "output_type": "stream",
     "text": [
      "10.820994191815037\n",
      "mp-21427\n"
     ]
    },
    {
     "name": "stderr",
     "output_type": "stream",
     "text": [
      "Retrieving SummaryDoc documents: 100%|██████████| 1/1 [00:00<00:00, 989.92it/s]\n"
     ]
    },
    {
     "name": "stdout",
     "output_type": "stream",
     "text": [
      "11.316717971608051\n",
      "mp-2747\n"
     ]
    },
    {
     "name": "stderr",
     "output_type": "stream",
     "text": [
      "Retrieving SummaryDoc documents: 100%|██████████| 1/1 [00:00<?, ?it/s]\n"
     ]
    },
    {
     "name": "stdout",
     "output_type": "stream",
     "text": [
      "11.524663797651474\n",
      "mp-797\n"
     ]
    },
    {
     "name": "stderr",
     "output_type": "stream",
     "text": [
      "Retrieving SummaryDoc documents: 100%|██████████| 1/1 [00:00<?, ?it/s]\n"
     ]
    },
    {
     "name": "stdout",
     "output_type": "stream",
     "text": [
      "11.700858341922407\n",
      "mp-1979\n"
     ]
    },
    {
     "name": "stderr",
     "output_type": "stream",
     "text": [
      "Retrieving SummaryDoc documents: 100%|██████████| 1/1 [00:00<?, ?it/s]\n"
     ]
    },
    {
     "name": "stdout",
     "output_type": "stream",
     "text": [
      "11.846010450424608\n",
      "mp-2825\n"
     ]
    },
    {
     "name": "stderr",
     "output_type": "stream",
     "text": [
      "Retrieving SummaryDoc documents: 100%|██████████| 1/1 [00:00<?, ?it/s]\n"
     ]
    },
    {
     "name": "stdout",
     "output_type": "stream",
     "text": [
      "11.994827919381457\n",
      "mp-1158\n"
     ]
    },
    {
     "name": "stderr",
     "output_type": "stream",
     "text": [
      "Retrieving SummaryDoc documents: 100%|██████████| 1/1 [00:00<?, ?it/s]\n"
     ]
    },
    {
     "name": "stdout",
     "output_type": "stream",
     "text": [
      "12.413465658612973\n",
      "mp-633\n"
     ]
    },
    {
     "name": "stderr",
     "output_type": "stream",
     "text": [
      "Retrieving SummaryDoc documents: 100%|██████████| 1/1 [00:00<?, ?it/s]\n"
     ]
    },
    {
     "name": "stdout",
     "output_type": "stream",
     "text": [
      "7.415102440372493\n",
      "mp-1911\n"
     ]
    },
    {
     "name": "stderr",
     "output_type": "stream",
     "text": [
      "Retrieving SummaryDoc documents: 100%|██████████| 1/1 [00:00<?, ?it/s]\n"
     ]
    },
    {
     "name": "stdout",
     "output_type": "stream",
     "text": [
      "7.828775749263485\n",
      "mp-376\n"
     ]
    },
    {
     "name": "stderr",
     "output_type": "stream",
     "text": [
      "Retrieving SummaryDoc documents: 100%|██████████| 1/1 [00:00<?, ?it/s]\n"
     ]
    },
    {
     "name": "stdout",
     "output_type": "stream",
     "text": [
      "7.546256330916136\n",
      "mp-1977\n"
     ]
    },
    {
     "name": "stderr",
     "output_type": "stream",
     "text": [
      "Retrieving SummaryDoc documents: 100%|██████████| 1/1 [00:00<?, ?it/s]\n"
     ]
    },
    {
     "name": "stdout",
     "output_type": "stream",
     "text": [
      "7.691879011502618\n",
      "mp-2484\n"
     ]
    },
    {
     "name": "stderr",
     "output_type": "stream",
     "text": [
      "Retrieving SummaryDoc documents: 100%|██████████| 1/1 [00:00<00:00, 1022.00it/s]\n"
     ]
    },
    {
     "name": "stdout",
     "output_type": "stream",
     "text": [
      "7.930209209150159\n",
      "mp-20387\n"
     ]
    },
    {
     "name": "stderr",
     "output_type": "stream",
     "text": [
      "Retrieving SummaryDoc documents: 100%|██████████| 1/1 [00:00<?, ?it/s]\n"
     ]
    },
    {
     "name": "stdout",
     "output_type": "stream",
     "text": [
      "7.8012568552109\n",
      "mp-19919\n"
     ]
    },
    {
     "name": "stderr",
     "output_type": "stream",
     "text": [
      "Retrieving SummaryDoc documents: 100%|██████████| 1/1 [00:00<00:00, 988.06it/s]\n"
     ]
    },
    {
     "name": "stdout",
     "output_type": "stream",
     "text": [
      "8.156980369979735\n",
      "mp-623460\n"
     ]
    },
    {
     "name": "stderr",
     "output_type": "stream",
     "text": [
      "Retrieving SummaryDoc documents: 100%|██████████| 1/1 [00:00<?, ?it/s]\n"
     ]
    },
    {
     "name": "stdout",
     "output_type": "stream",
     "text": [
      "7.143449785750475\n",
      "mp-20131\n"
     ]
    },
    {
     "name": "stderr",
     "output_type": "stream",
     "text": [
      "Retrieving SummaryDoc documents: 100%|██████████| 1/1 [00:00<?, ?it/s]\n"
     ]
    },
    {
     "name": "stdout",
     "output_type": "stream",
     "text": [
      "7.270778164452664\n",
      "mp-20729\n"
     ]
    },
    {
     "name": "stderr",
     "output_type": "stream",
     "text": [
      "Retrieving SummaryDoc documents: 100%|██████████| 1/1 [00:00<?, ?it/s]\n"
     ]
    },
    {
     "name": "stdout",
     "output_type": "stream",
     "text": [
      "7.376635651289854\n",
      "mp-20369\n"
     ]
    },
    {
     "name": "stderr",
     "output_type": "stream",
     "text": [
      "Retrieving SummaryDoc documents: 100%|██████████| 1/1 [00:00<?, ?it/s]\n"
     ]
    },
    {
     "name": "stdout",
     "output_type": "stream",
     "text": [
      "7.775449563030647\n",
      "mp-20903\n"
     ]
    },
    {
     "name": "stderr",
     "output_type": "stream",
     "text": [
      "Retrieving SummaryDoc documents: 100%|██████████| 1/1 [00:00<00:00, 987.59it/s]\n"
     ]
    },
    {
     "name": "stdout",
     "output_type": "stream",
     "text": [
      "7.656968652399108\n",
      "mp-21197\n"
     ]
    },
    {
     "name": "stderr",
     "output_type": "stream",
     "text": [
      "Retrieving SummaryDoc documents: 100%|██████████| 1/1 [00:00<?, ?it/s]\n"
     ]
    },
    {
     "name": "stdout",
     "output_type": "stream",
     "text": [
      "7.823092406876472\n",
      "mp-19977\n"
     ]
    },
    {
     "name": "stderr",
     "output_type": "stream",
     "text": [
      "Retrieving SummaryDoc documents: 100%|██████████| 1/1 [00:00<00:00, 984.81it/s]\n"
     ]
    },
    {
     "name": "stdout",
     "output_type": "stream",
     "text": [
      "8.104522072794246\n",
      "mp-20258\n"
     ]
    },
    {
     "name": "stderr",
     "output_type": "stream",
     "text": [
      "Retrieving SummaryDoc documents: 100%|██████████| 1/1 [00:00<?, ?it/s]\n"
     ]
    },
    {
     "name": "stdout",
     "output_type": "stream",
     "text": [
      "8.343110213259171\n",
      "mp-20920\n"
     ]
    },
    {
     "name": "stderr",
     "output_type": "stream",
     "text": [
      "Retrieving SummaryDoc documents: 100%|██████████| 1/1 [00:00<00:00, 985.97it/s]\n"
     ]
    },
    {
     "name": "stdout",
     "output_type": "stream",
     "text": [
      "8.47215828655415\n",
      "mp-20236\n"
     ]
    },
    {
     "name": "stderr",
     "output_type": "stream",
     "text": [
      "Retrieving SummaryDoc documents: 100%|██████████| 1/1 [00:00<00:00, 990.16it/s]\n"
     ]
    },
    {
     "name": "stdout",
     "output_type": "stream",
     "text": [
      "8.584764503741077\n",
      "mp-21431\n"
     ]
    },
    {
     "name": "stderr",
     "output_type": "stream",
     "text": [
      "Retrieving SummaryDoc documents: 100%|██████████| 1/1 [00:00<?, ?it/s]\n"
     ]
    },
    {
     "name": "stdout",
     "output_type": "stream",
     "text": [
      "8.677201098283199\n",
      "mp-1291\n"
     ]
    },
    {
     "name": "stderr",
     "output_type": "stream",
     "text": [
      "Retrieving SummaryDoc documents: 100%|██████████| 1/1 [00:00<?, ?it/s]\n"
     ]
    },
    {
     "name": "stdout",
     "output_type": "stream",
     "text": [
      "8.763547703005178\n",
      "mp-21177\n"
     ]
    },
    {
     "name": "stderr",
     "output_type": "stream",
     "text": [
      "Retrieving SummaryDoc documents: 100%|██████████| 1/1 [00:00<?, ?it/s]\n"
     ]
    },
    {
     "name": "stdout",
     "output_type": "stream",
     "text": [
      "8.842670849139486\n",
      "mp-977\n"
     ]
    },
    {
     "name": "stderr",
     "output_type": "stream",
     "text": [
      "Retrieving SummaryDoc documents: 100%|██████████| 1/1 [00:00<?, ?it/s]\n"
     ]
    },
    {
     "name": "stdout",
     "output_type": "stream",
     "text": [
      "9.013708392223592\n",
      "mp-801\n"
     ]
    },
    {
     "name": "stderr",
     "output_type": "stream",
     "text": [
      "Retrieving SummaryDoc documents: 100%|██████████| 1/1 [00:00<?, ?it/s]\n"
     ]
    },
    {
     "name": "stdout",
     "output_type": "stream",
     "text": [
      "12.883572424806513\n",
      "mp-1192425\n"
     ]
    },
    {
     "name": "stderr",
     "output_type": "stream",
     "text": [
      "Retrieving SummaryDoc documents: 100%|██████████| 1/1 [00:00<?, ?it/s]\n"
     ]
    },
    {
     "name": "stdout",
     "output_type": "stream",
     "text": [
      "7.572105974393418\n",
      "mp-2588\n"
     ]
    },
    {
     "name": "stderr",
     "output_type": "stream",
     "text": [
      "Retrieving SummaryDoc documents: 100%|██████████| 1/1 [00:00<?, ?it/s]\n"
     ]
    },
    {
     "name": "stdout",
     "output_type": "stream",
     "text": [
      "7.541135564711174\n",
      "mp-1216480\n"
     ]
    },
    {
     "name": "stderr",
     "output_type": "stream",
     "text": [
      "Retrieving SummaryDoc documents: 100%|██████████| 1/1 [00:00<00:00, 1003.18it/s]\n"
     ]
    },
    {
     "name": "stdout",
     "output_type": "stream",
     "text": [
      "6.649320580371982\n",
      "mp-22568\n"
     ]
    },
    {
     "name": "stderr",
     "output_type": "stream",
     "text": [
      "Retrieving SummaryDoc documents: 100%|██████████| 1/1 [00:00<00:00, 999.83it/s]\n"
     ]
    },
    {
     "name": "stdout",
     "output_type": "stream",
     "text": [
      "6.834443953341236\n",
      "mp-16513\n"
     ]
    },
    {
     "name": "stderr",
     "output_type": "stream",
     "text": [
      "Retrieving SummaryDoc documents: 100%|██████████| 1/1 [00:00<?, ?it/s]\n"
     ]
    },
    {
     "name": "stdout",
     "output_type": "stream",
     "text": [
      "4.431460698497046\n",
      "mp-865411\n"
     ]
    },
    {
     "name": "stderr",
     "output_type": "stream",
     "text": [
      "Retrieving SummaryDoc documents: 100%|██████████| 1/1 [00:00<00:00, 987.13it/s]\n"
     ]
    },
    {
     "name": "stdout",
     "output_type": "stream",
     "text": [
      "4.9748359632746535\n",
      "mp-976358\n"
     ]
    },
    {
     "name": "stderr",
     "output_type": "stream",
     "text": [
      "Retrieving SummaryDoc documents: 100%|██████████| 1/1 [00:00<00:00, 989.69it/s]\n"
     ]
    },
    {
     "name": "stdout",
     "output_type": "stream",
     "text": [
      "6.563350676639624\n",
      "mp-1080098\n"
     ]
    },
    {
     "name": "stderr",
     "output_type": "stream",
     "text": [
      "Retrieving SummaryDoc documents: 100%|██████████| 1/1 [00:00<?, ?it/s]\n"
     ]
    },
    {
     "name": "stdout",
     "output_type": "stream",
     "text": [
      "6.486766794944658\n",
      "mp-1101986\n"
     ]
    },
    {
     "name": "stderr",
     "output_type": "stream",
     "text": [
      "Retrieving SummaryDoc documents: 100%|██████████| 1/1 [00:00<00:00, 998.64it/s]\n"
     ]
    },
    {
     "name": "stdout",
     "output_type": "stream",
     "text": [
      "9.597363238603098\n",
      "mp-1192321\n"
     ]
    },
    {
     "name": "stderr",
     "output_type": "stream",
     "text": [
      "Retrieving SummaryDoc documents: 100%|██████████| 1/1 [00:00<?, ?it/s]\n"
     ]
    },
    {
     "name": "stdout",
     "output_type": "stream",
     "text": [
      "6.915798314053175\n",
      "mp-1102392\n"
     ]
    },
    {
     "name": "stderr",
     "output_type": "stream",
     "text": [
      "Retrieving SummaryDoc documents: 100%|██████████| 1/1 [00:00<?, ?it/s]\n"
     ]
    },
    {
     "name": "stdout",
     "output_type": "stream",
     "text": [
      "6.870259267313855\n",
      "mp-1192425\n"
     ]
    },
    {
     "name": "stderr",
     "output_type": "stream",
     "text": [
      "Retrieving SummaryDoc documents: 100%|██████████| 1/1 [00:00<00:00, 1001.74it/s]\n"
     ]
    },
    {
     "name": "stdout",
     "output_type": "stream",
     "text": [
      "7.572105974393418\n",
      "mp-2588\n"
     ]
    },
    {
     "name": "stderr",
     "output_type": "stream",
     "text": [
      "Retrieving SummaryDoc documents: 100%|██████████| 1/1 [00:00<?, ?it/s]\n"
     ]
    },
    {
     "name": "stdout",
     "output_type": "stream",
     "text": [
      "7.541135564711174\n",
      "mp-569196\n"
     ]
    },
    {
     "name": "stderr",
     "output_type": "stream",
     "text": [
      "Retrieving SummaryDoc documents: 100%|██████████| 1/1 [00:00<?, ?it/s]\n"
     ]
    },
    {
     "name": "stdout",
     "output_type": "stream",
     "text": [
      "7.788807287711017\n",
      "mp-19977\n"
     ]
    },
    {
     "name": "stderr",
     "output_type": "stream",
     "text": [
      "Retrieving SummaryDoc documents: 100%|██████████| 1/1 [00:00<?, ?it/s]\n"
     ]
    },
    {
     "name": "stdout",
     "output_type": "stream",
     "text": [
      "8.104522072794246\n",
      "mp-20309\n"
     ]
    },
    {
     "name": "stderr",
     "output_type": "stream",
     "text": [
      "Retrieving SummaryDoc documents: 100%|██████████| 1/1 [00:00<?, ?it/s]\n"
     ]
    },
    {
     "name": "stdout",
     "output_type": "stream",
     "text": [
      "10.671595644085569\n",
      "mp-865527\n"
     ]
    },
    {
     "name": "stderr",
     "output_type": "stream",
     "text": [
      "Retrieving SummaryDoc documents: 100%|██████████| 1/1 [00:00<00:00, 997.93it/s]\n"
     ]
    },
    {
     "name": "stdout",
     "output_type": "stream",
     "text": [
      "3.610804964601175\n",
      "mp-11232\n"
     ]
    },
    {
     "name": "stderr",
     "output_type": "stream",
     "text": [
      "Retrieving SummaryDoc documents: 100%|██████████| 1/1 [00:00<?, ?it/s]\n"
     ]
    },
    {
     "name": "stdout",
     "output_type": "stream",
     "text": [
      "2.391904116949502\n",
      "mp-11231\n"
     ]
    },
    {
     "name": "stderr",
     "output_type": "stream",
     "text": [
      "Retrieving SummaryDoc documents: 100%|██████████| 1/1 [00:00<00:00, 1026.51it/s]\n"
     ]
    },
    {
     "name": "stdout",
     "output_type": "stream",
     "text": [
      "3.700060960389031\n",
      "mp-2451\n"
     ]
    },
    {
     "name": "stderr",
     "output_type": "stream",
     "text": [
      "Retrieving SummaryDoc documents: 100%|██████████| 1/1 [00:00<00:00, 496.72it/s]\n"
     ]
    },
    {
     "name": "stdout",
     "output_type": "stream",
     "text": [
      "3.6346952134378188\n",
      "mp-865411\n"
     ]
    },
    {
     "name": "stderr",
     "output_type": "stream",
     "text": [
      "Retrieving SummaryDoc documents: 100%|██████████| 1/1 [00:00<?, ?it/s]\n"
     ]
    },
    {
     "name": "stdout",
     "output_type": "stream",
     "text": [
      "4.9748359632746535\n",
      "mp-16513\n"
     ]
    },
    {
     "name": "stderr",
     "output_type": "stream",
     "text": [
      "Retrieving SummaryDoc documents: 100%|██████████| 1/1 [00:00<?, ?it/s]\n"
     ]
    },
    {
     "name": "stdout",
     "output_type": "stream",
     "text": [
      "4.431460698497046\n",
      "mp-12553\n"
     ]
    },
    {
     "name": "stderr",
     "output_type": "stream",
     "text": [
      "Retrieving SummaryDoc documents: 100%|██████████| 1/1 [00:00<?, ?it/s]\n"
     ]
    },
    {
     "name": "stdout",
     "output_type": "stream",
     "text": [
      "4.2842805337050525\n",
      "mp-570409\n"
     ]
    },
    {
     "name": "stderr",
     "output_type": "stream",
     "text": [
      "Retrieving SummaryDoc documents: 100%|██████████| 1/1 [00:00<?, ?it/s]\n"
     ]
    },
    {
     "name": "stdout",
     "output_type": "stream",
     "text": [
      "4.383239011456298\n",
      "mp-567305\n"
     ]
    },
    {
     "name": "stderr",
     "output_type": "stream",
     "text": [
      "Retrieving SummaryDoc documents: 100%|██████████| 1/1 [00:00<?, ?it/s]\n"
     ]
    },
    {
     "name": "stdout",
     "output_type": "stream",
     "text": [
      "4.334028134283033\n",
      "mp-959\n"
     ]
    },
    {
     "name": "stderr",
     "output_type": "stream",
     "text": [
      "Retrieving SummaryDoc documents: 100%|██████████| 1/1 [00:00<?, ?it/s]\n"
     ]
    },
    {
     "name": "stdout",
     "output_type": "stream",
     "text": [
      "4.069623314700671\n",
      "mp-1184171\n"
     ]
    },
    {
     "name": "stderr",
     "output_type": "stream",
     "text": [
      "Retrieving SummaryDoc documents: 100%|██████████| 1/1 [00:00<?, ?it/s]\n"
     ]
    },
    {
     "name": "stdout",
     "output_type": "stream",
     "text": [
      "5.443394957351932\n",
      "mp-2134\n"
     ]
    },
    {
     "name": "stderr",
     "output_type": "stream",
     "text": [
      "Retrieving SummaryDoc documents: 100%|██████████| 1/1 [00:00<?, ?it/s]\n"
     ]
    },
    {
     "name": "stdout",
     "output_type": "stream",
     "text": [
      "5.554689859094507\n",
      "mp-862656\n"
     ]
    },
    {
     "name": "stderr",
     "output_type": "stream",
     "text": [
      "Retrieving SummaryDoc documents: 100%|██████████| 1/1 [00:00<00:00, 999.12it/s]\n"
     ]
    },
    {
     "name": "stdout",
     "output_type": "stream",
     "text": [
      "5.5240221520341235\n",
      "mp-1409\n"
     ]
    },
    {
     "name": "stderr",
     "output_type": "stream",
     "text": [
      "Retrieving SummaryDoc documents: 100%|██████████| 1/1 [00:00<00:00, 985.04it/s]\n"
     ]
    },
    {
     "name": "stdout",
     "output_type": "stream",
     "text": [
      "8.170464969881639\n",
      "mp-21432\n"
     ]
    },
    {
     "name": "stderr",
     "output_type": "stream",
     "text": [
      "Retrieving SummaryDoc documents: 100%|██████████| 1/1 [00:00<?, ?it/s]\n"
     ]
    },
    {
     "name": "stdout",
     "output_type": "stream",
     "text": [
      "10.422672224131672\n",
      "mp-1220420\n"
     ]
    },
    {
     "name": "stderr",
     "output_type": "stream",
     "text": [
      "Retrieving SummaryDoc documents: 100%|██████████| 1/1 [00:00<?, ?it/s]\n"
     ]
    },
    {
     "name": "stdout",
     "output_type": "stream",
     "text": [
      "8.559896739233848\n",
      "mp-1451\n"
     ]
    },
    {
     "name": "stderr",
     "output_type": "stream",
     "text": [
      "Retrieving SummaryDoc documents: 100%|██████████| 1/1 [00:00<00:00, 1000.55it/s]\n"
     ]
    },
    {
     "name": "stdout",
     "output_type": "stream",
     "text": [
      "9.201398899391465\n",
      "mp-999188\n"
     ]
    },
    {
     "name": "stderr",
     "output_type": "stream",
     "text": [
      "Retrieving SummaryDoc documents: 100%|██████████| 1/1 [00:00<?, ?it/s]\n"
     ]
    },
    {
     "name": "stdout",
     "output_type": "stream",
     "text": [
      "8.850508014459278\n",
      "mp-11513\n"
     ]
    },
    {
     "name": "stderr",
     "output_type": "stream",
     "text": [
      "Retrieving SummaryDoc documents: 100%|██████████| 1/1 [00:00<?, ?it/s]\n"
     ]
    },
    {
     "name": "stdout",
     "output_type": "stream",
     "text": [
      "9.17745354406204\n",
      "mp-999378\n"
     ]
    },
    {
     "name": "stderr",
     "output_type": "stream",
     "text": [
      "Retrieving SummaryDoc documents: 100%|██████████| 1/1 [00:00<?, ?it/s]\n"
     ]
    },
    {
     "name": "stdout",
     "output_type": "stream",
     "text": [
      "8.884123207300053\n",
      "mp-1226802\n"
     ]
    },
    {
     "name": "stderr",
     "output_type": "stream",
     "text": [
      "Retrieving SummaryDoc documents: 100%|██████████| 1/1 [00:00<00:00, 1004.62it/s]\n"
     ]
    },
    {
     "name": "stdout",
     "output_type": "stream",
     "text": [
      "7.326271106559092\n",
      "mp-30745\n"
     ]
    },
    {
     "name": "stderr",
     "output_type": "stream",
     "text": [
      "Retrieving SummaryDoc documents: 100%|██████████| 1/1 [00:00<?, ?it/s]\n"
     ]
    },
    {
     "name": "stdout",
     "output_type": "stream",
     "text": [
      "21.74541412225068\n",
      "mp-1219506\n"
     ]
    },
    {
     "name": "stderr",
     "output_type": "stream",
     "text": [
      "Retrieving SummaryDoc documents: 100%|██████████| 1/1 [00:00<?, ?it/s]\n"
     ]
    },
    {
     "name": "stdout",
     "output_type": "stream",
     "text": [
      "13.83568242201397\n",
      "mp-30866\n"
     ]
    },
    {
     "name": "stderr",
     "output_type": "stream",
     "text": [
      "Retrieving SummaryDoc documents: 100%|██████████| 1/1 [00:00<?, ?it/s]\n"
     ]
    },
    {
     "name": "stdout",
     "output_type": "stream",
     "text": [
      "14.496788904720361\n",
      "mp-11482\n"
     ]
    },
    {
     "name": "stderr",
     "output_type": "stream",
     "text": [
      "Retrieving SummaryDoc documents: 100%|██████████| 1/1 [00:00<?, ?it/s]\n"
     ]
    },
    {
     "name": "stdout",
     "output_type": "stream",
     "text": [
      "19.324106016376305\n",
      "mp-1221397\n"
     ]
    },
    {
     "name": "stderr",
     "output_type": "stream",
     "text": [
      "Retrieving SummaryDoc documents: 100%|██████████| 1/1 [00:00<00:00, 487.43it/s]\n"
     ]
    },
    {
     "name": "stdout",
     "output_type": "stream",
     "text": [
      "11.430488729323681\n",
      "mp-30787\n"
     ]
    },
    {
     "name": "stderr",
     "output_type": "stream",
     "text": [
      "Retrieving SummaryDoc documents: 100%|██████████| 1/1 [00:00<?, ?it/s]\n"
     ]
    },
    {
     "name": "stdout",
     "output_type": "stream",
     "text": [
      "11.949571843809524\n",
      "mp-1018021\n"
     ]
    },
    {
     "name": "stderr",
     "output_type": "stream",
     "text": [
      "Retrieving SummaryDoc documents: 100%|██████████| 1/1 [00:00<?, ?it/s]\n"
     ]
    },
    {
     "name": "stdout",
     "output_type": "stream",
     "text": [
      "9.484248854182471\n",
      "mp-1220660\n"
     ]
    },
    {
     "name": "stderr",
     "output_type": "stream",
     "text": [
      "Retrieving SummaryDoc documents: 100%|██████████| 1/1 [00:00<00:00, 331.17it/s]\n"
     ]
    },
    {
     "name": "stdout",
     "output_type": "stream",
     "text": [
      "8.952881583522853\n",
      "mp-977426\n"
     ]
    },
    {
     "name": "stderr",
     "output_type": "stream",
     "text": [
      "Retrieving SummaryDoc documents: 100%|██████████| 1/1 [00:00<?, ?it/s]\n"
     ]
    },
    {
     "name": "stdout",
     "output_type": "stream",
     "text": [
      "9.500977262376134\n",
      "mp-570557\n"
     ]
    },
    {
     "name": "stderr",
     "output_type": "stream",
     "text": [
      "Retrieving SummaryDoc documents: 100%|██████████| 1/1 [00:00<?, ?it/s]\n"
     ]
    },
    {
     "name": "stdout",
     "output_type": "stream",
     "text": [
      "9.003407474216944\n",
      "mp-2351\n"
     ]
    },
    {
     "name": "stderr",
     "output_type": "stream",
     "text": [
      "Retrieving SummaryDoc documents: 100%|██████████| 1/1 [00:00<00:00, 1000.55it/s]\n"
     ]
    },
    {
     "name": "stdout",
     "output_type": "stream",
     "text": [
      "18.661532327243094\n",
      "mp-790\n"
     ]
    },
    {
     "name": "stderr",
     "output_type": "stream",
     "text": [
      "Retrieving SummaryDoc documents: 100%|██████████| 1/1 [00:00<?, ?it/s]\n"
     ]
    },
    {
     "name": "stdout",
     "output_type": "stream",
     "text": [
      "19.06247638492796\n",
      "mp-481\n"
     ]
    },
    {
     "name": "stderr",
     "output_type": "stream",
     "text": [
      "Retrieving SummaryDoc documents: 100%|██████████| 1/1 [00:00<00:00, 499.68it/s]\n"
     ]
    },
    {
     "name": "stdout",
     "output_type": "stream",
     "text": [
      "16.546175481474044\n",
      "mp-2092\n"
     ]
    },
    {
     "name": "stderr",
     "output_type": "stream",
     "text": [
      "Retrieving SummaryDoc documents: 100%|██████████| 1/1 [00:00<?, ?it/s]"
     ]
    },
    {
     "name": "stdout",
     "output_type": "stream",
     "text": [
      "10.760259389502755\n",
      "mp-21427\n"
     ]
    },
    {
     "name": "stderr",
     "output_type": "stream",
     "text": [
      "\n",
      "Retrieving SummaryDoc documents: 100%|██████████| 1/1 [00:00<?, ?it/s]\n"
     ]
    },
    {
     "name": "stdout",
     "output_type": "stream",
     "text": [
      "11.316717971608051\n",
      "mp-718\n"
     ]
    },
    {
     "name": "stderr",
     "output_type": "stream",
     "text": [
      "Retrieving SummaryDoc documents: 100%|██████████| 1/1 [00:00<00:00, 989.69it/s]\n"
     ]
    },
    {
     "name": "stdout",
     "output_type": "stream",
     "text": [
      "11.303794193467914\n",
      "mp-1218937\n"
     ]
    },
    {
     "name": "stderr",
     "output_type": "stream",
     "text": [
      "Retrieving SummaryDoc documents: 100%|██████████| 1/1 [00:00<?, ?it/s]\n"
     ]
    },
    {
     "name": "stdout",
     "output_type": "stream",
     "text": [
      "10.38693842737166\n",
      "mp-640095\n"
     ]
    },
    {
     "name": "stderr",
     "output_type": "stream",
     "text": [
      "Retrieving SummaryDoc documents: 100%|██████████| 1/1 [00:00<00:00, 985.74it/s]\n"
     ]
    },
    {
     "name": "stdout",
     "output_type": "stream",
     "text": [
      "6.599269145470333\n",
      "mp-20309\n"
     ]
    },
    {
     "name": "stderr",
     "output_type": "stream",
     "text": [
      "Retrieving SummaryDoc documents: 100%|██████████| 1/1 [00:00<00:00, 987.13it/s]\n"
     ]
    },
    {
     "name": "stdout",
     "output_type": "stream",
     "text": [
      "10.671595644085569\n",
      "mp-2092\n"
     ]
    },
    {
     "name": "stderr",
     "output_type": "stream",
     "text": [
      "Retrieving SummaryDoc documents: 100%|██████████| 1/1 [00:00<00:00, 986.66it/s]\n"
     ]
    },
    {
     "name": "stdout",
     "output_type": "stream",
     "text": [
      "10.760259389502755\n",
      "mp-1189958\n"
     ]
    },
    {
     "name": "stderr",
     "output_type": "stream",
     "text": [
      "Retrieving SummaryDoc documents: 100%|██████████| 1/1 [00:00<?, ?it/s]\n"
     ]
    },
    {
     "name": "stdout",
     "output_type": "stream",
     "text": [
      "5.181760423731233\n",
      "mp-1186855\n"
     ]
    },
    {
     "name": "stderr",
     "output_type": "stream",
     "text": [
      "Retrieving SummaryDoc documents: 100%|██████████| 1/1 [00:00<?, ?it/s]\n"
     ]
    },
    {
     "name": "stdout",
     "output_type": "stream",
     "text": [
      "5.210643938605863\n",
      "mp-369\n"
     ]
    },
    {
     "name": "stderr",
     "output_type": "stream",
     "text": [
      "Retrieving SummaryDoc documents: 100%|██████████| 1/1 [00:00<?, ?it/s]\n"
     ]
    },
    {
     "name": "stdout",
     "output_type": "stream",
     "text": [
      "5.129861982817475\n",
      "mp-867232\n"
     ]
    },
    {
     "name": "stderr",
     "output_type": "stream",
     "text": [
      "Retrieving SummaryDoc documents: 100%|██████████| 1/1 [00:00<?, ?it/s]\n"
     ]
    },
    {
     "name": "stdout",
     "output_type": "stream",
     "text": [
      "5.091299866816359\n",
      "mp-865411\n"
     ]
    },
    {
     "name": "stderr",
     "output_type": "stream",
     "text": [
      "Retrieving SummaryDoc documents: 100%|██████████| 1/1 [00:00<?, ?it/s]\n"
     ]
    },
    {
     "name": "stdout",
     "output_type": "stream",
     "text": [
      "4.9748359632746535\n",
      "mp-1220420\n"
     ]
    },
    {
     "name": "stderr",
     "output_type": "stream",
     "text": [
      "Retrieving SummaryDoc documents: 100%|██████████| 1/1 [00:00<?, ?it/s]\n"
     ]
    },
    {
     "name": "stdout",
     "output_type": "stream",
     "text": [
      "8.559896739233848\n",
      "mp-1451\n"
     ]
    },
    {
     "name": "stderr",
     "output_type": "stream",
     "text": [
      "Retrieving SummaryDoc documents: 100%|██████████| 1/1 [00:00<?, ?it/s]\n"
     ]
    },
    {
     "name": "stdout",
     "output_type": "stream",
     "text": [
      "9.201398899391465\n",
      "mp-999188\n"
     ]
    },
    {
     "name": "stderr",
     "output_type": "stream",
     "text": [
      "Retrieving SummaryDoc documents: 100%|██████████| 1/1 [00:00<00:00, 986.90it/s]\n"
     ]
    },
    {
     "name": "stdout",
     "output_type": "stream",
     "text": [
      "8.850508014459278\n",
      "mp-11513\n"
     ]
    },
    {
     "name": "stderr",
     "output_type": "stream",
     "text": [
      "Retrieving SummaryDoc documents: 100%|██████████| 1/1 [00:00<00:00, 984.58it/s]\n"
     ]
    },
    {
     "name": "stdout",
     "output_type": "stream",
     "text": [
      "9.17745354406204\n",
      "mp-999378\n"
     ]
    },
    {
     "name": "stderr",
     "output_type": "stream",
     "text": [
      "Retrieving SummaryDoc documents: 100%|██████████| 1/1 [00:00<00:00, 1000.55it/s]\n"
     ]
    },
    {
     "name": "stdout",
     "output_type": "stream",
     "text": [
      "8.884123207300053\n",
      "mp-569776\n"
     ]
    },
    {
     "name": "stderr",
     "output_type": "stream",
     "text": [
      "Retrieving SummaryDoc documents: 100%|██████████| 1/1 [00:00<?, ?it/s]\n"
     ]
    },
    {
     "name": "stdout",
     "output_type": "stream",
     "text": [
      "12.339145193230443\n",
      "mp-891\n"
     ]
    },
    {
     "name": "stderr",
     "output_type": "stream",
     "text": [
      "Retrieving SummaryDoc documents: 100%|██████████| 1/1 [00:00<?, ?it/s]\n"
     ]
    },
    {
     "name": "stdout",
     "output_type": "stream",
     "text": [
      "12.337173801007728\n",
      "mp-570491\n"
     ]
    },
    {
     "name": "stderr",
     "output_type": "stream",
     "text": [
      "Retrieving SummaryDoc documents: 100%|██████████| 1/1 [00:00<?, ?it/s]\n"
     ]
    },
    {
     "name": "stdout",
     "output_type": "stream",
     "text": [
      "12.31760096600835\n",
      "mp-1217931\n"
     ]
    },
    {
     "name": "stderr",
     "output_type": "stream",
     "text": [
      "Retrieving SummaryDoc documents: 100%|██████████| 1/1 [00:00<?, ?it/s]\n"
     ]
    },
    {
     "name": "stdout",
     "output_type": "stream",
     "text": [
      "11.478490785641336\n",
      "mp-1082\n"
     ]
    },
    {
     "name": "stderr",
     "output_type": "stream",
     "text": [
      "Retrieving SummaryDoc documents: 100%|██████████| 1/1 [00:00<00:00, 990.62it/s]\n"
     ]
    },
    {
     "name": "stdout",
     "output_type": "stream",
     "text": [
      "18.74230964429206\n",
      "mp-865496\n"
     ]
    },
    {
     "name": "stderr",
     "output_type": "stream",
     "text": [
      "Retrieving SummaryDoc documents: 100%|██████████| 1/1 [00:00<?, ?it/s]\n"
     ]
    },
    {
     "name": "stdout",
     "output_type": "stream",
     "text": [
      "18.802697413478537\n",
      "mp-2006\n"
     ]
    },
    {
     "name": "stderr",
     "output_type": "stream",
     "text": [
      "Retrieving SummaryDoc documents: 100%|██████████| 1/1 [00:00<?, ?it/s]\n"
     ]
    },
    {
     "name": "stdout",
     "output_type": "stream",
     "text": [
      "10.606847605102757\n",
      "mp-1080590\n"
     ]
    },
    {
     "name": "stderr",
     "output_type": "stream",
     "text": [
      "Retrieving SummaryDoc documents: 100%|██████████| 1/1 [00:00<?, ?it/s]\n"
     ]
    },
    {
     "name": "stdout",
     "output_type": "stream",
     "text": [
      "15.828538267315666\n",
      "mp-30386\n"
     ]
    },
    {
     "name": "stderr",
     "output_type": "stream",
     "text": [
      "Retrieving SummaryDoc documents: 100%|██████████| 1/1 [00:00<?, ?it/s]\n"
     ]
    },
    {
     "name": "stdout",
     "output_type": "stream",
     "text": [
      "16.047024263509954\n",
      "mp-1080756\n"
     ]
    },
    {
     "name": "stderr",
     "output_type": "stream",
     "text": [
      "Retrieving SummaryDoc documents: 100%|██████████| 1/1 [00:00<?, ?it/s]\n"
     ]
    },
    {
     "name": "stdout",
     "output_type": "stream",
     "text": [
      "16.24291569765432\n",
      "mp-980752\n"
     ]
    },
    {
     "name": "stderr",
     "output_type": "stream",
     "text": [
      "Retrieving SummaryDoc documents: 100%|██████████| 1/1 [00:00<?, ?it/s]\n"
     ]
    },
    {
     "name": "stdout",
     "output_type": "stream",
     "text": [
      "7.834426899135408\n",
      "mp-1101053\n"
     ]
    },
    {
     "name": "stderr",
     "output_type": "stream",
     "text": [
      "Retrieving SummaryDoc documents: 100%|██████████| 1/1 [00:00<?, ?it/s]\n"
     ]
    },
    {
     "name": "stdout",
     "output_type": "stream",
     "text": [
      "8.996006147572587\n",
      "mp-2465\n"
     ]
    },
    {
     "name": "stderr",
     "output_type": "stream",
     "text": [
      "Retrieving SummaryDoc documents: 100%|██████████| 1/1 [00:00<?, ?it/s]\n"
     ]
    },
    {
     "name": "stdout",
     "output_type": "stream",
     "text": [
      "18.091854211021605\n",
      "mp-1549\n"
     ]
    },
    {
     "name": "stderr",
     "output_type": "stream",
     "text": [
      "Retrieving SummaryDoc documents: 100%|██████████| 1/1 [00:00<?, ?it/s]\n"
     ]
    },
    {
     "name": "stdout",
     "output_type": "stream",
     "text": [
      "17.864325596737118\n",
      "mp-674\n"
     ]
    },
    {
     "name": "stderr",
     "output_type": "stream",
     "text": [
      "Retrieving SummaryDoc documents: 100%|██████████| 1/1 [00:00<?, ?it/s]\n"
     ]
    },
    {
     "name": "stdout",
     "output_type": "stream",
     "text": [
      "10.24939082494553\n",
      "mp-2092\n"
     ]
    },
    {
     "name": "stderr",
     "output_type": "stream",
     "text": [
      "Retrieving SummaryDoc documents: 100%|██████████| 1/1 [00:00<?, ?it/s]\n"
     ]
    },
    {
     "name": "stdout",
     "output_type": "stream",
     "text": [
      "10.760259389502755\n",
      "mp-1571\n"
     ]
    },
    {
     "name": "stderr",
     "output_type": "stream",
     "text": [
      "Retrieving SummaryDoc documents: 100%|██████████| 1/1 [00:00<00:00, 496.37it/s]\n"
     ]
    },
    {
     "name": "stdout",
     "output_type": "stream",
     "text": [
      "10.397704278275409\n",
      "mp-559\n"
     ]
    },
    {
     "name": "stderr",
     "output_type": "stream",
     "text": [
      "Retrieving SummaryDoc documents: 100%|██████████| 1/1 [00:00<?, ?it/s]\n"
     ]
    },
    {
     "name": "stdout",
     "output_type": "stream",
     "text": [
      "9.834653340340134\n",
      "mp-30634\n"
     ]
    },
    {
     "name": "stderr",
     "output_type": "stream",
     "text": [
      "Retrieving SummaryDoc documents: 100%|██████████| 1/1 [00:00<?, ?it/s]\n"
     ]
    },
    {
     "name": "stdout",
     "output_type": "stream",
     "text": [
      "8.91538949231219\n",
      "mp-718\n"
     ]
    },
    {
     "name": "stderr",
     "output_type": "stream",
     "text": [
      "Retrieving SummaryDoc documents: 100%|██████████| 1/1 [00:00<?, ?it/s]\n"
     ]
    },
    {
     "name": "stdout",
     "output_type": "stream",
     "text": [
      "11.303794193467914\n",
      "mp-1218937\n"
     ]
    },
    {
     "name": "stderr",
     "output_type": "stream",
     "text": [
      "Retrieving SummaryDoc documents: 100%|██████████| 1/1 [00:00<00:00, 985.50it/s]\n"
     ]
    },
    {
     "name": "stdout",
     "output_type": "stream",
     "text": [
      "10.38693842737166\n",
      "mp-20971\n"
     ]
    },
    {
     "name": "stderr",
     "output_type": "stream",
     "text": [
      "Retrieving SummaryDoc documents: 100%|██████████| 1/1 [00:00<00:00, 997.46it/s]\n"
     ]
    },
    {
     "name": "stdout",
     "output_type": "stream",
     "text": [
      "17.869663336391046\n",
      "mp-20516\n"
     ]
    },
    {
     "name": "stderr",
     "output_type": "stream",
     "text": [
      "Retrieving SummaryDoc documents: 100%|██████████| 1/1 [00:00<?, ?it/s]\n"
     ]
    },
    {
     "name": "stdout",
     "output_type": "stream",
     "text": [
      "17.91275209288864\n",
      "mp-1051\n"
     ]
    },
    {
     "name": "stderr",
     "output_type": "stream",
     "text": [
      "Retrieving SummaryDoc documents: 100%|██████████| 1/1 [00:00<00:00, 990.16it/s]"
     ]
    },
    {
     "name": "stdout",
     "output_type": "stream",
     "text": [
      "10.347702857282641\n"
     ]
    },
    {
     "name": "stderr",
     "output_type": "stream",
     "text": [
      "\n"
     ]
    }
   ],
   "source": [
    "material_ids = []\n",
    "#bulkmod = []\n",
    "density = []\n",
    "for row in df[\"MP_num\"]:\n",
    "    #print(row)\n",
    "    material_id = row\n",
    "    \n",
    "    try:\n",
    "        with MPRester(Aidans_API) as mpr:\n",
    "            material = mpr.summary.search(material_ids=[row])\n",
    "            print(material_id)\n",
    "            print(material[0].density)\n",
    "            #bulkmod.append(material[0].bulk_modulus[\"reuss\"])\n",
    "            density.append(material[0].density)\n",
    "    except:\n",
    "        #bulkmod.append(\"NA\")\n",
    "        density.append(\"NA\")\n",
    "        print(\"fail\")\n",
    "    "
   ]
  },
  {
   "cell_type": "code",
   "execution_count": 32,
   "metadata": {},
   "outputs": [
    {
     "name": "stdout",
     "output_type": "stream",
     "text": [
      "     CIF_id      MP_num    Density\n",
      "0    250065      mp-801  12.883572\n",
      "1    250101   mp-979040   5.527285\n",
      "2    250101      mp-768   5.632610\n",
      "3    250125     mp-1139   9.962997\n",
      "4    250125  mp-1008279  10.015481\n",
      "..      ...         ...        ...\n",
      "131  250934      mp-718  11.303794\n",
      "132  250934  mp-1218937  10.386938\n",
      "133  250962    mp-20971  17.869663\n",
      "134  250963    mp-20516  17.912752\n",
      "135  250977     mp-1051  10.347703\n",
      "\n",
      "[136 rows x 3 columns]\n"
     ]
    }
   ],
   "source": [
    "d = {\"CIF_id\":ciflabel, \"MP_num\":docs, \"Density\":density}\n",
    "df = pd.DataFrame(data=d)\n",
    "print(df)\n",
    "\n",
    "df.to_csv(\"Density_data.csv\")\n"
   ]
  },
  {
   "cell_type": "code",
   "execution_count": 34,
   "metadata": {},
   "outputs": [
    {
     "name": "stdout",
     "output_type": "stream",
     "text": [
      "     CIF_id      MP_num    Density\n",
      "0    250065      mp-801  12.883572\n",
      "1    250101   mp-979040   5.527285\n",
      "3    250125     mp-1139   9.962997\n",
      "6    250191     mp-1232  12.898261\n",
      "8    250225  mp-1220074   9.257027\n",
      "..      ...         ...        ...\n",
      "130  250920    mp-30634   8.915389\n",
      "131  250934      mp-718  11.303794\n",
      "133  250962    mp-20971  17.869663\n",
      "134  250963    mp-20516  17.912752\n",
      "135  250977     mp-1051  10.347703\n",
      "\n",
      "[97 rows x 3 columns]\n"
     ]
    }
   ],
   "source": [
    "# Delete multiple instances of CIF_id even though the densities and MP numbers are different\n",
    "# this is a quick and hacky way to match data to cif-cn-featurizer data\n",
    "\n",
    "result_df = df.drop_duplicates(subset=['CIF_id'], keep='first')\n",
    "print(result_df)\n",
    "\n"
   ]
  },
  {
   "cell_type": "code",
   "execution_count": 31,
   "metadata": {},
   "outputs": [
    {
     "name": "stdout",
     "output_type": "stream",
     "text": [
      "     CIF_id      Compound   A   B  A_shortest_dist_count  \\\n",
      "0    250977         ErNi3  Er  Ni                      6   \n",
      "1    250476         EuPb3  Eu  Pb                     12   \n",
      "2    250804  La0.75Pt2.25  La  Pt                     12   \n",
      "3    250191         Mo3Pt  Mo  Pt                      2   \n",
      "4    250966  Pd3.25In9.75  Pd  In                      3   \n",
      "..      ...           ...  ..  ..                    ...   \n",
      "119  250125         MoCo3  Mo  Co                     12   \n",
      "120  250390         Mo3Os  Mo  Os                      2   \n",
      "121  250372          YIn3   Y  In                     12   \n",
      "122  250654         YbIn3  Yb  In                     12   \n",
      "123  250646         TmPt3  Tm  Pt                     12   \n",
      "\n",
      "     B_shortest_dist_count  A_avg_shortest_dist_count  \\\n",
      "0                        6                        6.0   \n",
      "1                       12                       12.0   \n",
      "2                        6                       12.0   \n",
      "3                       12                        2.0   \n",
      "4                        3                        4.5   \n",
      "..                     ...                        ...   \n",
      "119                     10                       12.0   \n",
      "120                     12                        2.0   \n",
      "121                     12                       12.0   \n",
      "122                     12                       12.0   \n",
      "123                     12                       12.0   \n",
      "\n",
      "     B_avg_shortest_dist_count  A_shortest_tol_dist_count  \\\n",
      "0                       3.3333                          9   \n",
      "1                      12.0000                         12   \n",
      "2                       9.0000                         20   \n",
      "3                      12.0000                          2   \n",
      "4                       2.6667                         15   \n",
      "..                         ...                        ...   \n",
      "119                    10.0000                         24   \n",
      "120                    12.0000                          2   \n",
      "121                    12.0000                         12   \n",
      "122                    12.0000                         12   \n",
      "123                    12.0000                         12   \n",
      "\n",
      "     B_shortest_tol_dist_count  ...  A_avg_homoatomic_dist_by_shortest_dist  \\\n",
      "0                           19  ...                                  1.1463   \n",
      "1                           12  ...                                  1.4129   \n",
      "2                            6  ...                                  1.0452   \n",
      "3                           12  ...                                  1.0014   \n",
      "4                           29  ...                                  0.9998   \n",
      "..                         ...  ...                                     ...   \n",
      "119                         20  ...                                  1.4204   \n",
      "120                         12  ...                                  1.0019   \n",
      "121                         12  ...                                  1.4134   \n",
      "122                         12  ...                                  1.4150   \n",
      "123                         12  ...                                  1.4140   \n",
      "\n",
      "     B_avg_homoatomic_dist_by_shortest_dist  A_count_at_A_shortest_dist  \\\n",
      "0                                    1.0006                           0   \n",
      "1                                    0.9991                           0   \n",
      "2                                    1.0005                           0   \n",
      "3                                    1.5480                           2   \n",
      "4                                    1.0100                           3   \n",
      "..                                      ...                         ...   \n",
      "119                                  0.9988                           0   \n",
      "120                                  1.5480                           2   \n",
      "121                                  0.9994                           0   \n",
      "122                                  1.0006                           0   \n",
      "123                                  0.9998                           0   \n",
      "\n",
      "     A_count_at_B_shortest_dist  A_avg_count_at_A_shortest_dist  \\\n",
      "0                             0                             0.0   \n",
      "1                             4                             0.0   \n",
      "2                             0                             0.0   \n",
      "3                            12                             2.0   \n",
      "4                             6                             3.0   \n",
      "..                          ...                             ...   \n",
      "119                           2                             0.0   \n",
      "120                          12                             2.0   \n",
      "121                           4                             0.0   \n",
      "122                           4                             0.0   \n",
      "123                           4                             0.0   \n",
      "\n",
      "     A_avg_count_at_B_shortest_dist  B_count_at_A_shortest_dist  \\\n",
      "0                               0.0                           6   \n",
      "1                               4.0                          12   \n",
      "2                               0.0                          12   \n",
      "3                              12.0                           0   \n",
      "4                               2.0                           0   \n",
      "..                              ...                         ...   \n",
      "119                             2.0                          12   \n",
      "120                            12.0                           0   \n",
      "121                             4.0                          12   \n",
      "122                             4.0                          12   \n",
      "123                             4.0                          12   \n",
      "\n",
      "     B_count_at_B_shortest_dist  B_avg_count_at_A_shortest_dist  \\\n",
      "0                            10                             6.0   \n",
      "1                             8                            12.0   \n",
      "2                            18                            12.0   \n",
      "3                             0                             0.0   \n",
      "4                             2                             1.5   \n",
      "..                          ...                             ...   \n",
      "119                           8                            12.0   \n",
      "120                           0                             0.0   \n",
      "121                           8                            12.0   \n",
      "122                           8                            12.0   \n",
      "123                           8                            12.0   \n",
      "\n",
      "     B_avg_count_at_B_shortest_dist  \n",
      "0                            3.3333  \n",
      "1                            8.0000  \n",
      "2                            9.0000  \n",
      "3                            0.0000  \n",
      "4                            0.6667  \n",
      "..                              ...  \n",
      "119                          8.0000  \n",
      "120                          0.0000  \n",
      "121                          8.0000  \n",
      "122                          8.0000  \n",
      "123                          8.0000  \n",
      "\n",
      "[124 rows x 32 columns]\n"
     ]
    }
   ],
   "source": [
    "# import csv files generated by cif-cn-featurizer\n",
    "\n",
    "df_ccnfeat = pd.read_csv(\"./cn-featurizer/csv/_atomic_environment_features_binary.csv\")\n",
    "print(df_ccnfeat)"
   ]
  },
  {
   "cell_type": "code",
   "execution_count": 48,
   "metadata": {},
   "outputs": [
    {
     "name": "stdout",
     "output_type": "stream",
     "text": [
      "    CIF_id Compound   A   B  A_shortest_dist_count  B_shortest_dist_count  \\\n",
      "0   250977    ErNi3  Er  Ni                      6                      6   \n",
      "1   250476    EuPb3  Eu  Pb                     12                     12   \n",
      "2   250191    Mo3Pt  Mo  Pt                      2                     12   \n",
      "3   250368    EuSn3  Eu  Sn                     12                     12   \n",
      "4   250367    SmSn3  Sm  Sn                     12                     12   \n",
      "..     ...      ...  ..  ..                    ...                    ...   \n",
      "92  250336    DyPd3  Dy  Pd                     12                     12   \n",
      "93  250125    MoCo3  Mo  Co                     12                     10   \n",
      "94  250390    Mo3Os  Mo  Os                      2                     12   \n",
      "95  250372     YIn3   Y  In                     12                     12   \n",
      "96  250646    TmPt3  Tm  Pt                     12                     12   \n",
      "\n",
      "    A_avg_shortest_dist_count  B_avg_shortest_dist_count  \\\n",
      "0                         6.0                     3.3333   \n",
      "1                        12.0                    12.0000   \n",
      "2                         2.0                    12.0000   \n",
      "3                        12.0                    12.0000   \n",
      "4                        12.0                    12.0000   \n",
      "..                        ...                        ...   \n",
      "92                       12.0                    12.0000   \n",
      "93                       12.0                    10.0000   \n",
      "94                        2.0                    12.0000   \n",
      "95                       12.0                    12.0000   \n",
      "96                       12.0                    12.0000   \n",
      "\n",
      "    A_shortest_tol_dist_count  B_shortest_tol_dist_count  ...  \\\n",
      "0                           9                         19  ...   \n",
      "1                          12                         12  ...   \n",
      "2                           2                         12  ...   \n",
      "3                          12                         12  ...   \n",
      "4                          12                         12  ...   \n",
      "..                        ...                        ...  ...   \n",
      "92                         12                         12  ...   \n",
      "93                         24                         20  ...   \n",
      "94                          2                         12  ...   \n",
      "95                         12                         12  ...   \n",
      "96                         12                         12  ...   \n",
      "\n",
      "    A_count_at_A_shortest_dist  A_count_at_B_shortest_dist  \\\n",
      "0                            0                           0   \n",
      "1                            0                           4   \n",
      "2                            2                          12   \n",
      "3                            0                           4   \n",
      "4                            0                           4   \n",
      "..                         ...                         ...   \n",
      "92                           0                           4   \n",
      "93                           0                           2   \n",
      "94                           2                          12   \n",
      "95                           0                           4   \n",
      "96                           0                           4   \n",
      "\n",
      "    A_avg_count_at_A_shortest_dist  A_avg_count_at_B_shortest_dist  \\\n",
      "0                              0.0                             0.0   \n",
      "1                              0.0                             4.0   \n",
      "2                              2.0                            12.0   \n",
      "3                              0.0                             4.0   \n",
      "4                              0.0                             4.0   \n",
      "..                             ...                             ...   \n",
      "92                             0.0                             4.0   \n",
      "93                             0.0                             2.0   \n",
      "94                             2.0                            12.0   \n",
      "95                             0.0                             4.0   \n",
      "96                             0.0                             4.0   \n",
      "\n",
      "    B_count_at_A_shortest_dist  B_count_at_B_shortest_dist  \\\n",
      "0                            6                          10   \n",
      "1                           12                           8   \n",
      "2                            0                           0   \n",
      "3                           12                           8   \n",
      "4                           12                           8   \n",
      "..                         ...                         ...   \n",
      "92                          12                           8   \n",
      "93                          12                           8   \n",
      "94                           0                           0   \n",
      "95                          12                           8   \n",
      "96                          12                           8   \n",
      "\n",
      "    B_avg_count_at_A_shortest_dist  B_avg_count_at_B_shortest_dist    MP_num  \\\n",
      "0                              6.0                          3.3333   mp-1051   \n",
      "1                             12.0                          8.0000  mp-20309   \n",
      "2                              0.0                          0.0000   mp-1232   \n",
      "3                             12.0                          8.0000  mp-20387   \n",
      "4                             12.0                          8.0000   mp-2484   \n",
      "..                             ...                             ...       ...   \n",
      "92                            12.0                          8.0000    mp-797   \n",
      "93                            12.0                          8.0000   mp-1139   \n",
      "94                             0.0                          0.0000    mp-801   \n",
      "95                            12.0                          8.0000  mp-20131   \n",
      "96                            12.0                          8.0000   mp-2351   \n",
      "\n",
      "      Density  \n",
      "0   10.347703  \n",
      "1   10.671596  \n",
      "2   12.898261  \n",
      "3    7.801257  \n",
      "4    7.930209  \n",
      "..        ...  \n",
      "92  11.700858  \n",
      "93   9.962997  \n",
      "94  12.883572  \n",
      "95   7.270778  \n",
      "96  18.661532  \n",
      "\n",
      "[97 rows x 34 columns]\n"
     ]
    },
    {
     "name": "stderr",
     "output_type": "stream",
     "text": [
      "C:\\Users\\Aidan Belanger\\AppData\\Local\\Temp\\ipykernel_1576\\1803878948.py:4: SettingWithCopyWarning: \n",
      "A value is trying to be set on a copy of a slice from a DataFrame.\n",
      "Try using .loc[row_indexer,col_indexer] = value instead\n",
      "\n",
      "See the caveats in the documentation: https://pandas.pydata.org/pandas-docs/stable/user_guide/indexing.html#returning-a-view-versus-a-copy\n",
      "  result_df['CIF_id'] = result_df['CIF_id'] .astype(str)\n"
     ]
    }
   ],
   "source": [
    "# merge featurized data with data from Materials Project\n",
    "\n",
    "df_ccnfeat['CIF_id'] = df_ccnfeat['CIF_id'].astype(str)\n",
    "result_df['CIF_id'] = result_df['CIF_id'] .astype(str)\n",
    "svm_df=df_ccnfeat.merge(result_df, on='CIF_id')\n",
    "print(svm_df)\n",
    "svm_df.to_csv(\"svm_df.csv\")"
   ]
  },
  {
   "cell_type": "markdown",
   "metadata": {},
   "source": [
    "**1.3 Comparing structural features to compositional features**\n",
    "\n",
    "**<font color='teal'>c)</font>** Now that you've got structural features and you can get compositional features (use CBFV), let's compare them! Build a Support vector machine regressor model with each feature set and determine which works better. "
   ]
  },
  {
   "cell_type": "code",
   "execution_count": 76,
   "metadata": {},
   "outputs": [
    {
     "name": "stdout",
     "output_type": "stream",
     "text": [
      "the r2 score is 0.2815057887221405\n",
      "the mean absolute error is 1.771342258353955\n"
     ]
    }
   ],
   "source": [
    "# SVM on Structural Features from cif-cn-featurizer\n",
    "\n",
    "# load stored data to save time\n",
    "svm_df=pd.read_csv('svm_df.csv')\n",
    "\n",
    "from sklearn.svm import SVR\n",
    "import numpy as np\n",
    "from sklearn.model_selection import train_test_split\n",
    "from sklearn.metrics import r2_score\n",
    "from sklearn.metrics import mean_absolute_error\n",
    "from sklearn.metrics import mean_squared_error\n",
    "\n",
    "RNG_SEED = 42\n",
    "np.random.seed(seed=RNG_SEED)\n",
    "\n",
    "X = svm_df[['A_shortest_dist_count','B_shortest_dist_count','A_avg_shortest_dist_count','B_avg_shortest_dist_count',\n",
    "        'A_shortest_tol_dist_count','B_shortest_tol_dist_count','A_avg_shortest_dist_within_tol_count',\n",
    "        'B_avg_shortest_dist_within_tol_count','A_second_by_first_shortest_dist','B_second_by_first_shortest_dist',\n",
    "        'A_avg_second_by_first_shortest_dist','B_avg_second_by_first_shortest_dist','A_second_shortest_dist_count',\n",
    "        'B_second_shortest_dist_count','A_avg_second_shortest_dist_count','B_avg_second_shortest_dist_count',\n",
    "        'A_homoatomic_dist_by_shortest_dist','B_homoatomic_dist_by_shortest_dist','A_avg_homoatomic_dist_by_shortest_dist',\n",
    "        'B_avg_homoatomic_dist_by_shortest_dist','A_count_at_A_shortest_dist','A_count_at_B_shortest_dist',\t\n",
    "        'A_avg_count_at_A_shortest_dist','A_avg_count_at_B_shortest_dist','B_count_at_A_shortest_dist',\n",
    "        'B_count_at_B_shortest_dist','B_avg_count_at_A_shortest_dist','B_avg_count_at_B_shortest_dist']]\n",
    "y = svm_df['Density']\n",
    "\n",
    "\n",
    "\n",
    "\n",
    "X_train, X_test, y_train, y_test = train_test_split(X, y, test_size=0.33, random_state=RNG_SEED)\n",
    "svr = SVR(kernel='rbf', C=1e3, gamma=0.1)\n",
    "svr.fit(X_train, y_train)\n",
    "\n",
    "y_pred = svr.predict(X_test)\n",
    "r2 = r2_score(y_test, y_pred)\n",
    "print('the r2 score is',r2)\n",
    "mae = mean_absolute_error(y_test, y_pred)\n",
    "print('the mean absolute error is',mae)\n",
    "rmse_val = mean_squared_error(y_test, y_pred, squared=False)\n",
    "\n",
    "\n",
    "\n"
   ]
  },
  {
   "cell_type": "code",
   "execution_count": 80,
   "metadata": {},
   "outputs": [
    {
     "name": "stdout",
     "output_type": "stream",
     "text": [
      "   formula     target\n",
      "0    ErNi3  10.347703\n",
      "1    EuPb3  10.671596\n",
      "2    Mo3Pt  12.898261\n",
      "3    EuSn3   7.801257\n",
      "4    SmSn3   7.930209\n",
      "..     ...        ...\n",
      "92   DyPd3  11.700858\n",
      "93   MoCo3   9.962997\n",
      "94   Mo3Os  12.883572\n",
      "95    YIn3   7.270778\n",
      "96   TmPt3  18.661532\n",
      "\n",
      "[97 rows x 2 columns]\n"
     ]
    },
    {
     "name": "stderr",
     "output_type": "stream",
     "text": [
      "Processing Input Data: 100%|██████████| 97/97 [00:00<00:00, 8820.92it/s]"
     ]
    },
    {
     "name": "stderr",
     "output_type": "stream",
     "text": [
      "\n"
     ]
    },
    {
     "name": "stdout",
     "output_type": "stream",
     "text": [
      "\tFeaturizing Compositions...\n"
     ]
    },
    {
     "name": "stderr",
     "output_type": "stream",
     "text": [
      "Assigning Features...: 100%|██████████| 97/97 [00:00<00:00, 4041.60it/s]"
     ]
    },
    {
     "name": "stdout",
     "output_type": "stream",
     "text": [
      "\tCreating Pandas Objects...\n"
     ]
    },
    {
     "name": "stderr",
     "output_type": "stream",
     "text": [
      "\n",
      "Processing Input Data: 100%|██████████| 97/97 [00:00<00:00, 16174.27it/s]\n"
     ]
    },
    {
     "name": "stdout",
     "output_type": "stream",
     "text": [
      "\tFeaturizing Compositions...\n"
     ]
    },
    {
     "name": "stderr",
     "output_type": "stream",
     "text": [
      "Assigning Features...: 100%|██████████| 97/97 [00:00<00:00, 6941.25it/s]\n"
     ]
    },
    {
     "name": "stdout",
     "output_type": "stream",
     "text": [
      "\tCreating Pandas Objects...\n",
      "the r2 score is 0.9993457723977782\n",
      "the mean absolute error is 0.09845562750331356\n"
     ]
    }
   ],
   "source": [
    "# SVM on Compositional Features from CBFV\n",
    "\n",
    "from CBFV import composition\n",
    "\n",
    "svm_df = svm_df.dropna()\n",
    "rename_dict = {'Density': 'target', 'Compound':'formula'}\n",
    "svm_df = svm_df.rename(columns=rename_dict)\n",
    "\n",
    "RNG_SEED = 42\n",
    "np.random.seed(seed=RNG_SEED)\n",
    "\n",
    "X = svm_df[['formula']]\n",
    "        #    ,'A_shortest_dist_count','B_shortest_dist_count','A_avg_shortest_dist_count','B_avg_shortest_dist_count',\n",
    "        #'A_shortest_tol_dist_count','B_shortest_tol_dist_count','A_avg_shortest_dist_within_tol_count',\n",
    "        #'B_avg_shortest_dist_within_tol_count','A_second_by_first_shortest_dist','B_second_by_first_shortest_dist',\n",
    "        #'A_avg_second_by_first_shortest_dist','B_avg_second_by_first_shortest_dist','A_second_shortest_dist_count',\n",
    "        #'B_second_shortest_dist_count','A_avg_second_shortest_dist_count','B_avg_second_shortest_dist_count',\n",
    "        #'A_homoatomic_dist_by_shortest_dist','B_homoatomic_dist_by_shortest_dist','A_avg_homoatomic_dist_by_shortest_dist',\n",
    "        #'B_avg_homoatomic_dist_by_shortest_dist','A_count_at_A_shortest_dist','A_count_at_B_shortest_dist',\t\n",
    "        #'A_avg_count_at_A_shortest_dist','A_avg_count_at_B_shortest_dist','B_count_at_A_shortest_dist',\n",
    "        #'B_count_at_B_shortest_dist','B_avg_count_at_A_shortest_dist','B_avg_count_at_B_shortest_dist']]\n",
    "y = svm_df['target']\n",
    "\n",
    "new_df = X.join(y)\n",
    "print(new_df)\n",
    "\n",
    "\n",
    "X_train, X_test, y_train, y_test = train_test_split(X, y, test_size=0.33, random_state=RNG_SEED)\n",
    "\n",
    "X_train, y_train, formulae_train, skipped_train = composition.generate_features(new_df, elem_prop='oliynyk', drop_duplicates=False, extend_features=True, sum_feat=True)\n",
    "X_test, y_test, formulae_train, skipped_train = composition.generate_features(new_df, elem_prop='oliynyk', drop_duplicates=False, extend_features=True, sum_feat=True)\n",
    "\n",
    "\n",
    "svr = SVR(kernel='rbf', C=1e3, gamma=0.1)\n",
    "svr.fit(X_train, y_train)\n",
    "\n",
    "y_pred = svr.predict(X_test)\n",
    "r2 = r2_score(y_test, y_pred)\n",
    "print('the r2 score is',r2)\n",
    "mae = mean_absolute_error(y_test, y_pred)\n",
    "print('the mean absolute error is',mae)\n",
    "rmse_val = mean_squared_error(y_test, y_pred, squared=False)\n",
    "\n",
    "\n"
   ]
  }
 ],
 "metadata": {
  "kernelspec": {
   "display_name": "Python 3",
   "language": "python",
   "name": "python3"
  },
  "language_info": {
   "codemirror_mode": {
    "name": "ipython",
    "version": 3
   },
   "file_extension": ".py",
   "mimetype": "text/x-python",
   "name": "python",
   "nbconvert_exporter": "python",
   "pygments_lexer": "ipython3",
   "version": "3.10.13"
  }
 },
 "nbformat": 4,
 "nbformat_minor": 2
}
