{
 "cells": [
  {
   "cell_type": "markdown",
   "metadata": {},
   "source": [
    "# Question 2: Training and using materials models\n",
    "**2.1 data cleaning and splitting**\n",
    "\n",
    "In a Materials informatics workflow you need to find and clean data, featurize the data, train models, and use models for some task. A few years ago, we put together a nice series of notebooks that describe this process for an example where we train heat capacity data as a function of temperature and composition and then use this model to predict heat capacity as a function of temperature for new materials. The best practices document is a great starting point for you and can be found here `https://github.com/anthony-wang/BestPractices`. I'd like you to go through a similar exercise as the best practices notebook but with a few changes. \n",
    "\n",
    "**<font color='teal'>a)</font>** First, you'll notice that the original notebooks used `pandas-profiling` but this has been deprecated and replaced by ydata-profiling. Try to get ydata-profiling to work and then use it to inspect your data. "
   ]
  },
  {
   "cell_type": "code",
   "execution_count": 1,
   "metadata": {},
   "outputs": [],
   "source": [
    "# It works but the widget it porduces is not scrollable \n",
    "# and my computer slows down like crazy\n",
    "\n",
    "#from ydata_profiling import ProfileReport\n",
    "#import pandas as pd\n",
    "\n",
    "#df=pd.read_csv('svm_df.csv')\n",
    "#profile = ProfileReport(df, title=\"Profiling Report\")\n",
    "#profile.to_widgets()\n",
    "\n",
    "# using the _atomic_environment_features_binary combined with the density data\n",
    "# results in a lot of data that is strongly correlated and redundant\n",
    "\n"
   ]
  },
  {
   "cell_type": "markdown",
   "metadata": {},
   "source": [
    "**<font color='teal'>b)</font>** Second, in the data-splitting notebook, you'll see how we came up with an elaborate way to make sure tha as we split the data, we made sure that all the values corresponding to a formula went to either test, val, or train but would never be randomly split across these groups. We were silly and didn't know about `GroupKFold` in teh scikit-learn library. (`https://scikit-learn.org/stable/modules/generated/sklearn.model_selection.GroupKFold.html`) Redo the splitting process using this much simpler tool. \n"
   ]
  },
  {
   "cell_type": "code",
   "execution_count": 2,
   "metadata": {},
   "outputs": [
    {
     "name": "stdout",
     "output_type": "stream",
     "text": [
      "formula         244\n",
      "Temperature     237\n",
      "Heat_Cap       3632\n",
      "dtype: int64\n"
     ]
    }
   ],
   "source": [
    "#code goes here\n",
    "import pandas as pd\n",
    "from sklearn.model_selection import GroupKFold\n",
    "from sklearn.model_selection import train_test_split\n",
    "from sklearn.metrics import r2_score\n",
    "from sklearn.metrics import mean_absolute_error\n",
    "from sklearn.metrics import mean_squared_error\n",
    "import numpy as np\n",
    "import sys\n",
    "import os\n",
    "from CBFV import composition\n",
    "from sklearn.preprocessing import StandardScaler\n",
    "from sklearn.preprocessing import normalize\n",
    "\n",
    "filename = 'C:\\cp_data_demo.csv'\n",
    "\n",
    "df=pd.read_csv(filename)\n",
    "rename_dict = {'CONDITION: Temperature (K)':'Temperature', 'PROPERTY: Heat Capacity (J/mol K)':'Heat_Cap', 'FORMULA':'formula'}\n",
    "df = df.rename(columns=rename_dict)\n",
    "df = df.dropna()\n",
    "df = df.reset_index(drop=True)\n",
    "#print(df)\n",
    "nunique=df.nunique()\n",
    "print(nunique)\n",
    "unique_vals=pd.Series({c: df[c].unique() for c in df})\n",
    "\n",
    "X = df['Temperature']\n",
    "y = df['Heat_Cap']\n",
    "\n",
    "groups = df['formula']\n",
    "\n",
    "\n",
    "gkf = GroupKFold(n_splits=nunique['formula'])\n",
    "\n",
    "for i,(train_index, test_index) in enumerate(gkf.split(df,groups= df['formula'])):\n",
    "    #print(\"Train:\", train_index, \"Test:\", test_index)\n",
    "    #print(f\"Fold {i}:\")\n",
    "    #print(f\"  Train: index={train_index}\") \n",
    "    #print(f\"  group={groups[train_index]}\")\n",
    "    #print(f\"  Test:  index={test_index}\")\n",
    "    #print(f\"  group={groups[test_index]}\")\n",
    "    \n",
    "    train_fold = pd.DataFrame({'train_group':groups[train_index],'train_index':train_index})\n",
    "    train_fold.to_csv(\"train_fold\"+str(groups[test_index[0]])+\".csv\")\n",
    "    test_fold = pd.DataFrame({'test_group':groups[test_index],'test_index':test_index})\n",
    "    test_fold.to_csv(\"test_fold\"+str(groups[test_index[0]])+\".csv\")\n",
    "\n",
    "\n",
    "\n"
   ]
  },
  {
   "cell_type": "markdown",
   "metadata": {},
   "source": [
    "**2.2 model training and hyper parameter tuning**\n",
    "\n",
    "**<font color='teal'>c)</font>** Next, when we built our classic models, we never performed hyperparameter tuning! We just used them with default parameters. I'd like you to build two models and perform hyperparameter tuning on them. One model should be either `Ridge` or `Lasso` and the other should be `XGBoost`. Compare performance metrics including training time. "
   ]
  },
  {
   "cell_type": "code",
   "execution_count": 3,
   "metadata": {},
   "outputs": [
    {
     "name": "stdout",
     "output_type": "stream",
     "text": [
      "     formula  Temperature  target\n",
      "4553     Zr1       1600.0  37.762\n",
      "4554     Zr1       1500.0  36.846\n",
      "4555     Zr1       1400.0  35.807\n",
      "4556     Zr1       1300.0  34.681\n",
      "4557     Zr1       1200.0  33.502\n",
      "4558     Zr1       1135.0  32.724\n",
      "4559     Zr1       1100.0  32.306\n",
      "4560     Zr1       1000.0  31.128\n",
      "4561     Zr1        900.0  30.003\n",
      "4562     Zr1        800.0  28.966\n",
      "4563     Zr1        700.0  28.053\n",
      "4564     Zr1        600.0  27.281\n",
      "4565     Zr1        500.0  26.564\n",
      "4566     Zr1        450.0  26.246\n",
      "4567     Zr1        400.0  25.935\n",
      "4568     Zr1        350.0  25.606\n",
      "4569     Zr1        298.0  25.202\n"
     ]
    },
    {
     "name": "stderr",
     "output_type": "stream",
     "text": [
      "Processing Input Data: 100%|██████████| 4553/4553 [00:00<00:00, 9047.82it/s]\n"
     ]
    },
    {
     "name": "stdout",
     "output_type": "stream",
     "text": [
      "\tFeaturizing Compositions...\n"
     ]
    },
    {
     "name": "stderr",
     "output_type": "stream",
     "text": [
      "Assigning Features...: 100%|██████████| 4553/4553 [00:01<00:00, 3693.36it/s]\n"
     ]
    },
    {
     "name": "stdout",
     "output_type": "stream",
     "text": [
      "\tCreating Pandas Objects...\n"
     ]
    },
    {
     "name": "stderr",
     "output_type": "stream",
     "text": [
      "Processing Input Data: 100%|██████████| 17/17 [00:00<00:00, 5975.29it/s]\n"
     ]
    },
    {
     "name": "stdout",
     "output_type": "stream",
     "text": [
      "\tFeaturizing Compositions...\n"
     ]
    },
    {
     "name": "stderr",
     "output_type": "stream",
     "text": [
      "Assigning Features...: 100%|██████████| 17/17 [00:00<00:00, 1677.13it/s]\n"
     ]
    },
    {
     "name": "stdout",
     "output_type": "stream",
     "text": [
      "\tCreating Pandas Objects...\n"
     ]
    }
   ],
   "source": [
    "# Featurize the data \n",
    "filename = 'C:\\cp_data_demo.csv'\n",
    "df=pd.read_csv(filename)\n",
    "rename_dict = {'CONDITION: Temperature (K)':'Temperature', 'PROPERTY: Heat Capacity (J/mol K)':'target', 'FORMULA':'formula'}\n",
    "df = df.rename(columns=rename_dict)\n",
    "df = df.dropna()\n",
    "df = df.reset_index(drop=True)\n",
    "#print(df)\n",
    "\n",
    "train_indices = pd.read_csv(\"train_foldZr1.csv\")\n",
    "train_indices = train_indices['train_index']\n",
    "#print(train_indices)\n",
    "test_indices = pd.read_csv(\"test_foldZr1.csv\")\n",
    "test_indices = test_indices['test_index']\n",
    "\n",
    "train_df = df.iloc[train_indices]\n",
    "#print(train_df)\n",
    "test_df = df.iloc[test_indices]\n",
    "print(test_df)\n",
    "\n",
    "X_train_feats_unscaled, y_train, formulae_train, skipped_train = composition.generate_features(train_df, elem_prop='oliynyk', drop_duplicates=False, extend_features=True, sum_feat=True)\n",
    "X_test_feats_unscaled, y_test, formulae_train, skipped_train = composition.generate_features(test_df, elem_prop='oliynyk', drop_duplicates=False, extend_features=True, sum_feat=True)\n",
    "\n",
    "X_train_feats_unscaled.to_csv(\"X_train_feats_unscaled.csv\")\n"
   ]
  },
  {
   "cell_type": "code",
   "execution_count": 4,
   "metadata": {},
   "outputs": [
    {
     "name": "stdout",
     "output_type": "stream",
     "text": [
      "0       134.306\n",
      "1       131.294\n",
      "2       128.072\n",
      "3       124.516\n",
      "4       120.625\n",
      "         ...   \n",
      "4548     26.843\n",
      "4549     26.346\n",
      "4550     25.889\n",
      "4551     25.406\n",
      "4552     25.387\n",
      "Name: target, Length: 4553, dtype: float64\n"
     ]
    }
   ],
   "source": [
    "#X_train_feats_unscaled.to_csv(\"X_train_unscaled.csv\")\n",
    "print(y_train)"
   ]
  },
  {
   "cell_type": "code",
   "execution_count": 5,
   "metadata": {},
   "outputs": [],
   "source": [
    "df=pd.read_csv(filename)\n",
    "rename_dict = {'CONDITION: Temperature (K)':'Temperature', 'PROPERTY: Heat Capacity (J/mol K)':'target', 'FORMULA':'formula'}\n",
    "df = df.rename(columns=rename_dict)\n",
    "df = df.dropna()\n",
    "\n",
    "# Scale the data\n",
    "scaler = StandardScaler()\n",
    "X_train = scaler.fit_transform(X_train_feats_unscaled)\n",
    "X_test = scaler.transform(X_test_feats_unscaled)\n",
    "\n",
    "# Normalize the data\n",
    "X_train = normalize(X_train)\n",
    "#X_val = normalize(X_val)\n",
    "X_test = normalize(X_test)\n"
   ]
  },
  {
   "cell_type": "code",
   "execution_count": 6,
   "metadata": {},
   "outputs": [
    {
     "name": "stdout",
     "output_type": "stream",
     "text": [
      "the r2 score is 0.9675976098706123\n",
      "the mean absolute error is 0.5886897353338507\n",
      "\n",
      "\n",
      "Model score :  0.9675976098706123\n"
     ]
    },
    {
     "data": {
      "image/png": "[encoded data removed]",
      "text/plain": [
       "<Figure size 640x480 with 1 Axes>"
      ]
     },
     "metadata": {},
     "output_type": "display_data"
    }
   ],
   "source": [
    "# Ridge\n",
    "from sklearn.linear_model import Ridge\n",
    "import matplotlib.pyplot as plt\n",
    "from sklearn.metrics import r2_score\n",
    "from sklearn.metrics import mean_absolute_error\n",
    "from sklearn.metrics import mean_squared_error\n",
    "\n",
    "#RNG_SEED = 42\n",
    "#np.random.seed(seed=RNG_SEED)\n",
    "#X_train, X_test, y_train, y_test = train_test_split(X, y, test_size=0.33, random_state=RNG_SEED)\n",
    "  \n",
    "# training model with 0.5 alpha value \n",
    "ridge = Ridge(alpha = 0.5, tol = 0.001,\n",
    "              solver ='auto', random_state = 42) \n",
    "ridge.fit(X_train, y_train) \n",
    "  \n",
    "# predicting the y_test \n",
    "y_pred = ridge.predict(X_test) \n",
    "r2 = r2_score(y_test, y_pred)\n",
    "print('the r2 score is',r2)\n",
    "mae = mean_absolute_error(y_test, y_pred)\n",
    "print('the mean absolute error is',mae)\n",
    "rmse_val = mean_squared_error(y_test, y_pred, squared=False)\n",
    "\n",
    "plt.scatter(y_pred,y_test)\n",
    "  \n",
    "# finding score for our model \n",
    "score = ridge.score(X_test, y_test) # model score is r^2 value\n",
    "print(\"\\n\\nModel score : \", score) \n",
    "\n"
   ]
  },
  {
   "cell_type": "code",
   "execution_count": 7,
   "metadata": {},
   "outputs": [
    {
     "name": "stderr",
     "output_type": "stream",
     "text": [
      "c:\\Miniconda3\\envs\\MatInformatics\\lib\\site-packages\\xgboost\\core.py:160: UserWarning: [10:04:25] WARNING: C:\\buildkite-agent\\builds\\buildkite-windows-cpu-autoscaling-group-i-0b3782d1791676daf-1\\xgboost\\xgboost-ci-windows\\src\\context.cc:44: No visible GPU is found, setting device to CPU.\n",
      "  warnings.warn(smsg, UserWarning)\n"
     ]
    },
    {
     "name": "stdout",
     "output_type": "stream",
     "text": [
      "the r2 score is -0.5231982094772158\n",
      "the mean absolute error is 4.4842320323270926\n",
      "\n",
      "\n",
      "Model score :  -0.5231982094772158\n"
     ]
    },
    {
     "data": {
      "image/png": "[encoded data removed]",
      "text/plain": [
       "<Figure size 640x480 with 1 Axes>"
      ]
     },
     "metadata": {},
     "output_type": "display_data"
    }
   ],
   "source": [
    "# XGBoost\n",
    "import xgboost as xgb\n",
    "import matplotlib.pyplot as plt\n",
    "from sklearn.metrics import r2_score\n",
    "from sklearn.metrics import mean_absolute_error\n",
    "from sklearn.metrics import mean_squared_error\n",
    "\n",
    "\n",
    "# Use \"hist\" for training the model.\n",
    "XGBoost = xgb.XGBRegressor(tree_method=\"hist\", device=\"cuda\")\n",
    "# Fit the model using predictor X and response y.\n",
    "XGBoost.fit(X_train, y_train)\n",
    "\n",
    "y_pred=XGBoost.predict(X_test)\n",
    "r2 = r2_score(y_test, y_pred)\n",
    "print('the r2 score is',r2)\n",
    "mae = mean_absolute_error(y_test, y_pred)\n",
    "print('the mean absolute error is',mae)\n",
    "rmse_val = mean_squared_error(y_test, y_pred, squared=False)\n",
    "\n",
    "plt.scatter(y_pred,y_test)\n",
    "\n",
    "score = XGBoost.score(X_test, y_test)\n",
    "print(\"\\n\\nModel score : \", score)\n",
    "\n",
    "# Save model into JSON format.\n",
    "#reg.save_model(\"regressor.json\")\n"
   ]
  },
  {
   "cell_type": "markdown",
   "metadata": {},
   "source": [
    "**2.3 using your model to make predictions**\n",
    "\n",
    "**<font color='teal'>c)</font>** Finally, pick the best model from **2.2** and use it to predict the heat capacity from 1200K to 2000K for ZrN. See how it compares to experiment. \n",
    "\n",
    "![ZrN Cp](https://www.researchgate.net/publication/335403917/figure/fig2/AS:796198449467394@1566839911338/High-temperature-heat-capacity-Cp-of-zirconium-and-hafnium-carbides-and-carbonitrides.png)\n"
   ]
  },
  {
   "cell_type": "code",
   "execution_count": 8,
   "metadata": {},
   "outputs": [
    {
     "name": "stderr",
     "output_type": "stream",
     "text": [
      "Processing Input Data: 100%|██████████| 9/9 [00:00<00:00, 3837.42it/s]\n"
     ]
    },
    {
     "name": "stdout",
     "output_type": "stream",
     "text": [
      "\tFeaturizing Compositions...\n"
     ]
    },
    {
     "name": "stderr",
     "output_type": "stream",
     "text": [
      "Assigning Features...: 100%|██████████| 9/9 [00:00<00:00, 3540.49it/s]"
     ]
    },
    {
     "name": "stderr",
     "output_type": "stream",
     "text": [
      "\n"
     ]
    },
    {
     "name": "stdout",
     "output_type": "stream",
     "text": [
      "\tCreating Pandas Objects...\n"
     ]
    },
    {
     "data": {
      "text/plain": [
       "[<matplotlib.lines.Line2D at 0x1bab38ddf30>]"
      ]
     },
     "execution_count": 8,
     "metadata": {},
     "output_type": "execute_result"
    },
    {
     "data": {
      "image/png": "[encoded data removed]",
      "text/plain": [
       "<Figure size 640x480 with 1 Axes>"
      ]
     },
     "metadata": {},
     "output_type": "display_data"
    }
   ],
   "source": [
    "\n",
    "pred_data = {\"formula\":['ZrN','ZrN','ZrN','ZrN','ZrN','ZrN','ZrN','ZrN','ZrN'],\"Temperature\":[1200,1300,1400,1500,1600,1700,1800,1900,2000],'target':[0,0,0,0,0,0,0,0,0]}\n",
    "pred_df = pd.DataFrame(data=pred_data)\n",
    "\n",
    "X_pred_unscaled, y_pred, formulae_train, skipped_train = composition.generate_features(pred_df, elem_prop='oliynyk', drop_duplicates=False, extend_features=True, sum_feat=True)\n",
    "\n",
    "# Scale the data\n",
    "X_pred_unscaled = scaler.transform(X_pred_unscaled)\n",
    "# Normalize the data\n",
    "X_pred = normalize(X_pred_unscaled)\n",
    "\n",
    "# Ridge Model\n",
    "y_pred=ridge.predict(X_pred)\n",
    "plt.plot([1200,1300,1400,1500,1600,1700,1800,1900,2000],y_pred)\n"
   ]
  }
 ],
 "metadata": {
  "kernelspec": {
   "display_name": "Python 3",
   "language": "python",
   "name": "python3"
  },
  "language_info": {
   "codemirror_mode": {
    "name": "ipython",
    "version": 3
   },
   "file_extension": ".py",
   "mimetype": "text/x-python",
   "name": "python",
   "nbconvert_exporter": "python",
   "pygments_lexer": "ipython3",
   "version": "3.10.13"
  }
 },
 "nbformat": 4,
 "nbformat_minor": 2
}
