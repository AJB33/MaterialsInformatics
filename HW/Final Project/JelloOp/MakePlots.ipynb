{
 "cells": [
  {
   "cell_type": "markdown",
   "metadata": {},
   "source": [
    "## Plotting Optimization Results"
   ]
  },
  {
   "cell_type": "code",
   "execution_count": null,
   "metadata": {},
   "outputs": [],
   "source": [
    "import os\n",
    "import numpy as np\n",
    "import pandas as pd\n",
    "import matplotlib.pyplot as plt\n",
    "plt.style.use('seaborn-v0_8')\n",
    "from ax.service.ax_client import AxClient, ObjectiveProperties\n",
    "from ax.utils.notebook.plotting import init_notebook_plotting, render\n",
    "from ax.plot.contour import interact_contour\n",
    "from ax.plot.diagnostic import interact_cross_validation\n",
    "from ax.modelbridge.cross_validation import cross_validate\n",
    "\n",
    "# hide future warnings\n",
    "import warnings\n",
    "warnings.simplefilter(action='ignore', category=FutureWarning)\n",
    "\n",
    "init_notebook_plotting()"
   ]
  },
  {
   "cell_type": "code",
   "execution_count": null,
   "metadata": {},
   "outputs": [],
   "source": [
    "ax_client = AxClient()\n",
    "\n",
    "# define the experiment and objectives\n",
    "ax_client.create_experiment(\n",
    "    parameters=[\n",
    "        {\"name\": \"PINK\", \"type\": \"range\", \"bounds\": [0, 20], \"value_type\": \"int\"},\n",
    "        {\"name\": \"GREEN\", \"type\": \"range\", \"bounds\": [0, 20], \"value_type\": \"int\"},\n",
    "        {\"name\": \"BLUE\", \"type\": \"range\", \"bounds\": [0, 20], \"value_type\": \"int\"},\n",
    "        {\"name\": \"PURPLE\", \"type\": \"range\", \"bounds\": [0, 30], \"value_type\": \"int\"},\n",
    "        {\"name\": \"SOLID_LIQUID_RATIO\", \"type\": \"range\", \"bounds\": [0.5, 2.5], \"value_type\": \"float\", \"digits\": 1},\n",
    "    ],\n",
    "    objectives={\n",
    "        \"COLOR_ERR\": ObjectiveProperties(minimize=True, threshold=1e-3),\n",
    "        \"STRAIN_ERR\": ObjectiveProperties(minimize=True, threshold=1e-3),\n",
    "    },\n",
    "    choose_generation_strategy_kwargs={\"num_initialization_trials\": 0},\n",
    ")"
   ]
  },
  {
   "cell_type": "code",
   "execution_count": null,
   "metadata": {},
   "outputs": [],
   "source": [
    "running_trials = pd.read_csv(os.path.join('data', 'running_trials.csv')).astype({'PINK': int, 'GREEN': int, 'BLUE': int, 'PURPLE': int})\n",
    "\n",
    "# separate parameters from results\n",
    "X_train = running_trials.iloc[:,:5].to_dict(orient=\"records\")\n",
    "y_train = running_trials.iloc[:,5:]\n",
    "y_train = [{k:v for (k,v) in zip([\"COLOR_ERR\", \"STRAIN_ERR\"], [(row[0], row[1]), (row[2], row[3])])} for row in y_train.values]\n",
    "\n",
    "# add the previous trials to the experiment\n",
    "for i in range(len(running_trials)):\n",
    "    parameterization = X_train[i]\n",
    "    ax_client.attach_trial(parameterization)\n",
    "    ax_client.complete_trial(trial_index=i, raw_data=y_train[i])\n",
    "\n",
    "# fit the model to the data and generate a model object\n",
    "ax_client.fit_model()\n",
    "model = ax_client.generation_strategy.model"
   ]
  },
  {
   "cell_type": "markdown",
   "metadata": {},
   "source": [
    "### Show the effects of parameters as contour plots\n",
    "This plot shows you the topology of the optimization problem for various parameters."
   ]
  },
  {
   "cell_type": "code",
   "execution_count": null,
   "metadata": {},
   "outputs": [],
   "source": [
    "render(interact_contour(model=model, metric_name=\"COLOR_ERR\"))"
   ]
  },
  {
   "cell_type": "markdown",
   "metadata": {},
   "source": [
    "### Plot the Model's Predictive Performance"
   ]
  },
  {
   "cell_type": "code",
   "execution_count": null,
   "metadata": {},
   "outputs": [],
   "source": [
    "cv_results = cross_validate(model)\n",
    "render(interact_cross_validation(cv_results))"
   ]
  },
  {
   "cell_type": "markdown",
   "metadata": {},
   "source": [
    "### Plot Optimization Performance as a Function of Trial Number"
   ]
  },
  {
   "cell_type": "code",
   "execution_count": null,
   "metadata": {},
   "outputs": [],
   "source": [
    "fig, ax = plt.subplots(1, 2, figsize=(10, 5))\n",
    "ax[0].scatter(running_trials.index, running_trials['COLOR_ERR_MEAN'], facecolors='none', edgecolors='C0', lw=1)\n",
    "best_to_trial = [np.min(running_trials['COLOR_ERR_MEAN'][:i+1]) for i in range(len(running_trials))]\n",
    "ax[0].plot(running_trials.index, best_to_trial, color='C0', lw=2)\n",
    "ax[0].axvline(4.5, color='C1', ls='--', lw=1.5)\n",
    "ax[0].set_xticks(running_trials.index)\n",
    "ax[0].set_xticklabels(1+running_trials.index)\n",
    "ax[0].set_ylabel('Color Error')\n",
    "ax[0].set_xlabel('Trial Number')\n",
    "\n",
    "ax[1].scatter(running_trials.index, running_trials['STRAIN_ERR_MEAN'], facecolors='none', edgecolors='C0', lw=1)\n",
    "best_to_trial = [np.min(running_trials['STRAIN_ERR_MEAN'][:i+1]) for i in range(len(running_trials))]\n",
    "ax[1].plot(running_trials.index, best_to_trial, color='C0', lw=2)\n",
    "ax[1].axvline(4.5, color='C1', ls='--', lw=1.5)\n",
    "ax[1].set_xticks(running_trials.index)\n",
    "ax[1].set_xticklabels(1+running_trials.index)\n",
    "ax[1].set_ylabel('Strain Error')\n",
    "ax[1].set_xlabel('Trial Number')\n",
    "plt.show()"
   ]
  }
 ],
 "metadata": {
  "kernelspec": {
   "display_name": "ax_env",
   "language": "python",
   "name": "python3"
  },
  "language_info": {
   "codemirror_mode": {
    "name": "ipython",
    "version": 3
   },
   "file_extension": ".py",
   "mimetype": "text/x-python",
   "name": "python",
   "nbconvert_exporter": "python",
   "pygments_lexer": "ipython3",
   "version": "3.9.19"
  }
 },
 "nbformat": 4,
 "nbformat_minor": 2
}
